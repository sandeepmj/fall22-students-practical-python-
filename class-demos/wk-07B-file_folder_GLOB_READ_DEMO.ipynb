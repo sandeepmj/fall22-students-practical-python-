{
 "cells": [
  {
   "cell_type": "markdown",
   "metadata": {
    "id": "GZacCx2Yzims"
   },
   "source": [
    "# Files and Folder using Python \n",
    "\n",
    "#### As we create and tap files for analysis, we need to stay organized programmatically.\n",
    "\n",
    "- Let's understand Google Colab storage structure and how we access files.\n",
    "\n",
    "\n",
    "- [Download the sample files](https://drive.google.com/file/d/1SyCRPxwF6svHUvBdNqmoLr6mmloaWcMd/view?usp=sharing) we will need."
   ]
  },
  {
   "cell_type": "code",
   "execution_count": 1,
   "metadata": {
    "id": "w7tpVnQ7zimy"
   },
   "outputs": [],
   "source": [
    "## import libraries\n",
    "# from google.colab import files ## code for downloading in google colab\n",
    "import glob ## import the glob library for collecting specific files into a list\n"
   ]
  },
  {
   "cell_type": "markdown",
   "metadata": {
    "id": "7a2PAZPx8Lhy"
   },
   "source": [
    "# Importing files\n",
    "\n",
    "We can use an import library specific to Colab\n",
    "\n",
    "## *WARNING*: These are temporary uploads. When you restart, you need to reupload.\n",
    "\n",
    "```from google.colab import files```\n",
    "\n",
    "```files.upload()```"
   ]
  },
  {
   "cell_type": "markdown",
   "metadata": {
    "id": "ipp6BN0J8VY3"
   },
   "source": [
    "Let's confirm where we are:"
   ]
  },
  {
   "cell_type": "code",
   "execution_count": null,
   "metadata": {
    "id": "ospeh1Jj8bEm"
   },
   "outputs": [],
   "source": [
    "## UPLOAD FILE\n"
   ]
  },
  {
   "cell_type": "markdown",
   "metadata": {
    "id": "4GnU7N2f8rYk"
   },
   "source": [
    "### Let's see if it uploaded"
   ]
  },
  {
   "cell_type": "code",
   "execution_count": null,
   "metadata": {
    "id": "uNygGTPBzim0"
   },
   "outputs": [],
   "source": []
  },
  {
   "cell_type": "markdown",
   "metadata": {
    "id": "SUcjWF1C6smw"
   },
   "source": [
    "# glob\n",
    "\n",
    "## Yes, glob.\n",
    "\n",
    "glob is a UNIX-based library for collecting specific files into a list."
   ]
  },
  {
   "cell_type": "markdown",
   "metadata": {
    "id": "FXHzRAoy7RKU"
   },
   "source": [
    "## Using a path\n",
    "\n",
    "We can store our path structure to a variable.\n",
    "\n",
    "Right-click on the folder in the left column and copy path:\n",
    "```/content/sample_data```\n",
    "\n",
    "This is the raw path. We are already in ```content``` so instead we want:\n",
    "```sample_data``` plus what files we are looking for (let's say all csv files)."
   ]
  },
  {
   "cell_type": "code",
   "execution_count": 2,
   "metadata": {
    "id": "0qpyzNeK7W7t"
   },
   "outputs": [
    {
     "data": {
      "text/plain": [
       "['docs/fla_count_as_of_2020-08-19_time_12_31_00.csv']"
      ]
     },
     "execution_count": 2,
     "metadata": {},
     "output_type": "execute_result"
    }
   ],
   "source": [
    "## grab only the csv files\n",
    "x = glob.glob(\"docs/fla_count_as_of_2020-08-19_time_12_31_00.csv\")\n",
    "x"
   ]
  },
  {
   "cell_type": "code",
   "execution_count": 3,
   "metadata": {
    "id": "enzXUX0yv30r"
   },
   "outputs": [
    {
     "data": {
      "text/plain": [
       "['docs/fla_count_as_of_2020-08-19_time_11_46_00.csv',\n",
       " 'docs/fla_count_as_of_2020-08-19_time_12_16_00.csv',\n",
       " 'docs/fla_count_as_of_2020-08-19_time_11_31_00.csv',\n",
       " 'docs/fla_count_as_of_2020-08-19_time_12_31_00.csv',\n",
       " 'docs/fla_count_as_of_2020-08-19_time_12_01_00.csv']"
      ]
     },
     "execution_count": 3,
     "metadata": {},
     "output_type": "execute_result"
    }
   ],
   "source": [
    "x = glob.glob(\"docs/*.csv\")\n",
    "x"
   ]
  },
  {
   "cell_type": "code",
   "execution_count": 6,
   "metadata": {
    "id": "rHeM5DZ0v5fi"
   },
   "outputs": [
    {
     "data": {
      "text/plain": [
       "['docs/adolph-coors-2015.pdf',\n",
       " 'docs/adolph-coors-2014.pdf',\n",
       " 'docs/adolph-coors-2013.pdf',\n",
       " 'docs/beer-coors-2013 copy.pdf']"
      ]
     },
     "execution_count": 6,
     "metadata": {},
     "output_type": "execute_result"
    }
   ],
   "source": [
    "y = glob.glob(\"docs/*.pdf\")\n",
    "y"
   ]
  },
  {
   "cell_type": "code",
   "execution_count": 7,
   "metadata": {
    "id": "Rxd0gr-76yy9"
   },
   "outputs": [
    {
     "data": {
      "text/plain": [
       "['docs/fla_count_as_of_2020-08-19_time_11_46_00.csv',\n",
       " 'docs/fla_count_as_of_2020-08-19_time_12_16_00.csv',\n",
       " 'docs/adolph-coors-2015.pdf',\n",
       " 'docs/adolph-coors-2014.pdf',\n",
       " 'docs/fla_count_as_of_2020-08-19_time_11_31_00.csv',\n",
       " 'docs/adolph-coors-2013.pdf',\n",
       " 'docs/fla_count_as_of_2020-08-19_time_12_31_00.csv',\n",
       " 'docs/read_sample2.txt',\n",
       " 'docs/read_sample1.txt',\n",
       " 'docs/fla_count_as_of_2020-08-19_time_12_01_00.csv',\n",
       " 'docs/beer-coors-2013 copy.pdf']"
      ]
     },
     "execution_count": 7,
     "metadata": {},
     "output_type": "execute_result"
    }
   ],
   "source": [
    "## grab all the files! \n",
    "all_files = glob.glob(\"docs/*\")\n",
    "all_files"
   ]
  },
  {
   "cell_type": "code",
   "execution_count": 8,
   "metadata": {
    "id": "OTU7NuBc6959"
   },
   "outputs": [
    {
     "data": {
      "text/plain": [
       "['docs/read_sample2.txt', 'docs/read_sample1.txt']"
      ]
     },
     "execution_count": 8,
     "metadata": {},
     "output_type": "execute_result"
    }
   ],
   "source": [
    "## grab txt files only\n",
    "\n",
    "text_files = glob.glob(\"docs/*.txt\")\n",
    "\n",
    "text_files"
   ]
  },
  {
   "cell_type": "markdown",
   "metadata": {
    "id": "lQcVWJMKAY_1"
   },
   "source": [
    "# Start reading files"
   ]
  },
  {
   "cell_type": "code",
   "execution_count": 10,
   "metadata": {
    "id": "Q4f89xC1ATiq"
   },
   "outputs": [
    {
     "name": "stdout",
     "output_type": "stream",
     "text": [
      "<class '_io.TextIOWrapper'>\n"
     ]
    }
   ],
   "source": [
    "## create a text wrapper object by \"reading\" the 'read_sample1.txt' file\n",
    "## remember we are already in the test folder\n",
    "with open(\"docs/read_sample1.txt\", \"r\") as my_text:\n",
    "    print(type(my_text))"
   ]
  },
  {
   "cell_type": "markdown",
   "metadata": {
    "id": "CcVEX9mbAf-P"
   },
   "source": [
    "## We can interpret this ```<class '_io.TextIOWrapper'>``` to read the actual contents"
   ]
  },
  {
   "cell_type": "code",
   "execution_count": 11,
   "metadata": {
    "id": "McfQkCqtAghJ"
   },
   "outputs": [],
   "source": [
    "## create a variable that holds our file name\n",
    "file_name = \"docs/read_sample1.txt\""
   ]
  },
  {
   "cell_type": "code",
   "execution_count": 12,
   "metadata": {
    "id": "_65rRBLZAmCX"
   },
   "outputs": [
    {
     "name": "stdout",
     "output_type": "stream",
     "text": [
      "McDonald’s, Coca-Cola Hit Pause on Russia Amid Rising Backlash\n",
      "By Leslie Patton and Brendan Case\n",
      "\n",
      "McDonald’s Corp., Coca-Cola Co. and Starbucks Corp. are temporarily halting business operations in Russia amid an intensifying backlash since the invasion of Ukraine started nearly two weeks ago. \n",
      "\n",
      "The iconic U.S. brands, seen around the world as the face of U.S. capitalism, announced their decisions in a flurry of announcements on Tuesday afternoon, joining hundreds of other global companies that have halted work in Russia since the war began. PepsiCo Inc. said it would suspend soft drink sales in Russia but would continue to sell daily essentials such as milk and baby formula.\n",
      "\n"
     ]
    }
   ],
   "source": [
    "## read and print entire file\n",
    "with open(file_name, \"r\") as my_text:\n",
    "    print(my_text.read())"
   ]
  },
  {
   "cell_type": "code",
   "execution_count": 14,
   "metadata": {
    "id": "dC1xQ7ysApQ9"
   },
   "outputs": [
    {
     "name": "stdout",
     "output_type": "stream",
     "text": [
      "McDonald’s, Coca-Cola Hit Pause on Russia Amid Rising Backla\n"
     ]
    }
   ],
   "source": [
    "## read and print 50 characters\n",
    "with open(file_name, \"r\") as my_text:\n",
    "    print(my_text.read(60))"
   ]
  },
  {
   "cell_type": "markdown",
   "metadata": {
    "id": "mVyI5xKFA3Cc"
   },
   "source": [
    "## Saving file to memory\n",
    "So far, we haven't saved the text. \n",
    "The content is only available inside ```with open```.\n",
    "If we try to read the lines, outside the ```with open```, we'll get a ```ValueError: I/O operation on closed file.```"
   ]
  },
  {
   "cell_type": "code",
   "execution_count": 15,
   "metadata": {
    "id": "NCoAJjUoAsMN"
   },
   "outputs": [
    {
     "ename": "TypeError",
     "evalue": "'_io.TextIOWrapper' object is not callable",
     "output_type": "error",
     "traceback": [
      "\u001b[0;31m---------------------------------------------------------------------------\u001b[0m",
      "\u001b[0;31mTypeError\u001b[0m                                 Traceback (most recent call last)",
      "\u001b[0;32m/var/folders/jg/xjfmqdcj0m1bqs1d7sgv9v480000gp/T/ipykernel_73806/1566205839.py\u001b[0m in \u001b[0;36m<module>\u001b[0;34m\u001b[0m\n\u001b[0;32m----> 1\u001b[0;31m \u001b[0mprint\u001b[0m\u001b[0;34m(\u001b[0m\u001b[0mmy_text\u001b[0m\u001b[0;34m(\u001b[0m\u001b[0;36m60\u001b[0m\u001b[0;34m)\u001b[0m\u001b[0;34m)\u001b[0m\u001b[0;34m\u001b[0m\u001b[0;34m\u001b[0m\u001b[0m\n\u001b[0m",
      "\u001b[0;31mTypeError\u001b[0m: '_io.TextIOWrapper' object is not callable"
     ]
    }
   ],
   "source": [
    "print(my_text(60))"
   ]
  },
  {
   "cell_type": "markdown",
   "metadata": {
    "id": "zTMKlaQaBDZW"
   },
   "source": [
    "## We fix that my saving the myfile object inside a variable"
   ]
  },
  {
   "cell_type": "code",
   "execution_count": 16,
   "metadata": {
    "id": "H6CxTe87A6I2"
   },
   "outputs": [],
   "source": [
    "## read hold the first 25 characters in a variable\n",
    "with open(file_name, \"r\") as my_text:\n",
    "    first_25 = my_text.read(25)\n",
    "   "
   ]
  },
  {
   "cell_type": "code",
   "execution_count": 17,
   "metadata": {
    "id": "T567GoMWBAMz"
   },
   "outputs": [
    {
     "data": {
      "text/plain": [
       "'McDonald’s, Coca-Cola Hit'"
      ]
     },
     "execution_count": 17,
     "metadata": {},
     "output_type": "execute_result"
    }
   ],
   "source": [
    "## call the variable above\n",
    "first_25"
   ]
  },
  {
   "cell_type": "code",
   "execution_count": 19,
   "metadata": {
    "id": "VZAmEMxIBRl6"
   },
   "outputs": [],
   "source": [
    "## read the first line into a variable\n",
    "with open(file_name, \"r\") as my_text:\n",
    "    first_line = my_text.readline()"
   ]
  },
  {
   "cell_type": "code",
   "execution_count": 20,
   "metadata": {
    "id": "C4ET5Ty9BUG-"
   },
   "outputs": [
    {
     "data": {
      "text/plain": [
       "'McDonald’s, Coca-Cola Hit Pause on Russia Amid Rising Backlash\\n'"
      ]
     },
     "execution_count": 20,
     "metadata": {},
     "output_type": "execute_result"
    }
   ],
   "source": [
    "## call the variable above\n",
    "first_line"
   ]
  },
  {
   "cell_type": "code",
   "execution_count": 21,
   "metadata": {
    "id": "goQbUttdBWQL"
   },
   "outputs": [],
   "source": [
    "## read the whole thing into a variable\n",
    "with open(file_name, \"r\") as my_text:\n",
    "    all_text = my_text.read()"
   ]
  },
  {
   "cell_type": "code",
   "execution_count": 22,
   "metadata": {
    "id": "t6c-8K4MBYXj"
   },
   "outputs": [
    {
     "data": {
      "text/plain": [
       "'McDonald’s, Coca-Cola Hit Pause on Russia Amid Rising Backlash\\nBy Leslie Patton and Brendan Case\\n\\nMcDonald’s Corp., Coca-Cola Co. and Starbucks Corp. are temporarily halting business operations in Russia amid an intensifying backlash since the invasion of Ukraine started nearly two weeks ago. \\n\\nThe iconic U.S. brands, seen around the world as the face of U.S. capitalism, announced their decisions in a flurry of announcements on Tuesday afternoon, joining hundreds of other global companies that have halted work in Russia since the war began. PepsiCo Inc. said it would suspend soft drink sales in Russia but would continue to sell daily essentials such as milk and baby formula.\\n'"
      ]
     },
     "execution_count": 22,
     "metadata": {},
     "output_type": "execute_result"
    }
   ],
   "source": [
    "## call the variable above\n",
    "all_text"
   ]
  },
  {
   "cell_type": "code",
   "execution_count": null,
   "metadata": {
    "id": "OMBhpRj8jLKO"
   },
   "outputs": [],
   "source": []
  },
  {
   "cell_type": "code",
   "execution_count": null,
   "metadata": {
    "id": "mQv7Jw-4jOSB"
   },
   "outputs": [],
   "source": []
  },
  {
   "cell_type": "markdown",
   "metadata": {
    "id": "6vvJccMgBhcx"
   },
   "source": [
    "## It's more useful to save the text object inside a list. \n",
    "Remember, ```readlines()``` actually shows each line as part of a list."
   ]
  },
  {
   "cell_type": "code",
   "execution_count": 23,
   "metadata": {
    "id": "6Hpf-aVxBbeX"
   },
   "outputs": [],
   "source": [
    "## store entire text file in list\n",
    "with open(file_name, \"r\") as my_text:\n",
    "    all_text_list = my_text.readlines()"
   ]
  },
  {
   "cell_type": "code",
   "execution_count": 24,
   "metadata": {},
   "outputs": [
    {
     "data": {
      "text/plain": [
       "['McDonald’s, Coca-Cola Hit Pause on Russia Amid Rising Backlash\\n',\n",
       " 'By Leslie Patton and Brendan Case\\n',\n",
       " '\\n',\n",
       " 'McDonald’s Corp., Coca-Cola Co. and Starbucks Corp. are temporarily halting business operations in Russia amid an intensifying backlash since the invasion of Ukraine started nearly two weeks ago. \\n',\n",
       " '\\n',\n",
       " 'The iconic U.S. brands, seen around the world as the face of U.S. capitalism, announced their decisions in a flurry of announcements on Tuesday afternoon, joining hundreds of other global companies that have halted work in Russia since the war began. PepsiCo Inc. said it would suspend soft drink sales in Russia but would continue to sell daily essentials such as milk and baby formula.\\n']"
      ]
     },
     "execution_count": 24,
     "metadata": {},
     "output_type": "execute_result"
    }
   ],
   "source": [
    "all_text_list"
   ]
  },
  {
   "cell_type": "markdown",
   "metadata": {
    "id": "6bPl-BOFBocY"
   },
   "source": [
    "\n",
    "## We can then slice our list"
   ]
  },
  {
   "cell_type": "code",
   "execution_count": 25,
   "metadata": {
    "id": "thQFzZhfBery"
   },
   "outputs": [
    {
     "data": {
      "text/plain": [
       "'McDonald’s, Coca-Cola Hit Pause on Russia Amid Rising Backlash\\n'"
      ]
     },
     "execution_count": 25,
     "metadata": {},
     "output_type": "execute_result"
    }
   ],
   "source": [
    "## Show list item 3\n",
    "headline = all_text_list[0]\n",
    "headline"
   ]
  },
  {
   "cell_type": "code",
   "execution_count": 27,
   "metadata": {
    "id": "cU6fwVoZBrOV"
   },
   "outputs": [
    {
     "data": {
      "text/plain": [
       "'By Leslie Patton and Brendan Case\\n'"
      ]
     },
     "execution_count": 27,
     "metadata": {},
     "output_type": "execute_result"
    }
   ],
   "source": [
    "byline = all_text_list[1]\n",
    "byline"
   ]
  },
  {
   "cell_type": "code",
   "execution_count": null,
   "metadata": {
    "id": "83gEVzzTBtuw"
   },
   "outputs": [],
   "source": []
  },
  {
   "cell_type": "code",
   "execution_count": null,
   "metadata": {
    "id": "T4_y7qprBvs2"
   },
   "outputs": [],
   "source": []
  }
 ],
 "metadata": {
  "colab": {
   "collapsed_sections": [],
   "name": "week-8B-file_folder_GLOB_READ_BLANK.ipynb",
   "provenance": [
    {
     "file_id": "1gCGeYOc9hI-v5dNhehTH_FE0g5UNiLW6",
     "timestamp": 1646785019864
    },
    {
     "file_id": "1kqd4HicmAldE-DZBOgLQjchxim-GVwYN",
     "timestamp": 1628626905369
    },
    {
     "file_id": "1C3xH08V3tJClZ_nWy3bNSUqRKcdYSC-f",
     "timestamp": 1620827792051
    }
   ]
  },
  "kernelspec": {
   "display_name": "Python 3 (ipykernel)",
   "language": "python",
   "name": "python3"
  },
  "language_info": {
   "codemirror_mode": {
    "name": "ipython",
    "version": 3
   },
   "file_extension": ".py",
   "mimetype": "text/x-python",
   "name": "python",
   "nbconvert_exporter": "python",
   "pygments_lexer": "ipython3",
   "version": "3.9.7"
  }
 },
 "nbformat": 4,
 "nbformat_minor": 1
}
