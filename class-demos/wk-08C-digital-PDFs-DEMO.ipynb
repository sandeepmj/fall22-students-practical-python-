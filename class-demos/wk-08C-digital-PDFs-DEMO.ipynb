{
 "cells": [
  {
   "cell_type": "markdown",
   "metadata": {
    "id": "9FUirTb9HvpN"
   },
   "source": [
    "# Tables scattered in PDFs\n",
    "\n",
    "As it is, PDFs are notoriously obnoxious. They are designed so people can't change them easily.\n",
    "\n",
    "PDFs that hold tables are pretty much the worst.\n",
    "\n",
    "We want to <a href=\"https://docs.google.com/spreadsheets/d/1J7CVJgrYWh6xQMe4LzBxn2_ZNrSedo4S6vIN8Ct2EtE/edit?usp=sharing\">scrape data from digital PDFs</a>.\n",
    "\n",
    "You might have worked with the <a href=\"https://tabula.technology/\">Tabula GUI</a> to extract tables from PDFs. But there's a lot of manual work involved. \n",
    "\n",
    "To automate the process, we'll use the **Tabula Python Library**.\n",
    "\n",
    "### There's NO satisfaction guarantee, but at least it's a way to try to tackle PDFs with tables."
   ]
  },
  {
   "cell_type": "markdown",
   "metadata": {},
   "source": [
    "For other people getting the JDK error within jupyter nb, this resolved it for me. I installed the latest version of Oracle’s Java JDK. For those with an M1 machine, the appropriate one is the ARM file under the MacOS tab; for those with intel, it’s the x64.\n",
    "\n",
    "https://www.oracle.com/java/technologies/downloads/#jdk17-mac"
   ]
  },
  {
   "cell_type": "markdown",
   "metadata": {
    "id": "Lxf2wkM4IGEV"
   },
   "source": [
    "## THE SETUP"
   ]
  },
  {
   "cell_type": "code",
   "execution_count": null,
   "metadata": {
    "id": "MFmiQ5H3HlEQ"
   },
   "outputs": [],
   "source": [
    "## !pip install tabula-py.\n",
    "## it is not part of the standard Colab library"
   ]
  },
  {
   "cell_type": "code",
   "execution_count": null,
   "metadata": {
    "id": "wksiWLl8EEQk"
   },
   "outputs": [],
   "source": [
    "pip install -q tabula-py"
   ]
  },
  {
   "cell_type": "code",
   "execution_count": null,
   "metadata": {
    "id": "6CBHdtwFrEwE"
   },
   "outputs": [],
   "source": [
    "# pip install install-jdk"
   ]
  },
  {
   "cell_type": "code",
   "execution_count": 1,
   "metadata": {
    "id": "hZyCzxEMH_Rn"
   },
   "outputs": [
    {
     "name": "stdout",
     "output_type": "stream",
     "text": [
      "Python version:\n",
      "    3.9.7 (default, Sep 16 2021, 08:50:36) \n",
      "[Clang 10.0.0 ]\n",
      "Java version:\n",
      "    java version \"19.0.1\" 2022-10-18\n",
      "Java(TM) SE Runtime Environment (build 19.0.1+10-21)\n",
      "Java HotSpot(TM) 64-Bit Server VM (build 19.0.1+10-21, mixed mode, sharing)\n",
      "tabula-py version: 2.5.1\n",
      "platform: macOS-10.16-x86_64-i386-64bit\n",
      "uname:\n",
      "    uname_result(system='Darwin', node='Sandeep-Junnarkars-MacBook-Pro.local', release='21.6.0', version='Darwin Kernel Version 21.6.0: Mon Aug 22 20:19:52 PDT 2022; root:xnu-8020.140.49~2/RELEASE_ARM64_T6000', machine='x86_64')\n",
      "linux_distribution: ('Darwin', '21.6.0', '')\n",
      "mac_ver: ('10.16', ('', '', ''), 'x86_64')\n"
     ]
    }
   ],
   "source": [
    "## import tabula\n",
    "## check it's versioning\n",
    "import tabula\n",
    "tabula.environment_info() ## not need always\n"
   ]
  },
  {
   "cell_type": "code",
   "execution_count": 2,
   "metadata": {
    "id": "9M3P2qPBH_YJ"
   },
   "outputs": [],
   "source": [
    "## import some libraries we need\n",
    "import pandas as pd ## pandas to work with data\n"
   ]
  },
  {
   "cell_type": "code",
   "execution_count": 4,
   "metadata": {
    "id": "G0F6thFoH_CV"
   },
   "outputs": [
    {
     "data": {
      "text/plain": [
       "'pdf_samples/mockup1.pdf'"
      ]
     },
     "execution_count": 4,
     "metadata": {},
     "output_type": "execute_result"
    }
   ],
   "source": [
    "## Let's pull in our first pdf with a single page, single table\n",
    "pdf1 = \"pdf_samples/mockup1.pdf\"\n",
    "pdf1"
   ]
  },
  {
   "cell_type": "code",
   "execution_count": 6,
   "metadata": {},
   "outputs": [
    {
     "name": "stderr",
     "output_type": "stream",
     "text": [
      "'pages' argument isn't specified.Will extract only from page 1 by default.\n"
     ]
    },
    {
     "data": {
      "text/plain": [
       "[   Fringe Benefit Expenses (in millions) Fiscal 2019 Fiscal 2020  \\\n",
       " 0                       Health Insurance      $6,268      $7,173   \n",
       " 1                        Social Security      $2,161      $2,224   \n",
       " 2          Supplemental Welfare Benefits      $1,259      $1,333   \n",
       " 3                  Worker's Compensation        $343        $369   \n",
       " 4                  Annuity Contributions        $117        $120   \n",
       " 5                 Allowance for Uniforms         $72         $71   \n",
       " 6      Worker's Compensation - Uniformed         $41         $42   \n",
       " 7                 Unemployment Insurance         $36         $38   \n",
       " 8                  Other Fringe Benefits         $12         $12   \n",
       " 9               Faculty Welfare Benefits         $33         $10   \n",
       " 10                  Disability Insurance          $1          $1   \n",
       " 11                                Total*     $10,642     $11,394   \n",
       " \n",
       "    Percent Change  \n",
       " 0             14%  \n",
       " 1              3%  \n",
       " 2              6%  \n",
       " 3              8%  \n",
       " 4              3%  \n",
       " 5             -1%  \n",
       " 6              4%  \n",
       " 7              3%  \n",
       " 8             -3%  \n",
       " 9            -69%  \n",
       " 10             0%  \n",
       " 11             7%  ]"
      ]
     },
     "execution_count": 6,
     "metadata": {},
     "output_type": "execute_result"
    }
   ],
   "source": [
    "t1 = tabula.read_pdf(pdf1)\n",
    "t1"
   ]
  },
  {
   "cell_type": "code",
   "execution_count": 7,
   "metadata": {
    "id": "P6yphHDEr2wg"
   },
   "outputs": [
    {
     "data": {
      "text/plain": [
       "list"
      ]
     },
     "execution_count": 7,
     "metadata": {},
     "output_type": "execute_result"
    }
   ],
   "source": [
    "## WHAT TYPE OF DATA?\n",
    "type(t1)"
   ]
  },
  {
   "cell_type": "code",
   "execution_count": 8,
   "metadata": {
    "id": "yciinnKnsCzQ"
   },
   "outputs": [
    {
     "data": {
      "text/html": [
       "<div>\n",
       "<style scoped>\n",
       "    .dataframe tbody tr th:only-of-type {\n",
       "        vertical-align: middle;\n",
       "    }\n",
       "\n",
       "    .dataframe tbody tr th {\n",
       "        vertical-align: top;\n",
       "    }\n",
       "\n",
       "    .dataframe thead th {\n",
       "        text-align: right;\n",
       "    }\n",
       "</style>\n",
       "<table border=\"1\" class=\"dataframe\">\n",
       "  <thead>\n",
       "    <tr style=\"text-align: right;\">\n",
       "      <th></th>\n",
       "      <th>Fringe Benefit Expenses (in millions)</th>\n",
       "      <th>Fiscal 2019</th>\n",
       "      <th>Fiscal 2020</th>\n",
       "      <th>Percent Change</th>\n",
       "    </tr>\n",
       "  </thead>\n",
       "  <tbody>\n",
       "    <tr>\n",
       "      <th>0</th>\n",
       "      <td>Health Insurance</td>\n",
       "      <td>$6,268</td>\n",
       "      <td>$7,173</td>\n",
       "      <td>14%</td>\n",
       "    </tr>\n",
       "    <tr>\n",
       "      <th>1</th>\n",
       "      <td>Social Security</td>\n",
       "      <td>$2,161</td>\n",
       "      <td>$2,224</td>\n",
       "      <td>3%</td>\n",
       "    </tr>\n",
       "    <tr>\n",
       "      <th>2</th>\n",
       "      <td>Supplemental Welfare Benefits</td>\n",
       "      <td>$1,259</td>\n",
       "      <td>$1,333</td>\n",
       "      <td>6%</td>\n",
       "    </tr>\n",
       "    <tr>\n",
       "      <th>3</th>\n",
       "      <td>Worker's Compensation</td>\n",
       "      <td>$343</td>\n",
       "      <td>$369</td>\n",
       "      <td>8%</td>\n",
       "    </tr>\n",
       "    <tr>\n",
       "      <th>4</th>\n",
       "      <td>Annuity Contributions</td>\n",
       "      <td>$117</td>\n",
       "      <td>$120</td>\n",
       "      <td>3%</td>\n",
       "    </tr>\n",
       "    <tr>\n",
       "      <th>5</th>\n",
       "      <td>Allowance for Uniforms</td>\n",
       "      <td>$72</td>\n",
       "      <td>$71</td>\n",
       "      <td>-1%</td>\n",
       "    </tr>\n",
       "    <tr>\n",
       "      <th>6</th>\n",
       "      <td>Worker's Compensation - Uniformed</td>\n",
       "      <td>$41</td>\n",
       "      <td>$42</td>\n",
       "      <td>4%</td>\n",
       "    </tr>\n",
       "    <tr>\n",
       "      <th>7</th>\n",
       "      <td>Unemployment Insurance</td>\n",
       "      <td>$36</td>\n",
       "      <td>$38</td>\n",
       "      <td>3%</td>\n",
       "    </tr>\n",
       "    <tr>\n",
       "      <th>8</th>\n",
       "      <td>Other Fringe Benefits</td>\n",
       "      <td>$12</td>\n",
       "      <td>$12</td>\n",
       "      <td>-3%</td>\n",
       "    </tr>\n",
       "    <tr>\n",
       "      <th>9</th>\n",
       "      <td>Faculty Welfare Benefits</td>\n",
       "      <td>$33</td>\n",
       "      <td>$10</td>\n",
       "      <td>-69%</td>\n",
       "    </tr>\n",
       "    <tr>\n",
       "      <th>10</th>\n",
       "      <td>Disability Insurance</td>\n",
       "      <td>$1</td>\n",
       "      <td>$1</td>\n",
       "      <td>0%</td>\n",
       "    </tr>\n",
       "    <tr>\n",
       "      <th>11</th>\n",
       "      <td>Total*</td>\n",
       "      <td>$10,642</td>\n",
       "      <td>$11,394</td>\n",
       "      <td>7%</td>\n",
       "    </tr>\n",
       "  </tbody>\n",
       "</table>\n",
       "</div>"
      ],
      "text/plain": [
       "   Fringe Benefit Expenses (in millions) Fiscal 2019 Fiscal 2020  \\\n",
       "0                       Health Insurance      $6,268      $7,173   \n",
       "1                        Social Security      $2,161      $2,224   \n",
       "2          Supplemental Welfare Benefits      $1,259      $1,333   \n",
       "3                  Worker's Compensation        $343        $369   \n",
       "4                  Annuity Contributions        $117        $120   \n",
       "5                 Allowance for Uniforms         $72         $71   \n",
       "6      Worker's Compensation - Uniformed         $41         $42   \n",
       "7                 Unemployment Insurance         $36         $38   \n",
       "8                  Other Fringe Benefits         $12         $12   \n",
       "9               Faculty Welfare Benefits         $33         $10   \n",
       "10                  Disability Insurance          $1          $1   \n",
       "11                                Total*     $10,642     $11,394   \n",
       "\n",
       "   Percent Change  \n",
       "0             14%  \n",
       "1              3%  \n",
       "2              6%  \n",
       "3              8%  \n",
       "4              3%  \n",
       "5             -1%  \n",
       "6              4%  \n",
       "7              3%  \n",
       "8             -3%  \n",
       "9            -69%  \n",
       "10             0%  \n",
       "11             7%  "
      ]
     },
     "execution_count": 8,
     "metadata": {},
     "output_type": "execute_result"
    }
   ],
   "source": [
    "## let's get the first table\n",
    "t1[0]"
   ]
  },
  {
   "cell_type": "code",
   "execution_count": 9,
   "metadata": {
    "id": "_1dTc_sDEEQm"
   },
   "outputs": [],
   "source": [
    "## look at it\n",
    "table1 = t1[0]"
   ]
  },
  {
   "cell_type": "code",
   "execution_count": 10,
   "metadata": {
    "id": "hUmsX-X5tbM7"
   },
   "outputs": [
    {
     "data": {
      "text/plain": [
       "pandas.core.frame.DataFrame"
      ]
     },
     "execution_count": 10,
     "metadata": {},
     "output_type": "execute_result"
    }
   ],
   "source": [
    "## WHT TYPE OF DATA?\n",
    "type(table1)"
   ]
  },
  {
   "cell_type": "code",
   "execution_count": 11,
   "metadata": {
    "id": "18Wb3xT3tbQl"
   },
   "outputs": [],
   "source": [
    "## Export and download as CSV file\n",
    "table1.to_csv(\"table1.csv\", encoding = \"UTF-8\", index = False)"
   ]
  },
  {
   "cell_type": "markdown",
   "metadata": {
    "id": "Zq6ttpEMvnWa"
   },
   "source": [
    "# Multiple pages/ Multiple tables\n"
   ]
  },
  {
   "cell_type": "code",
   "execution_count": 12,
   "metadata": {
    "id": "b6dSksJytbYb"
   },
   "outputs": [
    {
     "data": {
      "text/plain": [
       "'pdf_samples/mockup2.pdf'"
      ]
     },
     "execution_count": 12,
     "metadata": {},
     "output_type": "execute_result"
    }
   ],
   "source": [
    "## let's pull in our a file with multiple pages and tables\n",
    "## we target the table on the first and second page.\n",
    "pdf2 = \"pdf_samples/mockup2.pdf\"\n",
    "pdf2"
   ]
  },
  {
   "cell_type": "code",
   "execution_count": 13,
   "metadata": {},
   "outputs": [
    {
     "data": {
      "text/plain": [
       "[   Fringe Benefit Expenses (in millions) Fiscal 2019 Fiscal 2020  \\\n",
       " 0                       Health Insurance      $6,268      $7,173   \n",
       " 1                        Social Security      $2,161      $2,224   \n",
       " 2          Supplemental Welfare Benefits      $1,259      $1,333   \n",
       " 3                  Worker's Compensation        $343        $369   \n",
       " 4                  Annuity Contributions        $117        $120   \n",
       " 5                 Allowance for Uniforms         $72         $71   \n",
       " 6      Worker's Compensation - Uniformed         $41         $42   \n",
       " 7                 Unemployment Insurance         $36         $38   \n",
       " 8                  Other Fringe Benefits         $12         $12   \n",
       " 9               Faculty Welfare Benefits         $33         $10   \n",
       " 10                  Disability Insurance          $1          $1   \n",
       " 11                                Total*     $10,642     $11,394   \n",
       " \n",
       "    Percent Change  \n",
       " 0             14%  \n",
       " 1              3%  \n",
       " 2              6%  \n",
       " 3              8%  \n",
       " 4              3%  \n",
       " 5             -1%  \n",
       " 6              4%  \n",
       " 7              3%  \n",
       " 8             -3%  \n",
       " 9            -69%  \n",
       " 10             0%  \n",
       " 11             7%  ,\n",
       "                              Unnamed: 0   FY19  FY20  Unnamed: 1  FY21  \\\n",
       " 0                         Real Property  ($70)    $0         NaN    $0   \n",
       " 1                       Personal Income    284   152         NaN   120   \n",
       " 2                   General Corporation     71    71         NaN    67   \n",
       " 3               Unincorporated Business    -52  -189         NaN  -133   \n",
       " 4                         Sales and Use     18    98         NaN   114   \n",
       " 5                       Commercial Rent     11    15         NaN    16   \n",
       " 6                Real Property Transfer    -30    45         NaN    44   \n",
       " 7                    Mortgage Recording    -24    25         NaN    24   \n",
       " 8                               Utility      0     1         NaN     0   \n",
       " 9                                 Hotel      5    -9         NaN     1   \n",
       " 10                            All Other    -11     0         NaN     0   \n",
       " 11  Total Executive 2020 Financial Plan    NaN   NaN         NaN   NaN   \n",
       " 12                              Changes   $202  $209         NaN  $253   \n",
       " \n",
       "     Unnamed: 2  FY22  Unnamed: 3  FY23  \n",
       " 0          NaN    $0         NaN    $0  \n",
       " 1          NaN   122         NaN    87  \n",
       " 2          NaN    78         NaN    41  \n",
       " 3          NaN  -106         NaN  -110  \n",
       " 4          NaN   112         NaN   112  \n",
       " 5          NaN    18         NaN    18  \n",
       " 6          NaN    48         NaN    45  \n",
       " 7          NaN    27         NaN    25  \n",
       " 8          NaN     0         NaN     0  \n",
       " 9          NaN     0         NaN     7  \n",
       " 10         NaN     0         NaN     0  \n",
       " 11         NaN   NaN         NaN   NaN  \n",
       " 12         NaN  $299         NaN  $225  ]"
      ]
     },
     "execution_count": 13,
     "metadata": {},
     "output_type": "execute_result"
    }
   ],
   "source": [
    "t2 = tabula.read_pdf(pdf2, pages=\"1-2\")\n",
    "t2"
   ]
  },
  {
   "cell_type": "code",
   "execution_count": 14,
   "metadata": {
    "id": "FpWwgfQitbeC"
   },
   "outputs": [
    {
     "data": {
      "text/html": [
       "<div>\n",
       "<style scoped>\n",
       "    .dataframe tbody tr th:only-of-type {\n",
       "        vertical-align: middle;\n",
       "    }\n",
       "\n",
       "    .dataframe tbody tr th {\n",
       "        vertical-align: top;\n",
       "    }\n",
       "\n",
       "    .dataframe thead th {\n",
       "        text-align: right;\n",
       "    }\n",
       "</style>\n",
       "<table border=\"1\" class=\"dataframe\">\n",
       "  <thead>\n",
       "    <tr style=\"text-align: right;\">\n",
       "      <th></th>\n",
       "      <th>Unnamed: 0</th>\n",
       "      <th>FY19</th>\n",
       "      <th>FY20</th>\n",
       "      <th>Unnamed: 1</th>\n",
       "      <th>FY21</th>\n",
       "      <th>Unnamed: 2</th>\n",
       "      <th>FY22</th>\n",
       "      <th>Unnamed: 3</th>\n",
       "      <th>FY23</th>\n",
       "    </tr>\n",
       "  </thead>\n",
       "  <tbody>\n",
       "    <tr>\n",
       "      <th>0</th>\n",
       "      <td>Real Property</td>\n",
       "      <td>($70)</td>\n",
       "      <td>$0</td>\n",
       "      <td>NaN</td>\n",
       "      <td>$0</td>\n",
       "      <td>NaN</td>\n",
       "      <td>$0</td>\n",
       "      <td>NaN</td>\n",
       "      <td>$0</td>\n",
       "    </tr>\n",
       "    <tr>\n",
       "      <th>1</th>\n",
       "      <td>Personal Income</td>\n",
       "      <td>284</td>\n",
       "      <td>152</td>\n",
       "      <td>NaN</td>\n",
       "      <td>120</td>\n",
       "      <td>NaN</td>\n",
       "      <td>122</td>\n",
       "      <td>NaN</td>\n",
       "      <td>87</td>\n",
       "    </tr>\n",
       "    <tr>\n",
       "      <th>2</th>\n",
       "      <td>General Corporation</td>\n",
       "      <td>71</td>\n",
       "      <td>71</td>\n",
       "      <td>NaN</td>\n",
       "      <td>67</td>\n",
       "      <td>NaN</td>\n",
       "      <td>78</td>\n",
       "      <td>NaN</td>\n",
       "      <td>41</td>\n",
       "    </tr>\n",
       "    <tr>\n",
       "      <th>3</th>\n",
       "      <td>Unincorporated Business</td>\n",
       "      <td>-52</td>\n",
       "      <td>-189</td>\n",
       "      <td>NaN</td>\n",
       "      <td>-133</td>\n",
       "      <td>NaN</td>\n",
       "      <td>-106</td>\n",
       "      <td>NaN</td>\n",
       "      <td>-110</td>\n",
       "    </tr>\n",
       "    <tr>\n",
       "      <th>4</th>\n",
       "      <td>Sales and Use</td>\n",
       "      <td>18</td>\n",
       "      <td>98</td>\n",
       "      <td>NaN</td>\n",
       "      <td>114</td>\n",
       "      <td>NaN</td>\n",
       "      <td>112</td>\n",
       "      <td>NaN</td>\n",
       "      <td>112</td>\n",
       "    </tr>\n",
       "    <tr>\n",
       "      <th>5</th>\n",
       "      <td>Commercial Rent</td>\n",
       "      <td>11</td>\n",
       "      <td>15</td>\n",
       "      <td>NaN</td>\n",
       "      <td>16</td>\n",
       "      <td>NaN</td>\n",
       "      <td>18</td>\n",
       "      <td>NaN</td>\n",
       "      <td>18</td>\n",
       "    </tr>\n",
       "    <tr>\n",
       "      <th>6</th>\n",
       "      <td>Real Property Transfer</td>\n",
       "      <td>-30</td>\n",
       "      <td>45</td>\n",
       "      <td>NaN</td>\n",
       "      <td>44</td>\n",
       "      <td>NaN</td>\n",
       "      <td>48</td>\n",
       "      <td>NaN</td>\n",
       "      <td>45</td>\n",
       "    </tr>\n",
       "    <tr>\n",
       "      <th>7</th>\n",
       "      <td>Mortgage Recording</td>\n",
       "      <td>-24</td>\n",
       "      <td>25</td>\n",
       "      <td>NaN</td>\n",
       "      <td>24</td>\n",
       "      <td>NaN</td>\n",
       "      <td>27</td>\n",
       "      <td>NaN</td>\n",
       "      <td>25</td>\n",
       "    </tr>\n",
       "    <tr>\n",
       "      <th>8</th>\n",
       "      <td>Utility</td>\n",
       "      <td>0</td>\n",
       "      <td>1</td>\n",
       "      <td>NaN</td>\n",
       "      <td>0</td>\n",
       "      <td>NaN</td>\n",
       "      <td>0</td>\n",
       "      <td>NaN</td>\n",
       "      <td>0</td>\n",
       "    </tr>\n",
       "    <tr>\n",
       "      <th>9</th>\n",
       "      <td>Hotel</td>\n",
       "      <td>5</td>\n",
       "      <td>-9</td>\n",
       "      <td>NaN</td>\n",
       "      <td>1</td>\n",
       "      <td>NaN</td>\n",
       "      <td>0</td>\n",
       "      <td>NaN</td>\n",
       "      <td>7</td>\n",
       "    </tr>\n",
       "    <tr>\n",
       "      <th>10</th>\n",
       "      <td>All Other</td>\n",
       "      <td>-11</td>\n",
       "      <td>0</td>\n",
       "      <td>NaN</td>\n",
       "      <td>0</td>\n",
       "      <td>NaN</td>\n",
       "      <td>0</td>\n",
       "      <td>NaN</td>\n",
       "      <td>0</td>\n",
       "    </tr>\n",
       "    <tr>\n",
       "      <th>11</th>\n",
       "      <td>Total Executive 2020 Financial Plan</td>\n",
       "      <td>NaN</td>\n",
       "      <td>NaN</td>\n",
       "      <td>NaN</td>\n",
       "      <td>NaN</td>\n",
       "      <td>NaN</td>\n",
       "      <td>NaN</td>\n",
       "      <td>NaN</td>\n",
       "      <td>NaN</td>\n",
       "    </tr>\n",
       "    <tr>\n",
       "      <th>12</th>\n",
       "      <td>Changes</td>\n",
       "      <td>$202</td>\n",
       "      <td>$209</td>\n",
       "      <td>NaN</td>\n",
       "      <td>$253</td>\n",
       "      <td>NaN</td>\n",
       "      <td>$299</td>\n",
       "      <td>NaN</td>\n",
       "      <td>$225</td>\n",
       "    </tr>\n",
       "  </tbody>\n",
       "</table>\n",
       "</div>"
      ],
      "text/plain": [
       "                             Unnamed: 0   FY19  FY20  Unnamed: 1  FY21  \\\n",
       "0                         Real Property  ($70)    $0         NaN    $0   \n",
       "1                       Personal Income    284   152         NaN   120   \n",
       "2                   General Corporation     71    71         NaN    67   \n",
       "3               Unincorporated Business    -52  -189         NaN  -133   \n",
       "4                         Sales and Use     18    98         NaN   114   \n",
       "5                       Commercial Rent     11    15         NaN    16   \n",
       "6                Real Property Transfer    -30    45         NaN    44   \n",
       "7                    Mortgage Recording    -24    25         NaN    24   \n",
       "8                               Utility      0     1         NaN     0   \n",
       "9                                 Hotel      5    -9         NaN     1   \n",
       "10                            All Other    -11     0         NaN     0   \n",
       "11  Total Executive 2020 Financial Plan    NaN   NaN         NaN   NaN   \n",
       "12                              Changes   $202  $209         NaN  $253   \n",
       "\n",
       "    Unnamed: 2  FY22  Unnamed: 3  FY23  \n",
       "0          NaN    $0         NaN    $0  \n",
       "1          NaN   122         NaN    87  \n",
       "2          NaN    78         NaN    41  \n",
       "3          NaN  -106         NaN  -110  \n",
       "4          NaN   112         NaN   112  \n",
       "5          NaN    18         NaN    18  \n",
       "6          NaN    48         NaN    45  \n",
       "7          NaN    27         NaN    25  \n",
       "8          NaN     0         NaN     0  \n",
       "9          NaN     0         NaN     7  \n",
       "10         NaN     0         NaN     0  \n",
       "11         NaN   NaN         NaN   NaN  \n",
       "12         NaN  $299         NaN  $225  "
      ]
     },
     "execution_count": 14,
     "metadata": {},
     "output_type": "execute_result"
    }
   ],
   "source": [
    "## let's get the second table\n",
    "t2[1]"
   ]
  },
  {
   "cell_type": "code",
   "execution_count": null,
   "metadata": {},
   "outputs": [],
   "source": [
    "table2 = t2[1].copy()\n",
    "tabe2"
   ]
  },
  {
   "cell_type": "code",
   "execution_count": null,
   "metadata": {
    "id": "3MuAEix0tbg4"
   },
   "outputs": [],
   "source": [
    "## we are pulling in a range of pages\n",
    "## IMPORTANT: There are no spaces in \"1-2,4\"\n"
   ]
  },
  {
   "cell_type": "markdown",
   "metadata": {
    "id": "OiC2PZonEEQn"
   },
   "source": [
    "## Homework for week 9\n",
    "\n",
    "- Multi-page, Multi-table all zipped together\n",
    "- Look at week 9"
   ]
  },
  {
   "cell_type": "markdown",
   "metadata": {
    "id": "VDwte6-0EEQn"
   },
   "source": [
    "## Foundational Multi-page, Multi-table\n",
    "\n",
    "### Campaign contribution demo"
   ]
  },
  {
   "cell_type": "code",
   "execution_count": 15,
   "metadata": {
    "id": "oDXTNCYz3Meo"
   },
   "outputs": [
    {
     "data": {
      "text/plain": [
       "'pdf_samples/campaign_contribs.pdf'"
      ]
     },
     "execution_count": 15,
     "metadata": {},
     "output_type": "execute_result"
    }
   ],
   "source": [
    "## path to our \"campaign_contribs.pdf\" PDF\n",
    "pdf3 = \"pdf_samples/campaign_contribs.pdf\"\n",
    "pdf3"
   ]
  },
  {
   "cell_type": "code",
   "execution_count": 19,
   "metadata": {
    "id": "1e8-1K9d3Rv2"
   },
   "outputs": [
    {
     "data": {
      "text/plain": [
       "[                         committee name state contrib_date contrib_amount\n",
       " 0                   BIDEN FOR PRESIDENT    AK      6/30/20         $2,800\n",
       " 1   DONALD J. TRUMP FOR PRESIDENT, INC.    AL      6/30/20         $2,000\n",
       " 2                   BIDEN FOR PRESIDENT    AL      6/30/20         $2,800\n",
       " 3   DONALD J. TRUMP FOR PRESIDENT, INC.    AR      6/30/20         $5,000\n",
       " 4   DONALD J. TRUMP FOR PRESIDENT, INC.    AZ      6/30/20         $2,000\n",
       " 5                   BIDEN FOR PRESIDENT    AZ      6/30/20         $2,800\n",
       " 6   DONALD J. TRUMP FOR PRESIDENT, INC.    CA      6/30/20         $2,000\n",
       " 7   DONALD J. TRUMP FOR PRESIDENT, INC.    CA      6/30/20         $2,000\n",
       " 8   DONALD J. TRUMP FOR PRESIDENT, INC.    CA      6/30/20         $2,800\n",
       " 9   DONALD J. TRUMP FOR PRESIDENT, INC.    CA      6/30/20         $2,800\n",
       " 10  DONALD J. TRUMP FOR PRESIDENT, INC.    CA      6/30/20         $2,800\n",
       " 11  DONALD J. TRUMP FOR PRESIDENT, INC.    CA      6/30/20         $2,800\n",
       " 12  DONALD J. TRUMP FOR PRESIDENT, INC.    CA      6/30/20         $2,800\n",
       " 13  DONALD J. TRUMP FOR PRESIDENT, INC.    CA      6/30/20         $2,800\n",
       " 14  DONALD J. TRUMP FOR PRESIDENT, INC.    CA      6/30/20         $2,800\n",
       " 15  DONALD J. TRUMP FOR PRESIDENT, INC.    CA      6/30/20         $5,000\n",
       " 16                  BIDEN FOR PRESIDENT    CA      6/30/20         $2,000\n",
       " 17                  BIDEN FOR PRESIDENT    CA      6/30/20         $2,000\n",
       " 18                  BIDEN FOR PRESIDENT    CA      6/30/20         $2,000\n",
       " 19                  BIDEN FOR PRESIDENT    CA      6/30/20         $2,300\n",
       " 20                  BIDEN FOR PRESIDENT    CA      6/30/20         $2,400\n",
       " 21                  BIDEN FOR PRESIDENT    CA      6/30/20         $2,700\n",
       " 22                  BIDEN FOR PRESIDENT    CA      6/30/20         $2,800\n",
       " 23                  BIDEN FOR PRESIDENT    CA      6/30/20         $2,800\n",
       " 24                  BIDEN FOR PRESIDENT    CA      6/30/20         $2,800,\n",
       "                          committee name state contrib_date contrib_amount\n",
       " 0                   BIDEN FOR PRESIDENT    DC      6/30/20         $2,800\n",
       " 1                   BIDEN FOR PRESIDENT    DC      6/30/20         $5,600\n",
       " 2                   BIDEN FOR PRESIDENT    DC      6/30/20         $5,600\n",
       " 3   DONALD J. TRUMP FOR PRESIDENT, INC.    FL      6/30/20         $2,000\n",
       " 4   DONALD J. TRUMP FOR PRESIDENT, INC.    FL      6/30/20         $2,000\n",
       " 5   DONALD J. TRUMP FOR PRESIDENT, INC.    FL      6/30/20         $2,500\n",
       " 6   DONALD J. TRUMP FOR PRESIDENT, INC.    FL      6/30/20         $2,800\n",
       " 7   DONALD J. TRUMP FOR PRESIDENT, INC.    FL      6/30/20         $2,800\n",
       " 8   DONALD J. TRUMP FOR PRESIDENT, INC.    FL      6/30/20         $2,800\n",
       " 9   DONALD J. TRUMP FOR PRESIDENT, INC.    FL      6/30/20         $2,800\n",
       " 10  DONALD J. TRUMP FOR PRESIDENT, INC.    FL      6/30/20         $2,800\n",
       " 11  DONALD J. TRUMP FOR PRESIDENT, INC.    FL      6/30/20         $2,800\n",
       " 12  DONALD J. TRUMP FOR PRESIDENT, INC.    FL      6/30/20         $5,600\n",
       " 13                  BIDEN FOR PRESIDENT    FL      6/30/20         $2,800\n",
       " 14                  BIDEN FOR PRESIDENT    FL      6/30/20         $2,800\n",
       " 15                  BIDEN FOR PRESIDENT    FL      6/30/20         $2,800\n",
       " 16                  BIDEN FOR PRESIDENT    FL      6/30/20         $2,800\n",
       " 17                  BIDEN FOR PRESIDENT    FL      6/30/20         $5,000\n",
       " 18  DONALD J. TRUMP FOR PRESIDENT, INC.    GA      6/30/20         $2,800\n",
       " 19  DONALD J. TRUMP FOR PRESIDENT, INC.    GA      6/30/20         $2,800\n",
       " 20  DONALD J. TRUMP FOR PRESIDENT, INC.    GA      6/30/20         $2,800\n",
       " 21  DONALD J. TRUMP FOR PRESIDENT, INC.    GA      6/30/20         $5,000\n",
       " 22  DONALD J. TRUMP FOR PRESIDENT, INC.    GA      6/30/20         $5,000,\n",
       "                          committee name state contrib_date contrib_amount\n",
       " 0                   BIDEN FOR PRESIDENT    CA      6/30/20         $2,800\n",
       " 1                   BIDEN FOR PRESIDENT    CA      6/30/20         $2,800\n",
       " 2                   BIDEN FOR PRESIDENT    CA      6/30/20         $2,800\n",
       " 3                   BIDEN FOR PRESIDENT    CA      6/30/20         $2,800\n",
       " 4                   BIDEN FOR PRESIDENT    CA      6/30/20         $2,800\n",
       " 5                   BIDEN FOR PRESIDENT    CA      6/30/20         $2,800\n",
       " 6                   BIDEN FOR PRESIDENT    CA      6/30/20         $2,800\n",
       " 7                   BIDEN FOR PRESIDENT    CA      6/30/20         $2,800\n",
       " 8                   BIDEN FOR PRESIDENT    CA      6/30/20         $2,800\n",
       " 9                   BIDEN FOR PRESIDENT    CA      6/30/20         $2,800\n",
       " 10                  BIDEN FOR PRESIDENT    CA      6/30/20         $2,800\n",
       " 11                  BIDEN FOR PRESIDENT    CA      6/30/20         $2,800\n",
       " 12                  BIDEN FOR PRESIDENT    CA      6/30/20         $5,000\n",
       " 13                  BIDEN FOR PRESIDENT    CA      6/30/20         $5,000\n",
       " 14                  BIDEN FOR PRESIDENT    CA      6/30/20         $5,600\n",
       " 15                  BIDEN FOR PRESIDENT    CA      6/30/20         $5,600\n",
       " 16                  BIDEN FOR PRESIDENT    CA      6/30/20         $5,600\n",
       " 17  DONALD J. TRUMP FOR PRESIDENT, INC.    CO      6/30/20         $2,500\n",
       " 18  DONALD J. TRUMP FOR PRESIDENT, INC.    CO      6/30/20         $2,800\n",
       " 19                  BIDEN FOR PRESIDENT    CO      6/30/20         $2,000\n",
       " 20  DONALD J. TRUMP FOR PRESIDENT, INC.    CT      6/30/20         $2,800\n",
       " 21                  BIDEN FOR PRESIDENT    CT      6/30/20         $2,800\n",
       " 22                  BIDEN FOR PRESIDENT    CT      6/30/20         $2,800\n",
       " 23                  BIDEN FOR PRESIDENT    DC      6/30/20         $2,800\n",
       " 24                  BIDEN FOR PRESIDENT    DC      6/30/20         $2,800,\n",
       "                          committee name state contrib_date contrib_amount\n",
       " 0                   BIDEN FOR PRESIDENT    GA      6/30/20         $3,000\n",
       " 1                   BIDEN FOR PRESIDENT    GA      6/30/20         $5,000\n",
       " 2                   BIDEN FOR PRESIDENT    HI      6/30/20         $2,000\n",
       " 3                   BIDEN FOR PRESIDENT    HI      6/30/20         $5,600\n",
       " 4                   BIDEN FOR PRESIDENT    IL      6/30/20         $2,600\n",
       " 5                   BIDEN FOR PRESIDENT    IL      6/30/20         $2,800\n",
       " 6                   BIDEN FOR PRESIDENT    IL      6/30/20         $2,800\n",
       " 7                   BIDEN FOR PRESIDENT    IL      6/30/20         $2,800\n",
       " 8                   BIDEN FOR PRESIDENT    IL      6/30/20         $5,000\n",
       " 9   DONALD J. TRUMP FOR PRESIDENT, INC.    IN      6/30/20         $2,800\n",
       " 10  DONALD J. TRUMP FOR PRESIDENT, INC.    IN      6/30/20         $2,800\n",
       " 11                  BIDEN FOR PRESIDENT    IN      6/30/20         $2,800\n",
       " 12  DONALD J. TRUMP FOR PRESIDENT, INC.    KY      6/30/20         $2,800\n",
       " 13                  BIDEN FOR PRESIDENT    KY      6/30/20         $2,800\n",
       " 14                  BIDEN FOR PRESIDENT    LA      6/30/20         $5,600\n",
       " 15                  BIDEN FOR PRESIDENT    LA      6/30/20         $5,600\n",
       " 16                  BIDEN FOR PRESIDENT    LA      6/30/20         $5,600\n",
       " 17                  BIDEN FOR PRESIDENT    LA      6/30/20         $5,600\n",
       " 18                  BIDEN FOR PRESIDENT    LA      6/30/20         $5,600\n",
       " 19  DONALD J. TRUMP FOR PRESIDENT, INC.    MA      6/30/20         $2,500\n",
       " 20  DONALD J. TRUMP FOR PRESIDENT, INC.    MA      6/30/20         $4,050\n",
       " 21                  BIDEN FOR PRESIDENT    MA      6/30/20         $2,550\n",
       " 22                  BIDEN FOR PRESIDENT    MA      6/30/20         $2,600\n",
       " 23                  BIDEN FOR PRESIDENT    MA      6/30/20         $2,800\n",
       " 24                  BIDEN FOR PRESIDENT    MA      6/30/20         $2,800\n",
       " 25                  BIDEN FOR PRESIDENT    MA      6/30/20         $2,800\n",
       " 26                  BIDEN FOR PRESIDENT    MA      6/30/20         $2,800]"
      ]
     },
     "execution_count": 19,
     "metadata": {},
     "output_type": "execute_result"
    }
   ],
   "source": [
    "## get all the pages\n",
    "tables = tabula.read_pdf(pdf3, pages = \"all\")\n",
    "tables"
   ]
  },
  {
   "cell_type": "code",
   "execution_count": 20,
   "metadata": {
    "id": "DHVO2hJk6FWA"
   },
   "outputs": [
    {
     "data": {
      "text/plain": [
       "4"
      ]
     },
     "execution_count": 20,
     "metadata": {},
     "output_type": "execute_result"
    }
   ],
   "source": [
    "## confirm we have the correct number of tables. should have 4 tables\n",
    "len(tables)"
   ]
  },
  {
   "cell_type": "code",
   "execution_count": 24,
   "metadata": {
    "id": "8AgXtOZY3SBc"
   },
   "outputs": [
    {
     "data": {
      "text/html": [
       "<div>\n",
       "<style scoped>\n",
       "    .dataframe tbody tr th:only-of-type {\n",
       "        vertical-align: middle;\n",
       "    }\n",
       "\n",
       "    .dataframe tbody tr th {\n",
       "        vertical-align: top;\n",
       "    }\n",
       "\n",
       "    .dataframe thead th {\n",
       "        text-align: right;\n",
       "    }\n",
       "</style>\n",
       "<table border=\"1\" class=\"dataframe\">\n",
       "  <thead>\n",
       "    <tr style=\"text-align: right;\">\n",
       "      <th></th>\n",
       "      <th>committee name</th>\n",
       "      <th>state</th>\n",
       "      <th>contrib_date</th>\n",
       "      <th>contrib_amount</th>\n",
       "    </tr>\n",
       "  </thead>\n",
       "  <tbody>\n",
       "    <tr>\n",
       "      <th>0</th>\n",
       "      <td>BIDEN FOR PRESIDENT</td>\n",
       "      <td>DC</td>\n",
       "      <td>6/30/20</td>\n",
       "      <td>$2,800</td>\n",
       "    </tr>\n",
       "    <tr>\n",
       "      <th>1</th>\n",
       "      <td>BIDEN FOR PRESIDENT</td>\n",
       "      <td>DC</td>\n",
       "      <td>6/30/20</td>\n",
       "      <td>$5,600</td>\n",
       "    </tr>\n",
       "    <tr>\n",
       "      <th>2</th>\n",
       "      <td>BIDEN FOR PRESIDENT</td>\n",
       "      <td>DC</td>\n",
       "      <td>6/30/20</td>\n",
       "      <td>$5,600</td>\n",
       "    </tr>\n",
       "    <tr>\n",
       "      <th>3</th>\n",
       "      <td>DONALD J. TRUMP FOR PRESIDENT, INC.</td>\n",
       "      <td>FL</td>\n",
       "      <td>6/30/20</td>\n",
       "      <td>$2,000</td>\n",
       "    </tr>\n",
       "    <tr>\n",
       "      <th>4</th>\n",
       "      <td>DONALD J. TRUMP FOR PRESIDENT, INC.</td>\n",
       "      <td>FL</td>\n",
       "      <td>6/30/20</td>\n",
       "      <td>$2,000</td>\n",
       "    </tr>\n",
       "    <tr>\n",
       "      <th>5</th>\n",
       "      <td>DONALD J. TRUMP FOR PRESIDENT, INC.</td>\n",
       "      <td>FL</td>\n",
       "      <td>6/30/20</td>\n",
       "      <td>$2,500</td>\n",
       "    </tr>\n",
       "    <tr>\n",
       "      <th>6</th>\n",
       "      <td>DONALD J. TRUMP FOR PRESIDENT, INC.</td>\n",
       "      <td>FL</td>\n",
       "      <td>6/30/20</td>\n",
       "      <td>$2,800</td>\n",
       "    </tr>\n",
       "    <tr>\n",
       "      <th>7</th>\n",
       "      <td>DONALD J. TRUMP FOR PRESIDENT, INC.</td>\n",
       "      <td>FL</td>\n",
       "      <td>6/30/20</td>\n",
       "      <td>$2,800</td>\n",
       "    </tr>\n",
       "    <tr>\n",
       "      <th>8</th>\n",
       "      <td>DONALD J. TRUMP FOR PRESIDENT, INC.</td>\n",
       "      <td>FL</td>\n",
       "      <td>6/30/20</td>\n",
       "      <td>$2,800</td>\n",
       "    </tr>\n",
       "    <tr>\n",
       "      <th>9</th>\n",
       "      <td>DONALD J. TRUMP FOR PRESIDENT, INC.</td>\n",
       "      <td>FL</td>\n",
       "      <td>6/30/20</td>\n",
       "      <td>$2,800</td>\n",
       "    </tr>\n",
       "    <tr>\n",
       "      <th>10</th>\n",
       "      <td>DONALD J. TRUMP FOR PRESIDENT, INC.</td>\n",
       "      <td>FL</td>\n",
       "      <td>6/30/20</td>\n",
       "      <td>$2,800</td>\n",
       "    </tr>\n",
       "    <tr>\n",
       "      <th>11</th>\n",
       "      <td>DONALD J. TRUMP FOR PRESIDENT, INC.</td>\n",
       "      <td>FL</td>\n",
       "      <td>6/30/20</td>\n",
       "      <td>$2,800</td>\n",
       "    </tr>\n",
       "    <tr>\n",
       "      <th>12</th>\n",
       "      <td>DONALD J. TRUMP FOR PRESIDENT, INC.</td>\n",
       "      <td>FL</td>\n",
       "      <td>6/30/20</td>\n",
       "      <td>$5,600</td>\n",
       "    </tr>\n",
       "    <tr>\n",
       "      <th>13</th>\n",
       "      <td>BIDEN FOR PRESIDENT</td>\n",
       "      <td>FL</td>\n",
       "      <td>6/30/20</td>\n",
       "      <td>$2,800</td>\n",
       "    </tr>\n",
       "    <tr>\n",
       "      <th>14</th>\n",
       "      <td>BIDEN FOR PRESIDENT</td>\n",
       "      <td>FL</td>\n",
       "      <td>6/30/20</td>\n",
       "      <td>$2,800</td>\n",
       "    </tr>\n",
       "    <tr>\n",
       "      <th>15</th>\n",
       "      <td>BIDEN FOR PRESIDENT</td>\n",
       "      <td>FL</td>\n",
       "      <td>6/30/20</td>\n",
       "      <td>$2,800</td>\n",
       "    </tr>\n",
       "    <tr>\n",
       "      <th>16</th>\n",
       "      <td>BIDEN FOR PRESIDENT</td>\n",
       "      <td>FL</td>\n",
       "      <td>6/30/20</td>\n",
       "      <td>$2,800</td>\n",
       "    </tr>\n",
       "    <tr>\n",
       "      <th>17</th>\n",
       "      <td>BIDEN FOR PRESIDENT</td>\n",
       "      <td>FL</td>\n",
       "      <td>6/30/20</td>\n",
       "      <td>$5,000</td>\n",
       "    </tr>\n",
       "    <tr>\n",
       "      <th>18</th>\n",
       "      <td>DONALD J. TRUMP FOR PRESIDENT, INC.</td>\n",
       "      <td>GA</td>\n",
       "      <td>6/30/20</td>\n",
       "      <td>$2,800</td>\n",
       "    </tr>\n",
       "    <tr>\n",
       "      <th>19</th>\n",
       "      <td>DONALD J. TRUMP FOR PRESIDENT, INC.</td>\n",
       "      <td>GA</td>\n",
       "      <td>6/30/20</td>\n",
       "      <td>$2,800</td>\n",
       "    </tr>\n",
       "    <tr>\n",
       "      <th>20</th>\n",
       "      <td>DONALD J. TRUMP FOR PRESIDENT, INC.</td>\n",
       "      <td>GA</td>\n",
       "      <td>6/30/20</td>\n",
       "      <td>$2,800</td>\n",
       "    </tr>\n",
       "    <tr>\n",
       "      <th>21</th>\n",
       "      <td>DONALD J. TRUMP FOR PRESIDENT, INC.</td>\n",
       "      <td>GA</td>\n",
       "      <td>6/30/20</td>\n",
       "      <td>$5,000</td>\n",
       "    </tr>\n",
       "    <tr>\n",
       "      <th>22</th>\n",
       "      <td>DONALD J. TRUMP FOR PRESIDENT, INC.</td>\n",
       "      <td>GA</td>\n",
       "      <td>6/30/20</td>\n",
       "      <td>$5,000</td>\n",
       "    </tr>\n",
       "  </tbody>\n",
       "</table>\n",
       "</div>"
      ],
      "text/plain": [
       "                         committee name state contrib_date contrib_amount\n",
       "0                   BIDEN FOR PRESIDENT    DC      6/30/20         $2,800\n",
       "1                   BIDEN FOR PRESIDENT    DC      6/30/20         $5,600\n",
       "2                   BIDEN FOR PRESIDENT    DC      6/30/20         $5,600\n",
       "3   DONALD J. TRUMP FOR PRESIDENT, INC.    FL      6/30/20         $2,000\n",
       "4   DONALD J. TRUMP FOR PRESIDENT, INC.    FL      6/30/20         $2,000\n",
       "5   DONALD J. TRUMP FOR PRESIDENT, INC.    FL      6/30/20         $2,500\n",
       "6   DONALD J. TRUMP FOR PRESIDENT, INC.    FL      6/30/20         $2,800\n",
       "7   DONALD J. TRUMP FOR PRESIDENT, INC.    FL      6/30/20         $2,800\n",
       "8   DONALD J. TRUMP FOR PRESIDENT, INC.    FL      6/30/20         $2,800\n",
       "9   DONALD J. TRUMP FOR PRESIDENT, INC.    FL      6/30/20         $2,800\n",
       "10  DONALD J. TRUMP FOR PRESIDENT, INC.    FL      6/30/20         $2,800\n",
       "11  DONALD J. TRUMP FOR PRESIDENT, INC.    FL      6/30/20         $2,800\n",
       "12  DONALD J. TRUMP FOR PRESIDENT, INC.    FL      6/30/20         $5,600\n",
       "13                  BIDEN FOR PRESIDENT    FL      6/30/20         $2,800\n",
       "14                  BIDEN FOR PRESIDENT    FL      6/30/20         $2,800\n",
       "15                  BIDEN FOR PRESIDENT    FL      6/30/20         $2,800\n",
       "16                  BIDEN FOR PRESIDENT    FL      6/30/20         $2,800\n",
       "17                  BIDEN FOR PRESIDENT    FL      6/30/20         $5,000\n",
       "18  DONALD J. TRUMP FOR PRESIDENT, INC.    GA      6/30/20         $2,800\n",
       "19  DONALD J. TRUMP FOR PRESIDENT, INC.    GA      6/30/20         $2,800\n",
       "20  DONALD J. TRUMP FOR PRESIDENT, INC.    GA      6/30/20         $2,800\n",
       "21  DONALD J. TRUMP FOR PRESIDENT, INC.    GA      6/30/20         $5,000\n",
       "22  DONALD J. TRUMP FOR PRESIDENT, INC.    GA      6/30/20         $5,000"
      ]
     },
     "execution_count": 24,
     "metadata": {},
     "output_type": "execute_result"
    }
   ],
   "source": [
    "## let's get the 3rd table\n",
    "tables[1]"
   ]
  },
  {
   "cell_type": "code",
   "execution_count": 29,
   "metadata": {
    "id": "p5-wk7y_3SUX"
   },
   "outputs": [],
   "source": [
    "## create a function to download each table as CSV\n",
    "def combine_tables(list_name, csv_name):\n",
    "    '''\n",
    "    takes multiple dataframes in a list, concats them\n",
    "    export to csv\n",
    "    para1: list name\n",
    "    para2: csv file name including .csv as string \n",
    "    '''\n",
    "    df = pd.concat(list_name)\n",
    "    df.reset_index(inplace = True, drop = True)\n",
    "    df.to_csv(csv_name, encoding = \"UTF-8\", index = False)\n",
    "    return df\n",
    "    "
   ]
  },
  {
   "cell_type": "code",
   "execution_count": 30,
   "metadata": {},
   "outputs": [],
   "source": [
    "df20 = combine_tables(tables, \"prez20.csv\")"
   ]
  },
  {
   "cell_type": "code",
   "execution_count": 32,
   "metadata": {},
   "outputs": [
    {
     "data": {
      "text/html": [
       "<div>\n",
       "<style scoped>\n",
       "    .dataframe tbody tr th:only-of-type {\n",
       "        vertical-align: middle;\n",
       "    }\n",
       "\n",
       "    .dataframe tbody tr th {\n",
       "        vertical-align: top;\n",
       "    }\n",
       "\n",
       "    .dataframe thead th {\n",
       "        text-align: right;\n",
       "    }\n",
       "</style>\n",
       "<table border=\"1\" class=\"dataframe\">\n",
       "  <thead>\n",
       "    <tr style=\"text-align: right;\">\n",
       "      <th></th>\n",
       "      <th>committee name</th>\n",
       "      <th>state</th>\n",
       "      <th>contrib_date</th>\n",
       "      <th>contrib_amount</th>\n",
       "    </tr>\n",
       "  </thead>\n",
       "  <tbody>\n",
       "    <tr>\n",
       "      <th>68</th>\n",
       "      <td>DONALD J. TRUMP FOR PRESIDENT, INC.</td>\n",
       "      <td>CT</td>\n",
       "      <td>6/30/20</td>\n",
       "      <td>$2,800</td>\n",
       "    </tr>\n",
       "    <tr>\n",
       "      <th>76</th>\n",
       "      <td>BIDEN FOR PRESIDENT</td>\n",
       "      <td>HI</td>\n",
       "      <td>6/30/20</td>\n",
       "      <td>$5,600</td>\n",
       "    </tr>\n",
       "    <tr>\n",
       "      <th>8</th>\n",
       "      <td>DONALD J. TRUMP FOR PRESIDENT, INC.</td>\n",
       "      <td>CA</td>\n",
       "      <td>6/30/20</td>\n",
       "      <td>$2,800</td>\n",
       "    </tr>\n",
       "    <tr>\n",
       "      <th>13</th>\n",
       "      <td>DONALD J. TRUMP FOR PRESIDENT, INC.</td>\n",
       "      <td>CA</td>\n",
       "      <td>6/30/20</td>\n",
       "      <td>$2,800</td>\n",
       "    </tr>\n",
       "    <tr>\n",
       "      <th>61</th>\n",
       "      <td>BIDEN FOR PRESIDENT</td>\n",
       "      <td>CA</td>\n",
       "      <td>6/30/20</td>\n",
       "      <td>$5,000</td>\n",
       "    </tr>\n",
       "    <tr>\n",
       "      <th>95</th>\n",
       "      <td>BIDEN FOR PRESIDENT</td>\n",
       "      <td>MA</td>\n",
       "      <td>6/30/20</td>\n",
       "      <td>$2,600</td>\n",
       "    </tr>\n",
       "    <tr>\n",
       "      <th>58</th>\n",
       "      <td>BIDEN FOR PRESIDENT</td>\n",
       "      <td>CA</td>\n",
       "      <td>6/30/20</td>\n",
       "      <td>$2,800</td>\n",
       "    </tr>\n",
       "    <tr>\n",
       "      <th>72</th>\n",
       "      <td>BIDEN FOR PRESIDENT</td>\n",
       "      <td>DC</td>\n",
       "      <td>6/30/20</td>\n",
       "      <td>$2,800</td>\n",
       "    </tr>\n",
       "    <tr>\n",
       "      <th>44</th>\n",
       "      <td>DONALD J. TRUMP FOR PRESIDENT, INC.</td>\n",
       "      <td>GA</td>\n",
       "      <td>6/30/20</td>\n",
       "      <td>$2,800</td>\n",
       "    </tr>\n",
       "    <tr>\n",
       "      <th>60</th>\n",
       "      <td>BIDEN FOR PRESIDENT</td>\n",
       "      <td>CA</td>\n",
       "      <td>6/30/20</td>\n",
       "      <td>$5,000</td>\n",
       "    </tr>\n",
       "  </tbody>\n",
       "</table>\n",
       "</div>"
      ],
      "text/plain": [
       "                         committee name state contrib_date contrib_amount\n",
       "68  DONALD J. TRUMP FOR PRESIDENT, INC.    CT      6/30/20         $2,800\n",
       "76                  BIDEN FOR PRESIDENT    HI      6/30/20         $5,600\n",
       "8   DONALD J. TRUMP FOR PRESIDENT, INC.    CA      6/30/20         $2,800\n",
       "13  DONALD J. TRUMP FOR PRESIDENT, INC.    CA      6/30/20         $2,800\n",
       "61                  BIDEN FOR PRESIDENT    CA      6/30/20         $5,000\n",
       "95                  BIDEN FOR PRESIDENT    MA      6/30/20         $2,600\n",
       "58                  BIDEN FOR PRESIDENT    CA      6/30/20         $2,800\n",
       "72                  BIDEN FOR PRESIDENT    DC      6/30/20         $2,800\n",
       "44  DONALD J. TRUMP FOR PRESIDENT, INC.    GA      6/30/20         $2,800\n",
       "60                  BIDEN FOR PRESIDENT    CA      6/30/20         $5,000"
      ]
     },
     "execution_count": 32,
     "metadata": {},
     "output_type": "execute_result"
    }
   ],
   "source": [
    "df20.sample(10)"
   ]
  },
  {
   "cell_type": "code",
   "execution_count": 26,
   "metadata": {
    "id": "6S-mWu_y3SQr"
   },
   "outputs": [
    {
     "data": {
      "text/html": [
       "<div>\n",
       "<style scoped>\n",
       "    .dataframe tbody tr th:only-of-type {\n",
       "        vertical-align: middle;\n",
       "    }\n",
       "\n",
       "    .dataframe tbody tr th {\n",
       "        vertical-align: top;\n",
       "    }\n",
       "\n",
       "    .dataframe thead th {\n",
       "        text-align: right;\n",
       "    }\n",
       "</style>\n",
       "<table border=\"1\" class=\"dataframe\">\n",
       "  <thead>\n",
       "    <tr style=\"text-align: right;\">\n",
       "      <th></th>\n",
       "      <th>committee name</th>\n",
       "      <th>state</th>\n",
       "      <th>contrib_date</th>\n",
       "      <th>contrib_amount</th>\n",
       "    </tr>\n",
       "  </thead>\n",
       "  <tbody>\n",
       "    <tr>\n",
       "      <th>0</th>\n",
       "      <td>BIDEN FOR PRESIDENT</td>\n",
       "      <td>AK</td>\n",
       "      <td>6/30/20</td>\n",
       "      <td>$2,800</td>\n",
       "    </tr>\n",
       "    <tr>\n",
       "      <th>1</th>\n",
       "      <td>DONALD J. TRUMP FOR PRESIDENT, INC.</td>\n",
       "      <td>AL</td>\n",
       "      <td>6/30/20</td>\n",
       "      <td>$2,000</td>\n",
       "    </tr>\n",
       "    <tr>\n",
       "      <th>2</th>\n",
       "      <td>BIDEN FOR PRESIDENT</td>\n",
       "      <td>AL</td>\n",
       "      <td>6/30/20</td>\n",
       "      <td>$2,800</td>\n",
       "    </tr>\n",
       "    <tr>\n",
       "      <th>3</th>\n",
       "      <td>DONALD J. TRUMP FOR PRESIDENT, INC.</td>\n",
       "      <td>AR</td>\n",
       "      <td>6/30/20</td>\n",
       "      <td>$5,000</td>\n",
       "    </tr>\n",
       "    <tr>\n",
       "      <th>4</th>\n",
       "      <td>DONALD J. TRUMP FOR PRESIDENT, INC.</td>\n",
       "      <td>AZ</td>\n",
       "      <td>6/30/20</td>\n",
       "      <td>$2,000</td>\n",
       "    </tr>\n",
       "    <tr>\n",
       "      <th>...</th>\n",
       "      <td>...</td>\n",
       "      <td>...</td>\n",
       "      <td>...</td>\n",
       "      <td>...</td>\n",
       "    </tr>\n",
       "    <tr>\n",
       "      <th>95</th>\n",
       "      <td>BIDEN FOR PRESIDENT</td>\n",
       "      <td>MA</td>\n",
       "      <td>6/30/20</td>\n",
       "      <td>$2,600</td>\n",
       "    </tr>\n",
       "    <tr>\n",
       "      <th>96</th>\n",
       "      <td>BIDEN FOR PRESIDENT</td>\n",
       "      <td>MA</td>\n",
       "      <td>6/30/20</td>\n",
       "      <td>$2,800</td>\n",
       "    </tr>\n",
       "    <tr>\n",
       "      <th>97</th>\n",
       "      <td>BIDEN FOR PRESIDENT</td>\n",
       "      <td>MA</td>\n",
       "      <td>6/30/20</td>\n",
       "      <td>$2,800</td>\n",
       "    </tr>\n",
       "    <tr>\n",
       "      <th>98</th>\n",
       "      <td>BIDEN FOR PRESIDENT</td>\n",
       "      <td>MA</td>\n",
       "      <td>6/30/20</td>\n",
       "      <td>$2,800</td>\n",
       "    </tr>\n",
       "    <tr>\n",
       "      <th>99</th>\n",
       "      <td>BIDEN FOR PRESIDENT</td>\n",
       "      <td>MA</td>\n",
       "      <td>6/30/20</td>\n",
       "      <td>$2,800</td>\n",
       "    </tr>\n",
       "  </tbody>\n",
       "</table>\n",
       "<p>100 rows × 4 columns</p>\n",
       "</div>"
      ],
      "text/plain": [
       "                         committee name state contrib_date contrib_amount\n",
       "0                   BIDEN FOR PRESIDENT    AK      6/30/20         $2,800\n",
       "1   DONALD J. TRUMP FOR PRESIDENT, INC.    AL      6/30/20         $2,000\n",
       "2                   BIDEN FOR PRESIDENT    AL      6/30/20         $2,800\n",
       "3   DONALD J. TRUMP FOR PRESIDENT, INC.    AR      6/30/20         $5,000\n",
       "4   DONALD J. TRUMP FOR PRESIDENT, INC.    AZ      6/30/20         $2,000\n",
       "..                                  ...   ...          ...            ...\n",
       "95                  BIDEN FOR PRESIDENT    MA      6/30/20         $2,600\n",
       "96                  BIDEN FOR PRESIDENT    MA      6/30/20         $2,800\n",
       "97                  BIDEN FOR PRESIDENT    MA      6/30/20         $2,800\n",
       "98                  BIDEN FOR PRESIDENT    MA      6/30/20         $2,800\n",
       "99                  BIDEN FOR PRESIDENT    MA      6/30/20         $2,800\n",
       "\n",
       "[100 rows x 4 columns]"
      ]
     },
     "execution_count": 26,
     "metadata": {},
     "output_type": "execute_result"
    }
   ],
   "source": [
    "## call the function\n",
    "df2020 = combine_tables(tables, \"prz_contribs.csv\")\n",
    "df2020"
   ]
  },
  {
   "cell_type": "code",
   "execution_count": null,
   "metadata": {
    "id": "bJGfauf83SHi"
   },
   "outputs": [],
   "source": [
    "## write function to combine tabula tables into a single csv\n"
   ]
  },
  {
   "cell_type": "code",
   "execution_count": null,
   "metadata": {
    "id": "iz5nAFFQ3R98"
   },
   "outputs": [],
   "source": [
    "## call the function\n"
   ]
  },
  {
   "cell_type": "markdown",
   "metadata": {
    "id": "9eXkX_-5EEQp"
   },
   "source": [
    "## Reality Check"
   ]
  },
  {
   "cell_type": "code",
   "execution_count": null,
   "metadata": {
    "id": "IaIrkyaF3RsB"
   },
   "outputs": [],
   "source": [
    "## import who_covid.pdf\n"
   ]
  },
  {
   "cell_type": "code",
   "execution_count": null,
   "metadata": {
    "id": "vggux_N7BWnK"
   },
   "outputs": [],
   "source": [
    "##look at it\n"
   ]
  },
  {
   "cell_type": "code",
   "execution_count": null,
   "metadata": {
    "id": "PUpxCYpC_ZsK"
   },
   "outputs": [],
   "source": [
    "## table on page 3\n",
    "\n"
   ]
  },
  {
   "cell_type": "code",
   "execution_count": null,
   "metadata": {
    "id": "gKgCjv3JAMCv"
   },
   "outputs": [],
   "source": [
    "##table on page 4\n"
   ]
  },
  {
   "cell_type": "markdown",
   "metadata": {
    "id": "LYrUcnZ29uGJ"
   },
   "source": [
    "# No Satisfaction Guarantee\n",
    "\n",
    "I know I said that at the beginning. What did I mean by that?\n",
    "\n",
    "The results really depend on the PDF and how it was put together.\n",
    "\n",
    "Here are some issues you will encounter:\n",
    "\n",
    "1. The Tables have too many sub-columns and sub-rows and groupings (bad_table.pdf)\n",
    "\n",
    "2. Multiple different tables on the same page that are too close together will be processed as a single table and be an utter mess.\n",
    "\n",
    "3. Documents and reports that have been scanned and are really images of PDFs can't be processed with Tabula or PyPDF2. Tables on these types of scans require advanced Python and graphical analysis skills beyond the scope of this course."
   ]
  },
  {
   "cell_type": "code",
   "execution_count": null,
   "metadata": {
    "id": "VXnrEkXw9vhA"
   },
   "outputs": [],
   "source": []
  }
 ],
 "metadata": {
  "colab": {
   "collapsed_sections": [],
   "name": "week-9-working-with-PDFs_BLANKS.ipynb",
   "provenance": [
    {
     "file_id": "1G-JATnnWYmbUDisejfkNlWNndJyDunak",
     "timestamp": 1629243241662
    },
    {
     "file_id": "1v0jsZjHBn9_KTLJBKwBX7GdOzIBmqjeJ",
     "timestamp": 1621421029732
    }
   ]
  },
  "kernelspec": {
   "display_name": "Python 3 (ipykernel)",
   "language": "python",
   "name": "python3"
  },
  "language_info": {
   "codemirror_mode": {
    "name": "ipython",
    "version": 3
   },
   "file_extension": ".py",
   "mimetype": "text/x-python",
   "name": "python",
   "nbconvert_exporter": "python",
   "pygments_lexer": "ipython3",
   "version": "3.9.7"
  }
 },
 "nbformat": 4,
 "nbformat_minor": 1
}
