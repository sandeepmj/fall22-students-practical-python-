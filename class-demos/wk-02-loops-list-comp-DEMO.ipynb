{
 "cells": [
  {
   "cell_type": "markdown",
   "metadata": {
    "id": "XI6zto6STb4w"
   },
   "source": [
    "# Week 2 - Controlling the flow and pace of your code"
   ]
  },
  {
   "cell_type": "markdown",
   "metadata": {
    "id": "30sMtwXFTb4x"
   },
   "source": [
    "#### The following play critical roles:  \n",
    "1. Indentation - running blocks of code.\n",
    "2. Time Delays - pacing the speed of our code.\n",
    "3. For Loops - iterating through data\n",
    "4. Data iteration with ```List Comprehension```\n",
    "5. For Loops through multiple but related lists\n"
   ]
  },
  {
   "cell_type": "markdown",
   "metadata": {
    "id": "cIqZt8HlTb4y"
   },
   "source": [
    "## 1. Indentation\n",
    "\n",
    "* Python is unique in requiring indentations.\n",
    "* Indentations signify the start and end of code that belongs together (code blocks).\n",
    "* Without proper indentation, your code won't do what you expect.\n",
    "* Not working as expected? Check if you have indented correctly!"
   ]
  },
  {
   "cell_type": "markdown",
   "metadata": {
    "id": "lSQdSFGnTb4z"
   },
   "source": [
    "### Basic Flow Example: A Counter"
   ]
  },
  {
   "cell_type": "code",
   "execution_count": 10,
   "metadata": {
    "colab": {
     "base_uri": "https://localhost:8080/"
    },
    "executionInfo": {
     "elapsed": 194,
     "status": "ok",
     "timestamp": 1646144402137,
     "user": {
      "displayName": "Sandeep Junnarkar",
      "photoUrl": "https://lh3.googleusercontent.com/a/default-user=s64",
      "userId": "15658885848901522782"
     },
     "user_tz": 300
    },
    "id": "OtxKAi18Tb4z",
    "outputId": "dd1b6585-079f-4177-cb56-48ccfa3bd349"
   },
   "outputs": [
    {
     "name": "stdout",
     "output_type": "stream",
     "text": [
      "The count is 1\n",
      "The count is 2\n",
      "The count is 3\n",
      "The count is 4\n",
      "The count is 5\n",
      "Done counting to 5\n"
     ]
    }
   ],
   "source": [
    "## Using a While loop build a counter that counts from 1 to 5.\n",
    "## Print the counter numbers in statement that reads \"The count is\" whatever the count is.\n",
    "## Once it reaches 5, it should print \"Done counting to 5!\"\n",
    "\n",
    "counter = 0\n",
    "while counter < 5:\n",
    "    counter += 1\n",
    "    print(f\"The count is {counter}\")\n",
    "    \n",
    "#     counter = counter + 1\n",
    "\n",
    "print(\"Done counting to 5\")\n",
    "    \n",
    "\n"
   ]
  },
  {
   "cell_type": "code",
   "execution_count": 11,
   "metadata": {},
   "outputs": [
    {
     "name": "stdout",
     "output_type": "stream",
     "text": [
      "The count is 1\n",
      "The count is 2\n",
      "The count is 3\n",
      "The count is 4\n",
      "The count is 5\n",
      "Done counting to 5\n"
     ]
    }
   ],
   "source": [
    "## the order matters\n",
    "\n",
    "counter = 1\n",
    "while counter <= 5:\n",
    "  print(f\"The count is {counter}\")\n",
    "  # counter = counter + 1\n",
    "  counter+=1\n",
    "print(\"Done counting to 5\")"
   ]
  },
  {
   "cell_type": "markdown",
   "metadata": {
    "id": "T8x4Mm-sTb43"
   },
   "source": [
    "### You just controlled flow using indentation and a while loop.\n",
    "\n",
    "(<a href=\"https://docs.google.com/presentation/d/1ZsrzpQHTXK35pd3io8rwQUX10rBHf1T9iYz_SaqbhQo/edit?usp=sharing\">slides</a>)"
   ]
  },
  {
   "cell_type": "markdown",
   "metadata": {
    "id": "CSS4A88WTb46"
   },
   "source": [
    "## How fast does our code run?"
   ]
  },
  {
   "cell_type": "code",
   "execution_count": 13,
   "metadata": {},
   "outputs": [],
   "source": [
    "## import a package that keeps time\n",
    "import datetime as dt"
   ]
  },
  {
   "cell_type": "code",
   "execution_count": 14,
   "metadata": {
    "colab": {
     "base_uri": "https://localhost:8080/"
    },
    "executionInfo": {
     "elapsed": 358,
     "status": "ok",
     "timestamp": 1646144549423,
     "user": {
      "displayName": "Sandeep Junnarkar",
      "photoUrl": "https://lh3.googleusercontent.com/a/default-user=s64",
      "userId": "15658885848901522782"
     },
     "user_tz": 300
    },
    "id": "K3qzy9sfTb46",
    "outputId": "4ef303c7-dea9-4297-c75a-31303419157a"
   },
   "outputs": [
    {
     "name": "stdout",
     "output_type": "stream",
     "text": [
      "The count is 1 at exactly 2022-09-12 14:31:15.194668\n",
      "The count is 2 at exactly 2022-09-12 14:31:15.195084\n",
      "The count is 3 at exactly 2022-09-12 14:31:15.195163\n",
      "The count is 4 at exactly 2022-09-12 14:31:15.195231\n",
      "The count is 5 at exactly 2022-09-12 14:31:15.195296\n",
      "Done counting to 5\n"
     ]
    }
   ],
   "source": [
    "## loop through with time keeping\n",
    "\n",
    "counter = 1\n",
    "while counter <= 5:\n",
    "    current_time = dt.datetime.now()\n",
    "    print(f\"The count is {counter} at exactly {current_time}\")\n",
    "    counter+=1\n",
    "print(\"Done counting to 5\")"
   ]
  },
  {
   "cell_type": "markdown",
   "metadata": {
    "id": "DeNYDEZjTb49"
   },
   "source": [
    "## 2. Time Delays\n",
    "\n",
    "**Delay timers** are critical when scraping data from websites for several reasons. The **two** most important reasons are:\n",
    "\n",
    "1. Sometimes your scraper clicks on links and must wait for the content to actually populated on the new page. Your script is likely to run faster than a page can load.\n",
    "\n",
    "\n",
    "2. You don't want your scraper to be mistaken for a hostile attack on a server. You have to slow down the scrapes."
   ]
  },
  {
   "cell_type": "markdown",
   "metadata": {
    "id": "-sWBATesTb49"
   },
   "source": [
    "### Step 1 - Import required libraries"
   ]
  },
  {
   "cell_type": "code",
   "execution_count": 15,
   "metadata": {
    "id": "fkP5GwcATb4-"
   },
   "outputs": [],
   "source": [
    "# time is required. we will use its sleep function\n",
    "\n",
    "import time"
   ]
  },
  {
   "cell_type": "markdown",
   "metadata": {
    "id": "HPIFT2o2Tb5A"
   },
   "source": [
    "#### Let's add a 5-second delay:"
   ]
  },
  {
   "cell_type": "code",
   "execution_count": 16,
   "metadata": {
    "colab": {
     "base_uri": "https://localhost:8080/"
    },
    "executionInfo": {
     "elapsed": 25341,
     "status": "ok",
     "timestamp": 1646144820259,
     "user": {
      "displayName": "Sandeep Junnarkar",
      "photoUrl": "https://lh3.googleusercontent.com/a/default-user=s64",
      "userId": "15658885848901522782"
     },
     "user_tz": 300
    },
    "id": "HLACyyEzTb5B",
    "outputId": "2b10c66b-ded1-4fc3-9289-b05c1b38caee",
    "scrolled": false
   },
   "outputs": [
    {
     "name": "stdout",
     "output_type": "stream",
     "text": [
      "The count is 1 at exactly 2022-09-12 14:36:17.735550\n",
      "The count is 2 at exactly 2022-09-12 14:36:22.742287\n",
      "The count is 3 at exactly 2022-09-12 14:36:27.750708\n",
      "The count is 4 at exactly 2022-09-12 14:36:32.755111\n",
      "The count is 5 at exactly 2022-09-12 14:36:37.760052\n",
      "Done counting to 5\n"
     ]
    }
   ],
   "source": [
    "## A DELAY\n",
    "counter = 1\n",
    "while counter <= 5:\n",
    "    current_time = dt.datetime.now()\n",
    "    print(f\"The count is {counter} at exactly {current_time}\")\n",
    "    counter+=1\n",
    "    time.sleep(5)\n",
    "print(\"Done counting to 5\")\n"
   ]
  },
  {
   "cell_type": "markdown",
   "metadata": {
    "id": "l7yf3LbLTb5H"
   },
   "source": [
    "### Randomize\n",
    "\n",
    "Software that tracks traffic to a server might grow suspicious about a hit every nth seconds.\n",
    "\n",
    "Let's **randomize** the time between hits by using ```randint``` from the ```random``` library.\n",
    "\n",
    "\n",
    "You might sometimes see me use ```randrange``` from the ```random``` library: ``` from random import randrange```.\n",
    "\n",
    "#### What's the difference?\n",
    "\n",
    "**Difference 1**\n",
    "\n",
    "```randrange``` is exclusive of the final range value.\n",
    "\n",
    "```randint``` is inclusive of the final range value.\n",
    "\n",
    "**Difference 2**\n",
    "\n",
    "```randrange``` allows you to add a step: ```randrange(start, end, step)```\n",
    "\n",
    "```randint ``` only has start and end: ```randint(start, end)```\n"
   ]
  },
  {
   "cell_type": "code",
   "execution_count": 25,
   "metadata": {
    "colab": {
     "base_uri": "https://localhost:8080/"
    },
    "executionInfo": {
     "elapsed": 20,
     "status": "ok",
     "timestamp": 1646145015974,
     "user": {
      "displayName": "Sandeep Junnarkar",
      "photoUrl": "https://lh3.googleusercontent.com/a/default-user=s64",
      "userId": "15658885848901522782"
     },
     "user_tz": 300
    },
    "id": "mFonByfzTb5I",
    "outputId": "bc51356e-a792-4790-e378-cc50d8a090b7"
   },
   "outputs": [
    {
     "data": {
      "text/plain": [
       "10"
      ]
     },
     "execution_count": 25,
     "metadata": {},
     "output_type": "execute_result"
    }
   ],
   "source": [
    "# import randint necessary library\n",
    "from random import randint\n",
    "randint(1,10)"
   ]
  },
  {
   "cell_type": "code",
   "execution_count": 47,
   "metadata": {
    "colab": {
     "base_uri": "https://localhost:8080/"
    },
    "executionInfo": {
     "elapsed": 151,
     "status": "ok",
     "timestamp": 1646145156870,
     "user": {
      "displayName": "Sandeep Junnarkar",
      "photoUrl": "https://lh3.googleusercontent.com/a/default-user=s64",
      "userId": "15658885848901522782"
     },
     "user_tz": 300
    },
    "id": "U5P0r148Tb5L",
    "outputId": "b79a5084-8a57-424d-f4a0-4853556c3fff"
   },
   "outputs": [
    {
     "data": {
      "text/plain": [
       "4"
      ]
     },
     "execution_count": 47,
     "metadata": {},
     "output_type": "execute_result"
    }
   ],
   "source": [
    "## import RANDRANGE necessary library\n",
    "from random import randrange\n",
    "\n",
    "randrange(1,10,3)"
   ]
  },
  {
   "cell_type": "code",
   "execution_count": 50,
   "metadata": {
    "colab": {
     "base_uri": "https://localhost:8080/"
    },
    "executionInfo": {
     "elapsed": 28172,
     "status": "ok",
     "timestamp": 1646145615979,
     "user": {
      "displayName": "Sandeep Junnarkar",
      "photoUrl": "https://lh3.googleusercontent.com/a/default-user=s64",
      "userId": "15658885848901522782"
     },
     "user_tz": 300
    },
    "id": "neWC6dqZTb5O",
    "outputId": "34d34d8d-0392-4bae-f4dd-115d8afca9bb"
   },
   "outputs": [
    {
     "name": "stdout",
     "output_type": "stream",
     "text": [
      "The count is 1 at exactly 2022-09-12 14:55:02.826655\n",
      "Let's snooze for 8\n",
      "The count is 2 at exactly 2022-09-12 14:55:10.833535\n",
      "Let's snooze for 5\n",
      "The count is 3 at exactly 2022-09-12 14:55:15.839454\n",
      "Let's snooze for 8\n",
      "The count is 4 at exactly 2022-09-12 14:55:23.847413\n",
      "Let's snooze for 8\n",
      "The count is 5 at exactly 2022-09-12 14:55:31.853396\n",
      "Let's snooze for 4\n",
      "Done counting to 5\n"
     ]
    }
   ],
   "source": [
    "# RANDOMIZE THE OUR WAIT TIME\n",
    "counter = 1\n",
    "while counter <= 5:\n",
    "    current_time = dt.datetime.now()\n",
    "    snoozer = randint(3, 9)\n",
    "    print(f\"The count is {counter} at exactly {current_time}\")\n",
    "    counter+=1\n",
    "    print(f\"Let's snooze for {snoozer}\")\n",
    "    time.sleep(snoozer)\n",
    "    \n",
    "print(\"Done counting to 5\")"
   ]
  },
  {
   "cell_type": "markdown",
   "metadata": {
    "id": "0MMmi7k9vvZu"
   },
   "source": [
    "# 3. ```for loops```... a data journalist's favorite Python expression</center>\n",
    "\n",
    "We use it to **iterate** over:\n",
    "* data stored in a list and run some calculation on each value;\n",
    "* a list of URLs and visit each site to scrape data;\n",
    "* data stored in dictionary keys and values and return what you are looking for."
   ]
  },
  {
   "cell_type": "code",
   "execution_count": 60,
   "metadata": {
    "colab": {
     "base_uri": "https://localhost:8080/"
    },
    "executionInfo": {
     "elapsed": 295,
     "status": "ok",
     "timestamp": 1653411177509,
     "user": {
      "displayName": "Sandeep Junnarkar",
      "userId": "15658885848901522782"
     },
     "user_tz": 240
    },
    "id": "VCtbKIAH9QUR",
    "outputId": "a66d34e1-9dcc-45e9-ad54-43740a962524"
   },
   "outputs": [
    {
     "name": "stdout",
     "output_type": "stream",
     "text": [
      "CATS\n",
      "DOGS\n",
      "BIRDS\n",
      "SNAKES\n",
      "HORSES\n"
     ]
    }
   ],
   "source": [
    "## FOR LOOP through this list\n",
    "fav_animals = [\"cats\", \"dogs\", \"birds\", \"snakes\", \"horses\"]\n",
    "\n",
    "for beast in fav_animals:\n",
    "    print(beast.upper())"
   ]
  },
  {
   "cell_type": "code",
   "execution_count": 61,
   "metadata": {},
   "outputs": [
    {
     "data": {
      "text/plain": [
       "['cats', 'dogs', 'birds', 'snakes', 'horses']"
      ]
     },
     "execution_count": 61,
     "metadata": {},
     "output_type": "execute_result"
    }
   ],
   "source": [
    "fav_animals"
   ]
  },
  {
   "cell_type": "code",
   "execution_count": 67,
   "metadata": {},
   "outputs": [
    {
     "name": "stdout",
     "output_type": "stream",
     "text": [
      "['CATS']\n",
      "['CATS', 'DOGS']\n",
      "['CATS', 'DOGS', 'BIRDS']\n",
      "['CATS', 'DOGS', 'BIRDS', 'SNAKES']\n",
      "['CATS', 'DOGS', 'BIRDS', 'SNAKES', 'HORSES']\n"
     ]
    }
   ],
   "source": [
    "## save a new list with uppercased values\n",
    "\n",
    "upper_animals = []\n",
    "for animal in fav_animals:   \n",
    "#     print(type(animal))\n",
    "    animal = animal.upper()\n",
    "    upper_animals.append(animal)\n",
    "    print(upper_animals)"
   ]
  },
  {
   "cell_type": "code",
   "execution_count": 64,
   "metadata": {},
   "outputs": [
    {
     "data": {
      "text/plain": [
       "['CATS', 'DOGS', 'BIRDS', 'SNAKES', 'HORSES']"
      ]
     },
     "execution_count": 64,
     "metadata": {},
     "output_type": "execute_result"
    }
   ],
   "source": [
    "upper_animals"
   ]
  },
  {
   "cell_type": "code",
   "execution_count": 55,
   "metadata": {
    "colab": {
     "base_uri": "https://localhost:8080/",
     "height": 36
    },
    "executionInfo": {
     "elapsed": 342,
     "status": "ok",
     "timestamp": 1653411202107,
     "user": {
      "displayName": "Sandeep Junnarkar",
      "userId": "15658885848901522782"
     },
     "user_tz": 240
    },
    "id": "htMEQ3gf9vGv",
    "outputId": "1beb9d53-d421-475d-f0c5-4d624e3d700a"
   },
   "outputs": [
    {
     "data": {
      "text/plain": [
       "'horses'"
      ]
     },
     "execution_count": 55,
     "metadata": {},
     "output_type": "execute_result"
    }
   ],
   "source": [
    "##call the temporary variable\n",
    "beast"
   ]
  },
  {
   "cell_type": "code",
   "execution_count": 56,
   "metadata": {
    "executionInfo": {
     "elapsed": 272,
     "status": "ok",
     "timestamp": 1653411254202,
     "user": {
      "displayName": "Sandeep Junnarkar",
      "userId": "15658885848901522782"
     },
     "user_tz": 240
    },
    "id": "OmwpXcyY_UXn"
   },
   "outputs": [],
   "source": [
    "## name dog lucy\n",
    "dog = \"lucy\""
   ]
  },
  {
   "cell_type": "code",
   "execution_count": 57,
   "metadata": {
    "colab": {
     "base_uri": "https://localhost:8080/",
     "height": 36
    },
    "executionInfo": {
     "elapsed": 4,
     "status": "ok",
     "timestamp": 1653411264819,
     "user": {
      "displayName": "Sandeep Junnarkar",
      "userId": "15658885848901522782"
     },
     "user_tz": 240
    },
    "id": "lFTaI6NS_ZRx",
    "outputId": "54c5f47a-9b00-4836-ab74-e0e2bd2e3801"
   },
   "outputs": [
    {
     "data": {
      "text/plain": [
       "'LUCY'"
      ]
     },
     "execution_count": 57,
     "metadata": {},
     "output_type": "execute_result"
    }
   ],
   "source": [
    "## you can target an individual item\n",
    "dog.upper()"
   ]
  },
  {
   "cell_type": "code",
   "execution_count": 59,
   "metadata": {},
   "outputs": [
    {
     "data": {
      "text/plain": [
       "str"
      ]
     },
     "execution_count": 59,
     "metadata": {},
     "output_type": "execute_result"
    }
   ],
   "source": [
    "type(dog)"
   ]
  },
  {
   "cell_type": "code",
   "execution_count": 58,
   "metadata": {
    "colab": {
     "base_uri": "https://localhost:8080/"
    },
    "executionInfo": {
     "elapsed": 262,
     "status": "ok",
     "timestamp": 1653411328472,
     "user": {
      "displayName": "Sandeep Junnarkar",
      "userId": "15658885848901522782"
     },
     "user_tz": 240
    },
    "id": "wA68kU1l_dkx",
    "outputId": "ef313752-a438-4bd5-d32c-71dc7a0cccb3"
   },
   "outputs": [
    {
     "ename": "AttributeError",
     "evalue": "'list' object has no attribute 'upper'",
     "output_type": "error",
     "traceback": [
      "\u001b[0;31m---------------------------------------------------------------------------\u001b[0m",
      "\u001b[0;31mAttributeError\u001b[0m                            Traceback (most recent call last)",
      "\u001b[0;32m/var/folders/jg/xjfmqdcj0m1bqs1d7sgv9v480000gp/T/ipykernel_94185/3044303981.py\u001b[0m in \u001b[0;36m<module>\u001b[0;34m\u001b[0m\n\u001b[1;32m      1\u001b[0m \u001b[0;31m## a for loop allows you to target individual items in a list\u001b[0m\u001b[0;34m\u001b[0m\u001b[0;34m\u001b[0m\u001b[0m\n\u001b[0;32m----> 2\u001b[0;31m \u001b[0mfav_animals\u001b[0m\u001b[0;34m.\u001b[0m\u001b[0mupper\u001b[0m\u001b[0;34m(\u001b[0m\u001b[0;34m)\u001b[0m\u001b[0;34m\u001b[0m\u001b[0;34m\u001b[0m\u001b[0m\n\u001b[0m",
      "\u001b[0;31mAttributeError\u001b[0m: 'list' object has no attribute 'upper'"
     ]
    }
   ],
   "source": [
    "## a for loop allows you to target individual items in a list\n",
    "fav_animals.upper()"
   ]
  },
  {
   "cell_type": "code",
   "execution_count": null,
   "metadata": {
    "colab": {
     "base_uri": "https://localhost:8080/",
     "height": 165
    },
    "executionInfo": {
     "elapsed": 197,
     "status": "error",
     "timestamp": 1646147720989,
     "user": {
      "displayName": "Sandeep Junnarkar",
      "photoUrl": "https://lh3.googleusercontent.com/a/default-user=s64",
      "userId": "15658885848901522782"
     },
     "user_tz": 300
    },
    "id": "xEHIoKVJDK6l",
    "outputId": "c686d7c5-1bb0-4f82-c686-cc3889223358"
   },
   "outputs": [],
   "source": [
    "## this will break\n"
   ]
  },
  {
   "cell_type": "markdown",
   "metadata": {
    "id": "mtzDhlNhTb5a"
   },
   "source": [
    "Let's take **For Loops** for test drive:"
   ]
  },
  {
   "cell_type": "code",
   "execution_count": null,
   "metadata": {
    "colab": {
     "base_uri": "https://localhost:8080/"
    },
    "executionInfo": {
     "elapsed": 174,
     "status": "ok",
     "timestamp": 1646146479912,
     "user": {
      "displayName": "Sandeep Junnarkar",
      "photoUrl": "https://lh3.googleusercontent.com/a/default-user=s64",
      "userId": "15658885848901522782"
     },
     "user_tz": 300
    },
    "id": "nUxiCM4ATb5b",
    "outputId": "901b77dc-f6b0-4ce7-9242-a622fbc92355"
   },
   "outputs": [],
   "source": [
    "## RUN THIS CELL - Use this list of CEO salaries from 1985 \n",
    "ceo_salaries_1985 = [150_000, 201_000, 110_000, 75_000, 92_000, 55_000]\n"
   ]
  },
  {
   "cell_type": "code",
   "execution_count": null,
   "metadata": {
    "colab": {
     "base_uri": "https://localhost:8080/"
    },
    "executionInfo": {
     "elapsed": 169,
     "status": "ok",
     "timestamp": 1646146600490,
     "user": {
      "displayName": "Sandeep Junnarkar",
      "photoUrl": "https://lh3.googleusercontent.com/a/default-user=s64",
      "userId": "15658885848901522782"
     },
     "user_tz": 300
    },
    "id": "slKIj6I5Tb5d",
    "outputId": "d02bde0a-f950-4e6d-a5ed-2eb21c075e49"
   },
   "outputs": [],
   "source": [
    "## Print each salary with in the following format:\n",
    "## \"A CEO earned [some value] in 1985.\"\n"
   ]
  },
  {
   "cell_type": "code",
   "execution_count": null,
   "metadata": {
    "colab": {
     "base_uri": "https://localhost:8080/"
    },
    "executionInfo": {
     "elapsed": 167,
     "status": "ok",
     "timestamp": 1646146979546,
     "user": {
      "displayName": "Sandeep Junnarkar",
      "photoUrl": "https://lh3.googleusercontent.com/a/default-user=s64",
      "userId": "15658885848901522782"
     },
     "user_tz": 300
    },
    "id": "of8edS6oTb5f",
    "outputId": "09a6cfa2-d791-4880-f46b-4a448f944ad5"
   },
   "outputs": [],
   "source": [
    "## Now update each salary to 2019 dollars.\n",
    "## Print the following info:\n",
    "## \"A CEO's salary of [1985 salary] in 1985 is worth [updated salary] in 2019 dollars.\"\n",
    "## The CPI for 1985 is 107.6\n",
    "## The 2019 CPI is 255.657\n",
    "## The formula is: updated_salary = (oldSalary/oldCPI) * currentCPI\n",
    "\n"
   ]
  },
  {
   "cell_type": "code",
   "execution_count": null,
   "metadata": {
    "colab": {
     "base_uri": "https://localhost:8080/"
    },
    "executionInfo": {
     "elapsed": 169,
     "status": "ok",
     "timestamp": 1646147665226,
     "user": {
      "displayName": "Sandeep Junnarkar",
      "photoUrl": "https://lh3.googleusercontent.com/a/default-user=s64",
      "userId": "15658885848901522782"
     },
     "user_tz": 300
    },
    "id": "09BnMrVlCf45",
    "outputId": "06b179c4-66be-44a8-c9ec-ebf1794462ad"
   },
   "outputs": [],
   "source": [
    "## add formatting\n"
   ]
  },
  {
   "cell_type": "code",
   "execution_count": null,
   "metadata": {
    "id": "2OrmbbT4An4u"
   },
   "outputs": [],
   "source": [
    "## store the updated values\n",
    "\n"
   ]
  },
  {
   "cell_type": "code",
   "execution_count": null,
   "metadata": {
    "colab": {
     "base_uri": "https://localhost:8080/"
    },
    "executionInfo": {
     "elapsed": 197,
     "status": "ok",
     "timestamp": 1646148692703,
     "user": {
      "displayName": "Sandeep Junnarkar",
      "photoUrl": "https://lh3.googleusercontent.com/a/default-user=s64",
      "userId": "15658885848901522782"
     },
     "user_tz": 300
    },
    "id": "O6Zs7AKSA7II",
    "outputId": "19735637-be92-428e-9960-199c30e3ea52"
   },
   "outputs": [],
   "source": [
    "## call CEO salaries\n"
   ]
  },
  {
   "cell_type": "markdown",
   "metadata": {
    "id": "jT5n6Up0wQbE"
   },
   "source": [
    "## 4. List Comprehension"
   ]
  },
  {
   "cell_type": "code",
   "execution_count": 69,
   "metadata": {
    "colab": {
     "base_uri": "https://localhost:8080/"
    },
    "executionInfo": {
     "elapsed": 318,
     "status": "ok",
     "timestamp": 1646150036647,
     "user": {
      "displayName": "Sandeep Junnarkar",
      "photoUrl": "https://lh3.googleusercontent.com/a/default-user=s64",
      "userId": "15658885848901522782"
     },
     "user_tz": 300
    },
    "id": "ewAafTSZffPi",
    "outputId": "bf150f7c-d4f0-438f-f328-98b369d2d97d"
   },
   "outputs": [
    {
     "data": {
      "text/plain": [
       "[0, 1, 2, 3, 4, 5, 6, 7, 8, 9, 10]"
      ]
     },
     "execution_count": 69,
     "metadata": {},
     "output_type": "execute_result"
    }
   ],
   "source": [
    "## run this list\n",
    "numbers = [0, 1, 2, 3, 4, 5, 6, 7, 8, 9, 10]\n",
    "numbers"
   ]
  },
  {
   "cell_type": "code",
   "execution_count": 72,
   "metadata": {
    "colab": {
     "base_uri": "https://localhost:8080/"
    },
    "executionInfo": {
     "elapsed": 163,
     "status": "ok",
     "timestamp": 1646150219777,
     "user": {
      "displayName": "Sandeep Junnarkar",
      "photoUrl": "https://lh3.googleusercontent.com/a/default-user=s64",
      "userId": "15658885848901522782"
     },
     "user_tz": 300
    },
    "id": "PYQ8RjbGfsT4",
    "outputId": "d6fa8ecd-0a75-432a-ec82-36140efcfdc5"
   },
   "outputs": [
    {
     "data": {
      "text/plain": [
       "[0, 10, 20, 30, 40, 50, 60, 70, 80, 90, 100]"
      ]
     },
     "execution_count": 72,
     "metadata": {},
     "output_type": "execute_result"
    }
   ],
   "source": [
    "## use a FOR LOOP (FL) to create a list that holds the numbers times 10\n",
    "x10_fl = []\n",
    "\n",
    "for number in numbers:\n",
    "#     number = number * 10\n",
    "#     x10_fl.append(number)\n",
    "    x10_fl.append(number * 10)\n",
    "    \n",
    "x10_fl\n",
    "\n",
    "\n",
    "\n"
   ]
  },
  {
   "cell_type": "code",
   "execution_count": 73,
   "metadata": {
    "colab": {
     "base_uri": "https://localhost:8080/"
    },
    "executionInfo": {
     "elapsed": 269,
     "status": "ok",
     "timestamp": 1646150335897,
     "user": {
      "displayName": "Sandeep Junnarkar",
      "photoUrl": "https://lh3.googleusercontent.com/a/default-user=s64",
      "userId": "15658885848901522782"
     },
     "user_tz": 300
    },
    "id": "ZuKI0ebYf1ON",
    "outputId": "0f38a160-4d15-4287-cf72-585f964bd92e"
   },
   "outputs": [
    {
     "data": {
      "text/plain": [
       "[0, 10, 20, 30, 40, 50, 60, 70, 80, 90, 100]"
      ]
     },
     "execution_count": 73,
     "metadata": {},
     "output_type": "execute_result"
    }
   ],
   "source": [
    "## use list comprehension (LC) to create a list that holds the numbers times 10\n",
    "\n",
    "x10_lc = [number * 10 for number in numbers]\n",
    "x10_lc"
   ]
  },
  {
   "cell_type": "markdown",
   "metadata": {},
   "source": [
    "## the zen of python"
   ]
  },
  {
   "cell_type": "code",
   "execution_count": 74,
   "metadata": {
    "id": "urSfhV3_NhCZ"
   },
   "outputs": [
    {
     "name": "stdout",
     "output_type": "stream",
     "text": [
      "The Zen of Python, by Tim Peters\n",
      "\n",
      "Beautiful is better than ugly.\n",
      "Explicit is better than implicit.\n",
      "Simple is better than complex.\n",
      "Complex is better than complicated.\n",
      "Flat is better than nested.\n",
      "Sparse is better than dense.\n",
      "Readability counts.\n",
      "Special cases aren't special enough to break the rules.\n",
      "Although practicality beats purity.\n",
      "Errors should never pass silently.\n",
      "Unless explicitly silenced.\n",
      "In the face of ambiguity, refuse the temptation to guess.\n",
      "There should be one-- and preferably only one --obvious way to do it.\n",
      "Although that way may not be obvious at first unless you're Dutch.\n",
      "Now is better than never.\n",
      "Although never is often better than *right* now.\n",
      "If the implementation is hard to explain, it's a bad idea.\n",
      "If the implementation is easy to explain, it may be a good idea.\n",
      "Namespaces are one honking great idea -- let's do more of those!\n"
     ]
    }
   ],
   "source": [
    "import this"
   ]
  },
  {
   "cell_type": "code",
   "execution_count": 85,
   "metadata": {},
   "outputs": [],
   "source": [
    "## assign x the value 2\n",
    "x = 2"
   ]
  },
  {
   "cell_type": "code",
   "execution_count": 86,
   "metadata": {
    "colab": {
     "base_uri": "https://localhost:8080/"
    },
    "executionInfo": {
     "elapsed": 156,
     "status": "ok",
     "timestamp": 1646150766657,
     "user": {
      "displayName": "Sandeep Junnarkar",
      "photoUrl": "https://lh3.googleusercontent.com/a/default-user=s64",
      "userId": "15658885848901522782"
     },
     "user_tz": 300
    },
    "id": "bBdvPziNOwTB",
    "outputId": "499ab93f-81f7-4345-d54e-d03f879676b3"
   },
   "outputs": [
    {
     "data": {
      "text/plain": [
       "True"
      ]
     },
     "execution_count": 86,
     "metadata": {},
     "output_type": "execute_result"
    }
   ],
   "source": [
    "## check for equality of 2\n",
    "x == 2"
   ]
  },
  {
   "cell_type": "code",
   "execution_count": 87,
   "metadata": {},
   "outputs": [
    {
     "data": {
      "text/plain": [
       "False"
      ]
     },
     "execution_count": 87,
     "metadata": {},
     "output_type": "execute_result"
    }
   ],
   "source": [
    "## check for equality of 3\n",
    "x == 3\n"
   ]
  },
  {
   "cell_type": "code",
   "execution_count": 88,
   "metadata": {},
   "outputs": [
    {
     "data": {
      "text/plain": [
       "False"
      ]
     },
     "execution_count": 88,
     "metadata": {},
     "output_type": "execute_result"
    }
   ],
   "source": [
    "x != 2"
   ]
  },
  {
   "cell_type": "markdown",
   "metadata": {},
   "source": [
    "## Modulo Operator\n",
    "\n",
    "The ```%``` is also known as the ```modulo operator``` in Python.\n",
    "\n",
    "The expression ```10 % 2``` means if you devide 10 by 2, what is the remainder?\n"
   ]
  },
  {
   "cell_type": "code",
   "execution_count": 89,
   "metadata": {},
   "outputs": [
    {
     "data": {
      "text/plain": [
       "0"
      ]
     },
     "execution_count": 89,
     "metadata": {},
     "output_type": "execute_result"
    }
   ],
   "source": [
    "### try it\n",
    "10 % 2\n"
   ]
  },
  {
   "cell_type": "code",
   "execution_count": 90,
   "metadata": {
    "colab": {
     "base_uri": "https://localhost:8080/"
    },
    "executionInfo": {
     "elapsed": 252,
     "status": "ok",
     "timestamp": 1646150834011,
     "user": {
      "displayName": "Sandeep Junnarkar",
      "photoUrl": "https://lh3.googleusercontent.com/a/default-user=s64",
      "userId": "15658885848901522782"
     },
     "user_tz": 300
    },
    "id": "-_p7BU73O8Nj",
    "outputId": "7e3b37b3-5a29-4e34-d363-d6e520148039"
   },
   "outputs": [
    {
     "data": {
      "text/plain": [
       "1"
      ]
     },
     "execution_count": 90,
     "metadata": {},
     "output_type": "execute_result"
    }
   ],
   "source": [
    "## try 13 divided by 2\n",
    "13% 2"
   ]
  },
  {
   "cell_type": "code",
   "execution_count": 91,
   "metadata": {},
   "outputs": [
    {
     "data": {
      "text/plain": [
       "[0, 1, 2, 3, 4, 5, 6, 7, 8, 9, 10]"
      ]
     },
     "execution_count": 91,
     "metadata": {},
     "output_type": "execute_result"
    }
   ],
   "source": [
    "## call our number list again\n",
    "\n",
    "numbers"
   ]
  },
  {
   "cell_type": "code",
   "execution_count": 94,
   "metadata": {
    "colab": {
     "base_uri": "https://localhost:8080/"
    },
    "executionInfo": {
     "elapsed": 380,
     "status": "ok",
     "timestamp": 1646150869735,
     "user": {
      "displayName": "Sandeep Junnarkar",
      "photoUrl": "https://lh3.googleusercontent.com/a/default-user=s64",
      "userId": "15658885848901522782"
     },
     "user_tz": 300
    },
    "id": "R9EJBM96gBWy",
    "outputId": "fcc10778-0196-4d5a-8ae5-fee31ae09a53"
   },
   "outputs": [
    {
     "data": {
      "text/plain": [
       "[0, 2, 4, 6, 8, 10]"
      ]
     },
     "execution_count": 94,
     "metadata": {},
     "output_type": "execute_result"
    }
   ],
   "source": [
    "## use LC to create a list that holds only the even numbers \n",
    "even_lc = [number for number in numbers if number % 2 == 0 ]\n",
    "even_lc"
   ]
  },
  {
   "cell_type": "code",
   "execution_count": 96,
   "metadata": {
    "colab": {
     "base_uri": "https://localhost:8080/"
    },
    "executionInfo": {
     "elapsed": 221,
     "status": "ok",
     "timestamp": 1646151168648,
     "user": {
      "displayName": "Sandeep Junnarkar",
      "photoUrl": "https://lh3.googleusercontent.com/a/default-user=s64",
      "userId": "15658885848901522782"
     },
     "user_tz": 300
    },
    "id": "23TpWeMAgLOX",
    "outputId": "82c1b481-7ae9-4ed5-841a-0cc346b72575"
   },
   "outputs": [
    {
     "data": {
      "text/plain": [
       "[10, 30, 50, 70, 90]"
      ]
     },
     "execution_count": 96,
     "metadata": {},
     "output_type": "execute_result"
    }
   ],
   "source": [
    "## use LC to create a list that holds only the odd numbers \n",
    "\n",
    "odd_lc = [number * 10 for number in numbers if number % 2 !=0]\n",
    "odd_lc"
   ]
  },
  {
   "cell_type": "code",
   "execution_count": 97,
   "metadata": {},
   "outputs": [
    {
     "data": {
      "text/plain": [
       "[True, False, True, False, True, False, True, False, True, False, True]"
      ]
     },
     "execution_count": 97,
     "metadata": {},
     "output_type": "execute_result"
    }
   ],
   "source": [
    "# use LC to express as true or false\n",
    "\n",
    "truthiness = [number % 2 == 0 for number in numbers]\n",
    "truthiness"
   ]
  },
  {
   "cell_type": "markdown",
   "metadata": {
    "id": "Ha01uz9JTb5h"
   },
   "source": [
    "## 5. For Loops through multiple but related lists\n",
    "\n",
    "When we scrape data from a website, we pull down various data points (income, name, location, id code, etc.) and store each into its own separate list.\n",
    "\n",
    "A final step is to always group data points from each observation together. For example:\n",
    "\n",
    "- \"Sandeep Junnarkar\"\n",
    "- \"Professor\"\n",
    "- \"Male\"\n",
    "- \"CUNY\"\n",
    "\n"
   ]
  },
  {
   "cell_type": "markdown",
   "metadata": {
    "id": "0QxLIvTmTb5k"
   },
   "source": [
    "### Two ways to ```zip()``` these lists together\n",
    "\n",
    "But first let's explore the zip function:\n",
    "\n",
    "\n"
   ]
  },
  {
   "cell_type": "code",
   "execution_count": 98,
   "metadata": {
    "id": "2PRA8LoaTb5i"
   },
   "outputs": [],
   "source": [
    "##  RUN THIS CELL - \n",
    "## Here we have a list of CEOs and their relevant data points.\n",
    "first_names = [\"Irene\", \"Ursula\", \"Elon\", \"Tim\"]\n",
    "last_names = [\"Rosenfeld\", \"Burns\", \"Musk\", \"Cook\"]\n",
    "titles = [\"Chairman and CEO\", \"Chairman and CEO\", \"CEO\", \"CEO\"]\n",
    "companies = [\"Kraft Foods\", \"Xerox\", \"Tesla\", \"Apple\"]\n",
    "industries = [\"Food and Beverage\", \"Process and Document Management\", \"Auto Manufacturing\", \"Consumer Technology\"]"
   ]
  },
  {
   "cell_type": "code",
   "execution_count": 104,
   "metadata": {
    "colab": {
     "base_uri": "https://localhost:8080/"
    },
    "executionInfo": {
     "elapsed": 202,
     "status": "ok",
     "timestamp": 1646148934944,
     "user": {
      "displayName": "Sandeep Junnarkar",
      "photoUrl": "https://lh3.googleusercontent.com/a/default-user=s64",
      "userId": "15658885848901522782"
     },
     "user_tz": 300
    },
    "id": "cQeH1oC8Tb5k",
    "outputId": "cc185387-47b1-46b1-abbf-fe448cbdd655"
   },
   "outputs": [
    {
     "name": "stdout",
     "output_type": "stream",
     "text": [
      "Irene Rosenfeld: Chairman and CEO, Kraft Foods, Food and Beverage\n",
      "Ursula Burns: Chairman and CEO, Xerox, Process and Document Management\n",
      "Elon Musk: CEO, Tesla, Auto Manufacturing\n",
      "Tim Cook: CEO, Apple, Consumer Technology\n"
     ]
    }
   ],
   "source": [
    "## with zip\n",
    "## also print what each type of data is.\n",
    "\n",
    "for (f_name, l_name, role, co, sector)\\\n",
    "in zip(first_names, last_names, titles, companies, industries):\n",
    "    print(f\"{f_name} {l_name}: {role}, {co}, {sector}\")"
   ]
  },
  {
   "cell_type": "markdown",
   "metadata": {},
   "source": [
    "### Method 1 – Zip lists into dictionaries"
   ]
  },
  {
   "cell_type": "code",
   "execution_count": 109,
   "metadata": {},
   "outputs": [],
   "source": [
    "## declare empty list and for loop zip\n",
    "method_1 = []\n",
    "\n",
    "## for loop:\n",
    "for (f_name, l_name, role, co, sector)\\\n",
    "in zip(first_names, last_names, titles, companies, industries):\n",
    "    method_1.append({\n",
    "        \"first_name\": f_name,\n",
    "        \"last_name\": l_name,\n",
    "        \"title\": role,\n",
    "        \"company\": co,\n",
    "        \"Industry\": sector\n",
    "    })\n",
    "\n"
   ]
  },
  {
   "cell_type": "code",
   "execution_count": 110,
   "metadata": {},
   "outputs": [
    {
     "data": {
      "text/plain": [
       "'Tim'"
      ]
     },
     "execution_count": 110,
     "metadata": {},
     "output_type": "execute_result"
    }
   ],
   "source": [
    "f_name"
   ]
  },
  {
   "cell_type": "code",
   "execution_count": 106,
   "metadata": {},
   "outputs": [
    {
     "data": {
      "text/plain": [
       "[{'first_name': 'Irene',\n",
       "  'last_name': 'Rosenfeld',\n",
       "  'title': 'Chairman and CEO',\n",
       "  'company': 'Kraft Foods',\n",
       "  'Industry': 'Food and Beverage'},\n",
       " {'first_name': 'Ursula',\n",
       "  'last_name': 'Burns',\n",
       "  'title': 'Chairman and CEO',\n",
       "  'company': 'Xerox',\n",
       "  'Industry': 'Process and Document Management'},\n",
       " {'first_name': 'Elon',\n",
       "  'last_name': 'Musk',\n",
       "  'title': 'CEO',\n",
       "  'company': 'Tesla',\n",
       "  'Industry': 'Auto Manufacturing'},\n",
       " {'first_name': 'Tim',\n",
       "  'last_name': 'Cook',\n",
       "  'title': 'CEO',\n",
       "  'company': 'Apple',\n",
       "  'Industry': 'Consumer Technology'}]"
      ]
     },
     "execution_count": 106,
     "metadata": {},
     "output_type": "execute_result"
    }
   ],
   "source": [
    "## call the method_1 list\n",
    "method_1"
   ]
  },
  {
   "cell_type": "markdown",
   "metadata": {
    "id": "UFu35-VLMVOD"
   },
   "source": [
    "## List of Dictionaries to Dataframes\n",
    "\n",
    "Recall that a list of dictionaries are like columns and rows in a csv"
   ]
  },
  {
   "cell_type": "code",
   "execution_count": 107,
   "metadata": {},
   "outputs": [],
   "source": [
    "## import pandas\n",
    "\n",
    "import pandas as pd"
   ]
  },
  {
   "cell_type": "code",
   "execution_count": 108,
   "metadata": {},
   "outputs": [
    {
     "data": {
      "text/html": [
       "<div>\n",
       "<style scoped>\n",
       "    .dataframe tbody tr th:only-of-type {\n",
       "        vertical-align: middle;\n",
       "    }\n",
       "\n",
       "    .dataframe tbody tr th {\n",
       "        vertical-align: top;\n",
       "    }\n",
       "\n",
       "    .dataframe thead th {\n",
       "        text-align: right;\n",
       "    }\n",
       "</style>\n",
       "<table border=\"1\" class=\"dataframe\">\n",
       "  <thead>\n",
       "    <tr style=\"text-align: right;\">\n",
       "      <th></th>\n",
       "      <th>first_name</th>\n",
       "      <th>last_name</th>\n",
       "      <th>title</th>\n",
       "      <th>company</th>\n",
       "      <th>Industry</th>\n",
       "    </tr>\n",
       "  </thead>\n",
       "  <tbody>\n",
       "    <tr>\n",
       "      <th>0</th>\n",
       "      <td>Irene</td>\n",
       "      <td>Rosenfeld</td>\n",
       "      <td>Chairman and CEO</td>\n",
       "      <td>Kraft Foods</td>\n",
       "      <td>Food and Beverage</td>\n",
       "    </tr>\n",
       "    <tr>\n",
       "      <th>1</th>\n",
       "      <td>Ursula</td>\n",
       "      <td>Burns</td>\n",
       "      <td>Chairman and CEO</td>\n",
       "      <td>Xerox</td>\n",
       "      <td>Process and Document Management</td>\n",
       "    </tr>\n",
       "    <tr>\n",
       "      <th>2</th>\n",
       "      <td>Elon</td>\n",
       "      <td>Musk</td>\n",
       "      <td>CEO</td>\n",
       "      <td>Tesla</td>\n",
       "      <td>Auto Manufacturing</td>\n",
       "    </tr>\n",
       "    <tr>\n",
       "      <th>3</th>\n",
       "      <td>Tim</td>\n",
       "      <td>Cook</td>\n",
       "      <td>CEO</td>\n",
       "      <td>Apple</td>\n",
       "      <td>Consumer Technology</td>\n",
       "    </tr>\n",
       "  </tbody>\n",
       "</table>\n",
       "</div>"
      ],
      "text/plain": [
       "  first_name  last_name             title      company  \\\n",
       "0      Irene  Rosenfeld  Chairman and CEO  Kraft Foods   \n",
       "1     Ursula      Burns  Chairman and CEO        Xerox   \n",
       "2       Elon       Musk               CEO        Tesla   \n",
       "3        Tim       Cook               CEO        Apple   \n",
       "\n",
       "                          Industry  \n",
       "0                Food and Beverage  \n",
       "1  Process and Document Management  \n",
       "2               Auto Manufacturing  \n",
       "3              Consumer Technology  "
      ]
     },
     "execution_count": 108,
     "metadata": {},
     "output_type": "execute_result"
    }
   ],
   "source": [
    "## Turn list into a dataframe\n",
    "\n",
    "df = pd.DataFrame(method_1)\n",
    "df"
   ]
  },
  {
   "cell_type": "code",
   "execution_count": 111,
   "metadata": {},
   "outputs": [],
   "source": [
    "## export as csv\n",
    "\n",
    "df.to_csv(\"method_1.csv\", encoding = \"UTF-8\", index = False)"
   ]
  },
  {
   "cell_type": "markdown",
   "metadata": {},
   "source": [
    "### One more datatype: ```tuple```:\n",
    "\n",
    "- Create a ```tuple``` by using parentheses.\n",
    "- It's just like a list but can not be changed once it is assigned a value(s).\n",
    "- You can call items in a ```tuple``` using slicing."
   ]
  },
  {
   "cell_type": "code",
   "execution_count": 112,
   "metadata": {},
   "outputs": [],
   "source": [
    "## create a tuple\n",
    "\n",
    "grades = (95, 25, 30)"
   ]
  },
  {
   "cell_type": "code",
   "execution_count": 113,
   "metadata": {},
   "outputs": [
    {
     "data": {
      "text/plain": [
       "(95, 25, 30)"
      ]
     },
     "execution_count": 113,
     "metadata": {},
     "output_type": "execute_result"
    }
   ],
   "source": [
    "## call the tuple\n",
    "grades"
   ]
  },
  {
   "cell_type": "code",
   "execution_count": 114,
   "metadata": {},
   "outputs": [
    {
     "data": {
      "text/plain": [
       "tuple"
      ]
     },
     "execution_count": 114,
     "metadata": {},
     "output_type": "execute_result"
    }
   ],
   "source": [
    "## confirm data type\n",
    "\n",
    "type(grades)"
   ]
  },
  {
   "cell_type": "code",
   "execution_count": 115,
   "metadata": {},
   "outputs": [
    {
     "data": {
      "text/plain": [
       "95"
      ]
     },
     "execution_count": 115,
     "metadata": {},
     "output_type": "execute_result"
    }
   ],
   "source": [
    "## call the first item in our tuple\n",
    "grades[0]"
   ]
  },
  {
   "cell_type": "code",
   "execution_count": 116,
   "metadata": {},
   "outputs": [
    {
     "ename": "AttributeError",
     "evalue": "'tuple' object has no attribute 'append'",
     "output_type": "error",
     "traceback": [
      "\u001b[0;31m---------------------------------------------------------------------------\u001b[0m",
      "\u001b[0;31mAttributeError\u001b[0m                            Traceback (most recent call last)",
      "\u001b[0;32m/var/folders/jg/xjfmqdcj0m1bqs1d7sgv9v480000gp/T/ipykernel_94185/2505750931.py\u001b[0m in \u001b[0;36m<module>\u001b[0;34m\u001b[0m\n\u001b[1;32m      1\u001b[0m \u001b[0;31m## append a grade of 100 to the grades tuple\u001b[0m\u001b[0;34m\u001b[0m\u001b[0;34m\u001b[0m\u001b[0m\n\u001b[1;32m      2\u001b[0m \u001b[0;31m## this will break\u001b[0m\u001b[0;34m\u001b[0m\u001b[0;34m\u001b[0m\u001b[0m\n\u001b[0;32m----> 3\u001b[0;31m \u001b[0mgrades\u001b[0m\u001b[0;34m.\u001b[0m\u001b[0mappend\u001b[0m\u001b[0;34m(\u001b[0m\u001b[0;36m100\u001b[0m\u001b[0;34m)\u001b[0m\u001b[0;34m\u001b[0m\u001b[0;34m\u001b[0m\u001b[0m\n\u001b[0m",
      "\u001b[0;31mAttributeError\u001b[0m: 'tuple' object has no attribute 'append'"
     ]
    }
   ],
   "source": [
    "## append a grade of 100 to the grades tuple\n",
    "## this will break\n",
    "grades.append(100)\n"
   ]
  },
  {
   "cell_type": "code",
   "execution_count": 117,
   "metadata": {},
   "outputs": [
    {
     "data": {
      "text/plain": [
       "(95, 25, 30, 100)"
      ]
     },
     "execution_count": 117,
     "metadata": {},
     "output_type": "execute_result"
    }
   ],
   "source": [
    "## only way to add to a tuple is to create a new tuple\n",
    "## append a grade of 100 to the grades tuple\n",
    "\n",
    "updated_grade = grades + (100, )\n",
    "updated_grade"
   ]
  },
  {
   "cell_type": "markdown",
   "metadata": {},
   "source": [
    "I don't use ```tuples``` too often except in one situation – they provide a shortcut to turning items in a list into a dataframe."
   ]
  },
  {
   "cell_type": "markdown",
   "metadata": {},
   "source": [
    "## Method 2 – Zip into tuple"
   ]
  },
  {
   "cell_type": "code",
   "execution_count": 118,
   "metadata": {},
   "outputs": [
    {
     "name": "stdout",
     "output_type": "stream",
     "text": [
      "Irene Rosenfeld; Chairman and CEO, Kraft Foods, Food and Beverage\n",
      "Ursula Burns; Chairman and CEO, Xerox, Process and Document Management\n",
      "Elon Musk; CEO, Tesla, Auto Manufacturing\n",
      "Tim Cook; CEO, Apple, Consumer Technology\n"
     ]
    }
   ],
   "source": [
    "## recall we named each item in the for\n",
    "\n",
    "for (f_name, l_name, title, co, sector)\\\n",
    "in zip(first_names, last_names, titles, companies, industries):\n",
    "  print(f\"{f_name} {l_name}; {title}, {co}, {sector}\")"
   ]
  },
  {
   "cell_type": "code",
   "execution_count": 120,
   "metadata": {
    "colab": {
     "base_uri": "https://localhost:8080/"
    },
    "executionInfo": {
     "elapsed": 263,
     "status": "ok",
     "timestamp": 1646149158299,
     "user": {
      "displayName": "Sandeep Junnarkar",
      "photoUrl": "https://lh3.googleusercontent.com/a/default-user=s64",
      "userId": "15658885848901522782"
     },
     "user_tz": 300
    },
    "id": "tSDiz6mdNQM2",
    "outputId": "77712e03-e3cb-4f50-9a81-2a29d3afe982"
   },
   "outputs": [
    {
     "name": "stdout",
     "output_type": "stream",
     "text": [
      "('Irene', 'Rosenfeld', 'Chairman and CEO', 'Kraft Foods', 'Food and Beverage')\n",
      "('Ursula', 'Burns', 'Chairman and CEO', 'Xerox', 'Process and Document Management')\n",
      "('Elon', 'Musk', 'CEO', 'Tesla', 'Auto Manufacturing')\n",
      "('Tim', 'Cook', 'CEO', 'Apple', 'Consumer Technology')\n"
     ]
    }
   ],
   "source": [
    "## zip it and print\n",
    "\n",
    "for x in zip(first_names, last_names, titles, companies, industries):\n",
    "    print(x)"
   ]
  },
  {
   "cell_type": "code",
   "execution_count": 122,
   "metadata": {},
   "outputs": [
    {
     "data": {
      "text/plain": [
       "('Tim', 'Cook', 'CEO', 'Apple', 'Consumer Technology')"
      ]
     },
     "execution_count": 122,
     "metadata": {},
     "output_type": "execute_result"
    }
   ],
   "source": [
    "x"
   ]
  },
  {
   "cell_type": "code",
   "execution_count": 123,
   "metadata": {},
   "outputs": [],
   "source": [
    "## we need to store into a list called method_2\n",
    "method_2 = []\n",
    "for item in zip(first_names, last_names, titles, companies, industries):\n",
    "    method_2.append(item)"
   ]
  },
  {
   "cell_type": "code",
   "execution_count": 124,
   "metadata": {
    "colab": {
     "base_uri": "https://localhost:8080/"
    },
    "executionInfo": {
     "elapsed": 189,
     "status": "ok",
     "timestamp": 1646149170143,
     "user": {
      "displayName": "Sandeep Junnarkar",
      "photoUrl": "https://lh3.googleusercontent.com/a/default-user=s64",
      "userId": "15658885848901522782"
     },
     "user_tz": 300
    },
    "id": "8Q5tIszxItUK",
    "outputId": "660b5749-0210-42df-eb41-3fd5623c9e24"
   },
   "outputs": [
    {
     "data": {
      "text/plain": [
       "[('Irene',\n",
       "  'Rosenfeld',\n",
       "  'Chairman and CEO',\n",
       "  'Kraft Foods',\n",
       "  'Food and Beverage'),\n",
       " ('Ursula',\n",
       "  'Burns',\n",
       "  'Chairman and CEO',\n",
       "  'Xerox',\n",
       "  'Process and Document Management'),\n",
       " ('Elon', 'Musk', 'CEO', 'Tesla', 'Auto Manufacturing'),\n",
       " ('Tim', 'Cook', 'CEO', 'Apple', 'Consumer Technology')]"
      ]
     },
     "execution_count": 124,
     "metadata": {},
     "output_type": "execute_result"
    }
   ],
   "source": [
    "## call method 2\n",
    "method_2"
   ]
  },
  {
   "cell_type": "code",
   "execution_count": 125,
   "metadata": {},
   "outputs": [
    {
     "data": {
      "text/plain": [
       "tuple"
      ]
     },
     "execution_count": 125,
     "metadata": {},
     "output_type": "execute_result"
    }
   ],
   "source": [
    "## what type of data set does this list hold?\n",
    "type(method_2[0])"
   ]
  },
  {
   "cell_type": "code",
   "execution_count": 127,
   "metadata": {
    "colab": {
     "base_uri": "https://localhost:8080/",
     "height": 174
    },
    "executionInfo": {
     "elapsed": 196,
     "status": "ok",
     "timestamp": 1646149289298,
     "user": {
      "displayName": "Sandeep Junnarkar",
      "photoUrl": "https://lh3.googleusercontent.com/a/default-user=s64",
      "userId": "15658885848901522782"
     },
     "user_tz": 300
    },
    "id": "_O9ino76NaD8",
    "outputId": "7952ee45-165a-4915-961e-ad065584d1be"
   },
   "outputs": [],
   "source": [
    "## export to a pandas dataframe\n",
    "df = pd.DataFrame(method_2)\n",
    "## name the columns\n",
    "df.columns = [\"first\", \"last\", \"title\", \"company\", \"industry\"]"
   ]
  },
  {
   "cell_type": "code",
   "execution_count": 128,
   "metadata": {},
   "outputs": [
    {
     "data": {
      "text/html": [
       "<div>\n",
       "<style scoped>\n",
       "    .dataframe tbody tr th:only-of-type {\n",
       "        vertical-align: middle;\n",
       "    }\n",
       "\n",
       "    .dataframe tbody tr th {\n",
       "        vertical-align: top;\n",
       "    }\n",
       "\n",
       "    .dataframe thead th {\n",
       "        text-align: right;\n",
       "    }\n",
       "</style>\n",
       "<table border=\"1\" class=\"dataframe\">\n",
       "  <thead>\n",
       "    <tr style=\"text-align: right;\">\n",
       "      <th></th>\n",
       "      <th>first</th>\n",
       "      <th>last</th>\n",
       "      <th>title</th>\n",
       "      <th>company</th>\n",
       "      <th>industry</th>\n",
       "    </tr>\n",
       "  </thead>\n",
       "  <tbody>\n",
       "    <tr>\n",
       "      <th>0</th>\n",
       "      <td>Irene</td>\n",
       "      <td>Rosenfeld</td>\n",
       "      <td>Chairman and CEO</td>\n",
       "      <td>Kraft Foods</td>\n",
       "      <td>Food and Beverage</td>\n",
       "    </tr>\n",
       "    <tr>\n",
       "      <th>1</th>\n",
       "      <td>Ursula</td>\n",
       "      <td>Burns</td>\n",
       "      <td>Chairman and CEO</td>\n",
       "      <td>Xerox</td>\n",
       "      <td>Process and Document Management</td>\n",
       "    </tr>\n",
       "    <tr>\n",
       "      <th>2</th>\n",
       "      <td>Elon</td>\n",
       "      <td>Musk</td>\n",
       "      <td>CEO</td>\n",
       "      <td>Tesla</td>\n",
       "      <td>Auto Manufacturing</td>\n",
       "    </tr>\n",
       "    <tr>\n",
       "      <th>3</th>\n",
       "      <td>Tim</td>\n",
       "      <td>Cook</td>\n",
       "      <td>CEO</td>\n",
       "      <td>Apple</td>\n",
       "      <td>Consumer Technology</td>\n",
       "    </tr>\n",
       "  </tbody>\n",
       "</table>\n",
       "</div>"
      ],
      "text/plain": [
       "    first       last             title      company  \\\n",
       "0   Irene  Rosenfeld  Chairman and CEO  Kraft Foods   \n",
       "1  Ursula      Burns  Chairman and CEO        Xerox   \n",
       "2    Elon       Musk               CEO        Tesla   \n",
       "3     Tim       Cook               CEO        Apple   \n",
       "\n",
       "                          industry  \n",
       "0                Food and Beverage  \n",
       "1  Process and Document Management  \n",
       "2               Auto Manufacturing  \n",
       "3              Consumer Technology  "
      ]
     },
     "execution_count": 128,
     "metadata": {},
     "output_type": "execute_result"
    }
   ],
   "source": [
    "df"
   ]
  },
  {
   "cell_type": "code",
   "execution_count": 130,
   "metadata": {
    "id": "0Cd61WpFOOsW"
   },
   "outputs": [],
   "source": [
    "## export to a csv\n",
    "df.to_csv(\"method_2.csv\", encoding = \"UTF-8\", index = False)"
   ]
  },
  {
   "cell_type": "code",
   "execution_count": null,
   "metadata": {},
   "outputs": [],
   "source": []
  }
 ],
 "metadata": {
  "celltoolbar": "Slideshow",
  "colab": {
   "collapsed_sections": [
    "T8x4Mm-sTb43",
    "T6xApuSYTb5U"
   ],
   "name": "week-2-loops-list-comprehension-DEMO.ipynb",
   "provenance": [
    {
     "file_id": "1Nk6T3S4k1zH52s3eHzo4i1Yxx-iD6UjE",
     "timestamp": 1646140841906
    },
    {
     "file_id": "1cw5emV9TDdgVqq2HhYPppUKFYLobtPVC",
     "timestamp": 1642538656229
    },
    {
     "file_id": "1DhXxhMrJcwYydB2VNDAPReeAni-DDDHS",
     "timestamp": 1624385199338
    }
   ]
  },
  "kernelspec": {
   "display_name": "Python 3 (ipykernel)",
   "language": "python",
   "name": "python3"
  },
  "language_info": {
   "codemirror_mode": {
    "name": "ipython",
    "version": 3
   },
   "file_extension": ".py",
   "mimetype": "text/x-python",
   "name": "python",
   "nbconvert_exporter": "python",
   "pygments_lexer": "ipython3",
   "version": "3.9.7"
  }
 },
 "nbformat": 4,
 "nbformat_minor": 1
}
