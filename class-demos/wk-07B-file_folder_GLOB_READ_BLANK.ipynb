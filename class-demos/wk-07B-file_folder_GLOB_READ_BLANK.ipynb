{
 "cells": [
  {
   "cell_type": "markdown",
   "metadata": {
    "id": "GZacCx2Yzims"
   },
   "source": [
    "# Files and Folder using Python \n",
    "\n",
    "#### As we create and tap files for analysis, we need to stay organized programmatically.\n",
    "\n",
    "- Let's understand Google Colab storage structure and how we access files.\n",
    "\n",
    "\n",
    "- [Download the sample files](https://drive.google.com/file/d/1SyCRPxwF6svHUvBdNqmoLr6mmloaWcMd/view?usp=sharing) we will need."
   ]
  },
  {
   "cell_type": "code",
   "execution_count": null,
   "metadata": {
    "id": "w7tpVnQ7zimy"
   },
   "outputs": [],
   "source": [
    "## import libraries\n",
    "from google.colab import files ## code for downloading in google colab\n",
    "import glob ## import the glob library for collecting specific files into a list\n"
   ]
  },
  {
   "cell_type": "markdown",
   "metadata": {
    "id": "7a2PAZPx8Lhy"
   },
   "source": [
    "# Importing files\n",
    "\n",
    "We can use an import library specific to Colab\n",
    "\n",
    "## *WARNING*: These are temporary uploads. When you restart, you need to reupload.\n",
    "\n",
    "```from google.colab import files```\n",
    "\n",
    "```files.upload()```"
   ]
  },
  {
   "cell_type": "markdown",
   "metadata": {
    "id": "ipp6BN0J8VY3"
   },
   "source": [
    "Let's confirm where we are:"
   ]
  },
  {
   "cell_type": "code",
   "execution_count": null,
   "metadata": {
    "id": "ospeh1Jj8bEm"
   },
   "outputs": [],
   "source": [
    "## UPLOAD FILE\n"
   ]
  },
  {
   "cell_type": "markdown",
   "metadata": {
    "id": "4GnU7N2f8rYk"
   },
   "source": [
    "### Let's see if it uploaded"
   ]
  },
  {
   "cell_type": "code",
   "execution_count": null,
   "metadata": {
    "id": "uNygGTPBzim0"
   },
   "outputs": [],
   "source": []
  },
  {
   "cell_type": "markdown",
   "metadata": {
    "id": "SUcjWF1C6smw"
   },
   "source": [
    "# glob\n",
    "\n",
    "## Yes, glob.\n",
    "\n",
    "glob is a UNIX-based library for collecting specific files into a list."
   ]
  },
  {
   "cell_type": "markdown",
   "metadata": {
    "id": "FXHzRAoy7RKU"
   },
   "source": [
    "## Using a path\n",
    "\n",
    "We can store our path structure to a variable.\n",
    "\n",
    "Right-click on the folder in the left column and copy path:\n",
    "```/content/sample_data```\n",
    "\n",
    "This is the raw path. We are already in ```content``` so instead we want:\n",
    "```sample_data``` plus what files we are looking for (let's say all csv files)."
   ]
  },
  {
   "cell_type": "code",
   "execution_count": null,
   "metadata": {
    "id": "0qpyzNeK7W7t"
   },
   "outputs": [],
   "source": [
    "## grab only the csv files\n"
   ]
  },
  {
   "cell_type": "code",
   "execution_count": null,
   "metadata": {
    "id": "enzXUX0yv30r"
   },
   "outputs": [],
   "source": []
  },
  {
   "cell_type": "code",
   "execution_count": null,
   "metadata": {
    "id": "rHeM5DZ0v5fi"
   },
   "outputs": [],
   "source": []
  },
  {
   "cell_type": "code",
   "execution_count": null,
   "metadata": {
    "id": "Rxd0gr-76yy9"
   },
   "outputs": [],
   "source": [
    "## grab all the files! \n"
   ]
  },
  {
   "cell_type": "code",
   "execution_count": null,
   "metadata": {
    "id": "OTU7NuBc6959"
   },
   "outputs": [],
   "source": [
    "## grab only the .md file(s)\n",
    "\n"
   ]
  },
  {
   "cell_type": "markdown",
   "metadata": {
    "id": "lQcVWJMKAY_1"
   },
   "source": [
    "# Start reading files"
   ]
  },
  {
   "cell_type": "code",
   "execution_count": null,
   "metadata": {
    "id": "Q4f89xC1ATiq"
   },
   "outputs": [],
   "source": [
    "## create a text wrapper object by \"reading\" the 'read_sample1.txt' file\n",
    "## remember we are already in the test folder\n"
   ]
  },
  {
   "cell_type": "markdown",
   "metadata": {
    "id": "CcVEX9mbAf-P"
   },
   "source": [
    "## We can interpret this ```<class '_io.TextIOWrapper'>``` to read the actual contents"
   ]
  },
  {
   "cell_type": "code",
   "execution_count": null,
   "metadata": {
    "id": "McfQkCqtAghJ"
   },
   "outputs": [],
   "source": [
    "## create a variable that holds our file name\n"
   ]
  },
  {
   "cell_type": "code",
   "execution_count": null,
   "metadata": {
    "id": "_65rRBLZAmCX"
   },
   "outputs": [],
   "source": [
    "## read and print entire file\n"
   ]
  },
  {
   "cell_type": "code",
   "execution_count": null,
   "metadata": {
    "id": "dC1xQ7ysApQ9"
   },
   "outputs": [],
   "source": [
    "## read and print 50 characters\n"
   ]
  },
  {
   "cell_type": "markdown",
   "metadata": {
    "id": "mVyI5xKFA3Cc"
   },
   "source": [
    "## Saving file to memory\n",
    "So far, we haven't saved the text. \n",
    "The content is only available inside ```with open```.\n",
    "If we try to read the lines, outside the ```with open```, we'll get a ```ValueError: I/O operation on closed file.```"
   ]
  },
  {
   "cell_type": "code",
   "execution_count": null,
   "metadata": {
    "id": "NCoAJjUoAsMN"
   },
   "outputs": [],
   "source": []
  },
  {
   "cell_type": "markdown",
   "metadata": {
    "id": "zTMKlaQaBDZW"
   },
   "source": [
    "## We fix that my saving the myfile object inside a variable"
   ]
  },
  {
   "cell_type": "code",
   "execution_count": null,
   "metadata": {
    "id": "H6CxTe87A6I2"
   },
   "outputs": [],
   "source": [
    "## read hold the first 25 characters in a variable\n"
   ]
  },
  {
   "cell_type": "code",
   "execution_count": null,
   "metadata": {
    "id": "T567GoMWBAMz"
   },
   "outputs": [],
   "source": [
    "## call the variable above\n"
   ]
  },
  {
   "cell_type": "code",
   "execution_count": null,
   "metadata": {
    "id": "VZAmEMxIBRl6"
   },
   "outputs": [],
   "source": [
    "## read the first line into a variable\n"
   ]
  },
  {
   "cell_type": "code",
   "execution_count": null,
   "metadata": {
    "id": "C4ET5Ty9BUG-"
   },
   "outputs": [],
   "source": [
    "## call the variable above\n"
   ]
  },
  {
   "cell_type": "code",
   "execution_count": null,
   "metadata": {
    "id": "goQbUttdBWQL"
   },
   "outputs": [],
   "source": [
    "## read the whole thing into a variable\n"
   ]
  },
  {
   "cell_type": "code",
   "execution_count": null,
   "metadata": {
    "id": "t6c-8K4MBYXj"
   },
   "outputs": [],
   "source": [
    "## call the variable above\n"
   ]
  },
  {
   "cell_type": "code",
   "execution_count": null,
   "metadata": {
    "id": "OMBhpRj8jLKO"
   },
   "outputs": [],
   "source": []
  },
  {
   "cell_type": "code",
   "execution_count": null,
   "metadata": {
    "id": "mQv7Jw-4jOSB"
   },
   "outputs": [],
   "source": []
  },
  {
   "cell_type": "markdown",
   "metadata": {
    "id": "6vvJccMgBhcx"
   },
   "source": [
    "## It's more useful to save the text object inside a list. \n",
    "Remember, ```readlines()``` actually shows each line as part of a list."
   ]
  },
  {
   "cell_type": "code",
   "execution_count": null,
   "metadata": {
    "id": "6Hpf-aVxBbeX"
   },
   "outputs": [],
   "source": [
    "## store entire text file in list\n"
   ]
  },
  {
   "cell_type": "markdown",
   "metadata": {
    "id": "6bPl-BOFBocY"
   },
   "source": [
    "\n",
    "## We can then slice our list"
   ]
  },
  {
   "cell_type": "code",
   "execution_count": null,
   "metadata": {
    "id": "thQFzZhfBery"
   },
   "outputs": [],
   "source": [
    "## Show list item 3\n"
   ]
  },
  {
   "cell_type": "code",
   "execution_count": null,
   "metadata": {
    "id": "cU6fwVoZBrOV"
   },
   "outputs": [],
   "source": []
  },
  {
   "cell_type": "code",
   "execution_count": null,
   "metadata": {
    "id": "83gEVzzTBtuw"
   },
   "outputs": [],
   "source": []
  },
  {
   "cell_type": "code",
   "execution_count": null,
   "metadata": {
    "id": "T4_y7qprBvs2"
   },
   "outputs": [],
   "source": []
  }
 ],
 "metadata": {
  "colab": {
   "collapsed_sections": [],
   "name": "week-8B-file_folder_GLOB_READ_BLANK.ipynb",
   "provenance": [
    {
     "file_id": "1gCGeYOc9hI-v5dNhehTH_FE0g5UNiLW6",
     "timestamp": 1646785019864
    },
    {
     "file_id": "1kqd4HicmAldE-DZBOgLQjchxim-GVwYN",
     "timestamp": 1628626905369
    },
    {
     "file_id": "1C3xH08V3tJClZ_nWy3bNSUqRKcdYSC-f",
     "timestamp": 1620827792051
    }
   ]
  },
  "kernelspec": {
   "display_name": "Python 3 (ipykernel)",
   "language": "python",
   "name": "python3"
  },
  "language_info": {
   "codemirror_mode": {
    "name": "ipython",
    "version": 3
   },
   "file_extension": ".py",
   "mimetype": "text/x-python",
   "name": "python",
   "nbconvert_exporter": "python",
   "pygments_lexer": "ipython3",
   "version": "3.9.7"
  }
 },
 "nbformat": 4,
 "nbformat_minor": 1
}
