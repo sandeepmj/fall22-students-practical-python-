{
 "cells": [
  {
   "cell_type": "code",
   "execution_count": 1,
   "metadata": {
    "id": "88U-Lbd6oLDF"
   },
   "outputs": [],
   "source": [
    "## import library\n",
    "import re"
   ]
  },
  {
   "cell_type": "code",
   "execution_count": 2,
   "metadata": {
    "id": "H1ZS0EkqoPPD"
   },
   "outputs": [],
   "source": [
    "## text string for demo\n",
    "string = '''line 1 with more to follow.\n",
    "\n",
    "this is line 2\n",
    "\n",
    "line 3 has more...\n",
    "\n",
    "Text before line 4\n",
    "'''"
   ]
  },
  {
   "cell_type": "code",
   "execution_count": 3,
   "metadata": {
    "id": "-b5zrGX9aodz"
   },
   "outputs": [
    {
     "data": {
      "text/plain": [
       "'line 1 with more to follow.\\n\\nthis is line 2\\n\\nline 3 has more...\\n\\nText before line 4\\n'"
      ]
     },
     "execution_count": 3,
     "metadata": {},
     "output_type": "execute_result"
    }
   ],
   "source": [
    "## call string\n",
    "string"
   ]
  },
  {
   "cell_type": "code",
   "execution_count": 4,
   "metadata": {},
   "outputs": [
    {
     "name": "stdout",
     "output_type": "stream",
     "text": [
      "line 1 with more to follow.\n",
      "\n",
      "this is line 2\n",
      "\n",
      "line 3 has more...\n",
      "\n",
      "Text before line 4\n",
      "\n"
     ]
    }
   ],
   "source": [
    "print(string)"
   ]
  },
  {
   "cell_type": "markdown",
   "metadata": {
    "id": "gMMv4yTHZ6wL"
   },
   "source": [
    "## ```string``` analysis\n",
    "\n",
    "- The string starts with ```line 1```\n",
    "- While there appear to be four lines with the line #, and three blank lines, this is actually considered one string block by regex.\n",
    "- As a single string block according to Python regex, there is only start of line and one end of line.\n",
    "- In order to treat this string block as having multiple lines, we need to use ```re.M```."
   ]
  },
  {
   "cell_type": "code",
   "execution_count": 5,
   "metadata": {
    "id": "XApQkn6aoZrT"
   },
   "outputs": [],
   "source": [
    "## patnern to find all \"line number\"\n",
    "pat = re.compile(r\"line\\s\\d\")"
   ]
  },
  {
   "cell_type": "code",
   "execution_count": 6,
   "metadata": {
    "id": "z9wLxURsogcY"
   },
   "outputs": [
    {
     "data": {
      "text/plain": [
       "['line 1', 'line 2', 'line 3', 'line 4']"
      ]
     },
     "execution_count": 6,
     "metadata": {},
     "output_type": "execute_result"
    }
   ],
   "source": [
    "## capture all line number\n",
    "pat.findall(string)"
   ]
  },
  {
   "cell_type": "code",
   "execution_count": 7,
   "metadata": {
    "id": "x6wuL4yRojsl"
   },
   "outputs": [],
   "source": [
    "## pattern to find all line with number at the start of the line\n",
    "pat2 = re.compile(r\"^line\\s\\d\")\n"
   ]
  },
  {
   "cell_type": "code",
   "execution_count": 8,
   "metadata": {
    "id": "-v_weqPuox7E"
   },
   "outputs": [
    {
     "data": {
      "text/plain": [
       "['line 1']"
      ]
     },
     "execution_count": 8,
     "metadata": {},
     "output_type": "execute_result"
    }
   ],
   "source": [
    "## run pattern\n",
    "pat2.findall(string)"
   ]
  },
  {
   "cell_type": "code",
   "execution_count": 9,
   "metadata": {
    "id": "5qOSsRS8o0GP"
   },
   "outputs": [],
   "source": [
    "## pattern to find all with number at start of the line with re.M\n",
    "pat3 = re.compile(r\"^line\\s\\d\", re.M)"
   ]
  },
  {
   "cell_type": "code",
   "execution_count": 10,
   "metadata": {
    "id": "Y_Zi7r64o7Q5"
   },
   "outputs": [
    {
     "data": {
      "text/plain": [
       "['line 1', 'line 3']"
      ]
     },
     "execution_count": 10,
     "metadata": {},
     "output_type": "execute_result"
    }
   ],
   "source": [
    "## run pattern\n",
    "pat3.findall(string)"
   ]
  },
  {
   "cell_type": "code",
   "execution_count": 11,
   "metadata": {
    "id": "pmyPc9lYo8IQ"
   },
   "outputs": [],
   "source": [
    "## pattern to find all line with number at the end of a line\n",
    "pat4 = re.compile(r\"line\\s\\d$\")"
   ]
  },
  {
   "cell_type": "code",
   "execution_count": 12,
   "metadata": {
    "id": "9TXNq9-Spctk"
   },
   "outputs": [
    {
     "data": {
      "text/plain": [
       "['line 4']"
      ]
     },
     "execution_count": 12,
     "metadata": {},
     "output_type": "execute_result"
    }
   ],
   "source": [
    "## run pattern\n",
    "pat4.findall(string)"
   ]
  },
  {
   "cell_type": "code",
   "execution_count": 13,
   "metadata": {
    "id": "EyzGYAP6UvR5"
   },
   "outputs": [],
   "source": [
    "## text string for demo\n",
    "## note the added line at the very end\n",
    "string = '''line 1 with more to follow.\n",
    "\n",
    "this is line 2\n",
    "\n",
    "line 3 has more...\n",
    "\n",
    "Text before line 4\n",
    "\n",
    "'''"
   ]
  },
  {
   "cell_type": "code",
   "execution_count": 14,
   "metadata": {
    "id": "y-s6z8UaVlPO"
   },
   "outputs": [
    {
     "data": {
      "text/plain": [
       "[]"
      ]
     },
     "execution_count": 14,
     "metadata": {},
     "output_type": "execute_result"
    }
   ],
   "source": [
    "## run pattern again\n",
    "pat4.findall(string)"
   ]
  },
  {
   "cell_type": "code",
   "execution_count": 15,
   "metadata": {
    "id": "FDJFcvo9pfrt"
   },
   "outputs": [],
   "source": [
    "## pattern with re.M flag to capture all line plus number at end of line\n",
    "pat5 = re.compile(r\"line\\s\\d$\", re.M)"
   ]
  },
  {
   "cell_type": "code",
   "execution_count": 16,
   "metadata": {
    "id": "sKb1o01wqVfC"
   },
   "outputs": [
    {
     "data": {
      "text/plain": [
       "['line 2', 'line 4']"
      ]
     },
     "execution_count": 16,
     "metadata": {},
     "output_type": "execute_result"
    }
   ],
   "source": [
    "## run pattern\n",
    "pat5.findall(string)"
   ]
  },
  {
   "cell_type": "code",
   "execution_count": null,
   "metadata": {
    "id": "jAo5s4KYqYTG"
   },
   "outputs": [],
   "source": []
  }
 ],
 "metadata": {
  "colab": {
   "authorship_tag": "ABX9TyNYoSvYws7teTgxwR4xCw8W",
   "collapsed_sections": [],
   "name": "wk-13-regex multiline BLANK.ipynb",
   "provenance": [
    {
     "file_id": "19dEfbcSUh11wjCx1ufUvWFjVKvtzWv_k",
     "timestamp": 1652791886747
    }
   ]
  },
  "kernelspec": {
   "display_name": "Python 3 (ipykernel)",
   "language": "python",
   "name": "python3"
  },
  "language_info": {
   "codemirror_mode": {
    "name": "ipython",
    "version": 3
   },
   "file_extension": ".py",
   "mimetype": "text/x-python",
   "name": "python",
   "nbconvert_exporter": "python",
   "pygments_lexer": "ipython3",
   "version": "3.9.7"
  }
 },
 "nbformat": 4,
 "nbformat_minor": 1
}
