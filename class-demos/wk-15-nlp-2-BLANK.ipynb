{
 "cells": [
  {
   "cell_type": "markdown",
   "metadata": {},
   "source": [
    "# Natural Language Processing (part 2)\n",
    "\n",
    "- Capture context\n",
    "- Word frequency\n",
    "- Lemmatization\n",
    "\n",
    "Download <a href=\"https://drive.google.com/file/d/1Agjn0OXmm8KDgPllVjm6ZzbGLjhvwdbG/view?usp=share_link\">this file</a>\n"
   ]
  },
  {
   "cell_type": "code",
   "execution_count": null,
   "metadata": {},
   "outputs": [],
   "source": [
    "## import libraries\n",
    "import spacy\n",
    "import pandas as pd\n",
    "import glob\n",
    "import re"
   ]
  },
  {
   "cell_type": "code",
   "execution_count": null,
   "metadata": {},
   "outputs": [],
   "source": [
    "## import that language model\n",
    "import en_core_web_sm"
   ]
  },
  {
   "cell_type": "code",
   "execution_count": null,
   "metadata": {},
   "outputs": [],
   "source": [
    "## build nlp pipeline (a function will tokenize, parse and ner for us)\n",
    "nlp = en_core_web_sm.load()"
   ]
  },
  {
   "cell_type": "markdown",
   "metadata": {},
   "source": [
    "## Capture Context\n",
    "\n",
    "In the January 6th Hearing transcripts, I want to capture any sentence that has the word \"Trump\"."
   ]
  },
  {
   "cell_type": "code",
   "execution_count": null,
   "metadata": {},
   "outputs": [],
   "source": [
    "## pull in transcript\n"
   ]
  },
  {
   "cell_type": "code",
   "execution_count": null,
   "metadata": {},
   "outputs": [],
   "source": [
    "## read it into text\n",
    "\n",
    "    "
   ]
  },
  {
   "cell_type": "code",
   "execution_count": null,
   "metadata": {},
   "outputs": [],
   "source": [
    "## Trump in sentence\n"
   ]
  },
  {
   "cell_type": "code",
   "execution_count": null,
   "metadata": {},
   "outputs": [],
   "source": [
    "## \"mob\"\n",
    "\n"
   ]
  },
  {
   "cell_type": "code",
   "execution_count": null,
   "metadata": {},
   "outputs": [],
   "source": [
    "## pre-process text\n"
   ]
  },
  {
   "cell_type": "code",
   "execution_count": null,
   "metadata": {},
   "outputs": [],
   "source": [
    "## multi-word match\n",
    "\n"
   ]
  },
  {
   "cell_type": "code",
   "execution_count": null,
   "metadata": {},
   "outputs": [],
   "source": [
    "## show matches\n"
   ]
  },
  {
   "cell_type": "markdown",
   "metadata": {
    "id": "Wo7nOjtbh2jI"
   },
   "source": [
    "## Word Frequency"
   ]
  },
  {
   "cell_type": "markdown",
   "metadata": {
    "id": "p8rVHu5-h2jD"
   },
   "source": [
    "### Stop Words\n",
    "\n",
    "- These are common words that add no additional meaning to our analysis.\n",
    "- Words like ```the```, ```and``` and ```any```.\n",
    "- Spacy has just over 326 ```stop words``` in its defalt library.\n",
    "- Read more on <a href=\"https://medium.com/@saitejaponugoti/stop-words-in-nlp-5b248dadad47\">stop words</a>"
   ]
  },
  {
   "cell_type": "code",
   "execution_count": null,
   "metadata": {
    "id": "vB_23meah2jD"
   },
   "outputs": [],
   "source": [
    "## show all default stop words\n"
   ]
  },
  {
   "cell_type": "code",
   "execution_count": null,
   "metadata": {
    "colab": {
     "base_uri": "https://localhost:8080/"
    },
    "id": "E5VgHIIZh2jD",
    "outputId": "ec0f9a57-5f91-4a5f-debb-8881c473c006"
   },
   "outputs": [],
   "source": [
    "## check if a word (have, near, be, lol) is a stop word \n",
    "\n"
   ]
  },
  {
   "cell_type": "code",
   "execution_count": null,
   "metadata": {
    "colab": {
     "base_uri": "https://localhost:8080/"
    },
    "id": "xBDHPLqKh2jD",
    "outputId": "3aa02c74-b50e-436e-f61b-93975debc301"
   },
   "outputs": [],
   "source": [
    "## how many  stop words do we have?\n"
   ]
  },
  {
   "cell_type": "code",
   "execution_count": null,
   "metadata": {
    "id": "JQLHND4hh2jD"
   },
   "outputs": [],
   "source": [
    "## Add your own stop word\n",
    " ### adds stop word to default\n",
    " #### adds stop word to current memory"
   ]
  },
  {
   "cell_type": "code",
   "execution_count": null,
   "metadata": {
    "colab": {
     "base_uri": "https://localhost:8080/"
    },
    "id": "n8x_WlnMh2jE",
    "outputId": "b47ba05c-8d21-4a15-f4bc-43dd93f5a9bb"
   },
   "outputs": [],
   "source": [
    "## CHECK IF 'lol' is a stop word\n"
   ]
  },
  {
   "cell_type": "code",
   "execution_count": null,
   "metadata": {
    "colab": {
     "base_uri": "https://localhost:8080/"
    },
    "id": "RstWvDpZh2jE",
    "outputId": "272aa630-0426-4998-90aa-a3843a5f5b97"
   },
   "outputs": [],
   "source": [
    "## how many do stop words do we have now?\n"
   ]
  },
  {
   "cell_type": "code",
   "execution_count": null,
   "metadata": {
    "id": "vDCQWMXTh2jE"
   },
   "outputs": [],
   "source": [
    "## Remove a stop word from list because it is relevant.\n",
    "## notice the word \"lol\" is a stop word.\n",
    "\n",
    " ## remove from default\n",
    " ## remove from current memory"
   ]
  },
  {
   "cell_type": "code",
   "execution_count": null,
   "metadata": {
    "colab": {
     "base_uri": "https://localhost:8080/"
    },
    "id": "5v9ANj-eh2jE",
    "outputId": "f47bac59-a6cf-44fa-f7ad-df7a1e8ad670"
   },
   "outputs": [],
   "source": [
    "## CHECK IF 'empty' is a stop word\n"
   ]
  },
  {
   "cell_type": "code",
   "execution_count": null,
   "metadata": {},
   "outputs": [],
   "source": [
    "## run all text through nlp pipeline\n"
   ]
  },
  {
   "cell_type": "code",
   "execution_count": null,
   "metadata": {
    "colab": {
     "base_uri": "https://localhost:8080/"
    },
    "id": "ybFUv_ZmwPqk",
    "outputId": "a9831923-cc9f-4f2c-afa6-c42f7faf4f1f"
   },
   "outputs": [],
   "source": [
    "## show one token at a time\n"
   ]
  },
  {
   "cell_type": "code",
   "execution_count": null,
   "metadata": {
    "colab": {
     "base_uri": "https://localhost:8080/"
    },
    "id": "TFhHJ-QQh2jI",
    "outputId": "68250ef3-8bde-46b7-e3e5-99418c9b65bd"
   },
   "outputs": [],
   "source": [
    "from collections import Counter  ## a package that helps us count up frequency\n",
    "## Counter(some_variable)\n",
    "## variable_name.most.common(some_number)\n",
    "\n",
    "#remove stopwords and punctuations\n",
    "#remove stopwords and punctuations\n",
    "\n",
    "\n",
    "\n",
    "words = [token.text for token in doc \\\n",
    "         if token.is_stop != True and \\\n",
    "         token.is_punct != True \\\n",
    "         and token.text != '\\xa0'\\\n",
    "        and token.text != \"\\n\\n\"]\n",
    "word_freq = Counter(words)\n",
    "common_words = word_freq.most_common(5)  ## use most.common()\n",
    "print (common_words)"
   ]
  },
  {
   "cell_type": "markdown",
   "metadata": {
    "id": "ldcBDIqwOFIN"
   },
   "source": [
    "# Lemmatization\n",
    "\n",
    "In natural language processing, ```lemmatization``` is the process of reducing words to their base and removing their inflectional endings.\n",
    "\n"
   ]
  },
  {
   "cell_type": "markdown",
   "metadata": {
    "id": "CIOixDWhPtib"
   },
   "source": [
    "![Screen Shot 2022-05-03 at 7.25.57 PM.png](data:image/png;base64,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)"
   ]
  },
  {
   "cell_type": "code",
   "execution_count": null,
   "metadata": {
    "id": "mZiT-EIT4S6q"
   },
   "outputs": [],
   "source": [
    "## non-sense sample text with similar words\n",
    "text = \"I delivered the delivery and am always delivering \\\n",
    "my deliveries on time. \\\n",
    "He delivers late. This is my deliverance! \\\n",
    "This is a fragment of some fragments. \\\n",
    "When it was fragmented what happens to \\\n",
    "fragmentation or even fragmentations? \\\n",
    "The economic reality is that global economies \\\n",
    "are in for a rough time and people will find it \\\n",
    "difficult no matter how much they economize. \""
   ]
  },
  {
   "cell_type": "code",
   "execution_count": null,
   "metadata": {
    "id": "2yPh8yFz4S6q"
   },
   "outputs": [],
   "source": [
    "## create spacy object by running through NLP pipeline\n"
   ]
  },
  {
   "cell_type": "code",
   "execution_count": null,
   "metadata": {
    "colab": {
     "base_uri": "https://localhost:8080/"
    },
    "id": "i2a-vsVx4S6q",
    "outputId": "fae05983-1fd1-4c30-ae02-e29409d85e9e"
   },
   "outputs": [],
   "source": [
    "## lemmatize the words\n",
    "## note how they have gone down to the root words\n",
    "\n",
    "    #token_list.append(token.text)\n",
    "    \n",
    "#token_list\n"
   ]
  },
  {
   "cell_type": "code",
   "execution_count": null,
   "metadata": {
    "colab": {
     "base_uri": "https://localhost:8080/"
    },
    "id": "xr7KI_H54S6q",
    "outputId": "2ddf4891-04cf-45ec-b81b-65f694801f3e"
   },
   "outputs": [],
   "source": [
    "## type?\n"
   ]
  },
  {
   "cell_type": "markdown",
   "metadata": {
    "id": "E1NZOG2h5W-U"
   },
   "source": [
    "## Remove Stop words"
   ]
  },
  {
   "cell_type": "code",
   "execution_count": null,
   "metadata": {
    "colab": {
     "base_uri": "https://localhost:8080/",
     "height": 36
    },
    "id": "uAb-qENk4S6r",
    "outputId": "8c404296-2c98-4a71-9f5e-2d655682c130"
   },
   "outputs": [],
   "source": [
    "## pull out a word from list\n"
   ]
  },
  {
   "cell_type": "code",
   "execution_count": null,
   "metadata": {
    "colab": {
     "base_uri": "https://localhost:8080/"
    },
    "id": "O4kbyQjR4S6r",
    "outputId": "fb9d2151-0a99-4707-9799-5615df579000"
   },
   "outputs": [],
   "source": [
    "## is it a stopword?\n"
   ]
  },
  {
   "cell_type": "markdown",
   "metadata": {
    "id": "jcYAA8Of5g5B"
   },
   "source": [
    "## This will run through the entire lemmatized list but keep only words that are NOT stop words or punctuation and place in a list."
   ]
  },
  {
   "cell_type": "code",
   "execution_count": null,
   "metadata": {
    "colab": {
     "background_save": true
    },
    "id": "Sj50XAlz4S6r",
    "outputId": "4eee5389-5fa2-471d-8f86-551a4de8a5d8"
   },
   "outputs": [],
   "source": [
    "\n",
    "terms_list = []\n",
    "for word in lemma_list[:100]:\n",
    "    print(f\"{word}--->{nlp.vocab[word].is_stop}\")\n",
    "    if nlp.vocab[word].is_stop == False and nlp.vocab[word].is_punct == False:\n",
    "        terms_list.append(word)\n",
    "\n",
    "    "
   ]
  },
  {
   "cell_type": "code",
   "execution_count": null,
   "metadata": {
    "colab": {
     "base_uri": "https://localhost:8080/"
    },
    "id": "I7SKGu-v4S6s",
    "outputId": "e4a7180f-6f40-4942-f4dd-dc76016d825b"
   },
   "outputs": [],
   "source": [
    "## Here are the non-stop words in the list\n"
   ]
  },
  {
   "cell_type": "markdown",
   "metadata": {
    "id": "Y8uqVzqB5y_m"
   },
   "source": [
    "## Let's count their frequency"
   ]
  },
  {
   "cell_type": "code",
   "execution_count": null,
   "metadata": {
    "id": "yxCFTBzl4S6s"
   },
   "outputs": [],
   "source": [
    "## use counter to count the frequency of words in the terms list\n"
   ]
  },
  {
   "cell_type": "code",
   "execution_count": null,
   "metadata": {
    "colab": {
     "base_uri": "https://localhost:8080/"
    },
    "id": "8ZM5-mNH4S6s",
    "outputId": "ae5d72e4-2485-45dd-9457-9ae2a10a9d92"
   },
   "outputs": [],
   "source": [
    "## pull out the 10 most frequently used words (roots, variations and all)\n"
   ]
  },
  {
   "cell_type": "code",
   "execution_count": null,
   "metadata": {
    "id": "egTom7Uf_x6_"
   },
   "outputs": [],
   "source": []
  }
 ],
 "metadata": {
  "colab": {
   "provenance": []
  },
  "kernelspec": {
   "display_name": "Python 3 (ipykernel)",
   "language": "python",
   "name": "python3"
  },
  "language_info": {
   "codemirror_mode": {
    "name": "ipython",
    "version": 3
   },
   "file_extension": ".py",
   "mimetype": "text/x-python",
   "name": "python",
   "nbconvert_exporter": "python",
   "pygments_lexer": "ipython3",
   "version": "3.9.7"
  }
 },
 "nbformat": 4,
 "nbformat_minor": 1
}
