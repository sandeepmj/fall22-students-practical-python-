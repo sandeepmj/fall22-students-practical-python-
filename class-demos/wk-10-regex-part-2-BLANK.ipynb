{
 "cells": [
  {
   "cell_type": "markdown",
   "metadata": {
    "id": "RtXF5HKNRbPh"
   },
   "source": [
    "# Regular Expressions (regex) - Part 2\n",
    "\n",
    "Pages we need to visit:\n",
    "\n",
    "- <a href=\"https://docs.google.com/presentation/d/165Dc2jKVK1KITd3FTzOeYS2EA5DUNutajFMuy3tQ84Q/edit?usp=sharing\">What is REGEX in our news reporting context?</a> \n",
    "- Live Testing: https://regex101.com/\n",
    "- Sandeep's <a href=\"https://docs.google.com/spreadsheets/d/1TyJPfchWYfdWNAL-_yO6yR4fwxb7CX2E/edit?usp=sharing&rtpof=true&sd=true\">REGEX Tip sheet</a>\n",
    "- Common pattern finder: https://regexlib.com/Default.aspx\n",
    "\n",
    "\n",
    "Some dummy text:"
   ]
  },
  {
   "cell_type": "code",
   "execution_count": 1,
   "metadata": {
    "id": "7obJksVBRbPn"
   },
   "outputs": [],
   "source": [
    "## place dummy text into a variable called mydoc\n",
    "mydoc = '''12534 127 ab aba abba sandeepj@bloomberg.net abbba, abbbbba, (518) 469-4581 abcde.The dog is a not a hog. ABA ABBA ABBBA.\n",
    "\n",
    "Florence smith\n",
    "John Smith\n",
    "Carol Brown Tel. 212-452-5728\n",
    "\n",
    "\n",
    "Ab_CD123  123456 and 12456\ttor 12531245134562. 123867584789. $40.44 or $3 or $52,583.08 or $610,235.11\n",
    "Tel. (917) 492-8601\n",
    "\n",
    "The cat sat down and called 514-957-3453 while the other caaaaaat purred. This cat is in California while this caaaat is in Iraq, but none are in ct. My dog prefers cat food to dog food but hates fish food.My food tastes yummy!\n",
    "Peter Trapp Jon Smythe Luca Smith John Smythe\n",
    "Maggie Veach Tel. 718 601 7567\n",
    "\n",
    "AB_cd \t<+>-.,!@# $%^&*();\\/|_^@1# (917) 488-5410\n",
    "\n",
    "*!dsar2d1\n",
    "\n",
    "I told him to search Jon Smith\n",
    "Katie Pine\n",
    "John Smth\n",
    "\n",
    "TELEPHONE NUMBERS\n",
    "Tel. 718-392-4793\n",
    "Tel. (646) 469-3211\n",
    "Tel. 917.425.2796\n",
    "\n",
    "NUMBERS\n",
    "1\n",
    "12\n",
    "123\n",
    "123,456\n",
    "123,456,789\n",
    "123,456,789.01\n",
    "\n",
    "EMAILS\n",
    "sandeep.junnarkar@journalism.cuny.edu\n",
    "sandeepj@gmail.com\n",
    "sjunnarkar@bloomberg.net\n",
    "sandeep.junnarkar@news.co.uk\n",
    "\n",
    "\n",
    "POLICE\n",
    "Det. Frank Castille\n",
    "Police Officer Dan D. Dennings\n",
    "Lt. Patrician Grace\n",
    "Detective Susan Treeble\n",
    "Officer Cantwell Brady-Stevens\n",
    "\n",
    "Novel Djokvichthe thesaurus where sandeep.junnarkar@journalism.cuny.edu he'd be able to sjnews@gmail.com find words like them.\n",
    "\n",
    "abcdefgczhijklmnopqrstuvwxyz\tABCDEFGCZHIJKLMNOPQRSTUVWXYZ\n",
    "\n",
    "A h0g is a hog.\n",
    "\n",
    "Dog and dog and DOG. His number is 415.458.9163. John Brown jon Smith\n",
    "Peter Finch\n",
    "\n",
    "&^%@ 129\n",
    "\n",
    "$12,560\n",
    "\n",
    "abba\n",
    "\n",
    "cat 3452 black\n",
    "dog 234 white\n",
    "fish 3562 silver\n",
    "rat 94 white\n",
    "bird 1957 purple\n",
    "horse 3 black\n",
    "chameleon  5724 green\n",
    "snake 6730 red\n",
    "\n",
    "\n",
    "\n",
    "'''"
   ]
  },
  {
   "cell_type": "code",
   "execution_count": null,
   "metadata": {
    "id": "9EuypuZIRbPn"
   },
   "outputs": [],
   "source": [
    "## call mydoc\n"
   ]
  },
  {
   "cell_type": "code",
   "execution_count": null,
   "metadata": {
    "id": "ErYT4VOT4Jd4"
   },
   "outputs": [],
   "source": [
    "## print variable\n"
   ]
  },
  {
   "cell_type": "code",
   "execution_count": null,
   "metadata": {
    "id": "4qF0fu3BRbPo"
   },
   "outputs": [],
   "source": [
    "## import libraries\n"
   ]
  },
  {
   "cell_type": "code",
   "execution_count": null,
   "metadata": {
    "id": "DkKDdLyrRbPo"
   },
   "outputs": [],
   "source": [
    "## Run this cell\n",
    "some_text = \"The dog barked at the other dog, cat and kitten.\""
   ]
  },
  {
   "cell_type": "markdown",
   "metadata": {
    "id": "L5bRo99IRbPo"
   },
   "source": [
    "### Simple Python literal search"
   ]
  },
  {
   "cell_type": "code",
   "execution_count": null,
   "metadata": {
    "id": "bdmtfrK3RbPo"
   },
   "outputs": [],
   "source": [
    "## is dog in my text\n"
   ]
  },
  {
   "cell_type": "code",
   "execution_count": null,
   "metadata": {
    "id": "s0cQ0o__RbPp"
   },
   "outputs": [],
   "source": [
    "## is kitten in my text\n"
   ]
  },
  {
   "cell_type": "code",
   "execution_count": null,
   "metadata": {
    "id": "Rp7ucuT84lT-"
   },
   "outputs": [],
   "source": [
    "## is bird in my text\n"
   ]
  },
  {
   "cell_type": "markdown",
   "metadata": {
    "id": "IW_DuEh5RbPp"
   },
   "source": [
    "## ```search```\n",
    "\n",
    "- returns ONLY the first instance of the search pattern"
   ]
  },
  {
   "cell_type": "markdown",
   "metadata": {
    "id": "qSnmdEoDRbPp"
   },
   "source": [
    "#### Method 1. \n",
    "#### ```some_result = re.search(some_pattern, some_string)```"
   ]
  },
  {
   "cell_type": "code",
   "execution_count": null,
   "metadata": {
    "id": "DCpbepqA5HzL"
   },
   "outputs": [],
   "source": [
    "## call some_text\n"
   ]
  },
  {
   "cell_type": "code",
   "execution_count": null,
   "metadata": {
    "id": "1JbSurQSRbPp"
   },
   "outputs": [],
   "source": [
    "## using a literal\n"
   ]
  },
  {
   "cell_type": "code",
   "execution_count": null,
   "metadata": {
    "id": "DKNk7jXaRbPq"
   },
   "outputs": [],
   "source": [
    "## using regex search\n"
   ]
  },
  {
   "cell_type": "markdown",
   "metadata": {
    "id": "ySje3J8wRbPq"
   },
   "source": [
    "#### Method 2.\n",
    "\n",
    "####  ```pattern_variable = re.compile(\"some_pattern\")```\n",
    "\n",
    "#### ```a_result = pattern_variable.search(some_string)```"
   ]
  },
  {
   "cell_type": "code",
   "execution_count": null,
   "metadata": {
    "id": "U1zWNOHXRbPq"
   },
   "outputs": [],
   "source": [
    "## use method 2\n"
   ]
  },
  {
   "cell_type": "code",
   "execution_count": null,
   "metadata": {
    "id": "5Mjbidr3UTTy"
   },
   "outputs": [],
   "source": [
    "## search for pattern\n"
   ]
  },
  {
   "cell_type": "markdown",
   "metadata": {
    "id": "bBCTf6t9RbPq"
   },
   "source": [
    "#### The two methods are identical, but method 2 with ```re.compile``` is more efficient since you store the pattern and reuse it.\n"
   ]
  },
  {
   "cell_type": "code",
   "execution_count": null,
   "metadata": {
    "id": "X33--weBRbPr"
   },
   "outputs": [],
   "source": [
    "## run this\n",
    "other_text = \"The military vet who loves her dog was able to overcome her PTSD with the help of a service dog.\""
   ]
  },
  {
   "cell_type": "code",
   "execution_count": null,
   "metadata": {
    "id": "QRtIT9c3RbPr"
   },
   "outputs": [],
   "source": [
    "## SEARCH\n"
   ]
  },
  {
   "cell_type": "markdown",
   "metadata": {
    "id": "bmKoEItBRbPu"
   },
   "source": [
    "### Returning the match object"
   ]
  },
  {
   "cell_type": "code",
   "execution_count": null,
   "metadata": {
    "id": "yQICytPGRbPu"
   },
   "outputs": [],
   "source": [
    "## let's run this again\n"
   ]
  },
  {
   "cell_type": "code",
   "execution_count": null,
   "metadata": {
    "id": "2nM3bHiKkm0S"
   },
   "outputs": [],
   "source": [
    "## what type of object is the pattern?\n"
   ]
  },
  {
   "cell_type": "code",
   "execution_count": null,
   "metadata": {
    "id": "_YTDNEi3RbPu"
   },
   "outputs": [],
   "source": [
    "## what type of object did it return it (pet_search)?\n"
   ]
  },
  {
   "cell_type": "code",
   "execution_count": null,
   "metadata": {
    "id": "9dXiH7zuRbPu"
   },
   "outputs": [],
   "source": [
    "## pull out location from the match object\n"
   ]
  },
  {
   "cell_type": "code",
   "execution_count": null,
   "metadata": {
    "id": "wEhVZlY7_ap1"
   },
   "outputs": [],
   "source": [
    "## pull out the match object\n",
    "### this will break\n"
   ]
  },
  {
   "cell_type": "markdown",
   "metadata": {
    "id": "Tz_wtOOgRbPv"
   },
   "source": [
    "#### ```.group()``` returns the matched pattern in from the text"
   ]
  },
  {
   "cell_type": "code",
   "execution_count": null,
   "metadata": {
    "id": "DaalLW2tRbPv"
   },
   "outputs": [],
   "source": [
    "## pull out the matched pattern itself\n"
   ]
  },
  {
   "cell_type": "code",
   "execution_count": null,
   "metadata": {
    "id": "_0lwo1DjiyDO"
   },
   "outputs": [],
   "source": [
    "## zeroth object\n"
   ]
  },
  {
   "cell_type": "code",
   "execution_count": null,
   "metadata": {
    "id": "HBi0dyrtAHTh"
   },
   "outputs": [],
   "source": [
    "## run some text again\n"
   ]
  },
  {
   "cell_type": "code",
   "execution_count": null,
   "metadata": {
    "id": "8v4gx0KWRbPv"
   },
   "outputs": [],
   "source": [
    "## let's look for something that we know if NOT in the text\n"
   ]
  },
  {
   "cell_type": "code",
   "execution_count": null,
   "metadata": {
    "id": "paoHqjqxRbPv"
   },
   "outputs": [],
   "source": [
    "## what type did it return?\n"
   ]
  },
  {
   "cell_type": "code",
   "execution_count": null,
   "metadata": {
    "id": "KuhUM09NRbPv"
   },
   "outputs": [],
   "source": [
    "## print what it returned \n"
   ]
  },
  {
   "cell_type": "markdown",
   "metadata": {
    "id": "2xG7VChuRbPv"
   },
   "source": [
    "#### You can build conditional logic based on what is returned -- even if nothing is returned."
   ]
  },
  {
   "cell_type": "code",
   "execution_count": null,
   "metadata": {
    "id": "RtY6KCiBRbPv"
   },
   "outputs": [],
   "source": [
    "## write conditional here\n"
   ]
  },
  {
   "cell_type": "code",
   "execution_count": null,
   "metadata": {
    "id": "1i26j0hXRbPv"
   },
   "outputs": [],
   "source": [
    "## run this cell\n",
    "other_text = \"The bird flew over the dog and cat.\"\n"
   ]
  },
  {
   "cell_type": "code",
   "execution_count": null,
   "metadata": {
    "id": "e7m90-BN94J6"
   },
   "outputs": [],
   "source": [
    "## rerun the regex with \"bird\" for the  new text\n"
   ]
  },
  {
   "cell_type": "code",
   "execution_count": null,
   "metadata": {
    "id": "Rpt3eyCaRbPw"
   },
   "outputs": [],
   "source": [
    "## rerun the conditional\n"
   ]
  },
  {
   "cell_type": "markdown",
   "metadata": {
    "id": "MrBX5n0bRbPx"
   },
   "source": [
    "## ```findall```\n",
    "\n",
    "- Returns a list of all found items"
   ]
  },
  {
   "cell_type": "code",
   "execution_count": null,
   "metadata": {
    "id": "CCuqnatNX5na"
   },
   "outputs": [],
   "source": [
    "## RUN mydoc again\n"
   ]
  },
  {
   "cell_type": "code",
   "execution_count": null,
   "metadata": {
    "id": "s43uPmZdRbPx"
   },
   "outputs": [],
   "source": [
    "## use findall to find all matching patterns\n"
   ]
  },
  {
   "cell_type": "code",
   "execution_count": null,
   "metadata": {
    "id": "CLKrsWmcRbPx"
   },
   "outputs": [],
   "source": [
    "## what object is it?\n"
   ]
  },
  {
   "cell_type": "code",
   "execution_count": null,
   "metadata": {
    "id": "d593J-HDRbPx"
   },
   "outputs": [],
   "source": [
    "## find any \"a\" followed by 1 or 2 \"b\"\n"
   ]
  },
  {
   "cell_type": "code",
   "execution_count": null,
   "metadata": {
    "id": "2kG2_wkuRbPx"
   },
   "outputs": [],
   "source": [
    "## FIND pat1\n"
   ]
  },
  {
   "cell_type": "code",
   "execution_count": null,
   "metadata": {
    "id": "FA72TKhVRbPx"
   },
   "outputs": [],
   "source": [
    "## call our pat1 to see someting interesting\n"
   ]
  },
  {
   "cell_type": "markdown",
   "metadata": {
    "id": "1d7yjMi3RbPy"
   },
   "source": [
    "### Flags\n",
    "\n",
    "- ```re.IGNORECASE``` or ```re.I``` for ignore case\n",
    "- ```re.MULTILINE¶``` or ```re.M``` for multiline\n",
    "- ```re.DOTALL``` or ```re.S``` for period includes new lines\n",
    "- ```re.VERBOSE``` or ```re.X``` for breaking up the regex\n",
    "\n",
    "<a href=\"https://docs.python.org/3/library/re.html#re.ASCII\">More on flags</a>."
   ]
  },
  {
   "cell_type": "code",
   "execution_count": null,
   "metadata": {
    "id": "PR1muPLjRbPx"
   },
   "outputs": [],
   "source": [
    "## find any \"a\" followed by 1 or 2 \"b\" ignore case\n"
   ]
  },
  {
   "cell_type": "code",
   "execution_count": null,
   "metadata": {
    "id": "OYv9Y3E2xH4W"
   },
   "outputs": [],
   "source": [
    "## find all matches for pat2\n"
   ]
  },
  {
   "cell_type": "code",
   "execution_count": null,
   "metadata": {
    "id": "JHhRd94hRbPy"
   },
   "outputs": [],
   "source": [
    "## find \"dog\" ignore case - full word\n"
   ]
  },
  {
   "cell_type": "code",
   "execution_count": null,
   "metadata": {
    "id": "3NfdWsUMRbPy"
   },
   "outputs": [],
   "source": [
    "## find \"dog\" ignore case - abbreviation\n"
   ]
  },
  {
   "cell_type": "code",
   "execution_count": null,
   "metadata": {
    "id": "fuTmcfRqRbPy"
   },
   "outputs": [],
   "source": [
    "## match pat4\n"
   ]
  },
  {
   "cell_type": "code",
   "execution_count": null,
   "metadata": {
    "id": "3S51i1jKBewX"
   },
   "outputs": [],
   "source": [
    "## match pat4a\n"
   ]
  },
  {
   "cell_type": "code",
   "execution_count": null,
   "metadata": {
    "id": "C7k1BWxdxRZW"
   },
   "outputs": [],
   "source": [
    "## without ignore case\n"
   ]
  },
  {
   "cell_type": "markdown",
   "metadata": {
    "id": "8dw_tIRjRbPr"
   },
   "source": [
    "### Python Interpreter and Regex conflict with ```\\```"
   ]
  },
  {
   "cell_type": "code",
   "execution_count": null,
   "metadata": {
    "id": "Lsrbc1_7RbPr"
   },
   "outputs": [],
   "source": [
    "## run this\n"
   ]
  },
  {
   "cell_type": "code",
   "execution_count": null,
   "metadata": {
    "id": "zi-kweXE6q8W"
   },
   "outputs": [],
   "source": [
    "## call pet\n"
   ]
  },
  {
   "cell_type": "code",
   "execution_count": null,
   "metadata": {
    "id": "S7rfiei_6tpO"
   },
   "outputs": [],
   "source": [
    "## print function pet\n"
   ]
  },
  {
   "cell_type": "code",
   "execution_count": null,
   "metadata": {
    "id": "io4wu8S-RbPs"
   },
   "outputs": [],
   "source": [
    "## write regex to find word with 3 characters\n"
   ]
  },
  {
   "cell_type": "code",
   "execution_count": null,
   "metadata": {
    "id": "3w3obl__RbPs"
   },
   "outputs": [],
   "source": [
    "### write regex to find word with 3 characters followed by a slash\n",
    "## this will break\n"
   ]
  },
  {
   "cell_type": "code",
   "execution_count": null,
   "metadata": {
    "id": "Ot4JB_kxRbPs"
   },
   "outputs": [],
   "source": [
    "## Let's try escaping the slash\n",
    "### this also breaks because the python interpreter takes away one slash as an escape,\n",
    "### and then regex is fed an escape for {\n",
    "\n"
   ]
  },
  {
   "cell_type": "markdown",
   "metadata": {
    "id": "ioUW1YbeRbPs"
   },
   "source": [
    "### This is confusing but here's just happened:\n",
    "\n",
    "```re.search(\"\\w{3}\\\\\", pet)```\n",
    "\n",
    "1. The Python interpreter sees the slash after the } and takes it as an escape character and removes it.\n",
    "2. The code is then passed on to the Regex, which then sees a single slash which stands for an escape character instead of the slash in the string.\n",
    "3. Everthing breaks.\n",
    "\n",
    "### One option is to double the number of slashes in the search pattern\n",
    "\n",
    "```re.search(\"\\w{3}\\\\\\\\\", pet)```\n",
    "\n",
    "1. The Python interpreter thinks of each extra slash as escape characters, and removes move.\n",
    "2. But we still have two slashes.\n",
    "3. Now the Regex sees one slash as an escape character and leaves one behind to search for a slash."
   ]
  },
  {
   "cell_type": "code",
   "execution_count": null,
   "metadata": {
    "id": "xmEFUK-sRbPs"
   },
   "outputs": [],
   "source": [
    "## double the slashes\n",
    "### This is confusing but here's just happened:\n",
    "### This is confusing but here's just happened:\n"
   ]
  },
  {
   "cell_type": "markdown",
   "metadata": {
    "id": "hkBCemXGRbPt"
   },
   "source": [
    "### Raw String option\n",
    "\n",
    "Add an ```r``` before your Regex string to convert it to a raw string.\n",
    "\n",
    "```re.search(r\"\\w{3}\\\\\", pet)```"
   ]
  },
  {
   "cell_type": "code",
   "execution_count": null,
   "metadata": {
    "id": "bwfuff5GRbPt"
   },
   "outputs": [],
   "source": [
    "## raw string works.\n"
   ]
  },
  {
   "cell_type": "code",
   "execution_count": null,
   "metadata": {
    "id": "jI3qc2PTRbPt"
   },
   "outputs": [],
   "source": [
    "## print the target group \n"
   ]
  },
  {
   "cell_type": "markdown",
   "metadata": {
    "id": "vsR3f8a9RbPt"
   },
   "source": [
    "### When to use raw string ```r```\n",
    "\n",
    "#### Two cases\n",
    "1. When you need to escape the ```\\``` to actually find a slash.\n",
    "2. When you need to use ```\\b``` word boundary."
   ]
  },
  {
   "cell_type": "markdown",
   "metadata": {
    "id": "WIg_ZFU8bbZw"
   },
   "source": [
    "# Put Regex to work"
   ]
  },
  {
   "cell_type": "code",
   "execution_count": null,
   "metadata": {
    "id": "8sd19AwRbfFs"
   },
   "outputs": [],
   "source": [
    "## find telephone numbers\n"
   ]
  },
  {
   "cell_type": "code",
   "execution_count": null,
   "metadata": {
    "id": "P3knN5ZZdAXj"
   },
   "outputs": [],
   "source": [
    "## run pattern on text\n"
   ]
  },
  {
   "cell_type": "markdown",
   "metadata": {
    "id": "sYVAkphlEP2X"
   },
   "source": [
    "# Find all animals, quantity and colors"
   ]
  },
  {
   "cell_type": "code",
   "execution_count": null,
   "metadata": {
    "id": "ESQ471R_hIs7"
   },
   "outputs": [],
   "source": [
    "## print mydoc again"
   ]
  },
  {
   "cell_type": "code",
   "execution_count": null,
   "metadata": {
    "id": "_ADL64t3EPA4"
   },
   "outputs": [],
   "source": [
    "## pattern\n"
   ]
  },
  {
   "cell_type": "code",
   "execution_count": null,
   "metadata": {
    "id": "EHAdN3XcEiFu"
   },
   "outputs": [],
   "source": [
    "## find targets\n"
   ]
  },
  {
   "cell_type": "code",
   "execution_count": null,
   "metadata": {
    "id": "xe6Bg0alhcao"
   },
   "outputs": [],
   "source": [
    "## turn into df\n"
   ]
  },
  {
   "cell_type": "markdown",
   "metadata": {
    "id": "f3niV9QR39YW"
   },
   "source": [
    "## Capture groups Detour to Regex101\n"
   ]
  },
  {
   "cell_type": "code",
   "execution_count": null,
   "metadata": {
    "id": "dBlsbgcaclSs"
   },
   "outputs": [],
   "source": [
    "## pattern to capture animal, quantity and color\n"
   ]
  },
  {
   "cell_type": "code",
   "execution_count": null,
   "metadata": {
    "id": "HDpQYaRTc2av"
   },
   "outputs": [],
   "source": [
    "## capture all data\n"
   ]
  },
  {
   "cell_type": "code",
   "execution_count": null,
   "metadata": {
    "id": "RdEwmamMfPbZ"
   },
   "outputs": [],
   "source": [
    "## what type of object\n"
   ]
  },
  {
   "cell_type": "code",
   "execution_count": null,
   "metadata": {
    "id": "rqfVx9WTjZLn"
   },
   "outputs": [],
   "source": [
    "## what type of ojbects does it hold?\n"
   ]
  },
  {
   "cell_type": "code",
   "execution_count": null,
   "metadata": {
    "id": "lJblQdGp6BUz"
   },
   "outputs": [],
   "source": [
    "## export to df\n"
   ]
  },
  {
   "cell_type": "code",
   "execution_count": null,
   "metadata": {
    "id": "lgWR5NCfLDlU"
   },
   "outputs": [],
   "source": []
  },
  {
   "cell_type": "markdown",
   "metadata": {
    "id": "ogLUROqeKInA"
   },
   "source": [
    "## Non-Capture Group Captures"
   ]
  },
  {
   "cell_type": "code",
   "execution_count": null,
   "metadata": {
    "id": "rTiwaCqbHPT1"
   },
   "outputs": [],
   "source": [
    "## find all Jon Smiths and their variations\n"
   ]
  },
  {
   "cell_type": "code",
   "execution_count": null,
   "metadata": {
    "id": "dXyyA04jHm6Z"
   },
   "outputs": [],
   "source": [
    "## run pattern on text\n"
   ]
  },
  {
   "cell_type": "markdown",
   "metadata": {
    "id": "1e-o1VeBKZ0S"
   },
   "source": [
    "## What if we want to capture as first name and last name separately?"
   ]
  },
  {
   "cell_type": "code",
   "execution_count": null,
   "metadata": {
    "id": "dJ-bxQVzKeDt"
   },
   "outputs": [],
   "source": [
    "## create with capture pattern\n"
   ]
  },
  {
   "cell_type": "code",
   "execution_count": null,
   "metadata": {
    "id": "sAxgBfMAKqDn"
   },
   "outputs": [],
   "source": [
    "## run pattern on text\n"
   ]
  },
  {
   "cell_type": "code",
   "execution_count": null,
   "metadata": {
    "id": "U00moT4RLPMN"
   },
   "outputs": [],
   "source": [
    "## export to df\n"
   ]
  },
  {
   "cell_type": "code",
   "execution_count": null,
   "metadata": {
    "id": "svIulMmUqdb5"
   },
   "outputs": [],
   "source": [
    "weapons_text = '''Weapon Type/Force Used 2000 2001 2002 2003 2004 totals\n",
    "Personal Weapons 12,945 17,830 20,636 21,933 25,050 98,394\n",
    "None 2,702 3,114 2,974 3,294 4,176 16,260\n",
    "Other 1,775 2,311 2,332 2,420 2,842 11,680\n",
    "Knife/Cutting Instrument 1,511 2,082 2,080 2,445 2,852 10,970\n",
    "Handgun 307 376 398 430 497 2,008\n",
    "Blunt Object 283 404 394 455 469 2,005\n",
    "Firearm (type not stated) 94 131 103 135 146 609\n",
    "Other Firearm 74 107 92 155 154 582\n",
    "Explosives 145 139 93 89 95 561\n",
    "Motor Vehicle 43 52 46 59 71 271\n",
    "Fire/Incendiary Device 36 34 42 36 88 236\n",
    "Rifle 23 33 33 24 37 150\n",
    "Shotgun 15 24 30 19 24 112\n",
    "Drugs/Narcotics/Sleeping Pills 9 4 8 14 6 41\n",
    "Poison 1 8 4 11 16 40\n",
    "Asphyxiation 2 1 3 6 2 14\n",
    "Unknown 593 1,128 1,163 1,069 1,098 5,051\n",
    "\n",
    "'''"
   ]
  },
  {
   "cell_type": "code",
   "execution_count": null,
   "metadata": {
    "id": "AolU6e2WvT--"
   },
   "outputs": [],
   "source": [
    "## pattern\n"
   ]
  },
  {
   "cell_type": "code",
   "execution_count": null,
   "metadata": {
    "id": "EgXOsKNYveyW"
   },
   "outputs": [],
   "source": [
    "## find all \n"
   ]
  },
  {
   "cell_type": "code",
   "execution_count": null,
   "metadata": {
    "id": "yLs4SYpBvoVh"
   },
   "outputs": [],
   "source": [
    "## turn into df\n"
   ]
  },
  {
   "cell_type": "code",
   "execution_count": null,
   "metadata": {
    "id": "_f5pNUYOv2QC"
   },
   "outputs": [],
   "source": [
    "## designate column headers\n"
   ]
  },
  {
   "cell_type": "code",
   "execution_count": null,
   "metadata": {
    "id": "2qRJH9PWwipn"
   },
   "outputs": [],
   "source": [
    "## new df with column headers\n"
   ]
  },
  {
   "cell_type": "code",
   "execution_count": null,
   "metadata": {
    "id": "R3iOFfaxwv4i"
   },
   "outputs": [],
   "source": [
    "## call df"
   ]
  },
  {
   "cell_type": "code",
   "execution_count": null,
   "metadata": {
    "id": "rDuume7WwwmP"
   },
   "outputs": [],
   "source": []
  }
 ],
 "metadata": {
  "colab": {
   "collapsed_sections": [],
   "name": "week-12-regex-PART-2-BLANK.ipynb",
   "provenance": [
    {
     "file_id": "1TMcL3BcuSUaCIncNMG41Eu8SQg4qiagR",
     "timestamp": 1652178808556
    },
    {
     "file_id": "1Wi51877EoKw_JYKYqremuzAQMDxW7C1_",
     "timestamp": 1649805702413
    },
    {
     "file_id": "10-nHRo87wIgBlGOPKV3aGGxc4DxdMQpv",
     "timestamp": 1649804511882
    },
    {
     "file_id": "1FmBcIznHdKcWmMKVU6P5hCKd9N5pFCsU",
     "timestamp": 1643206950105
    },
    {
     "file_id": "1Nr8rBq4XH5WNNHHpgXpR7HXa6v9Zuv9j",
     "timestamp": 1623244598367
    },
    {
     "file_id": "11buOv8gA5M5U6Y7kjuFL3YrnMmqz5Jxz",
     "timestamp": 1623242240284
    }
   ]
  },
  "kernelspec": {
   "display_name": "Python 3 (ipykernel)",
   "language": "python",
   "name": "python3"
  },
  "language_info": {
   "codemirror_mode": {
    "name": "ipython",
    "version": 3
   },
   "file_extension": ".py",
   "mimetype": "text/x-python",
   "name": "python",
   "nbconvert_exporter": "python",
   "pygments_lexer": "ipython3",
   "version": "3.9.7"
  }
 },
 "nbformat": 4,
 "nbformat_minor": 1
}
