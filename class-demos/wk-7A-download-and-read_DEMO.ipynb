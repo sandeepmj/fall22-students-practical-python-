{
 "cells": [
  {
   "cell_type": "markdown",
   "metadata": {
    "id": "fv1F1HyA9zmX"
   },
   "source": [
    "# Capture and organize data in downloaded files "
   ]
  },
  {
   "cell_type": "markdown",
   "metadata": {
    "id": "EsXo4Upb9zmb"
   },
   "source": [
    "Let's download these ```.txt``` and ```.pdf``` files in our most recent scrape homework. \n",
    "\n",
    "We will read the text files using Python and export data to csv. (are you seeing a pattern yet?)"
   ]
  },
  {
   "cell_type": "markdown",
   "metadata": {
    "id": "qXjbiXpKD_zc"
   },
   "source": [
    "### pip install necessary packages"
   ]
  },
  {
   "cell_type": "code",
   "execution_count": null,
   "metadata": {
    "id": "cEVjNvm8DdJ9"
   },
   "outputs": [],
   "source": [
    "pip install wget"
   ]
  },
  {
   "cell_type": "code",
   "execution_count": null,
   "metadata": {
    "id": "mRtnH4saEJxB"
   },
   "outputs": [],
   "source": [
    "pip install icecream "
   ]
  },
  {
   "cell_type": "markdown",
   "metadata": {
    "id": "lyvc6CPd-FUC"
   },
   "source": [
    "# Import libraries\n"
   ]
  },
  {
   "cell_type": "code",
   "execution_count": 2,
   "metadata": {
    "id": "m2ru6dyM9zmb"
   },
   "outputs": [],
   "source": [
    "## in order to export our file to our computer drive, you need this only in Colab:\n",
    "# import libraries\n",
    "from bs4 import BeautifulSoup  ## scrape info from web pages\n",
    "import requests ## get web pages from server\n",
    "import time # time is required. we will use its sleep function\n",
    "from random import randrange # generate random numbers\n",
    "from icecream import ic\n",
    "# from google.colab import files ## code for downloading in google colab\n",
    "import pandas as pd ## to export csv file\n",
    "import itertools ## import itertools\n",
    "import wget\n",
    "import glob\n"
   ]
  },
  {
   "cell_type": "code",
   "execution_count": null,
   "metadata": {
    "id": "nUXBF742C5yI"
   },
   "outputs": [],
   "source": [
    "# url to scrape\n",
    "url = \"https://sandeepmj.github.io/scrape-example-page/pages.html\""
   ]
  },
  {
   "cell_type": "code",
   "execution_count": null,
   "metadata": {
    "id": "eMotK_2jC9aP"
   },
   "outputs": [],
   "source": [
    "## get url and print but hard to read. will do prettify next\n",
    "response = requests.get(url)\n",
    "response.status_code\n",
    "soup = BeautifulSoup(response.text, \"html.parser\")\n",
    "soup"
   ]
  },
  {
   "cell_type": "code",
   "execution_count": null,
   "metadata": {
    "id": "Vki1iZgTC__o"
   },
   "outputs": [],
   "source": [
    "## find all links to files in our soup\n",
    "all_files = soup.find_all(\"ul\", class_=\"downloadable\")\n",
    "all_files"
   ]
  },
  {
   "cell_type": "code",
   "execution_count": null,
   "metadata": {
    "id": "KAt7clyDDCHr"
   },
   "outputs": [],
   "source": [
    "## iterate through our list\n",
    "## to find just the a tags \n",
    "all_a_tags = [file.find_all(\"a\") for file in all_files]\n",
    "all_a_tags"
   ]
  },
  {
   "cell_type": "code",
   "execution_count": null,
   "metadata": {
    "id": "2EpbRVzNDNYm"
   },
   "outputs": [],
   "source": [
    "## use itertools to flatten the list\n",
    "\n",
    "flat_list = list(itertools.chain(*all_a_tags))\n",
    "flat_list"
   ]
  },
  {
   "cell_type": "code",
   "execution_count": null,
   "metadata": {
    "id": "ruhv4olrDQrY"
   },
   "outputs": [],
   "source": [
    "## now we can target the a tags\n",
    "\n",
    "href_list = [a_tag.get(\"href\") for a_tag in flat_list]\n",
    "href_list"
   ]
  },
  {
   "cell_type": "code",
   "execution_count": null,
   "metadata": {
    "id": "zncncauiDTBg"
   },
   "outputs": [],
   "source": [
    "## base url\n",
    "base_url = \"https://sandeepmj.github.io/scrape-example-page/\""
   ]
  },
  {
   "cell_type": "code",
   "execution_count": null,
   "metadata": {
    "id": "h-4oz2qfDV4e"
   },
   "outputs": [],
   "source": [
    "## iterate and join the base url to the relative url\n",
    "full_link_list = [base_url + href for href in href_list]\n",
    "full_link_list"
   ]
  },
  {
   "cell_type": "code",
   "execution_count": null,
   "metadata": {
    "id": "cizZM_bODYpR"
   },
   "outputs": [],
   "source": [
    "## full scrape of the documents\n",
    "\n",
    "links_number = len(full_link_list)\n",
    "link_count = 1\n",
    "for link in full_link_list:\n",
    "  print(f\"Downloading link {link_count} of {links_number}\")\n",
    "  link_count += 1\n",
    "  files.download(wget.download(link))## wget function\n",
    "  snooze = randrange(3, 6)\n",
    "  print(f\"Snoozing for {snooze} seconds from next link\")\n",
    "  time.sleep(snooze)"
   ]
  },
  {
   "cell_type": "markdown",
   "metadata": {
    "id": "lJMGDK6Uh5-h"
   },
   "source": [
    "# Giving structure to unstructured data 1"
   ]
  },
  {
   "cell_type": "code",
   "execution_count": 4,
   "metadata": {
    "id": "yFKQYyAiGbYH"
   },
   "outputs": [
    {
     "data": {
      "text/plain": [
       "['docs/text_doc_01.txt',\n",
       " 'docs/text_doc_02.txt',\n",
       " 'docs/text_doc_03.txt',\n",
       " 'docs/text_doc_04.txt',\n",
       " 'docs/text_doc_05.txt',\n",
       " 'docs/text_doc_06.txt',\n",
       " 'docs/text_doc_07.txt',\n",
       " 'docs/text_doc_08.txt',\n",
       " 'docs/text_doc_09.txt',\n",
       " 'docs/text_doc_10.txt']"
      ]
     },
     "execution_count": 4,
     "metadata": {},
     "output_type": "execute_result"
    }
   ],
   "source": [
    "## pull all the txt files into our notebook\n",
    "\n",
    "all_files = sorted(glob.glob(\"docs/text*.txt\"))\n",
    "all_files"
   ]
  },
  {
   "cell_type": "code",
   "execution_count": 11,
   "metadata": {
    "id": "fqN9xmTuD-Ao"
   },
   "outputs": [
    {
     "name": "stdout",
     "output_type": "stream",
     "text": [
      "docs/text_doc_01.txt\n",
      "['Client: Pen Federal Credit Union\\n', '\\n', 'The decision is to renew rental agreement.']\n",
      "docs/text_doc_02.txt\n",
      "['Client: Help Desk Inc.\\n', '\\n', 'The decision is to renew rental agreement.']\n",
      "docs/text_doc_03.txt\n",
      "[\"Client: Global Wax n' Wane\\n\", '\\n', 'The decision is to renew rental agreement.']\n",
      "docs/text_doc_04.txt\n",
      "['Client: Kick Box\\n', '\\n', 'The decision is to terminate lease agreement.']\n",
      "docs/text_doc_05.txt\n",
      "['Client: RedKey Inc.\\n', '\\n', 'The decision is to terminate lease agreement.']\n",
      "docs/text_doc_06.txt\n",
      "['Client: Clip-n-Chip\\n', '\\n', 'The decision is to terminate lease agreement.']\n",
      "docs/text_doc_07.txt\n",
      "['Client: CoLens Limited\\n', '\\n', 'The decision is to terminate lease agreement.']\n",
      "docs/text_doc_08.txt\n",
      "['Client: Diceware Inc.\\n', '\\n', 'The decision is to renew rental agreement.']\n",
      "docs/text_doc_09.txt\n",
      "['Client: Teflon Inc.\\n', '\\n', 'The decision is to terminate lease agreement.']\n",
      "docs/text_doc_10.txt\n",
      "['Client: RBG Inc.\\n', '\\n', 'The decision is to renew rental agreement.']\n"
     ]
    }
   ],
   "source": [
    "## let's see what the first line of each file contains\n",
    "for text_file in all_files:\n",
    "    print(text_file)\n",
    "    with open(text_file, \"r\") as my_text:\n",
    "        all_text = my_text.readlines()\n",
    "        print(all_text)\n",
    "#             first_line = my_text.readline()\n",
    "#             print(first_line)\n",
    "        \n",
    "# first_line\n"
   ]
  },
  {
   "cell_type": "code",
   "execution_count": 20,
   "metadata": {
    "id": "WmZYM2D4D99U"
   },
   "outputs": [
    {
     "name": "stdout",
     "output_type": "stream",
     "text": [
      "docs/text_doc_01.txt\n",
      "docs/text_doc_02.txt\n",
      "docs/text_doc_03.txt\n",
      "docs/text_doc_04.txt\n",
      "docs/text_doc_05.txt\n",
      "docs/text_doc_06.txt\n",
      "docs/text_doc_07.txt\n",
      "docs/text_doc_08.txt\n",
      "docs/text_doc_09.txt\n",
      "docs/text_doc_10.txt\n"
     ]
    }
   ],
   "source": [
    "## let's see what each entire file contains\n",
    "decisions = []\n",
    "\n",
    "for text_file in all_files:\n",
    "    print(text_file)\n",
    "    with open(text_file, \"r\") as my_text:\n",
    "        all_text = my_text.readlines()\n",
    "        client = all_text[0].replace(\"Client: \", \"\").replace(\"\\n\", \"\")\n",
    "#         print(client)\n",
    "        decision = all_text[2]\n",
    "        if \"renew\" in decision:\n",
    "            decision = \"renew\"\n",
    "        else: \n",
    "            decision = \"terminate\"\n",
    "#         print(decision)\n",
    "#         print(\"**********\")\n",
    "        decision_dict = {\"client\": client,\n",
    "                        \"decision\": decision,\n",
    "                        \"source\": text_file}\n",
    "#         print(decision_dict)\n",
    "        decisions.append(decision_dict)\n",
    "\n"
   ]
  },
  {
   "cell_type": "code",
   "execution_count": 21,
   "metadata": {},
   "outputs": [
    {
     "data": {
      "text/plain": [
       "[{'client': 'Pen Federal Credit Union',\n",
       "  'decision': 'renew',\n",
       "  'source': 'docs/text_doc_01.txt'},\n",
       " {'client': 'Help Desk Inc.',\n",
       "  'decision': 'renew',\n",
       "  'source': 'docs/text_doc_02.txt'},\n",
       " {'client': \"Global Wax n' Wane\",\n",
       "  'decision': 'renew',\n",
       "  'source': 'docs/text_doc_03.txt'},\n",
       " {'client': 'Kick Box',\n",
       "  'decision': 'terminate',\n",
       "  'source': 'docs/text_doc_04.txt'},\n",
       " {'client': 'RedKey Inc.',\n",
       "  'decision': 'terminate',\n",
       "  'source': 'docs/text_doc_05.txt'},\n",
       " {'client': 'Clip-n-Chip',\n",
       "  'decision': 'terminate',\n",
       "  'source': 'docs/text_doc_06.txt'},\n",
       " {'client': 'CoLens Limited',\n",
       "  'decision': 'terminate',\n",
       "  'source': 'docs/text_doc_07.txt'},\n",
       " {'client': 'Diceware Inc.',\n",
       "  'decision': 'renew',\n",
       "  'source': 'docs/text_doc_08.txt'},\n",
       " {'client': 'Teflon Inc.',\n",
       "  'decision': 'terminate',\n",
       "  'source': 'docs/text_doc_09.txt'},\n",
       " {'client': 'RBG Inc.', 'decision': 'renew', 'source': 'docs/text_doc_10.txt'}]"
      ]
     },
     "execution_count": 21,
     "metadata": {},
     "output_type": "execute_result"
    }
   ],
   "source": [
    "decisions"
   ]
  },
  {
   "cell_type": "code",
   "execution_count": 22,
   "metadata": {},
   "outputs": [
    {
     "data": {
      "text/html": [
       "<div>\n",
       "<style scoped>\n",
       "    .dataframe tbody tr th:only-of-type {\n",
       "        vertical-align: middle;\n",
       "    }\n",
       "\n",
       "    .dataframe tbody tr th {\n",
       "        vertical-align: top;\n",
       "    }\n",
       "\n",
       "    .dataframe thead th {\n",
       "        text-align: right;\n",
       "    }\n",
       "</style>\n",
       "<table border=\"1\" class=\"dataframe\">\n",
       "  <thead>\n",
       "    <tr style=\"text-align: right;\">\n",
       "      <th></th>\n",
       "      <th>client</th>\n",
       "      <th>decision</th>\n",
       "      <th>source</th>\n",
       "    </tr>\n",
       "  </thead>\n",
       "  <tbody>\n",
       "    <tr>\n",
       "      <th>0</th>\n",
       "      <td>Pen Federal Credit Union</td>\n",
       "      <td>renew</td>\n",
       "      <td>docs/text_doc_01.txt</td>\n",
       "    </tr>\n",
       "    <tr>\n",
       "      <th>1</th>\n",
       "      <td>Help Desk Inc.</td>\n",
       "      <td>renew</td>\n",
       "      <td>docs/text_doc_02.txt</td>\n",
       "    </tr>\n",
       "    <tr>\n",
       "      <th>2</th>\n",
       "      <td>Global Wax n' Wane</td>\n",
       "      <td>renew</td>\n",
       "      <td>docs/text_doc_03.txt</td>\n",
       "    </tr>\n",
       "    <tr>\n",
       "      <th>3</th>\n",
       "      <td>Kick Box</td>\n",
       "      <td>terminate</td>\n",
       "      <td>docs/text_doc_04.txt</td>\n",
       "    </tr>\n",
       "    <tr>\n",
       "      <th>4</th>\n",
       "      <td>RedKey Inc.</td>\n",
       "      <td>terminate</td>\n",
       "      <td>docs/text_doc_05.txt</td>\n",
       "    </tr>\n",
       "    <tr>\n",
       "      <th>5</th>\n",
       "      <td>Clip-n-Chip</td>\n",
       "      <td>terminate</td>\n",
       "      <td>docs/text_doc_06.txt</td>\n",
       "    </tr>\n",
       "    <tr>\n",
       "      <th>6</th>\n",
       "      <td>CoLens Limited</td>\n",
       "      <td>terminate</td>\n",
       "      <td>docs/text_doc_07.txt</td>\n",
       "    </tr>\n",
       "    <tr>\n",
       "      <th>7</th>\n",
       "      <td>Diceware Inc.</td>\n",
       "      <td>renew</td>\n",
       "      <td>docs/text_doc_08.txt</td>\n",
       "    </tr>\n",
       "    <tr>\n",
       "      <th>8</th>\n",
       "      <td>Teflon Inc.</td>\n",
       "      <td>terminate</td>\n",
       "      <td>docs/text_doc_09.txt</td>\n",
       "    </tr>\n",
       "    <tr>\n",
       "      <th>9</th>\n",
       "      <td>RBG Inc.</td>\n",
       "      <td>renew</td>\n",
       "      <td>docs/text_doc_10.txt</td>\n",
       "    </tr>\n",
       "  </tbody>\n",
       "</table>\n",
       "</div>"
      ],
      "text/plain": [
       "                     client   decision                source\n",
       "0  Pen Federal Credit Union      renew  docs/text_doc_01.txt\n",
       "1            Help Desk Inc.      renew  docs/text_doc_02.txt\n",
       "2        Global Wax n' Wane      renew  docs/text_doc_03.txt\n",
       "3                  Kick Box  terminate  docs/text_doc_04.txt\n",
       "4               RedKey Inc.  terminate  docs/text_doc_05.txt\n",
       "5               Clip-n-Chip  terminate  docs/text_doc_06.txt\n",
       "6            CoLens Limited  terminate  docs/text_doc_07.txt\n",
       "7             Diceware Inc.      renew  docs/text_doc_08.txt\n",
       "8               Teflon Inc.  terminate  docs/text_doc_09.txt\n",
       "9                  RBG Inc.      renew  docs/text_doc_10.txt"
      ]
     },
     "execution_count": 22,
     "metadata": {},
     "output_type": "execute_result"
    }
   ],
   "source": [
    "df = pd.DataFrame(decisions)\n",
    "df"
   ]
  },
  {
   "cell_type": "markdown",
   "metadata": {
    "id": "OdcgUwoknrrd"
   },
   "source": [
    "## We can interpret this ```<class '_io.TextIOWrapper'>``` to read the actual contents"
   ]
  },
  {
   "cell_type": "code",
   "execution_count": null,
   "metadata": {
    "id": "oU_37TIvD-Dl"
   },
   "outputs": [],
   "source": [
    "## let read all the lines and put into a list\n",
    "\n",
    "## let's see what the first line of file contains\n",
    "\n",
    "\n",
    "    "
   ]
  },
  {
   "cell_type": "code",
   "execution_count": null,
   "metadata": {
    "id": "y72rctb5D-Gu"
   },
   "outputs": [],
   "source": [
    "## Now let's place clients and decisions into variables called client and decision\n",
    "\n"
   ]
  },
  {
   "cell_type": "code",
   "execution_count": null,
   "metadata": {
    "id": "5yuvCxJoD-KT"
   },
   "outputs": [],
   "source": [
    "## let's remove the word client and the extra line\n",
    "\n"
   ]
  },
  {
   "cell_type": "code",
   "execution_count": null,
   "metadata": {
    "id": "opp5s8STjCye"
   },
   "outputs": [],
   "source": [
    "## We don't want an entire sentence – just what the decision was.\n",
    "## we just want to know the status of lease in one word renew or terminate\n",
    "\n"
   ]
  },
  {
   "cell_type": "code",
   "execution_count": null,
   "metadata": {
    "id": "9hEhNKkXjYHT"
   },
   "outputs": [],
   "source": [
    "## We want to store in a list to export as CSV file\n"
   ]
  },
  {
   "cell_type": "markdown",
   "metadata": {
    "id": "isxnLpPRlCRa"
   },
   "source": [
    "### Confirm where we are path-wise"
   ]
  },
  {
   "cell_type": "code",
   "execution_count": null,
   "metadata": {
    "id": "D-Qc3BZ8lCRa"
   },
   "outputs": [],
   "source": []
  },
  {
   "cell_type": "markdown",
   "metadata": {
    "id": "k9KTw-enlCRb"
   },
   "source": [
    "### Create new results directory (note we come out of the downloaded_files folder first)"
   ]
  },
  {
   "cell_type": "code",
   "execution_count": null,
   "metadata": {
    "id": "WglOFfLHlCRb"
   },
   "outputs": [],
   "source": []
  },
  {
   "cell_type": "code",
   "execution_count": null,
   "metadata": {
    "id": "otpHcPn4lCRb"
   },
   "outputs": [],
   "source": [
    "### cd into our results folder\n",
    "\n"
   ]
  },
  {
   "cell_type": "markdown",
   "metadata": {
    "id": "oKYRUg24lCRb"
   },
   "source": [
    "### Confirm we are in the results folder"
   ]
  },
  {
   "cell_type": "code",
   "execution_count": null,
   "metadata": {
    "id": "F-AMX1rIlCRb"
   },
   "outputs": [],
   "source": []
  },
  {
   "cell_type": "code",
   "execution_count": null,
   "metadata": {
    "id": "sIw6MAQNkazG"
   },
   "outputs": [],
   "source": [
    "## Export as CSV\n",
    "\n",
    "## use pandas to write to csv file\n",
    "## we already imported pandas as pd\n",
    "filename = \"lease_decisions.csv\" ## what are file name is\n",
    "df = pd.DataFrame(decisions) ## we turn our list of dicts into a dataframe which we're call df\n",
    "df\n",
    "df.to_csv(filename, encoding='utf-8', index=False) ## export to csv as utf-8 coding (it just has to be this)\n",
    "print(f\"{filename} is in your results folder!\") ## a print out that tells us the file is ready"
   ]
  }
 ],
 "metadata": {
  "celltoolbar": "Slideshow",
  "colab": {
   "collapsed_sections": [],
   "name": "week-8C-download-and-read_BLANK.ipynb",
   "provenance": [
    {
     "file_id": "1O76yK1JGDPc1kRTHTOIDjev2XbLGExhv",
     "timestamp": 1646785092936
    },
    {
     "file_id": "1U8zDTAuA8NQ2JaDzSqzSn03P2iT8KFLG",
     "timestamp": 1639579061177
    },
    {
     "file_id": "1tC30RwvbvYZQU9bLZ75I6kBbMski9LFN",
     "timestamp": 1628626954402
    }
   ]
  },
  "kernelspec": {
   "display_name": "Python 3 (ipykernel)",
   "language": "python",
   "name": "python3"
  },
  "language_info": {
   "codemirror_mode": {
    "name": "ipython",
    "version": 3
   },
   "file_extension": ".py",
   "mimetype": "text/x-python",
   "name": "python",
   "nbconvert_exporter": "python",
   "pygments_lexer": "ipython3",
   "version": "3.9.7"
  }
 },
 "nbformat": 4,
 "nbformat_minor": 1
}
