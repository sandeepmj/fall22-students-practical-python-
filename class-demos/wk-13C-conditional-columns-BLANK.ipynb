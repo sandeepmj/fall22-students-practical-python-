{
 "cells": [
  {
   "cell_type": "code",
   "execution_count": null,
   "id": "842d2f11",
   "metadata": {
    "id": "842d2f11"
   },
   "outputs": [],
   "source": [
    "## import libraries\n",
    "\n"
   ]
  },
  {
   "cell_type": "code",
   "execution_count": null,
   "id": "d2111ddd",
   "metadata": {
    "id": "d2111ddd"
   },
   "outputs": [],
   "source": [
    "## read dataframe\n",
    "df = pd.read_csv(\"https://raw.githubusercontent.com/sandeepmj/datasets/main/regex/energy-classification.csv\")\n",
    "df"
   ]
  },
  {
   "cell_type": "code",
   "execution_count": null,
   "id": "a82d5ff2",
   "metadata": {
    "id": "a82d5ff2"
   },
   "outputs": [],
   "source": [
    "## GET INFO\n"
   ]
  },
  {
   "cell_type": "markdown",
   "id": "51918c73",
   "metadata": {
    "id": "51918c73"
   },
   "source": [
    "### Create a \"category\" column based on the following:\n",
    "\n",
    "1. ```green``` if it contains the word \"green\".\n",
    "2. ```bio-gen``` if it contains the word \"bio\"\n",
    "4. ```off-grid``` for \"off-grid\"\n",
    "\n",
    "We'll encounter a few issues (of course) along the way.\n",
    "\n"
   ]
  },
  {
   "cell_type": "markdown",
   "id": "9727b266",
   "metadata": {
    "id": "9727b266"
   },
   "source": [
    "## 1. categories on the default dataframe"
   ]
  },
  {
   "cell_type": "code",
   "execution_count": null,
   "id": "3d23b325",
   "metadata": {
    "id": "3d23b325"
   },
   "outputs": [],
   "source": [
    "## write a function to filter\n"
   ]
  },
  {
   "cell_type": "code",
   "execution_count": null,
   "id": "a9fb76fc",
   "metadata": {
    "id": "a9fb76fc"
   },
   "outputs": [],
   "source": [
    "## apply it to create a new column\n"
   ]
  },
  {
   "cell_type": "markdown",
   "id": "d0340dea",
   "metadata": {
    "id": "d0340dea"
   },
   "source": [
    "### Several issues with this approach:\n",
    "\n",
    "- doesn't pick up variations\n",
    "- lots of repetition\n",
    "- considered slow if iterating through millions of rows\n",
    "\n",
    "### ```Numpy``` and ```dictionaries``` to the rescue\n",
    "\n",
    "```Numpy``` or numerical python is written in ```C```, the language our computers hardware runs. While ```Python``` has to be interpreted first before our hardware can read it. This makes ```Numpy``` a thousand times faster for some calcutions or operations.\n",
    "\n",
    "Let's use a mix of ```Numpy```, ```Python``` and ```Pandas``` to make our process faster and more efficient:"
   ]
  },
  {
   "cell_type": "code",
   "execution_count": null,
   "id": "33537232",
   "metadata": {
    "id": "33537232"
   },
   "outputs": [],
   "source": [
    "## import libraries additional libraries\n",
    "\n"
   ]
  },
  {
   "cell_type": "markdown",
   "id": "64b8c286",
   "metadata": {
    "id": "64b8c286"
   },
   "source": [
    "### Holding conditions within dictionaries\n",
    "\n",
    "Instead of writing many ```if else``` expressions, we can place conditions within a dictionary."
   ]
  },
  {
   "cell_type": "code",
   "execution_count": null,
   "id": "d71c7a3e",
   "metadata": {
    "id": "d71c7a3e"
   },
   "outputs": [],
   "source": [
    "## placing conditions in a variable called my_conditions\n"
   ]
  },
  {
   "cell_type": "code",
   "execution_count": null,
   "id": "bd41d222",
   "metadata": {
    "id": "bd41d222"
   },
   "outputs": [],
   "source": [
    "## get rid of some of the repetition\n",
    "## placing conditions in a variable called my_conditions\n",
    "## create an abbreviation\n"
   ]
  },
  {
   "cell_type": "markdown",
   "id": "fe7b6b67",
   "metadata": {
    "id": "fe7b6b67"
   },
   "source": [
    "### ```numpy.select()```\n",
    "\n",
    "Powerful and efficient way to add categories based on multiple conditions. \n",
    "\n",
    "```np.select(your_conditions, your_categories, default = \"default value if nothing matches\")```\n",
    "\n",
    "**Note**: If multiple conditions could match your string, this method selects only first match."
   ]
  },
  {
   "cell_type": "code",
   "execution_count": null,
   "id": "5ac81ce6",
   "metadata": {
    "id": "5ac81ce6"
   },
   "outputs": [],
   "source": [
    "## using numpy create a column call category\n"
   ]
  },
  {
   "cell_type": "code",
   "execution_count": null,
   "id": "16fd5ddc",
   "metadata": {
    "id": "16fd5ddc",
    "scrolled": true
   },
   "outputs": [],
   "source": [
    "## call our df\n"
   ]
  },
  {
   "cell_type": "code",
   "execution_count": null,
   "id": "82c19ef6",
   "metadata": {
    "id": "82c19ef6"
   },
   "outputs": [],
   "source": [
    "## Verify a few things\n"
   ]
  },
  {
   "cell_type": "code",
   "execution_count": null,
   "id": "062768b8",
   "metadata": {
    "id": "062768b8"
   },
   "outputs": [],
   "source": [
    "## how many of each?\n"
   ]
  },
  {
   "cell_type": "code",
   "execution_count": null,
   "id": "72d11e70",
   "metadata": {
    "id": "72d11e70"
   },
   "outputs": [],
   "source": [
    "## what fell into other?\n"
   ]
  },
  {
   "cell_type": "markdown",
   "id": "7021fdc5",
   "metadata": {
    "id": "7021fdc5"
   },
   "source": [
    "## Variation Issues:\n",
    "\n",
    "1. Different cases\n",
    "2. Spaces(or no spaces), hyphens, etc."
   ]
  },
  {
   "cell_type": "markdown",
   "id": "84ee4d93",
   "metadata": {
    "id": "84ee4d93"
   },
   "source": [
    "### 1.  – Dealing with different cases\n",
    "\n",
    "Solution: preprocess all entries by lowercasing"
   ]
  },
  {
   "cell_type": "code",
   "execution_count": null,
   "id": "775a1f25",
   "metadata": {
    "id": "775a1f25"
   },
   "outputs": [],
   "source": [
    "## preprocess by lowercasing\n"
   ]
  },
  {
   "cell_type": "markdown",
   "id": "bc1b3e35",
   "metadata": {
    "id": "bc1b3e35"
   },
   "source": [
    "### NOTE: the conditions code MUST be rerun.\n",
    "\n",
    "Otherwise the ```source``` columnn will still have the original casing."
   ]
  },
  {
   "cell_type": "code",
   "execution_count": null,
   "id": "67966dc8",
   "metadata": {
    "id": "67966dc8"
   },
   "outputs": [],
   "source": [
    "## placing conditions in a variable called my_conditions\n",
    "## create an abbreviation\n"
   ]
  },
  {
   "cell_type": "code",
   "execution_count": null,
   "id": "1e859507",
   "metadata": {
    "id": "1e859507"
   },
   "outputs": [],
   "source": [
    "## using numpy create a column call category\n"
   ]
  },
  {
   "cell_type": "code",
   "execution_count": null,
   "id": "649d0243",
   "metadata": {
    "id": "649d0243"
   },
   "outputs": [],
   "source": [
    "## call df\n"
   ]
  },
  {
   "cell_type": "code",
   "execution_count": null,
   "id": "06cd7946",
   "metadata": {
    "id": "06cd7946"
   },
   "outputs": [],
   "source": [
    "## how many values in new column\n"
   ]
  },
  {
   "cell_type": "code",
   "execution_count": null,
   "id": "84e462f6",
   "metadata": {
    "id": "84e462f6"
   },
   "outputs": [],
   "source": [
    "## how many values original column\n"
   ]
  },
  {
   "cell_type": "code",
   "execution_count": null,
   "id": "bcac1496",
   "metadata": {
    "id": "bcac1496"
   },
   "outputs": [],
   "source": [
    "## what fell into other this time?\n"
   ]
  },
  {
   "cell_type": "markdown",
   "id": "fd4fabfb",
   "metadata": {
    "id": "fd4fabfb"
   },
   "source": [
    "### 2. Deal with cases using regex instead\n"
   ]
  },
  {
   "cell_type": "code",
   "execution_count": null,
   "id": "87a791b4",
   "metadata": {
    "id": "87a791b4"
   },
   "outputs": [],
   "source": [
    "## let's title case our text again...for a redo.\n"
   ]
  },
  {
   "cell_type": "code",
   "execution_count": null,
   "id": "41d211a0",
   "metadata": {
    "id": "41d211a0"
   },
   "outputs": [],
   "source": [
    "## rerun conditions (otherwise it remembers old strings)\n"
   ]
  },
  {
   "cell_type": "code",
   "execution_count": null,
   "id": "d80d3b1e",
   "metadata": {
    "id": "d80d3b1e"
   },
   "outputs": [],
   "source": [
    "## apply df\n"
   ]
  },
  {
   "cell_type": "code",
   "execution_count": null,
   "id": "d9807244",
   "metadata": {
    "id": "d9807244"
   },
   "outputs": [],
   "source": [
    "## call df\n"
   ]
  },
  {
   "cell_type": "markdown",
   "id": "438aeba9",
   "metadata": {
    "id": "438aeba9"
   },
   "source": [
    "## 3. Dealing with spacing, hypens, no space etc."
   ]
  },
  {
   "cell_type": "code",
   "execution_count": null,
   "id": "ba3b527a",
   "metadata": {
    "id": "ba3b527a"
   },
   "outputs": [],
   "source": [
    "## reset our df\n",
    "df = pd.read_csv(\"https://raw.githubusercontent.com/sandeepmj/datasets/main/regex/energy-classification.csv\")\n",
    "df"
   ]
  },
  {
   "cell_type": "code",
   "execution_count": null,
   "id": "f421e66b",
   "metadata": {
    "id": "f421e66b"
   },
   "outputs": [],
   "source": [
    "## recreate our conditions\n"
   ]
  },
  {
   "cell_type": "code",
   "execution_count": null,
   "id": "421227cf",
   "metadata": {
    "id": "421227cf"
   },
   "outputs": [],
   "source": [
    "## run our conditions to create a new column\n"
   ]
  },
  {
   "cell_type": "code",
   "execution_count": null,
   "id": "a7055499",
   "metadata": {
    "id": "a7055499"
   },
   "outputs": [],
   "source": [
    "## call our df\n"
   ]
  },
  {
   "cell_type": "code",
   "execution_count": null,
   "id": "657ca033",
   "metadata": {
    "id": "657ca033"
   },
   "outputs": [],
   "source": [
    "## what is other now?\n"
   ]
  },
  {
   "cell_type": "markdown",
   "id": "b933127f",
   "metadata": {
    "id": "b933127f"
   },
   "source": [
    "## Final Step - category datatype\n",
    "\n",
    "If we were working with a massive dataset, we'd want add some memory efficiencies.\n",
    "\n",
    "One way is to take columns with just a few data points and turn them into categories.For example, the \"category\" column has \"other\", \"green\", \"off-grid\" and \"bio-gen\" as strings over and over again.\n",
    "\n",
    "Instead of a ```string```, we can convert it to a ```category``` datatype. This has an immediate memory savings on non-demo data sets.\n",
    "\n"
   ]
  },
  {
   "cell_type": "code",
   "execution_count": null,
   "id": "9652eab5",
   "metadata": {
    "id": "9652eab5"
   },
   "outputs": [],
   "source": [
    "## check out datatype\n"
   ]
  },
  {
   "cell_type": "code",
   "execution_count": null,
   "id": "53887689",
   "metadata": {
    "id": "53887689"
   },
   "outputs": [],
   "source": [
    "## let's multiply our series by 1 million\n"
   ]
  },
  {
   "cell_type": "markdown",
   "id": "ff4ded1a",
   "metadata": {
    "id": "ff4ded1a"
   },
   "source": [
    "### ```series.nbytes``` returns the number of bytes in the underlying data."
   ]
  },
  {
   "cell_type": "code",
   "execution_count": null,
   "id": "c230569e",
   "metadata": {
    "id": "c230569e"
   },
   "outputs": [],
   "source": [
    "## how many nbytes for about 1 million rows in the orginal data when it is a string/object\n"
   ]
  },
  {
   "cell_type": "code",
   "execution_count": null,
   "id": "6001b93c",
   "metadata": {
    "id": "6001b93c"
   },
   "outputs": [],
   "source": [
    "## let's convert to a `category` datatype and see how many nbytes\n"
   ]
  },
  {
   "cell_type": "code",
   "execution_count": null,
   "id": "4ecdd2d4",
   "metadata": {
    "id": "4ecdd2d4"
   },
   "outputs": [],
   "source": [
    "## convert our column to a \"category\"\n",
    "## you won't see the improvement in such a small dataset\n"
   ]
  },
  {
   "cell_type": "code",
   "execution_count": null,
   "id": "bdfe1b43",
   "metadata": {
    "id": "bdfe1b43"
   },
   "outputs": [],
   "source": []
  }
 ],
 "metadata": {
  "colab": {
   "collapsed_sections": [
    "84ee4d93",
    "bc1b3e35",
    "fd4fabfb",
    "ff4ded1a"
   ],
   "provenance": []
  },
  "kernelspec": {
   "display_name": "Python 3 (ipykernel)",
   "language": "python",
   "name": "python3"
  },
  "language_info": {
   "codemirror_mode": {
    "name": "ipython",
    "version": 3
   },
   "file_extension": ".py",
   "mimetype": "text/x-python",
   "name": "python",
   "nbconvert_exporter": "python",
   "pygments_lexer": "ipython3",
   "version": "3.9.7"
  }
 },
 "nbformat": 4,
 "nbformat_minor": 5
}
