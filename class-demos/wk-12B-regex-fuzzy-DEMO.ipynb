{
 "cells": [
  {
   "cell_type": "markdown",
   "id": "a18ef8a3",
   "metadata": {
    "id": "a18ef8a3"
   },
   "source": [
    "# Fuzzy Matching\n",
    "\n",
    "We are faced with a dataset that has names of people,companies or products, etc. that all have mispellings or variations. How do we lump like items as one despite their variations?\n",
    "\n",
    "Let's explore a few different techniques to group items that are obviously similar."
   ]
  },
  {
   "cell_type": "code",
   "execution_count": 4,
   "id": "0f2fb899",
   "metadata": {
    "id": "0f2fb899"
   },
   "outputs": [],
   "source": [
    "## import libraries\n",
    "import pandas as pd\n",
    "import re\n"
   ]
  },
  {
   "cell_type": "code",
   "execution_count": 3,
   "id": "d2d375f0",
   "metadata": {
    "id": "d2d375f0"
   },
   "outputs": [
    {
     "data": {
      "text/html": [
       "<div>\n",
       "<style scoped>\n",
       "    .dataframe tbody tr th:only-of-type {\n",
       "        vertical-align: middle;\n",
       "    }\n",
       "\n",
       "    .dataframe tbody tr th {\n",
       "        vertical-align: top;\n",
       "    }\n",
       "\n",
       "    .dataframe thead th {\n",
       "        text-align: right;\n",
       "    }\n",
       "</style>\n",
       "<table border=\"1\" class=\"dataframe\">\n",
       "  <thead>\n",
       "    <tr style=\"text-align: right;\">\n",
       "      <th></th>\n",
       "      <th>name</th>\n",
       "    </tr>\n",
       "  </thead>\n",
       "  <tbody>\n",
       "    <tr>\n",
       "      <th>0</th>\n",
       "      <td>Albert Einstein</td>\n",
       "    </tr>\n",
       "    <tr>\n",
       "      <th>1</th>\n",
       "      <td>Einsten, Albert</td>\n",
       "    </tr>\n",
       "    <tr>\n",
       "      <th>2</th>\n",
       "      <td>coke</td>\n",
       "    </tr>\n",
       "    <tr>\n",
       "      <th>3</th>\n",
       "      <td>Mr. Einstein, Al</td>\n",
       "    </tr>\n",
       "    <tr>\n",
       "      <th>4</th>\n",
       "      <td>Marie Salomea Skłodowska–Curie</td>\n",
       "    </tr>\n",
       "    <tr>\n",
       "      <th>5</th>\n",
       "      <td>Curie Marie</td>\n",
       "    </tr>\n",
       "    <tr>\n",
       "      <th>6</th>\n",
       "      <td>coca-cola</td>\n",
       "    </tr>\n",
       "    <tr>\n",
       "      <th>7</th>\n",
       "      <td>Marie S. Curie</td>\n",
       "    </tr>\n",
       "    <tr>\n",
       "      <th>8</th>\n",
       "      <td>Dr. Marie Curry</td>\n",
       "    </tr>\n",
       "    <tr>\n",
       "      <th>9</th>\n",
       "      <td>The Coca-Cola Company</td>\n",
       "    </tr>\n",
       "    <tr>\n",
       "      <th>10</th>\n",
       "      <td>Prof. Al Einstein</td>\n",
       "    </tr>\n",
       "    <tr>\n",
       "      <th>11</th>\n",
       "      <td>peps</td>\n",
       "    </tr>\n",
       "    <tr>\n",
       "      <th>12</th>\n",
       "      <td>pepsi-cola LLC</td>\n",
       "    </tr>\n",
       "    <tr>\n",
       "      <th>13</th>\n",
       "      <td>Ppsi-Cola Company</td>\n",
       "    </tr>\n",
       "    <tr>\n",
       "      <th>14</th>\n",
       "      <td>PepsiCo</td>\n",
       "    </tr>\n",
       "    <tr>\n",
       "      <th>15</th>\n",
       "      <td>Coa-cola Inc.</td>\n",
       "    </tr>\n",
       "  </tbody>\n",
       "</table>\n",
       "</div>"
      ],
      "text/plain": [
       "                              name\n",
       "0                  Albert Einstein\n",
       "1                  Einsten, Albert\n",
       "2                             coke\n",
       "3                 Mr. Einstein, Al\n",
       "4   Marie Salomea Skłodowska–Curie\n",
       "5                      Curie Marie\n",
       "6                       coca-cola \n",
       "7                   Marie S. Curie\n",
       "8                  Dr. Marie Curry\n",
       "9            The Coca-Cola Company\n",
       "10               Prof. Al Einstein\n",
       "11                            peps\n",
       "12                  pepsi-cola LLC\n",
       "13              Ppsi-Cola Company \n",
       "14                         PepsiCo\n",
       "15                   Coa-cola Inc."
      ]
     },
     "execution_count": 3,
     "metadata": {},
     "output_type": "execute_result"
    }
   ],
   "source": [
    "## read dataset\n",
    "df = pd.read_csv(\"https://raw.githubusercontent.com/sandeepmj/datasets/main/regex/variant-names.csv\")\n",
    "df"
   ]
  },
  {
   "cell_type": "markdown",
   "id": "827b8af9",
   "metadata": {
    "id": "827b8af9"
   },
   "source": [
    "### Pre-process data\n",
    "\n",
    "It's always a good idea to pre-process text to avoid the basic variation in letter casing.\n",
    "\n",
    "- Lowercase everything: It's always a good idea to pre-process text to avoid the basic variation in letter casing.\n",
    "- remove titles and honorifics (list of <a href=\"https://gist.github.com/neilhawkins/c7bb94e5b7ae558e826989d330418938\">English honorifics</a>)"
   ]
  },
  {
   "cell_type": "code",
   "execution_count": 6,
   "id": "2dae94f3",
   "metadata": {
    "id": "2dae94f3"
   },
   "outputs": [
    {
     "data": {
      "text/plain": [
       "['dr\\\\.', 'prof\\\\.', 'mrs\\\\.', 'mr\\\\.']"
      ]
     },
     "execution_count": 6,
     "metadata": {},
     "output_type": "execute_result"
    }
   ],
   "source": [
    "## But we'll target what we see:\n",
    "## note that we are leaving company and Inc. untouched for now.\n",
    "\n",
    "remove_words = [\"dr\\.\", \"prof\\.\", \"mrs\\.\", \"mr\\.\"]\n",
    "remove_words"
   ]
  },
  {
   "cell_type": "code",
   "execution_count": 7,
   "id": "fe562398",
   "metadata": {
    "id": "fe562398",
    "scrolled": true
   },
   "outputs": [
    {
     "data": {
      "text/html": [
       "<div>\n",
       "<style scoped>\n",
       "    .dataframe tbody tr th:only-of-type {\n",
       "        vertical-align: middle;\n",
       "    }\n",
       "\n",
       "    .dataframe tbody tr th {\n",
       "        vertical-align: top;\n",
       "    }\n",
       "\n",
       "    .dataframe thead th {\n",
       "        text-align: right;\n",
       "    }\n",
       "</style>\n",
       "<table border=\"1\" class=\"dataframe\">\n",
       "  <thead>\n",
       "    <tr style=\"text-align: right;\">\n",
       "      <th></th>\n",
       "      <th>name</th>\n",
       "    </tr>\n",
       "  </thead>\n",
       "  <tbody>\n",
       "    <tr>\n",
       "      <th>0</th>\n",
       "      <td>albert einstein</td>\n",
       "    </tr>\n",
       "    <tr>\n",
       "      <th>1</th>\n",
       "      <td>einsten, albert</td>\n",
       "    </tr>\n",
       "    <tr>\n",
       "      <th>2</th>\n",
       "      <td>coke</td>\n",
       "    </tr>\n",
       "    <tr>\n",
       "      <th>3</th>\n",
       "      <td>einstein, al</td>\n",
       "    </tr>\n",
       "    <tr>\n",
       "      <th>4</th>\n",
       "      <td>marie salomea skłodowska–curie</td>\n",
       "    </tr>\n",
       "    <tr>\n",
       "      <th>5</th>\n",
       "      <td>curie marie</td>\n",
       "    </tr>\n",
       "    <tr>\n",
       "      <th>6</th>\n",
       "      <td>coca-cola</td>\n",
       "    </tr>\n",
       "    <tr>\n",
       "      <th>7</th>\n",
       "      <td>marie s. curie</td>\n",
       "    </tr>\n",
       "    <tr>\n",
       "      <th>8</th>\n",
       "      <td>marie curry</td>\n",
       "    </tr>\n",
       "    <tr>\n",
       "      <th>9</th>\n",
       "      <td>the coca-cola company</td>\n",
       "    </tr>\n",
       "    <tr>\n",
       "      <th>10</th>\n",
       "      <td>al einstein</td>\n",
       "    </tr>\n",
       "    <tr>\n",
       "      <th>11</th>\n",
       "      <td>peps</td>\n",
       "    </tr>\n",
       "    <tr>\n",
       "      <th>12</th>\n",
       "      <td>pepsi-cola llc</td>\n",
       "    </tr>\n",
       "    <tr>\n",
       "      <th>13</th>\n",
       "      <td>ppsi-cola company</td>\n",
       "    </tr>\n",
       "    <tr>\n",
       "      <th>14</th>\n",
       "      <td>pepsico</td>\n",
       "    </tr>\n",
       "    <tr>\n",
       "      <th>15</th>\n",
       "      <td>coa-cola inc.</td>\n",
       "    </tr>\n",
       "  </tbody>\n",
       "</table>\n",
       "</div>"
      ],
      "text/plain": [
       "                              name\n",
       "0                  albert einstein\n",
       "1                  einsten, albert\n",
       "2                             coke\n",
       "3                     einstein, al\n",
       "4   marie salomea skłodowska–curie\n",
       "5                      curie marie\n",
       "6                       coca-cola \n",
       "7                   marie s. curie\n",
       "8                      marie curry\n",
       "9            the coca-cola company\n",
       "10                     al einstein\n",
       "11                            peps\n",
       "12                  pepsi-cola llc\n",
       "13              ppsi-cola company \n",
       "14                         pepsico\n",
       "15                   coa-cola inc."
      ]
     },
     "execution_count": 7,
     "metadata": {},
     "output_type": "execute_result"
    }
   ],
   "source": [
    "## run search and replace with regex \n",
    "## to look for any of these terms and remove them regardless of position\n",
    "df[\"name\"] = df[\"name\"].str.lower().str.replace('|'.join(remove_words), \"\", regex = True)\n",
    "df"
   ]
  },
  {
   "cell_type": "markdown",
   "id": "6659ad31",
   "metadata": {
    "id": "6659ad31"
   },
   "source": [
    "## Fuzzy Matching\n",
    "\n",
    "Fuzzy matching is a mathematical technique used to determine the similarity between two strings. \n",
    "\n",
    "A very simplified explaination is that it calcuates the number of changes (additions, deletions and moves) are required to make one string identical to another. \n",
    "\n",
    "<a href=\"https://nanonets.com/blog/fuzzy-matching-fuzzy-logic/\">Read more</a> about how it works.\n",
    "\n"
   ]
  },
  {
   "cell_type": "markdown",
   "id": "eb1beff9",
   "metadata": {
    "id": "eb1beff9"
   },
   "source": [
    "### pip install FuzzyWuzzy\n",
    "This package that implements a similiarity algorithm – the <a href=\"https://en.wikipedia.org/wiki/Levenshtein_distance\">Levenshtein distance similarity ratio</a> – to determine how similar two strings are."
   ]
  },
  {
   "cell_type": "code",
   "execution_count": 8,
   "id": "025213e5",
   "metadata": {
    "id": "025213e5"
   },
   "outputs": [
    {
     "name": "stdout",
     "output_type": "stream",
     "text": [
      "Requirement already satisfied: fuzzywuzzy in /Users/sandeepjunnarkar/opt/anaconda3/lib/python3.9/site-packages (0.18.0)\n",
      "Note: you may need to restart the kernel to use updated packages.\n"
     ]
    }
   ],
   "source": [
    "pip install fuzzywuzzy"
   ]
  },
  {
   "cell_type": "markdown",
   "id": "b99f40ed",
   "metadata": {
    "id": "b99f40ed"
   },
   "source": [
    "### pip install python-Levenshtein \n",
    "This package is not required but I recommend it because it speeds up the analysis up to 10X. "
   ]
  },
  {
   "cell_type": "code",
   "execution_count": 9,
   "id": "e8c4a369",
   "metadata": {
    "id": "e8c4a369"
   },
   "outputs": [
    {
     "name": "stdout",
     "output_type": "stream",
     "text": [
      "Requirement already satisfied: python-Levenshtein in /Users/sandeepjunnarkar/opt/anaconda3/lib/python3.9/site-packages (0.20.5)\n",
      "Requirement already satisfied: Levenshtein==0.20.5 in /Users/sandeepjunnarkar/opt/anaconda3/lib/python3.9/site-packages (from python-Levenshtein) (0.20.5)\n",
      "Requirement already satisfied: rapidfuzz<3.0.0,>=2.3.0 in /Users/sandeepjunnarkar/opt/anaconda3/lib/python3.9/site-packages (from Levenshtein==0.20.5->python-Levenshtein) (2.11.1)\n",
      "Note: you may need to restart the kernel to use updated packages.\n"
     ]
    }
   ],
   "source": [
    "pip install python-Levenshtein"
   ]
  },
  {
   "cell_type": "code",
   "execution_count": 10,
   "id": "6d5f7930",
   "metadata": {
    "id": "6d5f7930"
   },
   "outputs": [],
   "source": [
    "## import various packages\n",
    "\n",
    "import fuzzywuzzy\n",
    "from fuzzywuzzy import fuzz\n",
    "from fuzzywuzzy import process"
   ]
  },
  {
   "cell_type": "markdown",
   "id": "7de6d746",
   "metadata": {
    "id": "7de6d746"
   },
   "source": [
    "### ```fuzz.ratio(string1, string2)```\n",
    "\n",
    "This functions returns the similarty ratio between two strings. "
   ]
  },
  {
   "cell_type": "code",
   "execution_count": 11,
   "id": "5ec33eb9",
   "metadata": {
    "id": "5ec33eb9"
   },
   "outputs": [
    {
     "data": {
      "text/plain": [
       "75"
      ]
     },
     "execution_count": 11,
     "metadata": {},
     "output_type": "execute_result"
    }
   ],
   "source": [
    "## what's the fuzz ratio between \"Al Einten\" and \"Albert Einstein\"\n",
    "fuzz.ratio(\"Al Einten\", \"Albert Einstein\")"
   ]
  },
  {
   "cell_type": "code",
   "execution_count": 12,
   "id": "86d921f9",
   "metadata": {
    "id": "86d921f9"
   },
   "outputs": [
    {
     "data": {
      "text/plain": [
       "89"
      ]
     },
     "execution_count": 12,
     "metadata": {},
     "output_type": "execute_result"
    }
   ],
   "source": [
    "## what's the fuzz ratio between \"Albet Einten\" and \"Albert Einstein\"\n",
    "fuzz.ratio(\"Albet Einten\", \"Albert Einstein\")"
   ]
  },
  {
   "cell_type": "code",
   "execution_count": 13,
   "id": "f18a3aec",
   "metadata": {
    "id": "f18a3aec"
   },
   "outputs": [
    {
     "data": {
      "text/plain": [
       "48"
      ]
     },
     "execution_count": 13,
     "metadata": {},
     "output_type": "execute_result"
    }
   ],
   "source": [
    "## what's the fuzz ratio between \"albert einsten\", \"einsten, albert\"\n",
    "fuzz.ratio(\"albert einsten\", \"einsten, albert\")"
   ]
  },
  {
   "cell_type": "markdown",
   "id": "6a1122e1",
   "metadata": {
    "id": "6a1122e1"
   },
   "source": [
    "### ```fuzz.partial_ratio(string1, string2)```\n",
    "\n",
    "This function is ideal for substring matching which involving checking the value of the shortest string against substrings in a longer string.\n",
    "\n",
    "This is useful when checking a name that includes the first, middle and last name againt just the last name."
   ]
  },
  {
   "cell_type": "code",
   "execution_count": 15,
   "id": "c1c2e22f",
   "metadata": {
    "id": "c1c2e22f"
   },
   "outputs": [
    {
     "data": {
      "text/plain": [
       "100"
      ]
     },
     "execution_count": 15,
     "metadata": {},
     "output_type": "execute_result"
    }
   ],
   "source": [
    "## ADD CELLS AS NEEDED\n",
    "fuzz.partial_ratio(\"Einstein\", \"Einstein, Albert\")"
   ]
  },
  {
   "cell_type": "code",
   "execution_count": 16,
   "id": "e75dc4a7",
   "metadata": {},
   "outputs": [
    {
     "data": {
      "text/plain": [
       "100"
      ]
     },
     "execution_count": 16,
     "metadata": {},
     "output_type": "execute_result"
    }
   ],
   "source": [
    "fuzz.partial_ratio(\"Einstein, Al\", \"Einstein, Albert\")"
   ]
  },
  {
   "cell_type": "code",
   "execution_count": 18,
   "id": "6076222f",
   "metadata": {},
   "outputs": [
    {
     "data": {
      "text/plain": [
       "46"
      ]
     },
     "execution_count": 18,
     "metadata": {},
     "output_type": "execute_result"
    }
   ],
   "source": [
    "fuzz.partial_ratio"
   ]
  },
  {
   "cell_type": "markdown",
   "id": "eefa0359",
   "metadata": {
    "id": "eefa0359"
   },
   "source": [
    "### ```fuzz.token_sort_ratio(string1, string2)```\n",
    "\n",
    "This function first tokenizes each string, lowercases each token, removes punctuation and then sorts the tokens alphabetically.\n",
    "\n",
    "This is most useful when comparing strings with names of people or companies that are in different order.\n",
    "\n",
    "Note that if the names are spelled differently the ratio decreases."
   ]
  },
  {
   "cell_type": "code",
   "execution_count": 17,
   "id": "d16a7dcb",
   "metadata": {
    "id": "d16a7dcb"
   },
   "outputs": [
    {
     "data": {
      "text/plain": [
       "97"
      ]
     },
     "execution_count": 17,
     "metadata": {},
     "output_type": "execute_result"
    }
   ],
   "source": [
    "## ADD CELLS AS NEEDED\n",
    "fuzz.token_sort_ratio(\"Albert Einsten\", \"Einstein, Albert\")"
   ]
  },
  {
   "cell_type": "code",
   "execution_count": 19,
   "id": "3d636317",
   "metadata": {},
   "outputs": [
    {
     "data": {
      "text/plain": [
       "100"
      ]
     },
     "execution_count": 19,
     "metadata": {},
     "output_type": "execute_result"
    }
   ],
   "source": [
    "fuzz.token_sort_ratio(\"albert einsten\", \"einsten, albert\")"
   ]
  },
  {
   "cell_type": "markdown",
   "id": "e5c77602",
   "metadata": {
    "id": "e5c77602"
   },
   "source": [
    "## Application"
   ]
  },
  {
   "cell_type": "code",
   "execution_count": 20,
   "id": "c412ac14",
   "metadata": {
    "id": "c412ac14"
   },
   "outputs": [
    {
     "data": {
      "text/html": [
       "<div>\n",
       "<style scoped>\n",
       "    .dataframe tbody tr th:only-of-type {\n",
       "        vertical-align: middle;\n",
       "    }\n",
       "\n",
       "    .dataframe tbody tr th {\n",
       "        vertical-align: top;\n",
       "    }\n",
       "\n",
       "    .dataframe thead th {\n",
       "        text-align: right;\n",
       "    }\n",
       "</style>\n",
       "<table border=\"1\" class=\"dataframe\">\n",
       "  <thead>\n",
       "    <tr style=\"text-align: right;\">\n",
       "      <th></th>\n",
       "      <th>name</th>\n",
       "    </tr>\n",
       "  </thead>\n",
       "  <tbody>\n",
       "    <tr>\n",
       "      <th>0</th>\n",
       "      <td>albert einstein</td>\n",
       "    </tr>\n",
       "    <tr>\n",
       "      <th>1</th>\n",
       "      <td>einsten, albert</td>\n",
       "    </tr>\n",
       "    <tr>\n",
       "      <th>2</th>\n",
       "      <td>coke</td>\n",
       "    </tr>\n",
       "    <tr>\n",
       "      <th>3</th>\n",
       "      <td>einstein, al</td>\n",
       "    </tr>\n",
       "    <tr>\n",
       "      <th>4</th>\n",
       "      <td>marie salomea skłodowska–curie</td>\n",
       "    </tr>\n",
       "    <tr>\n",
       "      <th>5</th>\n",
       "      <td>curie marie</td>\n",
       "    </tr>\n",
       "    <tr>\n",
       "      <th>6</th>\n",
       "      <td>coca-cola</td>\n",
       "    </tr>\n",
       "    <tr>\n",
       "      <th>7</th>\n",
       "      <td>marie s. curie</td>\n",
       "    </tr>\n",
       "    <tr>\n",
       "      <th>8</th>\n",
       "      <td>marie curry</td>\n",
       "    </tr>\n",
       "    <tr>\n",
       "      <th>9</th>\n",
       "      <td>the coca-cola company</td>\n",
       "    </tr>\n",
       "    <tr>\n",
       "      <th>10</th>\n",
       "      <td>al einstein</td>\n",
       "    </tr>\n",
       "    <tr>\n",
       "      <th>11</th>\n",
       "      <td>peps</td>\n",
       "    </tr>\n",
       "    <tr>\n",
       "      <th>12</th>\n",
       "      <td>pepsi-cola llc</td>\n",
       "    </tr>\n",
       "    <tr>\n",
       "      <th>13</th>\n",
       "      <td>ppsi-cola company</td>\n",
       "    </tr>\n",
       "    <tr>\n",
       "      <th>14</th>\n",
       "      <td>pepsico</td>\n",
       "    </tr>\n",
       "    <tr>\n",
       "      <th>15</th>\n",
       "      <td>coa-cola inc.</td>\n",
       "    </tr>\n",
       "  </tbody>\n",
       "</table>\n",
       "</div>"
      ],
      "text/plain": [
       "                              name\n",
       "0                  albert einstein\n",
       "1                  einsten, albert\n",
       "2                             coke\n",
       "3                     einstein, al\n",
       "4   marie salomea skłodowska–curie\n",
       "5                      curie marie\n",
       "6                       coca-cola \n",
       "7                   marie s. curie\n",
       "8                      marie curry\n",
       "9            the coca-cola company\n",
       "10                     al einstein\n",
       "11                            peps\n",
       "12                  pepsi-cola llc\n",
       "13              ppsi-cola company \n",
       "14                         pepsico\n",
       "15                   coa-cola inc."
      ]
     },
     "execution_count": 20,
     "metadata": {},
     "output_type": "execute_result"
    }
   ],
   "source": [
    "## recall our df\n",
    "df"
   ]
  },
  {
   "cell_type": "markdown",
   "id": "c1bfe017",
   "metadata": {
    "id": "c1bfe017"
   },
   "source": [
    "### Pre-process to remove company abbreviations"
   ]
  },
  {
   "cell_type": "code",
   "execution_count": 21,
   "id": "dbbf57fc",
   "metadata": {
    "id": "dbbf57fc"
   },
   "outputs": [],
   "source": [
    "## list of remove words\n",
    "remove_words = [\"the\", \"inc\\.\", \"incorporated\", \"llc\", \"limited liability corporation\"\n",
    "                \"assoc\\.\", \"Associtation\", \"Bros\\.\", \"Brothers\", \"Co\\.\", 'company',\n",
    "                \"corp\\.\", \"Corporation\", \"ltd\\.\", \"limited\", \"mfg.\", \"manufacturing\",\n",
    "                \"mfrs\\.\" \"manufacturers\"]\n",
    "\n"
   ]
  },
  {
   "cell_type": "code",
   "execution_count": 23,
   "id": "960198c7",
   "metadata": {
    "id": "960198c7"
   },
   "outputs": [
    {
     "data": {
      "text/html": [
       "<div>\n",
       "<style scoped>\n",
       "    .dataframe tbody tr th:only-of-type {\n",
       "        vertical-align: middle;\n",
       "    }\n",
       "\n",
       "    .dataframe tbody tr th {\n",
       "        vertical-align: top;\n",
       "    }\n",
       "\n",
       "    .dataframe thead th {\n",
       "        text-align: right;\n",
       "    }\n",
       "</style>\n",
       "<table border=\"1\" class=\"dataframe\">\n",
       "  <thead>\n",
       "    <tr style=\"text-align: right;\">\n",
       "      <th></th>\n",
       "      <th>name</th>\n",
       "    </tr>\n",
       "  </thead>\n",
       "  <tbody>\n",
       "    <tr>\n",
       "      <th>0</th>\n",
       "      <td>albert einstein</td>\n",
       "    </tr>\n",
       "    <tr>\n",
       "      <th>1</th>\n",
       "      <td>einsten, albert</td>\n",
       "    </tr>\n",
       "    <tr>\n",
       "      <th>2</th>\n",
       "      <td>coke</td>\n",
       "    </tr>\n",
       "    <tr>\n",
       "      <th>3</th>\n",
       "      <td>einstein, al</td>\n",
       "    </tr>\n",
       "    <tr>\n",
       "      <th>4</th>\n",
       "      <td>marie salomea skłodowska–curie</td>\n",
       "    </tr>\n",
       "    <tr>\n",
       "      <th>5</th>\n",
       "      <td>curie marie</td>\n",
       "    </tr>\n",
       "    <tr>\n",
       "      <th>6</th>\n",
       "      <td>coca-cola</td>\n",
       "    </tr>\n",
       "    <tr>\n",
       "      <th>7</th>\n",
       "      <td>marie s. curie</td>\n",
       "    </tr>\n",
       "    <tr>\n",
       "      <th>8</th>\n",
       "      <td>marie curry</td>\n",
       "    </tr>\n",
       "    <tr>\n",
       "      <th>9</th>\n",
       "      <td>coca-cola</td>\n",
       "    </tr>\n",
       "    <tr>\n",
       "      <th>10</th>\n",
       "      <td>al einstein</td>\n",
       "    </tr>\n",
       "    <tr>\n",
       "      <th>11</th>\n",
       "      <td>peps</td>\n",
       "    </tr>\n",
       "    <tr>\n",
       "      <th>12</th>\n",
       "      <td>pepsi-cola</td>\n",
       "    </tr>\n",
       "    <tr>\n",
       "      <th>13</th>\n",
       "      <td>ppsi-cola</td>\n",
       "    </tr>\n",
       "    <tr>\n",
       "      <th>14</th>\n",
       "      <td>pepsico</td>\n",
       "    </tr>\n",
       "    <tr>\n",
       "      <th>15</th>\n",
       "      <td>coa-cola</td>\n",
       "    </tr>\n",
       "  </tbody>\n",
       "</table>\n",
       "</div>"
      ],
      "text/plain": [
       "                              name\n",
       "0                  albert einstein\n",
       "1                  einsten, albert\n",
       "2                             coke\n",
       "3                     einstein, al\n",
       "4   marie salomea skłodowska–curie\n",
       "5                      curie marie\n",
       "6                       coca-cola \n",
       "7                   marie s. curie\n",
       "8                      marie curry\n",
       "9                       coca-cola \n",
       "10                     al einstein\n",
       "11                            peps\n",
       "12                     pepsi-cola \n",
       "13                     ppsi-cola  \n",
       "14                         pepsico\n",
       "15                       coa-cola "
      ]
     },
     "execution_count": 23,
     "metadata": {},
     "output_type": "execute_result"
    }
   ],
   "source": [
    "## apply the remove words\n",
    "df[\"name\"] = df[\"name\"].str.replace('|'.join(remove_words), \"\", flags = re.I, regex = True)\n",
    "df"
   ]
  },
  {
   "cell_type": "markdown",
   "id": "acf8289d",
   "metadata": {
    "id": "acf8289d"
   },
   "source": [
    "## ```fuzz.token_sort_ratio``` in a function\n",
    "\n",
    "- Write a function that checks a \"correct spelling\" against a possible variation.\n",
    "- If it meets a minimally acceptable ratio, add the correct spelling in a new column.\n",
    "- Also return the calculated ratio in a separate column"
   ]
  },
  {
   "cell_type": "code",
   "execution_count": 24,
   "id": "6ecf887c",
   "metadata": {},
   "outputs": [],
   "source": [
    "## list of known companies and people\n",
    "known_entities = [\n",
    "    \"albert einstein\",\n",
    "    \"marie curie\",\n",
    "    \"coca-cola\",\n",
    "    \"pepsico\"\n",
    "    \n",
    "]"
   ]
  },
  {
   "cell_type": "code",
   "execution_count": 25,
   "id": "f5ed9921",
   "metadata": {
    "id": "f5ed9921"
   },
   "outputs": [],
   "source": [
    "## write the function here\n",
    "\n",
    "def check_prox(seek_values, string, min_ratio):\n",
    "    for value in seek_values:\n",
    "        ratio = fuzz.token_sort_ratio(value, string)\n",
    "        if ratio >= min_ratio:\n",
    "            return value, ratio\n",
    "        \n"
   ]
  },
  {
   "cell_type": "code",
   "execution_count": 28,
   "id": "1ffd0dee",
   "metadata": {},
   "outputs": [
    {
     "data": {
      "text/plain": [
       "('marie curie', 73)"
      ]
     },
     "execution_count": 28,
     "metadata": {},
     "output_type": "execute_result"
    }
   ],
   "source": [
    "## try it out\n",
    "x, y = check_prox(known_entities, \"marie salomea curie\", 60)\n"
   ]
  },
  {
   "cell_type": "code",
   "execution_count": null,
   "id": "99bfabf6",
   "metadata": {
    "id": "99bfabf6"
   },
   "outputs": [],
   "source": [
    "## list of know companies and people\n"
   ]
  },
  {
   "cell_type": "code",
   "execution_count": null,
   "id": "f5ab7cad",
   "metadata": {
    "id": "f5ab7cad"
   },
   "outputs": [],
   "source": [
    "## store result in a variable\n"
   ]
  },
  {
   "cell_type": "code",
   "execution_count": 29,
   "id": "2ace8e8e",
   "metadata": {
    "id": "2ace8e8e"
   },
   "outputs": [
    {
     "data": {
      "text/plain": [
       "('marie curie', 73)"
      ]
     },
     "execution_count": 29,
     "metadata": {},
     "output_type": "execute_result"
    }
   ],
   "source": [
    "## call the two variables\n",
    "x, y"
   ]
  },
  {
   "cell_type": "markdown",
   "id": "858a89b4",
   "metadata": {
    "id": "858a89b4"
   },
   "source": [
    "## Apply to our df"
   ]
  },
  {
   "cell_type": "code",
   "execution_count": 35,
   "id": "f7d08e75",
   "metadata": {
    "id": "f7d08e75"
   },
   "outputs": [
    {
     "data": {
      "text/html": [
       "<div>\n",
       "<style scoped>\n",
       "    .dataframe tbody tr th:only-of-type {\n",
       "        vertical-align: middle;\n",
       "    }\n",
       "\n",
       "    .dataframe tbody tr th {\n",
       "        vertical-align: top;\n",
       "    }\n",
       "\n",
       "    .dataframe thead th {\n",
       "        text-align: right;\n",
       "    }\n",
       "</style>\n",
       "<table border=\"1\" class=\"dataframe\">\n",
       "  <thead>\n",
       "    <tr style=\"text-align: right;\">\n",
       "      <th></th>\n",
       "      <th>name</th>\n",
       "      <th>fuzzname-ratio</th>\n",
       "    </tr>\n",
       "  </thead>\n",
       "  <tbody>\n",
       "    <tr>\n",
       "      <th>0</th>\n",
       "      <td>albert einstein</td>\n",
       "      <td>(albert einstein, 100)</td>\n",
       "    </tr>\n",
       "    <tr>\n",
       "      <th>1</th>\n",
       "      <td>einsten, albert</td>\n",
       "      <td>(albert einstein, 97)</td>\n",
       "    </tr>\n",
       "    <tr>\n",
       "      <th>2</th>\n",
       "      <td>coke</td>\n",
       "      <td>None</td>\n",
       "    </tr>\n",
       "    <tr>\n",
       "      <th>3</th>\n",
       "      <td>einstein, al</td>\n",
       "      <td>(albert einstein, 85)</td>\n",
       "    </tr>\n",
       "    <tr>\n",
       "      <th>4</th>\n",
       "      <td>marie salomea skłodowska–curie</td>\n",
       "      <td>None</td>\n",
       "    </tr>\n",
       "    <tr>\n",
       "      <th>5</th>\n",
       "      <td>curie marie</td>\n",
       "      <td>(marie curie, 100)</td>\n",
       "    </tr>\n",
       "    <tr>\n",
       "      <th>6</th>\n",
       "      <td>coca-cola</td>\n",
       "      <td>(coca-cola, 100)</td>\n",
       "    </tr>\n",
       "    <tr>\n",
       "      <th>7</th>\n",
       "      <td>marie s. curie</td>\n",
       "      <td>(marie curie, 92)</td>\n",
       "    </tr>\n",
       "    <tr>\n",
       "      <th>8</th>\n",
       "      <td>marie curry</td>\n",
       "      <td>(marie curie, 82)</td>\n",
       "    </tr>\n",
       "    <tr>\n",
       "      <th>9</th>\n",
       "      <td>coca-cola</td>\n",
       "      <td>(coca-cola, 100)</td>\n",
       "    </tr>\n",
       "    <tr>\n",
       "      <th>10</th>\n",
       "      <td>al einstein</td>\n",
       "      <td>(albert einstein, 85)</td>\n",
       "    </tr>\n",
       "    <tr>\n",
       "      <th>11</th>\n",
       "      <td>peps</td>\n",
       "      <td>(pepsico, 73)</td>\n",
       "    </tr>\n",
       "    <tr>\n",
       "      <th>12</th>\n",
       "      <td>pepsi-cola</td>\n",
       "      <td>None</td>\n",
       "    </tr>\n",
       "    <tr>\n",
       "      <th>13</th>\n",
       "      <td>ppsi-cola</td>\n",
       "      <td>None</td>\n",
       "    </tr>\n",
       "    <tr>\n",
       "      <th>14</th>\n",
       "      <td>pepsico</td>\n",
       "      <td>(pepsico, 100)</td>\n",
       "    </tr>\n",
       "    <tr>\n",
       "      <th>15</th>\n",
       "      <td>coa-cola</td>\n",
       "      <td>(coca-cola, 94)</td>\n",
       "    </tr>\n",
       "  </tbody>\n",
       "</table>\n",
       "</div>"
      ],
      "text/plain": [
       "                              name          fuzzname-ratio\n",
       "0                  albert einstein  (albert einstein, 100)\n",
       "1                  einsten, albert   (albert einstein, 97)\n",
       "2                             coke                    None\n",
       "3                     einstein, al   (albert einstein, 85)\n",
       "4   marie salomea skłodowska–curie                    None\n",
       "5                      curie marie      (marie curie, 100)\n",
       "6                       coca-cola         (coca-cola, 100)\n",
       "7                   marie s. curie       (marie curie, 92)\n",
       "8                      marie curry       (marie curie, 82)\n",
       "9                       coca-cola         (coca-cola, 100)\n",
       "10                     al einstein   (albert einstein, 85)\n",
       "11                            peps           (pepsico, 73)\n",
       "12                     pepsi-cola                     None\n",
       "13                     ppsi-cola                      None\n",
       "14                         pepsico          (pepsico, 100)\n",
       "15                       coa-cola          (coca-cola, 94)"
      ]
     },
     "execution_count": 35,
     "metadata": {},
     "output_type": "execute_result"
    }
   ],
   "source": [
    "## create a new column that contains the associated name (if applicable) and the fuzz ratio\n",
    "df[\"fuzzname-ratio\"] = df[\"name\"].apply(lambda x: check_prox(known_entities, x, 60))\n",
    "df"
   ]
  },
  {
   "cell_type": "code",
   "execution_count": 37,
   "id": "aaa01f2e",
   "metadata": {
    "collapsed": true,
    "id": "aaa01f2e"
   },
   "outputs": [
    {
     "data": {
      "text/html": [
       "<div>\n",
       "<style scoped>\n",
       "    .dataframe tbody tr th:only-of-type {\n",
       "        vertical-align: middle;\n",
       "    }\n",
       "\n",
       "    .dataframe tbody tr th {\n",
       "        vertical-align: top;\n",
       "    }\n",
       "\n",
       "    .dataframe thead th {\n",
       "        text-align: right;\n",
       "    }\n",
       "</style>\n",
       "<table border=\"1\" class=\"dataframe\">\n",
       "  <thead>\n",
       "    <tr style=\"text-align: right;\">\n",
       "      <th></th>\n",
       "      <th>fuzz-name</th>\n",
       "      <th>ratio</th>\n",
       "    </tr>\n",
       "  </thead>\n",
       "  <tbody>\n",
       "    <tr>\n",
       "      <th>0</th>\n",
       "      <td>albert einstein</td>\n",
       "      <td>100.0</td>\n",
       "    </tr>\n",
       "    <tr>\n",
       "      <th>1</th>\n",
       "      <td>albert einstein</td>\n",
       "      <td>97.0</td>\n",
       "    </tr>\n",
       "    <tr>\n",
       "      <th>2</th>\n",
       "      <td>None</td>\n",
       "      <td>NaN</td>\n",
       "    </tr>\n",
       "    <tr>\n",
       "      <th>3</th>\n",
       "      <td>albert einstein</td>\n",
       "      <td>85.0</td>\n",
       "    </tr>\n",
       "    <tr>\n",
       "      <th>4</th>\n",
       "      <td>None</td>\n",
       "      <td>NaN</td>\n",
       "    </tr>\n",
       "    <tr>\n",
       "      <th>5</th>\n",
       "      <td>marie curie</td>\n",
       "      <td>100.0</td>\n",
       "    </tr>\n",
       "    <tr>\n",
       "      <th>6</th>\n",
       "      <td>coca-cola</td>\n",
       "      <td>100.0</td>\n",
       "    </tr>\n",
       "    <tr>\n",
       "      <th>7</th>\n",
       "      <td>marie curie</td>\n",
       "      <td>92.0</td>\n",
       "    </tr>\n",
       "    <tr>\n",
       "      <th>8</th>\n",
       "      <td>marie curie</td>\n",
       "      <td>82.0</td>\n",
       "    </tr>\n",
       "    <tr>\n",
       "      <th>9</th>\n",
       "      <td>coca-cola</td>\n",
       "      <td>100.0</td>\n",
       "    </tr>\n",
       "    <tr>\n",
       "      <th>10</th>\n",
       "      <td>albert einstein</td>\n",
       "      <td>85.0</td>\n",
       "    </tr>\n",
       "    <tr>\n",
       "      <th>11</th>\n",
       "      <td>pepsico</td>\n",
       "      <td>73.0</td>\n",
       "    </tr>\n",
       "    <tr>\n",
       "      <th>12</th>\n",
       "      <td>None</td>\n",
       "      <td>NaN</td>\n",
       "    </tr>\n",
       "    <tr>\n",
       "      <th>13</th>\n",
       "      <td>None</td>\n",
       "      <td>NaN</td>\n",
       "    </tr>\n",
       "    <tr>\n",
       "      <th>14</th>\n",
       "      <td>pepsico</td>\n",
       "      <td>100.0</td>\n",
       "    </tr>\n",
       "    <tr>\n",
       "      <th>15</th>\n",
       "      <td>coca-cola</td>\n",
       "      <td>94.0</td>\n",
       "    </tr>\n",
       "  </tbody>\n",
       "</table>\n",
       "</div>"
      ],
      "text/plain": [
       "          fuzz-name  ratio\n",
       "0   albert einstein  100.0\n",
       "1   albert einstein   97.0\n",
       "2              None    NaN\n",
       "3   albert einstein   85.0\n",
       "4              None    NaN\n",
       "5       marie curie  100.0\n",
       "6         coca-cola  100.0\n",
       "7       marie curie   92.0\n",
       "8       marie curie   82.0\n",
       "9         coca-cola  100.0\n",
       "10  albert einstein   85.0\n",
       "11          pepsico   73.0\n",
       "12             None    NaN\n",
       "13             None    NaN\n",
       "14          pepsico  100.0\n",
       "15        coca-cola   94.0"
      ]
     },
     "execution_count": 37,
     "metadata": {},
     "output_type": "execute_result"
    }
   ],
   "source": [
    "## create a 2nd df\n",
    "df2 = pd.DataFrame(df[\"fuzzname-ratio\"].to_list(), columns = [\"fuzz-name\", \"ratio\"])\n",
    "df2"
   ]
  },
  {
   "cell_type": "code",
   "execution_count": 38,
   "id": "e6a7d36a",
   "metadata": {
    "id": "e6a7d36a"
   },
   "outputs": [
    {
     "data": {
      "text/html": [
       "<div>\n",
       "<style scoped>\n",
       "    .dataframe tbody tr th:only-of-type {\n",
       "        vertical-align: middle;\n",
       "    }\n",
       "\n",
       "    .dataframe tbody tr th {\n",
       "        vertical-align: top;\n",
       "    }\n",
       "\n",
       "    .dataframe thead th {\n",
       "        text-align: right;\n",
       "    }\n",
       "</style>\n",
       "<table border=\"1\" class=\"dataframe\">\n",
       "  <thead>\n",
       "    <tr style=\"text-align: right;\">\n",
       "      <th></th>\n",
       "      <th>name</th>\n",
       "      <th>fuzzname-ratio</th>\n",
       "      <th>fuzz-name</th>\n",
       "      <th>ratio</th>\n",
       "    </tr>\n",
       "  </thead>\n",
       "  <tbody>\n",
       "    <tr>\n",
       "      <th>0</th>\n",
       "      <td>albert einstein</td>\n",
       "      <td>(albert einstein, 100)</td>\n",
       "      <td>albert einstein</td>\n",
       "      <td>100.0</td>\n",
       "    </tr>\n",
       "    <tr>\n",
       "      <th>1</th>\n",
       "      <td>einsten, albert</td>\n",
       "      <td>(albert einstein, 97)</td>\n",
       "      <td>albert einstein</td>\n",
       "      <td>97.0</td>\n",
       "    </tr>\n",
       "    <tr>\n",
       "      <th>2</th>\n",
       "      <td>coke</td>\n",
       "      <td>None</td>\n",
       "      <td>None</td>\n",
       "      <td>NaN</td>\n",
       "    </tr>\n",
       "    <tr>\n",
       "      <th>3</th>\n",
       "      <td>einstein, al</td>\n",
       "      <td>(albert einstein, 85)</td>\n",
       "      <td>albert einstein</td>\n",
       "      <td>85.0</td>\n",
       "    </tr>\n",
       "    <tr>\n",
       "      <th>4</th>\n",
       "      <td>marie salomea skłodowska–curie</td>\n",
       "      <td>None</td>\n",
       "      <td>None</td>\n",
       "      <td>NaN</td>\n",
       "    </tr>\n",
       "    <tr>\n",
       "      <th>5</th>\n",
       "      <td>curie marie</td>\n",
       "      <td>(marie curie, 100)</td>\n",
       "      <td>marie curie</td>\n",
       "      <td>100.0</td>\n",
       "    </tr>\n",
       "    <tr>\n",
       "      <th>6</th>\n",
       "      <td>coca-cola</td>\n",
       "      <td>(coca-cola, 100)</td>\n",
       "      <td>coca-cola</td>\n",
       "      <td>100.0</td>\n",
       "    </tr>\n",
       "    <tr>\n",
       "      <th>7</th>\n",
       "      <td>marie s. curie</td>\n",
       "      <td>(marie curie, 92)</td>\n",
       "      <td>marie curie</td>\n",
       "      <td>92.0</td>\n",
       "    </tr>\n",
       "    <tr>\n",
       "      <th>8</th>\n",
       "      <td>marie curry</td>\n",
       "      <td>(marie curie, 82)</td>\n",
       "      <td>marie curie</td>\n",
       "      <td>82.0</td>\n",
       "    </tr>\n",
       "    <tr>\n",
       "      <th>9</th>\n",
       "      <td>coca-cola</td>\n",
       "      <td>(coca-cola, 100)</td>\n",
       "      <td>coca-cola</td>\n",
       "      <td>100.0</td>\n",
       "    </tr>\n",
       "    <tr>\n",
       "      <th>10</th>\n",
       "      <td>al einstein</td>\n",
       "      <td>(albert einstein, 85)</td>\n",
       "      <td>albert einstein</td>\n",
       "      <td>85.0</td>\n",
       "    </tr>\n",
       "    <tr>\n",
       "      <th>11</th>\n",
       "      <td>peps</td>\n",
       "      <td>(pepsico, 73)</td>\n",
       "      <td>pepsico</td>\n",
       "      <td>73.0</td>\n",
       "    </tr>\n",
       "    <tr>\n",
       "      <th>12</th>\n",
       "      <td>pepsi-cola</td>\n",
       "      <td>None</td>\n",
       "      <td>None</td>\n",
       "      <td>NaN</td>\n",
       "    </tr>\n",
       "    <tr>\n",
       "      <th>13</th>\n",
       "      <td>ppsi-cola</td>\n",
       "      <td>None</td>\n",
       "      <td>None</td>\n",
       "      <td>NaN</td>\n",
       "    </tr>\n",
       "    <tr>\n",
       "      <th>14</th>\n",
       "      <td>pepsico</td>\n",
       "      <td>(pepsico, 100)</td>\n",
       "      <td>pepsico</td>\n",
       "      <td>100.0</td>\n",
       "    </tr>\n",
       "    <tr>\n",
       "      <th>15</th>\n",
       "      <td>coa-cola</td>\n",
       "      <td>(coca-cola, 94)</td>\n",
       "      <td>coca-cola</td>\n",
       "      <td>94.0</td>\n",
       "    </tr>\n",
       "  </tbody>\n",
       "</table>\n",
       "</div>"
      ],
      "text/plain": [
       "                              name          fuzzname-ratio        fuzz-name  \\\n",
       "0                  albert einstein  (albert einstein, 100)  albert einstein   \n",
       "1                  einsten, albert   (albert einstein, 97)  albert einstein   \n",
       "2                             coke                    None             None   \n",
       "3                     einstein, al   (albert einstein, 85)  albert einstein   \n",
       "4   marie salomea skłodowska–curie                    None             None   \n",
       "5                      curie marie      (marie curie, 100)      marie curie   \n",
       "6                       coca-cola         (coca-cola, 100)        coca-cola   \n",
       "7                   marie s. curie       (marie curie, 92)      marie curie   \n",
       "8                      marie curry       (marie curie, 82)      marie curie   \n",
       "9                       coca-cola         (coca-cola, 100)        coca-cola   \n",
       "10                     al einstein   (albert einstein, 85)  albert einstein   \n",
       "11                            peps           (pepsico, 73)          pepsico   \n",
       "12                     pepsi-cola                     None             None   \n",
       "13                     ppsi-cola                      None             None   \n",
       "14                         pepsico          (pepsico, 100)          pepsico   \n",
       "15                       coa-cola          (coca-cola, 94)        coca-cola   \n",
       "\n",
       "    ratio  \n",
       "0   100.0  \n",
       "1    97.0  \n",
       "2     NaN  \n",
       "3    85.0  \n",
       "4     NaN  \n",
       "5   100.0  \n",
       "6   100.0  \n",
       "7    92.0  \n",
       "8    82.0  \n",
       "9   100.0  \n",
       "10   85.0  \n",
       "11   73.0  \n",
       "12    NaN  \n",
       "13    NaN  \n",
       "14  100.0  \n",
       "15   94.0  "
      ]
     },
     "execution_count": 38,
     "metadata": {},
     "output_type": "execute_result"
    }
   ],
   "source": [
    "## concat and drop extraneous column\n",
    "dff = pd.concat([df, df2], axis = \"columns\")\n",
    "dff"
   ]
  },
  {
   "cell_type": "code",
   "execution_count": 39,
   "id": "c832fe31",
   "metadata": {},
   "outputs": [
    {
     "data": {
      "text/html": [
       "<div>\n",
       "<style scoped>\n",
       "    .dataframe tbody tr th:only-of-type {\n",
       "        vertical-align: middle;\n",
       "    }\n",
       "\n",
       "    .dataframe tbody tr th {\n",
       "        vertical-align: top;\n",
       "    }\n",
       "\n",
       "    .dataframe thead th {\n",
       "        text-align: right;\n",
       "    }\n",
       "</style>\n",
       "<table border=\"1\" class=\"dataframe\">\n",
       "  <thead>\n",
       "    <tr style=\"text-align: right;\">\n",
       "      <th></th>\n",
       "      <th>name</th>\n",
       "      <th>fuzz-name</th>\n",
       "      <th>ratio</th>\n",
       "    </tr>\n",
       "  </thead>\n",
       "  <tbody>\n",
       "    <tr>\n",
       "      <th>0</th>\n",
       "      <td>albert einstein</td>\n",
       "      <td>albert einstein</td>\n",
       "      <td>100.0</td>\n",
       "    </tr>\n",
       "    <tr>\n",
       "      <th>1</th>\n",
       "      <td>einsten, albert</td>\n",
       "      <td>albert einstein</td>\n",
       "      <td>97.0</td>\n",
       "    </tr>\n",
       "    <tr>\n",
       "      <th>2</th>\n",
       "      <td>coke</td>\n",
       "      <td>None</td>\n",
       "      <td>NaN</td>\n",
       "    </tr>\n",
       "    <tr>\n",
       "      <th>3</th>\n",
       "      <td>einstein, al</td>\n",
       "      <td>albert einstein</td>\n",
       "      <td>85.0</td>\n",
       "    </tr>\n",
       "    <tr>\n",
       "      <th>4</th>\n",
       "      <td>marie salomea skłodowska–curie</td>\n",
       "      <td>None</td>\n",
       "      <td>NaN</td>\n",
       "    </tr>\n",
       "    <tr>\n",
       "      <th>5</th>\n",
       "      <td>curie marie</td>\n",
       "      <td>marie curie</td>\n",
       "      <td>100.0</td>\n",
       "    </tr>\n",
       "    <tr>\n",
       "      <th>6</th>\n",
       "      <td>coca-cola</td>\n",
       "      <td>coca-cola</td>\n",
       "      <td>100.0</td>\n",
       "    </tr>\n",
       "    <tr>\n",
       "      <th>7</th>\n",
       "      <td>marie s. curie</td>\n",
       "      <td>marie curie</td>\n",
       "      <td>92.0</td>\n",
       "    </tr>\n",
       "    <tr>\n",
       "      <th>8</th>\n",
       "      <td>marie curry</td>\n",
       "      <td>marie curie</td>\n",
       "      <td>82.0</td>\n",
       "    </tr>\n",
       "    <tr>\n",
       "      <th>9</th>\n",
       "      <td>coca-cola</td>\n",
       "      <td>coca-cola</td>\n",
       "      <td>100.0</td>\n",
       "    </tr>\n",
       "    <tr>\n",
       "      <th>10</th>\n",
       "      <td>al einstein</td>\n",
       "      <td>albert einstein</td>\n",
       "      <td>85.0</td>\n",
       "    </tr>\n",
       "    <tr>\n",
       "      <th>11</th>\n",
       "      <td>peps</td>\n",
       "      <td>pepsico</td>\n",
       "      <td>73.0</td>\n",
       "    </tr>\n",
       "    <tr>\n",
       "      <th>12</th>\n",
       "      <td>pepsi-cola</td>\n",
       "      <td>None</td>\n",
       "      <td>NaN</td>\n",
       "    </tr>\n",
       "    <tr>\n",
       "      <th>13</th>\n",
       "      <td>ppsi-cola</td>\n",
       "      <td>None</td>\n",
       "      <td>NaN</td>\n",
       "    </tr>\n",
       "    <tr>\n",
       "      <th>14</th>\n",
       "      <td>pepsico</td>\n",
       "      <td>pepsico</td>\n",
       "      <td>100.0</td>\n",
       "    </tr>\n",
       "    <tr>\n",
       "      <th>15</th>\n",
       "      <td>coa-cola</td>\n",
       "      <td>coca-cola</td>\n",
       "      <td>94.0</td>\n",
       "    </tr>\n",
       "  </tbody>\n",
       "</table>\n",
       "</div>"
      ],
      "text/plain": [
       "                              name        fuzz-name  ratio\n",
       "0                  albert einstein  albert einstein  100.0\n",
       "1                  einsten, albert  albert einstein   97.0\n",
       "2                             coke             None    NaN\n",
       "3                     einstein, al  albert einstein   85.0\n",
       "4   marie salomea skłodowska–curie             None    NaN\n",
       "5                      curie marie      marie curie  100.0\n",
       "6                       coca-cola         coca-cola  100.0\n",
       "7                   marie s. curie      marie curie   92.0\n",
       "8                      marie curry      marie curie   82.0\n",
       "9                       coca-cola         coca-cola  100.0\n",
       "10                     al einstein  albert einstein   85.0\n",
       "11                            peps          pepsico   73.0\n",
       "12                     pepsi-cola              None    NaN\n",
       "13                     ppsi-cola               None    NaN\n",
       "14                         pepsico          pepsico  100.0\n",
       "15                       coa-cola         coca-cola   94.0"
      ]
     },
     "execution_count": 39,
     "metadata": {},
     "output_type": "execute_result"
    }
   ],
   "source": [
    "dff.drop(\"fuzzname-ratio\", axis = 1, inplace = True)\n",
    "dff"
   ]
  },
  {
   "cell_type": "code",
   "execution_count": null,
   "id": "898bf6a6",
   "metadata": {
    "id": "898bf6a6"
   },
   "outputs": [],
   "source": [
    "## call our new column\n"
   ]
  },
  {
   "cell_type": "code",
   "execution_count": null,
   "id": "9f800cc6",
   "metadata": {
    "id": "9f800cc6"
   },
   "outputs": [],
   "source": [
    "## show all nans\n"
   ]
  },
  {
   "cell_type": "markdown",
   "id": "cc332d9d",
   "metadata": {
    "id": "cc332d9d"
   },
   "source": [
    "## Some manual labor"
   ]
  },
  {
   "cell_type": "code",
   "execution_count": null,
   "id": "8b0e3878",
   "metadata": {
    "id": "8b0e3878"
   },
   "outputs": [],
   "source": [
    "## .at v. iloc\n",
    "## https://stackoverflow.com/questions/37216485/pandas-at-versus-loc\n"
   ]
  },
  {
   "cell_type": "code",
   "execution_count": null,
   "id": "94eb69f7",
   "metadata": {
    "id": "94eb69f7"
   },
   "outputs": [],
   "source": [
    "## show all nans\n"
   ]
  },
  {
   "cell_type": "code",
   "execution_count": null,
   "id": "167e88af",
   "metadata": {
    "id": "167e88af"
   },
   "outputs": [],
   "source": [
    "## call our dff\n"
   ]
  },
  {
   "cell_type": "markdown",
   "id": "XtZ-4qtmjHgC",
   "metadata": {
    "id": "XtZ-4qtmjHgC"
   },
   "source": [
    "# Python’s Scikit-Learn library\n",
    "\n",
    "What if we want to compare a list of entities with itself? We want to cluster similar items together but we have no idea what all the items are. How do we do that?\n",
    "\n",
    "The answer is more complex and involves machine learning using Python’s Scikit-Learn library."
   ]
  },
  {
   "cell_type": "code",
   "execution_count": null,
   "id": "0fHm9Rx4jiOF",
   "metadata": {
    "executionInfo": {
     "elapsed": 2,
     "status": "ok",
     "timestamp": 1666188196675,
     "user": {
      "displayName": "Sandeep Junnarkar",
      "userId": "15658885848901522782"
     },
     "user_tz": 240
    },
    "id": "0fHm9Rx4jiOF"
   },
   "outputs": [],
   "source": []
  }
 ],
 "metadata": {
  "colab": {
   "collapsed_sections": [],
   "provenance": []
  },
  "kernelspec": {
   "display_name": "Python 3 (ipykernel)",
   "language": "python",
   "name": "python3"
  },
  "language_info": {
   "codemirror_mode": {
    "name": "ipython",
    "version": 3
   },
   "file_extension": ".py",
   "mimetype": "text/x-python",
   "name": "python",
   "nbconvert_exporter": "python",
   "pygments_lexer": "ipython3",
   "version": "3.9.7"
  }
 },
 "nbformat": 4,
 "nbformat_minor": 5
}
