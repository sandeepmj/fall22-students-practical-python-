{
 "cells": [
  {
   "cell_type": "markdown",
   "metadata": {
    "id": "s1gmCxq4kQCP"
   },
   "source": [
    "# Scraping non-tabular data\n",
    "\n",
    "Look at the first section of CEO data on <a href=\"https://sandeepmj.github.io/scrape-example-page/#organized\">this page</a>:\n",
    "\n",
    "Let's scrape it together"
   ]
  },
  {
   "cell_type": "markdown",
   "metadata": {
    "id": "YfF9k_35kQCS"
   },
   "source": [
    "### This won't be as simple as scraping a table:\n",
    "\n",
    "* Where and how is the content held on the page?\n",
    "* How can we access it?\n",
    "* Is there a pattern?\n",
    "* Is there anything that breaks the pattern?"
   ]
  },
  {
   "cell_type": "code",
   "execution_count": null,
   "metadata": {
    "colab": {
     "base_uri": "https://localhost:8080/"
    },
    "id": "WuYnK-Sf8eWj",
    "outputId": "eceea6d1-5593-4204-fece-eaf3bd3712fa"
   },
   "outputs": [],
   "source": [
    "pip install icecream"
   ]
  },
  {
   "cell_type": "code",
   "execution_count": null,
   "metadata": {
    "id": "IoRTykDqkQCS"
   },
   "outputs": [],
   "source": [
    "## import libraries\n",
    "from bs4 import BeautifulSoup\n",
    "import pandas as pd\n",
    "import requests ## a library that returns information from websites.\n",
    "from icecream import ic"
   ]
  },
  {
   "cell_type": "markdown",
   "metadata": {
    "id": "071z2sBGkQCX"
   },
   "source": [
    "## What if there are dozens or more column header names?\n",
    "### That's a lot of typing"
   ]
  },
  {
   "cell_type": "code",
   "execution_count": null,
   "metadata": {},
   "outputs": [],
   "source": [
    "## recall what CEOs was\n"
   ]
  },
  {
   "cell_type": "code",
   "execution_count": null,
   "metadata": {},
   "outputs": [],
   "source": [
    "## what does a single item in the list hold\n"
   ]
  },
  {
   "cell_type": "code",
   "execution_count": null,
   "metadata": {},
   "outputs": [],
   "source": [
    "## zoom into a single instance of ceos\n"
   ]
  },
  {
   "cell_type": "markdown",
   "metadata": {},
   "source": [
    "## ```HTML Attributes```\n",
    "\n",
    "In the following ```html```:\n",
    "\n",
    "```<div class=\"some_class\">This div class holds something</a>```\n",
    "\n",
    "- ```div``` is a tag.\n",
    "- ```class``` is an attribute.\n",
    "- ```some_class``` holds a value.\n",
    "\n",
    "We can use ```BeautifulSoup``` to grab what an attribute holds:\n",
    "\n",
    "```div['class']``` will return ```some_class```"
   ]
  },
  {
   "cell_type": "code",
   "execution_count": null,
   "metadata": {
    "scrolled": true
   },
   "outputs": [],
   "source": [
    "## let's IC the class values in our ptags\n"
   ]
  },
  {
   "cell_type": "code",
   "execution_count": null,
   "metadata": {},
   "outputs": [],
   "source": [
    "## let's actually grab the values via FL:\n"
   ]
  },
  {
   "cell_type": "code",
   "execution_count": null,
   "metadata": {},
   "outputs": [],
   "source": [
    "## let's actually grab the values via LC:\n"
   ]
  },
  {
   "cell_type": "code",
   "execution_count": null,
   "metadata": {},
   "outputs": [],
   "source": [
    "## Pandas to create data frame\n"
   ]
  },
  {
   "cell_type": "code",
   "execution_count": null,
   "metadata": {
    "id": "e8kGuG86kQCZ"
   },
   "outputs": [],
   "source": [
    "## export to csv\n"
   ]
  },
  {
   "cell_type": "code",
   "execution_count": null,
   "metadata": {
    "colab": {
     "base_uri": "https://localhost:8080/",
     "height": 206
    },
    "id": "msEjjCxTHq_p",
    "outputId": "7282dc99-f88e-49b6-d464-247d5046c367"
   },
   "outputs": [],
   "source": [
    "## pull back in as df\n"
   ]
  },
  {
   "cell_type": "markdown",
   "metadata": {
    "id": "PXOsj1rhkQCZ"
   },
   "source": [
    "# Reality - not handed to you so cleanly\n",
    "\n",
    "### Let's scrape the disorganized section"
   ]
  },
  {
   "cell_type": "code",
   "execution_count": null,
   "metadata": {
    "id": "ON8edAP4kQCZ"
   },
   "outputs": [],
   "source": [
    "## soup captures the entire page.\n",
    "## we narrow it down to capture our target section and store in object called dis\n"
   ]
  },
  {
   "cell_type": "code",
   "execution_count": null,
   "metadata": {
    "id": "U6CkJHJfkQCZ"
   },
   "outputs": [],
   "source": [
    "## find the labels (column headers)\n",
    "## using list comprehension save in a list called labels_lc\n"
   ]
  },
  {
   "cell_type": "markdown",
   "metadata": {
    "id": "LfQIz-BHkQCZ"
   },
   "source": [
    "### Scrape the non-tabular data in id=\"disorganized\""
   ]
  },
  {
   "cell_type": "code",
   "execution_count": null,
   "metadata": {
    "id": "fsT-81UVNGhx"
   },
   "outputs": [],
   "source": [
    "## recall soup\n"
   ]
  },
  {
   "cell_type": "code",
   "execution_count": null,
   "metadata": {
    "colab": {
     "base_uri": "https://localhost:8080/"
    },
    "id": "OeVqiPRiNGlZ",
    "outputId": "25bb1405-ada6-447a-dd03-aeac6c4cca7a"
   },
   "outputs": [],
   "source": [
    "## grab appropriate section\n"
   ]
  },
  {
   "cell_type": "code",
   "execution_count": null,
   "metadata": {
    "colab": {
     "base_uri": "https://localhost:8080/"
    },
    "id": "mEEw4I1KNqbg",
    "outputId": "bdddc7ed-4869-4353-dfd5-247d2ec4da5b"
   },
   "outputs": [],
   "source": [
    "## find class ceo and store in object called ceos\n"
   ]
  },
  {
   "cell_type": "code",
   "execution_count": null,
   "metadata": {
    "id": "5ztFbtT1kQCa"
   },
   "outputs": [],
   "source": [
    "## IC all the items of interest\n",
    "\n"
   ]
  },
  {
   "cell_type": "code",
   "execution_count": null,
   "metadata": {
    "id": "j3Et7aYokQCa"
   },
   "outputs": [],
   "source": [
    "## we only printed them out. let's store in a list of dicts called ceo_dict_list\n",
    "\n"
   ]
  },
  {
   "cell_type": "code",
   "execution_count": null,
   "metadata": {
    "colab": {
     "base_uri": "https://localhost:8080/"
    },
    "id": "jc58R1mDRIMR",
    "outputId": "e647fe77-38b5-4d78-c781-cda8dd944e3c"
   },
   "outputs": [],
   "source": [
    "## call the list\n",
    "ceos_list"
   ]
  },
  {
   "cell_type": "code",
   "execution_count": null,
   "metadata": {
    "id": "TTxmq3ZJkQCa"
   },
   "outputs": [],
   "source": [
    "## use pandas to write to csv file\n"
   ]
  },
  {
   "cell_type": "code",
   "execution_count": null,
   "metadata": {
    "colab": {
     "base_uri": "https://localhost:8080/",
     "height": 206
    },
    "id": "4rAOWI7mkQCb",
    "outputId": "507dd7da-caa5-43fb-f0ce-b376e64861e5"
   },
   "outputs": [],
   "source": []
  },
  {
   "cell_type": "code",
   "execution_count": null,
   "metadata": {
    "id": "pxJxCZFYSUWT"
   },
   "outputs": [],
   "source": []
  }
 ],
 "metadata": {
  "celltoolbar": "Slideshow",
  "colab": {
   "provenance": []
  },
  "kernelspec": {
   "display_name": "Python 3 (ipykernel)",
   "language": "python",
   "name": "python3"
  },
  "language_info": {
   "codemirror_mode": {
    "name": "ipython",
    "version": 3
   },
   "file_extension": ".py",
   "mimetype": "text/x-python",
   "name": "python",
   "nbconvert_exporter": "python",
   "pygments_lexer": "ipython3",
   "version": "3.9.7"
  }
 },
 "nbformat": 4,
 "nbformat_minor": 1
}
