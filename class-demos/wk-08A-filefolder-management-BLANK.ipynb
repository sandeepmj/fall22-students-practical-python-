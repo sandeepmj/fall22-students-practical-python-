{
 "cells": [
  {
   "cell_type": "markdown",
   "metadata": {},
   "source": [
    "# Managing Files and Folder using Python \n",
    "\n"
   ]
  },
  {
   "cell_type": "markdown",
   "metadata": {},
   "source": [
    "### Professional Organization\n",
    "\n",
    "Staying organized is paramount.\n",
    "\n",
    "Here's a professional structure (create your own, but stay consistent):\n",
    "\n",
    "```dataProjects --> yyyy-project-name```\n",
    "\n",
    "Within each project folder include\n",
    "\n",
    "- ```raw``` folder\n",
    "- ```output``` folder\n",
    "\n",
    "\n"
   ]
  },
  {
   "cell_type": "markdown",
   "metadata": {
    "id": "GZacCx2Yzims"
   },
   "source": [
    "#### As we create and tap files for analysis, we need to stay organized programmatically.\n",
    "\n",
    "- Let's understand the folder/director structure on our computers.\n",
    "\n",
    "- We'll use the ```os module``` and ```pathlib``` to create, navigate and delete files and folders programmatically.\n",
    "\n",
    "- We'll also use command line/UNIX commands like ```ls```, ```cd``` and ```mkdir```.\n",
    "\n",
    "- [Download the sample files](https://drive.google.com/file/d/1lHEMs5mVhNKXsZHYwE_ww_AhWdFK8WPI/view?usp=share_link) we will need.\n",
    "\n",
    "- For now, place the unzipped folder's content into your ```raw``` folder inside the newly created project folder."
   ]
  },
  {
   "cell_type": "code",
   "execution_count": null,
   "metadata": {
    "id": "w7tpVnQ7zimy"
   },
   "outputs": [],
   "source": [
    "## import libraries\n",
    "import os  ## allows you to navigate, create, delete folders\n",
    "from pathlib import Path ## allows to create paths to files and folders\n",
    "import shutil ## To empty a directory with files in it, we use another library called shutil\n",
    "import pandas as pd"
   ]
  },
  {
   "cell_type": "markdown",
   "metadata": {
    "id": "OaOCcvP_5eYU"
   },
   "source": [
    "## UNIX Command Line v. Programmatic Command Line\n",
    "\n",
    "### NOTE: Do pure UNIX commands in your ```Terminal``` application.\n",
    "\n",
    "- ```UNIX``` commands are done manually.\n",
    "\n",
    "#### Programmatic Folder/Files Management\n",
    "\n",
    " \n",
    "- We make this Python scriptable by using the ```os module```.\n",
    "\n",
    "UNIX v. Python <a href=\"https://docs.google.com/spreadsheets/d/1J7CVJgrYWh6xQMe4LzBxn2_ZNrSedo4S6vIN8Ct2EtE/edit?usp=sharing\">commands</a>\n",
    "\n",
    "\n",
    "\n"
   ]
  },
  {
   "cell_type": "markdown",
   "metadata": {
    "id": "SNa7p6pz5uQK"
   },
   "source": [
    "## Where am I?\n",
    "\n",
    "#### UNIX - ```pwd```\n",
    "#### os - ```os.getcwd() ```"
   ]
  },
  {
   "cell_type": "code",
   "execution_count": null,
   "metadata": {
    "colab": {
     "base_uri": "https://localhost:8080/",
     "height": 35
    },
    "id": "NweRIXSD5vwB",
    "outputId": "22e2d3e1-c1de-4eba-bd9f-922ba5d97072"
   },
   "outputs": [],
   "source": [
    "## os\n"
   ]
  },
  {
   "cell_type": "markdown",
   "metadata": {
    "id": "v8Yl83mh50Gi"
   },
   "source": [
    "## List content of directory\n",
    "\n",
    "#### UNIX - ```ls```\n",
    "#### os - ```os.listdir()``` "
   ]
  },
  {
   "cell_type": "code",
   "execution_count": null,
   "metadata": {
    "colab": {
     "base_uri": "https://localhost:8080/"
    },
    "id": "2Aozyaz_52KH",
    "outputId": "23724e2d-1a98-4c08-d856-8e0b868644a4"
   },
   "outputs": [],
   "source": []
  },
  {
   "cell_type": "markdown",
   "metadata": {
    "id": "AM5PC1S46A8S"
   },
   "source": [
    "## Change directories\n",
    "\n",
    "#### UNIX -  ```cd```\n",
    "#### os - ```chdir(\"name-of-directory\")```\n",
    "\n",
    "let's enter our ```raw``` folder in our project folde"
   ]
  },
  {
   "cell_type": "code",
   "execution_count": null,
   "metadata": {
    "colab": {
     "base_uri": "https://localhost:8080/"
    },
    "id": "CShXmMUT6DWC",
    "outputId": "6d4b6d7e-8295-488e-cf78-623906cacd91"
   },
   "outputs": [],
   "source": [
    "## change directory\n"
   ]
  },
  {
   "cell_type": "code",
   "execution_count": null,
   "metadata": {},
   "outputs": [],
   "source": [
    "## where am I now?\n"
   ]
  },
  {
   "cell_type": "markdown",
   "metadata": {
    "id": "-15W5y4v6Hv4"
   },
   "source": [
    "## What does this folder hold?"
   ]
  },
  {
   "cell_type": "code",
   "execution_count": null,
   "metadata": {},
   "outputs": [],
   "source": [
    "## list content of this directory\n"
   ]
  },
  {
   "cell_type": "markdown",
   "metadata": {
    "id": "ktN_tdwH7CBw"
   },
   "source": [
    "## Back out of folder to the enclosing folder\n",
    "\n",
    "#### UNIX - ```cd ..```\n",
    "#### os - ```os.chdir(\"..\")```"
   ]
  },
  {
   "cell_type": "code",
   "execution_count": null,
   "metadata": {
    "colab": {
     "base_uri": "https://localhost:8080/"
    },
    "id": "4FumnMS17EPm",
    "outputId": "55d130d2-8546-43c6-b4b5-f980463a4e8b"
   },
   "outputs": [],
   "source": [
    "## back out\n"
   ]
  },
  {
   "cell_type": "code",
   "execution_count": null,
   "metadata": {
    "colab": {
     "base_uri": "https://localhost:8080/",
     "height": 35
    },
    "id": "CAd9NisX7Jnb",
    "outputId": "51a888c9-1714-4e7a-de01-51d1141faa41"
   },
   "outputs": [],
   "source": [
    "### - Where am I?\n"
   ]
  },
  {
   "cell_type": "code",
   "execution_count": null,
   "metadata": {},
   "outputs": [],
   "source": [
    "### - let's return to our ```raw``` folder in our project folder\n"
   ]
  },
  {
   "cell_type": "code",
   "execution_count": null,
   "metadata": {
    "colab": {
     "base_uri": "https://localhost:8080/",
     "height": 35
    },
    "id": "9Lnu3jTz8OvV",
    "outputId": "483a6592-74a5-4b75-bbd8-4f2758cca2ac"
   },
   "outputs": [],
   "source": [
    "### - Let's confirm where we are:\n",
    "\n"
   ]
  },
  {
   "cell_type": "code",
   "execution_count": null,
   "metadata": {
    "colab": {
     "base_uri": "https://localhost:8080/"
    },
    "id": "uNygGTPBzim0",
    "outputId": "d5314306-7e9b-4ecb-d48d-22b246f259c1"
   },
   "outputs": [],
   "source": [
    "### - list the content of this folder again\n"
   ]
  },
  {
   "cell_type": "markdown",
   "metadata": {},
   "source": [
    "## Generating folders\n",
    "#### UNIX - ```mkdir folder-name```\n",
    "#### os - ```Path('folder_name/').mkdir(exist_ok=True)```"
   ]
  },
  {
   "cell_type": "code",
   "execution_count": null,
   "metadata": {
    "id": "KsI7OysGgo3s"
   },
   "outputs": [],
   "source": [
    "## create here without variable name\n"
   ]
  },
  {
   "cell_type": "code",
   "execution_count": null,
   "metadata": {
    "id": "35e_-vJpieBn"
   },
   "outputs": [],
   "source": [
    "### create junk_folder\n",
    "\n"
   ]
  },
  {
   "cell_type": "markdown",
   "metadata": {},
   "source": [
    "### Always better to use variables so we can generate folders programmatically"
   ]
  },
  {
   "cell_type": "code",
   "execution_count": null,
   "metadata": {
    "id": "tyTDQLEDzim0"
   },
   "outputs": [],
   "source": [
    "## create a path to folder called some_new_folder\n",
    "## we store that path in a variable called my_new_directory\n"
   ]
  },
  {
   "cell_type": "code",
   "execution_count": null,
   "metadata": {
    "id": "BZF_SEfRzim0"
   },
   "outputs": [],
   "source": [
    "## create that directory\n",
    "## exists_ok=True checks to see if the folder already exists\n"
   ]
  },
  {
   "cell_type": "markdown",
   "metadata": {
    "id": "6YRZyRRJrXeT"
   },
   "source": [
    "### List contents of folder now"
   ]
  },
  {
   "cell_type": "code",
   "execution_count": null,
   "metadata": {
    "colab": {
     "base_uri": "https://localhost:8080/"
    },
    "id": "NEjco9TwguJ_",
    "outputId": "aadf61eb-ec15-42a8-fff9-a68c4c413457"
   },
   "outputs": [],
   "source": []
  },
  {
   "cell_type": "code",
   "execution_count": null,
   "metadata": {
    "colab": {
     "base_uri": "https://localhost:8080/"
    },
    "id": "hYIq9Gu6zim1",
    "outputId": "a431fd61-5b88-495d-ee72-21d457849d64"
   },
   "outputs": [],
   "source": [
    "## show list programmatically\n"
   ]
  },
  {
   "cell_type": "markdown",
   "metadata": {
    "id": "fV9ziAEZjMz6"
   },
   "source": [
    "## Manually add some junk to the junk folder and move into that folder\n",
    "\n",
    "Only then do the next step"
   ]
  },
  {
   "cell_type": "code",
   "execution_count": null,
   "metadata": {},
   "outputs": [],
   "source": [
    "## move into junk folder\n"
   ]
  },
  {
   "cell_type": "code",
   "execution_count": null,
   "metadata": {},
   "outputs": [],
   "source": [
    "## where?\n"
   ]
  },
  {
   "cell_type": "code",
   "execution_count": null,
   "metadata": {},
   "outputs": [],
   "source": [
    "## list content\n"
   ]
  },
  {
   "cell_type": "markdown",
   "metadata": {},
   "source": [
    "## Delete a file\n",
    "\n",
    "#### UNIX - rm filename\n",
    "#### os - os.remove(\"filename\")"
   ]
  },
  {
   "cell_type": "code",
   "execution_count": null,
   "metadata": {},
   "outputs": [],
   "source": [
    "## remove fla_count_3.csv\n"
   ]
  },
  {
   "cell_type": "code",
   "execution_count": null,
   "metadata": {},
   "outputs": [],
   "source": [
    "## is it still there?\n"
   ]
  },
  {
   "cell_type": "markdown",
   "metadata": {
    "id": "B6LPgCXSzim3"
   },
   "source": [
    "## Delete a folder\n",
    "\n",
    "1. You can't delete a folder with stuff in it (without a trick)!\n",
    "2. You can't be in the folder you are trying to delete!"
   ]
  },
  {
   "cell_type": "code",
   "execution_count": null,
   "metadata": {
    "id": "4KCG6KCMzim1"
   },
   "outputs": [],
   "source": [
    "## remove an empty directory\n",
    "## NOTE: This only removes empty directories"
   ]
  },
  {
   "cell_type": "code",
   "execution_count": null,
   "metadata": {
    "id": "FL3HymK3hPKB"
   },
   "outputs": [],
   "source": [
    "## where we?\n"
   ]
  },
  {
   "cell_type": "code",
   "execution_count": null,
   "metadata": {
    "colab": {
     "base_uri": "https://localhost:8080/"
    },
    "id": "7_6pPtLvhR2n",
    "outputId": "aac193b1-69d4-4d0c-e019-7d6eaae1e3cc"
   },
   "outputs": [],
   "source": [
    "## change directory\n"
   ]
  },
  {
   "cell_type": "code",
   "execution_count": null,
   "metadata": {
    "colab": {
     "base_uri": "https://localhost:8080/"
    },
    "id": "7v4wjf3Ozim2",
    "outputId": "406fe246-ed57-4000-c585-3127ba62307d"
   },
   "outputs": [],
   "source": [
    "## show directory now programmatically\n"
   ]
  },
  {
   "cell_type": "code",
   "execution_count": null,
   "metadata": {},
   "outputs": [],
   "source": [
    "## delete dummy folder\n"
   ]
  },
  {
   "cell_type": "code",
   "execution_count": null,
   "metadata": {},
   "outputs": [],
   "source": [
    "## show directory now programmatically\n"
   ]
  },
  {
   "cell_type": "code",
   "execution_count": null,
   "metadata": {
    "id": "P3AgRWGmjS5h"
   },
   "outputs": [],
   "source": [
    "## move program into junk folder programmatically\n",
    "\n"
   ]
  },
  {
   "cell_type": "code",
   "execution_count": null,
   "metadata": {
    "id": "Ac9oevd_jbpM"
   },
   "outputs": [],
   "source": [
    "### list directory\n"
   ]
  },
  {
   "cell_type": "code",
   "execution_count": null,
   "metadata": {},
   "outputs": [],
   "source": [
    "## confirm location\n"
   ]
  },
  {
   "cell_type": "markdown",
   "metadata": {
    "id": "n-y3mgMF-ODk"
   },
   "source": [
    "## Delete junk_folder (this will break)"
   ]
  },
  {
   "cell_type": "code",
   "execution_count": null,
   "metadata": {
    "colab": {
     "base_uri": "https://localhost:8080/"
    },
    "id": "kP6b0gvK5u_W",
    "outputId": "66990247-3f4f-4850-acdf-aa971244d962"
   },
   "outputs": [],
   "source": [
    "## delete junk folder - will break\n"
   ]
  },
  {
   "cell_type": "code",
   "execution_count": null,
   "metadata": {
    "colab": {
     "base_uri": "https://localhost:8080/"
    },
    "id": "ZC6VON3s4XzA",
    "outputId": "83e4a906-fd99-4587-a13c-04f65355b72a"
   },
   "outputs": [],
   "source": [
    "## where am i?\n"
   ]
  },
  {
   "cell_type": "code",
   "execution_count": null,
   "metadata": {
    "id": "TfC1MBkxzim3"
   },
   "outputs": [],
   "source": [
    "## move out of junk folder\n"
   ]
  },
  {
   "cell_type": "code",
   "execution_count": null,
   "metadata": {
    "colab": {
     "base_uri": "https://localhost:8080/"
    },
    "id": "LHaY_W2z0u1j",
    "outputId": "fae0352b-ecea-4145-e761-c43876312b83"
   },
   "outputs": [],
   "source": [
    "## show directory now USING OS\n"
   ]
  },
  {
   "cell_type": "code",
   "execution_count": null,
   "metadata": {
    "id": "41vPYHBQzim4"
   },
   "outputs": [],
   "source": [
    "## Now delete all contents\n"
   ]
  },
  {
   "cell_type": "code",
   "execution_count": null,
   "metadata": {
    "colab": {
     "base_uri": "https://localhost:8080/"
    },
    "id": "Ww0f86byzim4",
    "outputId": "c204aeb7-86f8-4c9b-e919-a7e5b66fbe9a"
   },
   "outputs": [],
   "source": [
    "## show directory now USING OS\n"
   ]
  }
 ],
 "metadata": {
  "colab": {
   "collapsed_sections": [],
   "provenance": []
  },
  "kernelspec": {
   "display_name": "Python 3 (ipykernel)",
   "language": "python",
   "name": "python3"
  },
  "language_info": {
   "codemirror_mode": {
    "name": "ipython",
    "version": 3
   },
   "file_extension": ".py",
   "mimetype": "text/x-python",
   "name": "python",
   "nbconvert_exporter": "python",
   "pygments_lexer": "ipython3",
   "version": "3.9.7"
  }
 },
 "nbformat": 4,
 "nbformat_minor": 1
}
