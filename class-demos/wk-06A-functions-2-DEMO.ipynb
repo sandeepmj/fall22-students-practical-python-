{
 "cells": [
  {
   "cell_type": "markdown",
   "id": "3dc2667e",
   "metadata": {},
   "source": [
    "# Functions - Part 2"
   ]
  },
  {
   "cell_type": "markdown",
   "id": "6abd0f1d",
   "metadata": {},
   "source": [
    "Write a function that takes two numbers and divides the first number by the second number. The function should return the quotient.\n",
    "Call the function ```divi()```\n",
    "\n"
   ]
  },
  {
   "cell_type": "code",
   "execution_count": 3,
   "id": "fe0a2628",
   "metadata": {},
   "outputs": [],
   "source": [
    "## write it here\n",
    "\n",
    "def divi(number1, number2):\n",
    "    return number1/number2"
   ]
  },
  {
   "cell_type": "code",
   "execution_count": 5,
   "id": "c170246f",
   "metadata": {},
   "outputs": [
    {
     "data": {
      "text/plain": [
       "0.5"
      ]
     },
     "execution_count": 5,
     "metadata": {},
     "output_type": "execute_result"
    }
   ],
   "source": [
    "## test it here with 10 as the number1 and 20 as number2\n",
    "divi(10,20)"
   ]
  },
  {
   "cell_type": "code",
   "execution_count": 6,
   "id": "8303be9b",
   "metadata": {},
   "outputs": [
    {
     "data": {
      "text/plain": [
       "2.0"
      ]
     },
     "execution_count": 6,
     "metadata": {},
     "output_type": "execute_result"
    }
   ],
   "source": [
    "## test it here with 20 as the number1 and 10 as number2\n",
    "divi(20, 10)"
   ]
  },
  {
   "cell_type": "markdown",
   "id": "3607595f",
   "metadata": {},
   "source": [
    "## ```Docstrings```\n",
    "\n",
    "As our functions get more complicated, it gets harder to remember what the parameters are and what they actually do. ```Docstrings``` help us and our colleagues understand what a function does; what parameters you need; and what order they need to be in."
   ]
  },
  {
   "cell_type": "code",
   "execution_count": 7,
   "id": "ba54bdc7",
   "metadata": {},
   "outputs": [],
   "source": [
    "## rewrite divi() with docstrings here:\n",
    "def divi(number1, number2):\n",
    "    '''\n",
    "    takes 2 numbers and divides them and returns the quotient\n",
    "    param1: is the dividend\n",
    "    param2: is the divisor\n",
    "    '''\n",
    "    return number1/number2"
   ]
  },
  {
   "cell_type": "code",
   "execution_count": 5,
   "id": "5b7817f1",
   "metadata": {},
   "outputs": [],
   "source": [
    "## test it here.\n",
    "divi()"
   ]
  },
  {
   "cell_type": "markdown",
   "id": "11ff7371",
   "metadata": {},
   "source": [
    "## Return multiple values"
   ]
  },
  {
   "cell_type": "code",
   "execution_count": 15,
   "id": "5faeea8e",
   "metadata": {},
   "outputs": [],
   "source": [
    "## demo function\n",
    "\n",
    "def getPerson(name, age, country):\n",
    "    '''\n",
    "    take name, age and country returns name in upper, age *10, country in lower\n",
    "    order: name, age, country\n",
    "    \n",
    "    '''\n",
    "    return name.upper(), age * 10, country.lower()\n",
    "\n"
   ]
  },
  {
   "cell_type": "code",
   "execution_count": 13,
   "id": "e4a7b58b",
   "metadata": {},
   "outputs": [],
   "source": [
    "## store variables \n",
    "name, age, country = getPerson(\"Sandeep\", 42, \"India\")"
   ]
  },
  {
   "cell_type": "code",
   "execution_count": 19,
   "id": "9d8e675e",
   "metadata": {},
   "outputs": [
    {
     "name": "stdout",
     "output_type": "stream",
     "text": [
      "name: SANDEEP, age: 420, country: india\n"
     ]
    }
   ],
   "source": [
    "## print each variable\n",
    "print(f\"name: {name}, age: {age}, country: {country}\")"
   ]
  },
  {
   "cell_type": "code",
   "execution_count": null,
   "id": "6c6d8001",
   "metadata": {},
   "outputs": [],
   "source": []
  },
  {
   "cell_type": "code",
   "execution_count": 24,
   "id": "ab801c2f",
   "metadata": {},
   "outputs": [],
   "source": [
    "## the order matters\n",
    "age, country, name = getPerson(\"Sandeep\", 56, \"USA\")"
   ]
  },
  {
   "cell_type": "code",
   "execution_count": 25,
   "id": "84d5de2f",
   "metadata": {},
   "outputs": [
    {
     "name": "stdout",
     "output_type": "stream",
     "text": [
      "name: usa, age: SANDEEP, country: 560\n"
     ]
    }
   ],
   "source": [
    "## print each variable\n",
    "## print each variable\n",
    "print(f\"name: {name}, age: {age}, country: {country}\")"
   ]
  },
  {
   "cell_type": "markdown",
   "id": "6f587cdf",
   "metadata": {},
   "source": [
    "## Make a function more flexible and universal\n",
    "\n"
   ]
  },
  {
   "cell_type": "code",
   "execution_count": 26,
   "id": "859af296",
   "metadata": {},
   "outputs": [],
   "source": [
    "## RUN THIS CELL\n",
    "## Each list of numbers has to be turned into absolute numbers \n",
    "mylist1 = [1, -5, 22, -44.2, 33, -45]\n",
    "mylist2 = [-56, -34, -75, -111, -22]\n",
    "mylist3 = [-100, -200, 100, -300, -100]\n",
    "mylist4 = [-23, -89, -11, -45, -27]\n",
    "mylist5 = [0, 1, 2, 3, 4, 5]"
   ]
  },
  {
   "cell_type": "code",
   "execution_count": 28,
   "id": "be75f87f",
   "metadata": {},
   "outputs": [],
   "source": [
    "## our function from last week\n",
    "def absNumbers(list_name):\n",
    "    for number in list_name:\n",
    "        print(abs(number))"
   ]
  },
  {
   "cell_type": "code",
   "execution_count": 29,
   "id": "5fb70221",
   "metadata": {},
   "outputs": [
    {
     "name": "stdout",
     "output_type": "stream",
     "text": [
      "1\n",
      "5\n",
      "22\n",
      "44.2\n",
      "33\n",
      "45\n"
     ]
    }
   ],
   "source": [
    "## test it here on a list\n",
    "absNumbers(mylist1)"
   ]
  },
  {
   "cell_type": "code",
   "execution_count": 30,
   "id": "d035ea17",
   "metadata": {},
   "outputs": [],
   "source": [
    "## Rewrite this function so it returns a list of updated absolute numbers\n",
    "## AND add a docstring\n",
    "def absNumber(list_name):\n",
    "    '''\n",
    "    Take a list, return an updated list with absolute values\n",
    "    '''\n",
    "    return [abs(number) for number in list_name]\n"
   ]
  },
  {
   "cell_type": "code",
   "execution_count": 31,
   "id": "217b5451",
   "metadata": {},
   "outputs": [
    {
     "data": {
      "text/plain": [
       "[1, 5, 22, 44.2, 33, 45]"
      ]
     },
     "execution_count": 31,
     "metadata": {},
     "output_type": "execute_result"
    }
   ],
   "source": [
    "## call it on any of the lists above and store in variable\n",
    "\n",
    "\n",
    "updated_l = absNumber(mylist1)\n",
    "updated_l"
   ]
  },
  {
   "cell_type": "markdown",
   "id": "dff7c12d",
   "metadata": {},
   "source": [
    "### Currently, we have a function that takes ONLY a list as an argument.\n",
    "\n",
    "### We'd have to write another one for a single number argument."
   ]
  },
  {
   "cell_type": "code",
   "execution_count": 32,
   "id": "8304ead5",
   "metadata": {},
   "outputs": [
    {
     "ename": "TypeError",
     "evalue": "'int' object is not iterable",
     "output_type": "error",
     "traceback": [
      "\u001b[0;31m---------------------------------------------------------------------------\u001b[0m",
      "\u001b[0;31mTypeError\u001b[0m                                 Traceback (most recent call last)",
      "\u001b[0;32m/var/folders/jg/xjfmqdcj0m1bqs1d7sgv9v480000gp/T/ipykernel_26125/2498077794.py\u001b[0m in \u001b[0;36m<module>\u001b[0;34m\u001b[0m\n\u001b[1;32m      2\u001b[0m \u001b[0;31m## it will break\u001b[0m\u001b[0;34m\u001b[0m\u001b[0;34m\u001b[0m\u001b[0m\n\u001b[1;32m      3\u001b[0m \u001b[0;34m\u001b[0m\u001b[0m\n\u001b[0;32m----> 4\u001b[0;31m \u001b[0mabsNumber\u001b[0m\u001b[0;34m(\u001b[0m\u001b[0;34m-\u001b[0m\u001b[0;36m10\u001b[0m\u001b[0;34m)\u001b[0m\u001b[0;34m\u001b[0m\u001b[0;34m\u001b[0m\u001b[0m\n\u001b[0m",
      "\u001b[0;32m/var/folders/jg/xjfmqdcj0m1bqs1d7sgv9v480000gp/T/ipykernel_26125/2045342037.py\u001b[0m in \u001b[0;36mabsNumber\u001b[0;34m(list_name)\u001b[0m\n\u001b[1;32m      5\u001b[0m     \u001b[0mTake\u001b[0m \u001b[0ma\u001b[0m \u001b[0mlist\u001b[0m\u001b[0;34m,\u001b[0m \u001b[0;32mreturn\u001b[0m \u001b[0man\u001b[0m \u001b[0mupdated\u001b[0m \u001b[0mlist\u001b[0m \u001b[0;32mwith\u001b[0m \u001b[0mabsolute\u001b[0m \u001b[0mvalues\u001b[0m\u001b[0;34m\u001b[0m\u001b[0;34m\u001b[0m\u001b[0m\n\u001b[1;32m      6\u001b[0m     '''\n\u001b[0;32m----> 7\u001b[0;31m     \u001b[0;32mreturn\u001b[0m \u001b[0;34m[\u001b[0m\u001b[0mabs\u001b[0m\u001b[0;34m(\u001b[0m\u001b[0mnumber\u001b[0m\u001b[0;34m)\u001b[0m \u001b[0;32mfor\u001b[0m \u001b[0mnumber\u001b[0m \u001b[0;32min\u001b[0m \u001b[0mlist_name\u001b[0m\u001b[0;34m]\u001b[0m\u001b[0;34m\u001b[0m\u001b[0;34m\u001b[0m\u001b[0m\n\u001b[0m",
      "\u001b[0;31mTypeError\u001b[0m: 'int' object is not iterable"
     ]
    }
   ],
   "source": [
    "## try using it on a single number like -10\n",
    "## it will break\n",
    "\n",
    "absNumber(-10)"
   ]
  },
  {
   "cell_type": "markdown",
   "id": "40f6de73",
   "metadata": {},
   "source": [
    "## Universalize our absolute numbers function"
   ]
  },
  {
   "cell_type": "code",
   "execution_count": 33,
   "id": "1e457cfc",
   "metadata": {},
   "outputs": [],
   "source": [
    "## name the function make_abs\n",
    "def make_ab(a_number):\n",
    "    return abs(a_number)"
   ]
  },
  {
   "cell_type": "code",
   "execution_count": 34,
   "id": "0afaf09f",
   "metadata": {},
   "outputs": [
    {
     "ename": "TypeError",
     "evalue": "bad operand type for abs(): 'list'",
     "output_type": "error",
     "traceback": [
      "\u001b[0;31m---------------------------------------------------------------------------\u001b[0m",
      "\u001b[0;31mTypeError\u001b[0m                                 Traceback (most recent call last)",
      "\u001b[0;32m/var/folders/jg/xjfmqdcj0m1bqs1d7sgv9v480000gp/T/ipykernel_26125/3867176742.py\u001b[0m in \u001b[0;36m<module>\u001b[0;34m\u001b[0m\n\u001b[1;32m      1\u001b[0m \u001b[0;31m## Try it on mylist3 - it will break!\u001b[0m\u001b[0;34m\u001b[0m\u001b[0;34m\u001b[0m\u001b[0m\n\u001b[0;32m----> 2\u001b[0;31m \u001b[0mmake_ab\u001b[0m\u001b[0;34m(\u001b[0m\u001b[0mmylist3\u001b[0m\u001b[0;34m)\u001b[0m\u001b[0;34m\u001b[0m\u001b[0;34m\u001b[0m\u001b[0m\n\u001b[0m",
      "\u001b[0;32m/var/folders/jg/xjfmqdcj0m1bqs1d7sgv9v480000gp/T/ipykernel_26125/497694968.py\u001b[0m in \u001b[0;36mmake_ab\u001b[0;34m(a_number)\u001b[0m\n\u001b[1;32m      1\u001b[0m \u001b[0;31m## name the function make_abs\u001b[0m\u001b[0;34m\u001b[0m\u001b[0;34m\u001b[0m\u001b[0m\n\u001b[1;32m      2\u001b[0m \u001b[0;32mdef\u001b[0m \u001b[0mmake_ab\u001b[0m\u001b[0;34m(\u001b[0m\u001b[0ma_number\u001b[0m\u001b[0;34m)\u001b[0m\u001b[0;34m:\u001b[0m\u001b[0;34m\u001b[0m\u001b[0;34m\u001b[0m\u001b[0m\n\u001b[0;32m----> 3\u001b[0;31m     \u001b[0;32mreturn\u001b[0m \u001b[0mabs\u001b[0m\u001b[0;34m(\u001b[0m\u001b[0ma_number\u001b[0m\u001b[0;34m)\u001b[0m\u001b[0;34m\u001b[0m\u001b[0;34m\u001b[0m\u001b[0m\n\u001b[0m",
      "\u001b[0;31mTypeError\u001b[0m: bad operand type for abs(): 'list'"
     ]
    }
   ],
   "source": [
    "## Try it on mylist3 - it will break!\n",
    "make_ab(mylist3)"
   ]
  },
  {
   "cell_type": "code",
   "execution_count": 35,
   "id": "82a1c8c7",
   "metadata": {},
   "outputs": [
    {
     "data": {
      "text/plain": [
       "10"
      ]
     },
     "execution_count": 35,
     "metadata": {},
     "output_type": "execute_result"
    }
   ],
   "source": [
    "make_ab(-10)"
   ]
  },
  {
   "cell_type": "markdown",
   "id": "0c6f7cb8",
   "metadata": {},
   "source": [
    "## We can use the ```map()``` function to tackle this problem.\n",
    "\n",
    "```map()``` takes 2 arguments: a ```function``` and ```iterable like a list```.\n",
    "\n"
   ]
  },
  {
   "cell_type": "code",
   "execution_count": 37,
   "id": "47cabcee",
   "metadata": {},
   "outputs": [
    {
     "data": {
      "text/plain": [
       "[100, 200, 100, 300, 100]"
      ]
     },
     "execution_count": 37,
     "metadata": {},
     "output_type": "execute_result"
    }
   ],
   "source": [
    "## try it on make_abs and mylist3\n",
    "list(map(make_ab, mylist3))"
   ]
  },
  {
   "cell_type": "code",
   "execution_count": null,
   "id": "9e97fbaf",
   "metadata": {},
   "outputs": [],
   "source": [
    "## save it into a list\n"
   ]
  },
  {
   "cell_type": "code",
   "execution_count": null,
   "id": "5a1f7c55",
   "metadata": {},
   "outputs": [],
   "source": []
  }
 ],
 "metadata": {
  "kernelspec": {
   "display_name": "Python 3 (ipykernel)",
   "language": "python",
   "name": "python3"
  },
  "language_info": {
   "codemirror_mode": {
    "name": "ipython",
    "version": 3
   },
   "file_extension": ".py",
   "mimetype": "text/x-python",
   "name": "python",
   "nbconvert_exporter": "python",
   "pygments_lexer": "ipython3",
   "version": "3.9.7"
  }
 },
 "nbformat": 4,
 "nbformat_minor": 5
}
