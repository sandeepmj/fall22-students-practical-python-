{
 "cells": [
  {
   "cell_type": "markdown",
   "metadata": {
    "id": "OVyRoimTXUtP"
   },
   "source": [
    "# Week 1 - Working with Numbers, slicing, lists and dictionaries (Blanks)\n"
   ]
  },
  {
   "cell_type": "markdown",
   "metadata": {
    "id": "pSr5TPlpXUtQ"
   },
   "source": [
    "## Working with Numbers\n",
    "\n"
   ]
  },
  {
   "cell_type": "code",
   "execution_count": null,
   "metadata": {
    "id": "YQwtkjwRXUtR"
   },
   "outputs": [],
   "source": [
    "## create a variable called num equal to 30 billion in scientific notation\n",
    "## print it as \"This number is $30,000,000,000.00\" using f-string literal (2 decimal places)\n"
   ]
  },
  {
   "cell_type": "code",
   "execution_count": null,
   "metadata": {
    "id": "pnEnrkKaXUtV"
   },
   "outputs": [],
   "source": [
    "## create a variable called num2 equal to 30 billion in scientific notation\n",
    "## Print it like you did above but to no decimal places.\n"
   ]
  },
  {
   "cell_type": "code",
   "execution_count": null,
   "metadata": {
    "id": "XMOAYtyUXUtY"
   },
   "outputs": [],
   "source": [
    "## create a variable called \"big_number\" that holds the integer 300 trillion\n",
    "## use thousands separator/digit group separator to make it easier to read\n",
    "## do NOT use scientific notation\n",
    "## when you print the number, it should look like this: 300000000000000\n"
   ]
  },
  {
   "cell_type": "code",
   "execution_count": null,
   "metadata": {
    "id": "vQtaG-SPXUtb"
   },
   "outputs": [],
   "source": [
    "## Print the same number but with thousands comma separators\n"
   ]
  },
  {
   "cell_type": "code",
   "execution_count": null,
   "metadata": {
    "id": "fh2HF0beXUte"
   },
   "outputs": [],
   "source": [
    "## remove all duplicate values and place in a list called updated_list\n",
    "original_list = [3, 4, 12, 14, 3, 7, 12, 8, 22, 7, 8, 101, 43, 62, 7, 92, 1, 3, 17, 19, 47]\n"
   ]
  },
  {
   "cell_type": "markdown",
   "metadata": {
    "id": "Sy86XLPBXUtg"
   },
   "source": [
    "#### Use the following list to complete exercises:"
   ]
  },
  {
   "cell_type": "code",
   "execution_count": null,
   "metadata": {
    "id": "Neoj9JS3XUth"
   },
   "outputs": [],
   "source": [
    "currency_list = [\"U.S. Dollar\", \"Russian Ruble\", \"Indian Rupee\", \"Mexican Peso\", \"British Pound\" ]"
   ]
  },
  {
   "cell_type": "code",
   "execution_count": null,
   "metadata": {
    "id": "10V9Kv93XUtn"
   },
   "outputs": [],
   "source": [
    "## print the last item in the list above\n"
   ]
  },
  {
   "cell_type": "code",
   "execution_count": null,
   "metadata": {
    "id": "Z8LWsz8gXUtq"
   },
   "outputs": [],
   "source": [
    "## print the first item in the list above\n"
   ]
  },
  {
   "cell_type": "code",
   "execution_count": null,
   "metadata": {
    "id": "mXsPOtbCXUtt"
   },
   "outputs": [],
   "source": [
    "## print the 2nd and 3rd items in the list above\n"
   ]
  },
  {
   "cell_type": "code",
   "execution_count": null,
   "metadata": {
    "id": "C80mLuBtXUtv"
   },
   "outputs": [],
   "source": [
    "## rename the \"U.S. Dollar\" as \"American Dollar\"\n",
    "\n"
   ]
  },
  {
   "cell_type": "code",
   "execution_count": null,
   "metadata": {
    "id": "QJELm-jHXUty"
   },
   "outputs": [],
   "source": [
    "# add the 'Turkish Lira' to the list\n"
   ]
  },
  {
   "cell_type": "code",
   "execution_count": null,
   "metadata": {
    "id": "Tp-cttrFXUt0"
   },
   "outputs": [],
   "source": [
    "## add multiple additional currencies to currency_list\n",
    "more_currency = [\"European Union Euro\", \"Chinese Yuan\", \"Japanese Yen\"]"
   ]
  },
  {
   "cell_type": "code",
   "execution_count": null,
   "metadata": {
    "id": "zdkxzU-JXUt2"
   },
   "outputs": [],
   "source": [
    "## method 1 (add together)\n"
   ]
  },
  {
   "cell_type": "code",
   "execution_count": null,
   "metadata": {
    "id": "w87IpWbVXUt5"
   },
   "outputs": [],
   "source": [
    "# method 2 (automatically places it into a list)\n"
   ]
  },
  {
   "cell_type": "code",
   "execution_count": null,
   "metadata": {
    "id": "RIh6YU1VXUt7"
   },
   "outputs": [],
   "source": [
    "## reset the currency list\n",
    "currency_list = ['American Dollar',\n",
    " 'Russian Ruble',\n",
    " 'Indian Rupee',\n",
    " 'Mexican Peso',\n",
    " 'British Pound',\n",
    " 'Turkish Lira']"
   ]
  },
  {
   "cell_type": "markdown",
   "metadata": {
    "id": "wWO6GNUeXUt-"
   },
   "source": [
    "## The most modern way using `*` to unpack iterables"
   ]
  },
  {
   "cell_type": "code",
   "execution_count": null,
   "metadata": {
    "id": "0hLpiYsUXUt-"
   },
   "outputs": [],
   "source": [
    "# method 3 but you do have to assign it to a new list\n"
   ]
  },
  {
   "cell_type": "markdown",
   "metadata": {
    "id": "lPnUSMh5XUuA"
   },
   "source": [
    "### Use the following dictionary for the next tasks."
   ]
  },
  {
   "cell_type": "code",
   "execution_count": null,
   "metadata": {
    "id": "u_tibPVdXUuB"
   },
   "outputs": [],
   "source": [
    "country_stats_dict = {\"country\": \"United States\", \"population\": 329_450_000, \"currency\": \"dollar\", \"capital\": \"Washington, D.C.\", \"GDP\": 2049e10 }\n",
    "country_stats_dict"
   ]
  },
  {
   "cell_type": "markdown",
   "metadata": {
    "id": "Mu4PHKz2XUuD"
   },
   "source": [
    "### Place all the keys in a list called keys_list"
   ]
  },
  {
   "cell_type": "code",
   "execution_count": null,
   "metadata": {
    "id": "EP6lOVieXUuD"
   },
   "outputs": [],
   "source": [
    "## method 1 target keys with .dict and turn into a list\n"
   ]
  },
  {
   "cell_type": "code",
   "execution_count": null,
   "metadata": {
    "id": "KzTPkNi9XUuG"
   },
   "outputs": [],
   "source": [
    "## method 2 use target keys from dictionary and turn into list\n"
   ]
  },
  {
   "cell_type": "code",
   "execution_count": null,
   "metadata": {
    "id": "rQiYBptAXUuI"
   },
   "outputs": [],
   "source": [
    "## method 3 dictionary unpacking\n"
   ]
  },
  {
   "cell_type": "markdown",
   "metadata": {
    "id": "V3TodB22XUuL"
   },
   "source": [
    "###  Place all the values in a list called values_list:"
   ]
  },
  {
   "cell_type": "code",
   "execution_count": null,
   "metadata": {
    "id": "JoAMn3z7XUuL"
   },
   "outputs": [],
   "source": []
  },
  {
   "cell_type": "markdown",
   "metadata": {
    "id": "zxyzMJXWXUuN"
   },
   "source": [
    "### Use the following list of dictionaries in the next tasks:"
   ]
  },
  {
   "cell_type": "code",
   "execution_count": null,
   "metadata": {
    "id": "W9GG8a2KXUuO",
    "scrolled": true
   },
   "outputs": [],
   "source": [
    "country_stats_dict_list = [{\"country\": \"United States\", \"population\": 329_450_000, \"currency\": \"Dollar\", \"capital\": \"Washington, D.C.\", \"GDP\": 2049e10 },\n",
    "                          {\"country\": \"Russia\", \"population\": 145_870_000, \"currency\": \"Ruble\", \"capital\": \"Moscow\", \"GDP\": 34e11 }\n",
    "                          ]\n",
    "country_stats_dict_list"
   ]
  },
  {
   "cell_type": "markdown",
   "metadata": {
    "id": "7D5de3yCXUuQ"
   },
   "source": [
    "## A list of dictionaries is similar to a CSV file with columns and rows:\n",
    "\n",
    "![alt text](https://raw.githubusercontent.com/sandeepmj/practical_python_exercises/master/support_files/list_of_dictionaries.png \"Dictionaries and CSVs\")"
   ]
  },
  {
   "cell_type": "code",
   "execution_count": null,
   "metadata": {
    "id": "2k0j1-G3XUuQ"
   },
   "outputs": [],
   "source": [
    "## create a new dictionary called  (in the same format as the country_stats_dict)\n",
    "## Country is Brazil\n",
    "## Its population is 209.5 million\n",
    "## Currency is the Real\n",
    "## Capital is Brasilia\n",
    "## Its GDP is 1.869 trillion US dollars\n",
    "\n"
   ]
  },
  {
   "cell_type": "code",
   "execution_count": null,
   "metadata": {
    "id": "ZQQJX4vmXUuS"
   },
   "outputs": [],
   "source": [
    "## or using a dictionary contructor:\n",
    "\n"
   ]
  },
  {
   "cell_type": "code",
   "execution_count": null,
   "metadata": {
    "id": "CdSxaTnpXUuU"
   },
   "outputs": [],
   "source": [
    "## Add that dictionary to the country_stats_dict_list\n"
   ]
  },
  {
   "cell_type": "markdown",
   "metadata": {
    "id": "rTk6IQgzXUuX"
   },
   "source": [
    "### What are relevant journalistic uses for the various methods above?\n",
    "\n",
    "#### 1. Making numbers more readable (using f-string literal formatting)\n",
    "#### 2. Organizing data points after acquiring them through scraping (creating lists, dictionaries and lists of dictionaries)\n",
    "#### 3. Confirming that we have unique values (or removing duplicates in a data set)\n",
    "#### 4. Creating column headers to prepare data for export to a CSV file"
   ]
  },
  {
   "cell_type": "markdown",
   "metadata": {
    "id": "FPPDL8PuXUuX"
   },
   "source": [
    "### Real-world Exercise 1 - Prepare data for export to CSV\n",
    "\n",
    "**Background:**\n",
    "\n",
    "We have an excerpt of a list of dictionaries that contains results of keyword-searches of all of Putin's annual press conferences since 2001 to 2019.\n",
    "\n",
    "After scraping the text from the Kremlin site, we ran a natural language analysis and counted the frequency of keywords each year. We now need to export the NL analysis to a CSV file so we can analyze the numbers."
   ]
  },
  {
   "cell_type": "markdown",
   "metadata": {
    "id": "NrYbIr4pXUuX"
   },
   "source": [
    "**Exercise:**\n",
    "\n",
    "Prepare the provided **List of Dictionaries** for export as a CSV file by creating the required column headers based on the dictionary keys."
   ]
  },
  {
   "cell_type": "code",
   "execution_count": null,
   "metadata": {
    "id": "YSGl1liMXUuY"
   },
   "outputs": [],
   "source": [
    "putin_words_list_of_dicts = [{'word': 'wto', 'count': 16, 'date': '24-Jun-02'}, {'word': 'nato', 'count': 8, 'date': '24-Jun-02'}, {'word': 'energy', 'count': 5, 'date': '24-Jun-02'}, {'word': 'oil', 'count': 3, 'date': '24-Jun-02'}, {'word': 'gas', 'count': 6, 'date': '24-Jun-02'}, {'word': 'coal', 'count': 0, 'date': '24-Jun-02'}, {'word': 'gazprom', 'count': 0, 'date': '24-Jun-02'}, {'word': 'nuclear', 'count': 2, 'date': '24-Jun-02'}, {'word': 'missile(s)', 'count': 0, 'date': '24-Jun-02'}, {'word': 'war', 'count': 3, 'date': '24-Jun-02'}, {'word': 'military', 'count': 3, 'date': '24-Jun-02'}, {'word': 'sovereignty', 'count': 6, 'date': '24-Jun-02'}, {'word': 'ruble(s)', 'count': 0, 'date': '24-Jun-02'}, {'word': 'inflation', 'count': 0, 'date': '24-Jun-02'}, {'word': 'economy', 'count': 22, 'date': '24-Jun-02'}, {'word': 'market(s)', 'count': 8, 'date': '24-Jun-02'}, {'word': 'corruption', 'count': 0, 'date': '24-Jun-02'}, {'word': 'poverty', 'count': 1, 'date': '24-Jun-02'}, {'word': 'authoritarian', 'count': 0, 'date': '24-Jun-02'}, {'word': 'democracy', 'count': 0, 'date': '24-Jun-02'}, {'word': 'election(s)', 'count': 1, 'date': '24-Jun-02'}, {'word': 'oligarch', 'count': 0, 'date': '24-Jun-02'}, {'word': 'apec', 'count': 0, 'date': '24-Jun-02'}, {'word': 'china', 'count': 2, 'date': '24-Jun-02'}, {'word': 'iran', 'count': 0, 'date': '24-Jun-02'}, {'word': 'georgia', 'count': 10, 'date': '24-Jun-02'}, {'word': 'crimea', 'count': 0, 'date': '24-Jun-02'}, {'word': 'ukraine-related', 'count': 14, 'date': '24-Jun-02'}, {'word': 'usa', 'count': 0, 'date': '24-Jun-02'}, {'word': 'shtokman', 'count': 0, 'date': '24-Jun-02'}, {'word': 'syria', 'count': 0, 'date': '24-Jun-02'}, {'word': 'chechen-related', 'count': 20, 'date': '24-Jun-02'}, {'word': 'africa', 'count': 0, 'date': '24-Jun-02'}, {'word': 'america', 'count': 0, 'date': '24-Jun-02'}, {'word': 'trump', 'count': 0, 'date': '24-Jun-02'}, {'word': 'obama', 'count': 0, 'date': '24-Jun-02'}, {'word': 'merkel', 'count': 0, 'date': '24-Jun-02'}, {'word': 'bush', 'count': 0, 'date': '24-Jun-02'}, {'word': 'clinton', 'count': 0, 'date': '24-Jun-02'}, {'word': 'schroeder', 'count': 1, 'date': '24-Jun-02'}, {'word': 'khodorkovsky', 'count': 0, 'date': '24-Jun-02'}, {'word': 'medvedev', 'count': 0, 'date': '24-Jun-02'}, {'word': 'terror(ism)', 'count': 5, 'date': '24-Jun-02'}, {'word': 'superpower', 'count': 0, 'date': '24-Jun-02'}, {'word': 'kgb', 'count': 0, 'date': '24-Jun-02'}, {'word': 'family', 'count': 0, 'date': '24-Jun-02'}, {'word': 'homosexual', 'count': 0, 'date': '24-Jun-02'}, {'word': 'gay', 'count': 0, 'date': '24-Jun-02'}, {'word': 'deviant', 'count': 0, 'date': '24-Jun-02'}, {'word': 'protest', 'count': 0, 'date': '24-Jun-02'}, {'word': 'muslim', 'count': 0, 'date': '24-Jun-02'}, {'word': 'islam', 'count': 0, 'date': '24-Jun-02'}, {'word': 'world trade organization', 'count': 0, 'date': '24-Jun-02'}, {'word': 'energy market', 'count': 0, 'date': '24-Jun-02'}, {'word': 'oil pipeline', 'count': 0, 'date': '24-Jun-02'}, {'word': 'gas pipeline', 'count': 2, 'date': '24-Jun-02'}, {'word': 'pipeline', 'count': 2, 'date': '24-Jun-02'}, {'word': 'north atlantic bloc', 'count': 0, 'date': '24-Jun-02'}, {'word': 'central bank', 'count': 0, 'date': '24-Jun-02'}, {'word': 'multiculturalism', 'count': 0, 'date': '24-Jun-02'}, {'word': 'multicultural', 'count': 0, 'date': '24-Jun-02'}, {'word': 'engergy superpower', 'count': 0, 'date': '24-Jun-02'}, {'word': 'america(n)/u.s.', 'count': 2, 'date': '24-Jun-02'}, {'word': 'security service (FSB)', 'count': 1, 'date': '24-Jun-02'}, {'word': 'foreign intelligence service', 'count': 0, 'date': '24-Jun-02'}, {'word': 'wto', 'count': 0, 'date': '18-Jul-01'}, {'word': 'nato', 'count': 5, 'date': '18-Jul-01'}, {'word': 'energy', 'count': 0, 'date': '18-Jul-01'}, {'word': 'oil', 'count': 0, 'date': '18-Jul-01'}, {'word': 'gas', 'count': 0, 'date': '18-Jul-01'}, {'word': 'coal', 'count': 0, 'date': '18-Jul-01'}, {'word': 'gazprom', 'count': 0, 'date': '18-Jul-01'}, {'word': 'nuclear', 'count': 1, 'date': '18-Jul-01'}, {'word': 'missile(s)', 'count': 0, 'date': '18-Jul-01'}, {'word': 'war', 'count': 2, 'date': '18-Jul-01'}, {'word': 'military', 'count': 5, 'date': '18-Jul-01'}, {'word': 'sovereignty', 'count': 0, 'date': '18-Jul-01'}, {'word': 'ruble(s)', 'count': 0, 'date': '18-Jul-01'}, {'word': 'inflation', 'count': 0, 'date': '18-Jul-01'}, {'word': 'economy', 'count': 10, 'date': '18-Jul-01'}, {'word': 'market(s)', 'count': 0, 'date': '18-Jul-01'}, {'word': 'corruption', 'count': 0, 'date': '18-Jul-01'}, {'word': 'poverty', 'count': 1, 'date': '18-Jul-01'}, {'word': 'authoritarian', 'count': 0, 'date': '18-Jul-01'}, {'word': 'democracy', 'count': 1, 'date': '18-Jul-01'}, {'word': 'election(s)', 'count': 1, 'date': '18-Jul-01'}, {'word': 'oligarch', 'count': 0, 'date': '18-Jul-01'}, {'word': 'apec', 'count': 0, 'date': '18-Jul-01'}, {'word': 'china', 'count': 6, 'date': '18-Jul-01'}, {'word': 'iran', 'count': 0, 'date': '18-Jul-01'}, {'word': 'georgia', 'count': 0, 'date': '18-Jul-01'}, {'word': 'crimea', 'count': 0, 'date': '18-Jul-01'}, {'word': 'ukraine-related', 'count': 0, 'date': '18-Jul-01'}, {'word': 'usa', 'count': 0, 'date': '18-Jul-01'}, {'word': 'shtokman', 'count': 0, 'date': '18-Jul-01'}, {'word': 'syria', 'count': 1, 'date': '18-Jul-01'}, {'word': 'chechen-related', 'count': 12, 'date': '18-Jul-01'}, {'word': 'africa', 'count': 0, 'date': '18-Jul-01'}, {'word': 'america', 'count': 0, 'date': '18-Jul-01'}, {'word': 'trump', 'count': 0, 'date': '18-Jul-01'}, {'word': 'obama', 'count': 0, 'date': '18-Jul-01'}, {'word': 'merkel', 'count': 0, 'date': '18-Jul-01'}, {'word': 'bush', 'count': 2, 'date': '18-Jul-01'}, {'word': 'clinton', 'count': 0, 'date': '18-Jul-01'}, {'word': 'schroeder', 'count': 0, 'date': '18-Jul-01'}, {'word': 'khodorkovsky', 'count': 0, 'date': '18-Jul-01'}, {'word': 'medvedev', 'count': 0, 'date': '18-Jul-01'}, {'word': 'terror(ism)', 'count': 0, 'date': '18-Jul-01'}, {'word': 'superpower', 'count': 0, 'date': '18-Jul-01'}, {'word': 'kgb', 'count': 0, 'date': '18-Jul-01'}, {'word': 'family', 'count': 0, 'date': '18-Jul-01'}, {'word': 'homosexual', 'count': 0, 'date': '18-Jul-01'}, {'word': 'gay', 'count': 0, 'date': '18-Jul-01'}, {'word': 'deviant', 'count': 0, 'date': '18-Jul-01'}, {'word': 'protest', 'count': 0, 'date': '18-Jul-01'}, {'word': 'muslim', 'count': 2, 'date': '18-Jul-01'}, {'word': 'islam', 'count': 0, 'date': '18-Jul-01'}, {'word': 'world trade organization', 'count': 0, 'date': '18-Jul-01'}, {'word': 'energy market', 'count': 0, 'date': '18-Jul-01'}, {'word': 'oil pipeline', 'count': 0, 'date': '18-Jul-01'}, {'word': 'gas pipeline', 'count': 0, 'date': '18-Jul-01'}, {'word': 'pipeline', 'count': 0, 'date': '18-Jul-01'}, {'word': 'north atlantic bloc', 'count': 0, 'date': '18-Jul-01'}, {'word': 'central bank', 'count': 0, 'date': '18-Jul-01'}, {'word': 'multiculturalism', 'count': 0, 'date': '18-Jul-01'}, {'word': 'multicultural', 'count': 0, 'date': '18-Jul-01'}, {'word': 'engergy superpower', 'count': 0, 'date': '18-Jul-01'}, {'word': 'america(n)/u.s.', 'count': 3, 'date': '18-Jul-01'}, {'word': 'security service (FSB)', 'count': 0, 'date': '18-Jul-01'}, {'word': 'foreign intelligence service', 'count': 0, 'date': '18-Jul-01'}]"
   ]
  },
  {
   "cell_type": "markdown",
   "metadata": {
    "id": "5p2xgWrBXUuZ"
   },
   "source": [
    "#### Let's take a look at this list of dictionaries:"
   ]
  },
  {
   "cell_type": "code",
   "execution_count": null,
   "metadata": {
    "id": "gIGbYHzCXUuZ"
   },
   "outputs": [],
   "source": [
    "# print(putin_words_list_of_dicts)\n",
    "putin_words_list_of_dicts"
   ]
  },
  {
   "cell_type": "markdown",
   "metadata": {
    "id": "8smPpp5wXUub"
   },
   "source": [
    "**Create column headers**"
   ]
  },
  {
   "cell_type": "code",
   "execution_count": null,
   "metadata": {
    "id": "Dwbg-OeOXUub"
   },
   "outputs": [],
   "source": [
    "# One option is to recreate the list by typing out the columns headers\n"
   ]
  },
  {
   "cell_type": "markdown",
   "metadata": {
    "id": "p5o346-qXUud"
   },
   "source": [
    "**What happens if you add a new key to all the dictionaries?**\n",
    "\n",
    "For example, if you add the temperature that day: , \"temp\": -32"
   ]
  },
  {
   "cell_type": "markdown",
   "metadata": {
    "id": "mEK6O_s2XUue"
   },
   "source": [
    "#### As re-usable code:"
   ]
  },
  {
   "cell_type": "code",
   "execution_count": null,
   "metadata": {
    "id": "2kXfa7COXUue"
   },
   "outputs": [],
   "source": [
    "## find all the headers and make into a list\n",
    "# Just swap out the name of your list of dictionaries here for other projects\n"
   ]
  },
  {
   "cell_type": "code",
   "execution_count": null,
   "metadata": {
    "id": "9ZyaJD9dXUuf"
   },
   "outputs": [],
   "source": [
    "## or by * unpacking\n"
   ]
  },
  {
   "cell_type": "code",
   "execution_count": null,
   "metadata": {
    "id": "_heW-90ZXUuh"
   },
   "outputs": [],
   "source": [
    "## remember to store in csv_columns\n"
   ]
  },
  {
   "cell_type": "markdown",
   "metadata": {
    "id": "UfcU4-qrXUuj"
   },
   "source": [
    "### Real-world Exercise 2 - Remove duplicate codes from a list\n",
    "\n",
    "**Background:**\n",
    "\n",
    "We have a list of Small Business Administration Disaster codes. We need to remove all the duplicates to prepare for an **automated webscrape** to retrieve the descriptions of these codes.\n",
    "\n",
    "**Exercise:** \n",
    "\n",
    "Create a **list of unique values** (remove all the duplicates) from the list below. Call the list \"sba_unique_list\"\n"
   ]
  },
  {
   "cell_type": "code",
   "execution_count": null,
   "metadata": {
    "id": "KqGeteH9XUuj"
   },
   "outputs": [],
   "source": [
    "## list of sba_codes_list\n",
    "sba_codes_list = ['SC-00050',  'SC-00050',  'SC-00050',  'SC-00050',  'SC-00050',  'SC-00050',  'SC-00050',  'SC-00050',  'SC-00050',  'SC-00050',  'SC-00050',  'SC-00050',  'SC-00050',  'SC-00050',  'SC-00050',  'CA-00279',  'CA-00279',  'CA-00279',  'CA-00279',  'CA-00279',  'CA-00279',  'CA-00279',  'CA-00279',  'CA-00279',  'CA-00279',  'SC-00053',  'SC-00053',  'IL-00049',  'IL-00049',  'IL-00049',  'IL-00049',  'IL-00049',  'IL-00049',  'IL-00049',  'IL-00049',  'IL-00049',  'IL-00049',  'IL-00049',  'IL-00049',  'NC-00096',  'NC-00096',  'NC-00096',  'NC-00096',  'NC-00096',  'NC-00096',  'CT-00041',  'LA-00079',  'LA-00079',  'LA-00079',  'LA-00079',  'LA-00079']\n",
    "sba_codes_list"
   ]
  },
  {
   "cell_type": "code",
   "execution_count": null,
   "metadata": {
    "id": "fogDQ6_XXUuk"
   },
   "outputs": [],
   "source": [
    "## create a unique list of sba codes\n"
   ]
  }
 ],
 "metadata": {
  "celltoolbar": "Slideshow",
  "colab": {
   "collapsed_sections": [],
   "name": "week-1-working-with-datatypes-BLANKS.ipynb",
   "provenance": [
    {
     "file_id": "1x90uis83pPW9KWjWbH3043r5M_rj-wqy",
     "timestamp": 1616587741939
    }
   ]
  },
  "kernelspec": {
   "display_name": "Python 3 (ipykernel)",
   "language": "python",
   "name": "python3"
  },
  "language_info": {
   "codemirror_mode": {
    "name": "ipython",
    "version": 3
   },
   "file_extension": ".py",
   "mimetype": "text/x-python",
   "name": "python",
   "nbconvert_exporter": "python",
   "pygments_lexer": "ipython3",
   "version": "3.9.7"
  }
 },
 "nbformat": 4,
 "nbformat_minor": 1
}
