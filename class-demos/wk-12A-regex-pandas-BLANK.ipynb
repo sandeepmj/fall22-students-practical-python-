{
 "cells": [
  {
   "cell_type": "markdown",
   "id": "06de8db3",
   "metadata": {},
   "source": [
    "# Basic regex in Pandas"
   ]
  },
  {
   "cell_type": "code",
   "execution_count": null,
   "id": "dadfdee1",
   "metadata": {},
   "outputs": [],
   "source": [
    "#IMPORT LIBRARIES"
   ]
  },
  {
   "cell_type": "code",
   "execution_count": null,
   "id": "5b5e7cbf",
   "metadata": {},
   "outputs": [],
   "source": [
    "## Create a series with random numbers\n",
    "## row 1 and 3 have 2020 with a leading space\n",
    "years = pd.Series([\"2019 was pre-pandemic\", \" 2020 was a shocker\",\n",
    "                   \"the first 234 days of 2019\",\n",
    "                   \" 2020, in just 334\", \"info about 2019-20\", \n",
    "                   \"lost $453 in 1990-2000\", \"What will Winter 2022 be like?\",\n",
    "                   \"Will Summer 2023 be scorcher?\", \n",
    "                   \"Devastating hurricane seasons included 2020-2022\",\n",
    "                  \"The single worst season was 2022\"])"
   ]
  },
  {
   "cell_type": "code",
   "execution_count": null,
   "id": "3be2561b",
   "metadata": {},
   "outputs": [],
   "source": [
    "## convert to dataframe with possible_period as column header\n"
   ]
  },
  {
   "cell_type": "markdown",
   "id": "9b08a605",
   "metadata": {},
   "source": [
    "## Goal\n",
    "\n",
    "We want to create a column that holds all years that are in the following format:\n",
    "\n",
    "- yyyy\n",
    "- yyyy-yyyy\n",
    "- Season yyyy\n",
    "- yyyy-yy"
   ]
  },
  {
   "cell_type": "markdown",
   "id": "0c993f30",
   "metadata": {},
   "source": [
    "## ```.str.match()```\n",
    "\n",
    "```series.str.match()``` or ```df[\"column_header\"].str.match()``` match ```regex``` patterns only at the very beginning of the string.\n",
    "\n",
    "Often the least useful ```.str``` method."
   ]
  },
  {
   "cell_type": "code",
   "execution_count": null,
   "id": "1eecec94",
   "metadata": {},
   "outputs": [],
   "source": [
    "## run str.match() on our series \n"
   ]
  },
  {
   "cell_type": "code",
   "execution_count": null,
   "id": "1d5b25e9",
   "metadata": {},
   "outputs": [],
   "source": [
    "## store match in column called match\n",
    "## row 1 and 3 have 2020 with a leading space\n"
   ]
  },
  {
   "cell_type": "markdown",
   "id": "824366cb",
   "metadata": {},
   "source": [
    "## ```str.contains()```\n",
    "\n",
    "```series.str.contains()``` or ```df[\"column_header\"].str.contains()``` match characters ```regex``` pattern anywhere in the string."
   ]
  },
  {
   "cell_type": "code",
   "execution_count": null,
   "id": "4ce325fc",
   "metadata": {},
   "outputs": [],
   "source": [
    "## STRING contains\n"
   ]
  },
  {
   "cell_type": "code",
   "execution_count": null,
   "id": "4b0bb3bf",
   "metadata": {},
   "outputs": [],
   "source": [
    "## contains yyyy pattern\n"
   ]
  },
  {
   "cell_type": "markdown",
   "id": "49052fa7",
   "metadata": {},
   "source": [
    "```str.contains(regex_pattern, flags = re.I)```\n",
    "\n",
    "You might also encounter: ```str.contains(regex_pattern, case = False)```\n",
    "\n",
    "If ```case = True```, then case sensitive but if ```case = False``` not case sensitive.\n",
    "\n",
    "The ```flags = ``` option is more versatile since you can use any regex flags."
   ]
  },
  {
   "cell_type": "code",
   "execution_count": null,
   "id": "753fbbf2",
   "metadata": {},
   "outputs": [],
   "source": [
    "## contains Season yyyy pattern\n",
    "## if 'case = True', then case sensitive\n"
   ]
  },
  {
   "cell_type": "markdown",
   "id": "d6bbcf87",
   "metadata": {},
   "source": [
    "## ```.str.extract()```\n",
    "\n",
    "Notice how with ```.str.contains()``` or ```.str.match()``` the result only tells us if something matched ())(()) a pattern.\n",
    "\n",
    "To actually capture the characters that matched our pattern we use ```.str.extract()```."
   ]
  },
  {
   "cell_type": "code",
   "execution_count": null,
   "id": "710635a7",
   "metadata": {},
   "outputs": [],
   "source": [
    "### YYYY\n"
   ]
  },
  {
   "cell_type": "code",
   "execution_count": null,
   "id": "e437226b",
   "metadata": {},
   "outputs": [],
   "source": [
    "### YYYY-YY\n"
   ]
  },
  {
   "cell_type": "code",
   "execution_count": null,
   "id": "cac7af75",
   "metadata": {},
   "outputs": [],
   "source": [
    "### find Winter YYYY\n"
   ]
  },
  {
   "cell_type": "code",
   "execution_count": null,
   "id": "c8f8fde2",
   "metadata": {},
   "outputs": [],
   "source": [
    "### find Winter YYYY\n",
    "## add a flag\n"
   ]
  },
  {
   "cell_type": "code",
   "execution_count": null,
   "id": "2dc781cc",
   "metadata": {},
   "outputs": [],
   "source": [
    "### find both Summer YYYY and Winter YYYY\n",
    "## add a flag\n"
   ]
  },
  {
   "cell_type": "code",
   "execution_count": null,
   "id": "be3a97f1",
   "metadata": {},
   "outputs": [],
   "source": [
    "## Let's pull all the patterns one\n",
    "## pattern to capture summer and winter followed by the year but not other text\n"
   ]
  },
  {
   "cell_type": "code",
   "execution_count": null,
   "id": "a720fa50",
   "metadata": {
    "scrolled": true
   },
   "outputs": [],
   "source": [
    "## run pattern on possible_period\n"
   ]
  },
  {
   "cell_type": "code",
   "execution_count": null,
   "id": "ab38a686",
   "metadata": {},
   "outputs": [],
   "source": [
    "## call first column\n"
   ]
  },
  {
   "cell_type": "markdown",
   "id": "6aff966e",
   "metadata": {},
   "source": [
    "## Pattern hard to read:\n",
    "\n",
    "```r'((\\d{4}-\\d{4})|(\\d{4}-\\d{2}\\b)|(\\d{4})|((winter|summer)\\s\\d{4}))'```\n",
    "\n",
    "Let's try another approach:"
   ]
  },
  {
   "cell_type": "code",
   "execution_count": null,
   "id": "7e924fdf",
   "metadata": {},
   "outputs": [],
   "source": [
    "## Let's pull all the patterns into a list\n",
    "## pattern to capture summer and winter followed by the year but not other text\n"
   ]
  },
  {
   "cell_type": "markdown",
   "id": "e16cbff6",
   "metadata": {},
   "source": [
    "### ```str.extract('|'.join(regex))```\n",
    "\n",
    "This allows us to iterate through our list of patterns with ```|``` denoting alternates."
   ]
  },
  {
   "cell_type": "code",
   "execution_count": null,
   "id": "e1948c57",
   "metadata": {},
   "outputs": [],
   "source": [
    "## step in the right direction:\n"
   ]
  },
  {
   "cell_type": "markdown",
   "id": "df938010",
   "metadata": {},
   "source": [
    "### Missing items:\n",
    "\n",
    "- flags\n",
    "- capture grouping"
   ]
  },
  {
   "cell_type": "code",
   "execution_count": null,
   "id": "c69710d3",
   "metadata": {},
   "outputs": [],
   "source": [
    "## create a single capture group with correct flags\n"
   ]
  },
  {
   "cell_type": "code",
   "execution_count": null,
   "id": "0a117c77",
   "metadata": {},
   "outputs": [],
   "source": [
    "## store it into a variable:\n",
    "\n"
   ]
  },
  {
   "cell_type": "code",
   "execution_count": null,
   "id": "4c0860c8",
   "metadata": {},
   "outputs": [],
   "source": [
    "## add the first column into our main df\n",
    "## drop all the intermediate demo columns\n",
    "## call our final df\n"
   ]
  }
 ],
 "metadata": {
  "kernelspec": {
   "display_name": "Python 3 (ipykernel)",
   "language": "python",
   "name": "python3"
  },
  "language_info": {
   "codemirror_mode": {
    "name": "ipython",
    "version": 3
   },
   "file_extension": ".py",
   "mimetype": "text/x-python",
   "name": "python",
   "nbconvert_exporter": "python",
   "pygments_lexer": "ipython3",
   "version": "3.9.7"
  }
 },
 "nbformat": 4,
 "nbformat_minor": 5
}
