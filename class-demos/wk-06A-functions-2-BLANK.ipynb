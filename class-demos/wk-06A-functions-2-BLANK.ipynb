{
 "cells": [
  {
   "cell_type": "markdown",
   "id": "3dc2667e",
   "metadata": {},
   "source": [
    "# Functions - Part 2"
   ]
  },
  {
   "cell_type": "markdown",
   "id": "6abd0f1d",
   "metadata": {},
   "source": [
    "Write a function that takes two numbers and divides the first number by the second number. The function should return the quotient.\n",
    "Call the function ```divi()```\n",
    "\n"
   ]
  },
  {
   "cell_type": "code",
   "execution_count": 1,
   "id": "fe0a2628",
   "metadata": {},
   "outputs": [],
   "source": [
    "## write it here\n"
   ]
  },
  {
   "cell_type": "code",
   "execution_count": 2,
   "id": "c170246f",
   "metadata": {},
   "outputs": [],
   "source": [
    "## test it here with 10 as the number1 and 20 as number2\n"
   ]
  },
  {
   "cell_type": "code",
   "execution_count": 3,
   "id": "8303be9b",
   "metadata": {},
   "outputs": [],
   "source": [
    "## test it here with 20 as the number1 and 10 as number2\n"
   ]
  },
  {
   "cell_type": "markdown",
   "id": "3607595f",
   "metadata": {},
   "source": [
    "## ```Docstrings```\n",
    "\n",
    "As our functions get more complicated, it gets harder to remember what the parameters are and what they actually do. ```Docstrings``` help us and our colleagues understand what a function does; what parameters you need; and what order they need to be in."
   ]
  },
  {
   "cell_type": "code",
   "execution_count": 4,
   "id": "ba54bdc7",
   "metadata": {},
   "outputs": [],
   "source": [
    "## rewrite divi() with docstrings here:\n"
   ]
  },
  {
   "cell_type": "code",
   "execution_count": 5,
   "id": "5b7817f1",
   "metadata": {},
   "outputs": [],
   "source": [
    "## test it here."
   ]
  },
  {
   "cell_type": "markdown",
   "id": "11ff7371",
   "metadata": {},
   "source": [
    "## Return multiple values"
   ]
  },
  {
   "cell_type": "code",
   "execution_count": 6,
   "id": "5faeea8e",
   "metadata": {},
   "outputs": [],
   "source": [
    "## demo function\n",
    "\n"
   ]
  },
  {
   "cell_type": "code",
   "execution_count": 7,
   "id": "e4a7b58b",
   "metadata": {},
   "outputs": [],
   "source": [
    "## store variables \n"
   ]
  },
  {
   "cell_type": "code",
   "execution_count": 8,
   "id": "9d8e675e",
   "metadata": {},
   "outputs": [
    {
     "ename": "NameError",
     "evalue": "name 'name' is not defined",
     "output_type": "error",
     "traceback": [
      "\u001b[0;31m---------------------------------------------------------------------------\u001b[0m",
      "\u001b[0;31mNameError\u001b[0m                                 Traceback (most recent call last)",
      "\u001b[0;32m/var/folders/jg/xjfmqdcj0m1bqs1d7sgv9v480000gp/T/ipykernel_25281/2386618086.py\u001b[0m in \u001b[0;36m<module>\u001b[0;34m\u001b[0m\n\u001b[1;32m      1\u001b[0m \u001b[0;31m## print each variable\u001b[0m\u001b[0;34m\u001b[0m\u001b[0;34m\u001b[0m\u001b[0m\n\u001b[0;32m----> 2\u001b[0;31m \u001b[0mprint\u001b[0m\u001b[0;34m(\u001b[0m\u001b[0;34mf\"name: {name}, age: {age}, country: {country}\"\u001b[0m\u001b[0;34m)\u001b[0m\u001b[0;34m\u001b[0m\u001b[0;34m\u001b[0m\u001b[0m\n\u001b[0m",
      "\u001b[0;31mNameError\u001b[0m: name 'name' is not defined"
     ]
    }
   ],
   "source": [
    "## print each variable\n",
    "print(f\"name: {name}, age: {age}, country: {country}\")"
   ]
  },
  {
   "cell_type": "code",
   "execution_count": null,
   "id": "ab801c2f",
   "metadata": {},
   "outputs": [],
   "source": [
    "## the order matters\n"
   ]
  },
  {
   "cell_type": "code",
   "execution_count": null,
   "id": "84d5de2f",
   "metadata": {},
   "outputs": [],
   "source": [
    "## print each variable\n"
   ]
  },
  {
   "cell_type": "markdown",
   "id": "6f587cdf",
   "metadata": {},
   "source": [
    "## Make a function more flexible and universal\n",
    "\n"
   ]
  },
  {
   "cell_type": "code",
   "execution_count": null,
   "id": "859af296",
   "metadata": {},
   "outputs": [],
   "source": [
    "## RUN THIS CELL\n",
    "## Each list of numbers has to be turned into absolute numbers \n",
    "mylist1 = [1, -5, 22, -44.2, 33, -45]\n",
    "mylist2 = [-56, -34, -75, -111, -22]\n",
    "mylist3 = [-100, -200, 100, -300, -100]\n",
    "mylist4 = [-23, -89, -11, -45, -27]\n",
    "mylist5 = [0, 1, 2, 3, 4, 5]"
   ]
  },
  {
   "cell_type": "code",
   "execution_count": null,
   "id": "be75f87f",
   "metadata": {},
   "outputs": [],
   "source": [
    "## our function from last week\n"
   ]
  },
  {
   "cell_type": "code",
   "execution_count": null,
   "id": "5fb70221",
   "metadata": {},
   "outputs": [],
   "source": [
    "## test it here on a list\n"
   ]
  },
  {
   "cell_type": "code",
   "execution_count": null,
   "id": "d035ea17",
   "metadata": {},
   "outputs": [],
   "source": [
    "## Rewrite this function so it returns a list of updated absolute numbers\n",
    "## AND add a docstring\n",
    "\n"
   ]
  },
  {
   "cell_type": "code",
   "execution_count": null,
   "id": "217b5451",
   "metadata": {},
   "outputs": [],
   "source": [
    "## call it on any of the lists above and store in variable\n"
   ]
  },
  {
   "cell_type": "markdown",
   "id": "dff7c12d",
   "metadata": {},
   "source": [
    "### Currently, we have a function that takes ONLY a list as an argument.\n",
    "\n",
    "### We'd have to write another one for a single number argument."
   ]
  },
  {
   "cell_type": "code",
   "execution_count": null,
   "id": "8304ead5",
   "metadata": {},
   "outputs": [],
   "source": [
    "## try using it on a single number like -10\n",
    "## it will break\n",
    "\n"
   ]
  },
  {
   "cell_type": "markdown",
   "id": "40f6de73",
   "metadata": {},
   "source": [
    "## Universalize our absolute numbers function"
   ]
  },
  {
   "cell_type": "code",
   "execution_count": null,
   "id": "1e457cfc",
   "metadata": {},
   "outputs": [],
   "source": [
    "## name the function make_abs\n"
   ]
  },
  {
   "cell_type": "code",
   "execution_count": null,
   "id": "0afaf09f",
   "metadata": {},
   "outputs": [],
   "source": [
    "## Try it on mylist3 - it will break!\n"
   ]
  },
  {
   "cell_type": "markdown",
   "id": "0c6f7cb8",
   "metadata": {},
   "source": [
    "## We can use the ```map()``` function to tackle this problem.\n",
    "\n",
    "```map()``` takes 2 arguments: a ```function``` and ```iterable like a list```.\n",
    "\n"
   ]
  },
  {
   "cell_type": "code",
   "execution_count": null,
   "id": "47cabcee",
   "metadata": {},
   "outputs": [],
   "source": [
    "## try it on make_abs and mylist3\n"
   ]
  },
  {
   "cell_type": "code",
   "execution_count": null,
   "id": "9e97fbaf",
   "metadata": {},
   "outputs": [],
   "source": [
    "## save it into a list\n"
   ]
  }
 ],
 "metadata": {
  "kernelspec": {
   "display_name": "Python 3 (ipykernel)",
   "language": "python",
   "name": "python3"
  },
  "language_info": {
   "codemirror_mode": {
    "name": "ipython",
    "version": 3
   },
   "file_extension": ".py",
   "mimetype": "text/x-python",
   "name": "python",
   "nbconvert_exporter": "python",
   "pygments_lexer": "ipython3",
   "version": "3.9.7"
  }
 },
 "nbformat": 4,
 "nbformat_minor": 5
}
