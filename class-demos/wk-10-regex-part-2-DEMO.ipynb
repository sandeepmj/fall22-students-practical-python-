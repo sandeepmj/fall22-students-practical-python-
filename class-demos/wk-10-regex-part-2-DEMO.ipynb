{
 "cells": [
  {
   "cell_type": "markdown",
   "metadata": {
    "id": "RtXF5HKNRbPh"
   },
   "source": [
    "# Regular Expressions (regex) - Part 2\n",
    "\n",
    "Pages we need to visit:\n",
    "\n",
    "- <a href=\"https://docs.google.com/presentation/d/165Dc2jKVK1KITd3FTzOeYS2EA5DUNutajFMuy3tQ84Q/edit?usp=sharing\">What is REGEX in our news reporting context?</a> \n",
    "- Live Testing: https://regex101.com/\n",
    "- Sandeep's <a href=\"https://docs.google.com/spreadsheets/d/1A39lM4SiGZbzZPxrjEXkR05aksAewudccWmojoIU0Gk/edit?usp=sharing\">REGEX Tip sheet</a>\n",
    "- Common pattern finder: https://regexlib.com/Default.aspx\n",
    "\n",
    "\n",
    "Some dummy text:"
   ]
  },
  {
   "cell_type": "code",
   "execution_count": 1,
   "metadata": {
    "id": "7obJksVBRbPn"
   },
   "outputs": [],
   "source": [
    "## place dummy text into a variable called mydoc\n",
    "mydoc = '''12534 127 ab aba abba sandeepj@bloomberg.net abbba, abbbbba, (518) 469-4581 abcde.The dog is a not a hog. ABA ABBA ABBBA.\n",
    "\n",
    "Florence smith\n",
    "John Smith\n",
    "Carol Brown Tel. 212-452-5728\n",
    "\n",
    "\n",
    "Ab_CD123  123456 and 12456\ttor 12531245134562. 123867584789. $40.44 or $3 or $52,583.08 or $610,235.11\n",
    "Tel. (917) 492-8601\n",
    "\n",
    "The cat sat down and called 514-957-3453 while the other caaaaaat purred. This cat is in California while this caaaat is in Iraq, but none are in ct. My dog prefers cat food to dog food but hates fish food.My food tastes yummy!\n",
    "Peter Trapp Jon Smythe Luca Smith John Smythe\n",
    "Maggie Veach Tel. 718 601 7567\n",
    "\n",
    "AB_cd \t<+>-.,!@# $%^&*();\\/|_^@1# (917) 488-5410\n",
    "\n",
    "*!dsar2d1\n",
    "\n",
    "I told him to search Jon Smith\n",
    "Katie Pine\n",
    "John Smth\n",
    "\n",
    "TELEPHONE NUMBERS\n",
    "Tel. 718-392-4793\n",
    "Tel. (646) 469-3211\n",
    "Tel. 917.425.2796\n",
    "\n",
    "NUMBERS\n",
    "1\n",
    "12\n",
    "123\n",
    "123,456\n",
    "123,456,789\n",
    "123,456,789.01\n",
    "\n",
    "EMAILS\n",
    "sandeep.junnarkar@journalism.cuny.edu\n",
    "sandeepj@gmail.com\n",
    "sjunnarkar@bloomberg.net\n",
    "sandeep.junnarkar@news.co.uk\n",
    "\n",
    "\n",
    "POLICE\n",
    "Det. Frank Castille\n",
    "Police Officer Dan D. Dennings\n",
    "Lt. Patrician Grace\n",
    "Detective Susan Treeble\n",
    "Officer Cantwell Brady-Stevens\n",
    "\n",
    "Novel Djokvichthe thesaurus where sandeep.junnarkar@journalism.cuny.edu he'd be able to sjnews@gmail.com find words like them.\n",
    "\n",
    "abcdefgczhijklmnopqrstuvwxyz\tABCDEFGCZHIJKLMNOPQRSTUVWXYZ\n",
    "\n",
    "A h0g is a hog.\n",
    "\n",
    "Dog and dog and DOG. His number is 415.458.9163. John Brown jon Smith\n",
    "Peter Finch\n",
    "\n",
    "&^%@ 129\n",
    "\n",
    "$12,560\n",
    "\n",
    "abba\n",
    "\n",
    "cat 3452 black\n",
    "dog 234 white\n",
    "fish 3562 silver\n",
    "rat 94 white\n",
    "bird 1957 purple\n",
    "horse 3 black\n",
    "chameleon  5724 green\n",
    "snake 6730 red\n",
    "\n",
    "\n",
    "\n",
    "'''"
   ]
  },
  {
   "cell_type": "code",
   "execution_count": 2,
   "metadata": {
    "id": "9EuypuZIRbPn"
   },
   "outputs": [
    {
     "data": {
      "text/plain": [
       "\"12534 127 ab aba abba sandeepj@bloomberg.net abbba, abbbbba, (518) 469-4581 abcde.The dog is a not a hog. ABA ABBA ABBBA.\\n\\nFlorence smith\\nJohn Smith\\nCarol Brown Tel. 212-452-5728\\n\\n\\nAb_CD123  123456 and 12456\\ttor 12531245134562. 123867584789. $40.44 or $3 or $52,583.08 or $610,235.11\\nTel. (917) 492-8601\\n\\nThe cat sat down and called 514-957-3453 while the other caaaaaat purred. This cat is in California while this caaaat is in Iraq, but none are in ct. My dog prefers cat food to dog food but hates fish food.My food tastes yummy!\\nPeter Trapp Jon Smythe Luca Smith John Smythe\\nMaggie Veach Tel. 718 601 7567\\n\\nAB_cd \\t<+>-.,!@# $%^&*();\\\\/|_^@1# (917) 488-5410\\n\\n*!dsar2d1\\n\\nI told him to search Jon Smith\\nKatie Pine\\nJohn Smth\\n\\nTELEPHONE NUMBERS\\nTel. 718-392-4793\\nTel. (646) 469-3211\\nTel. 917.425.2796\\n\\nNUMBERS\\n1\\n12\\n123\\n123,456\\n123,456,789\\n123,456,789.01\\n\\nEMAILS\\nsandeep.junnarkar@journalism.cuny.edu\\nsandeepj@gmail.com\\nsjunnarkar@bloomberg.net\\nsandeep.junnarkar@news.co.uk\\n\\n\\nPOLICE\\nDet. Frank Castille\\nPolice Officer Dan D. Dennings\\nLt. Patrician Grace\\nDetective Susan Treeble\\nOfficer Cantwell Brady-Stevens\\n\\nNovel Djokvichthe thesaurus where sandeep.junnarkar@journalism.cuny.edu he'd be able to sjnews@gmail.com find words like them.\\n\\nabcdefgczhijklmnopqrstuvwxyz\\tABCDEFGCZHIJKLMNOPQRSTUVWXYZ\\n\\nA h0g is a hog.\\n\\nDog and dog and DOG. His number is 415.458.9163. John Brown jon Smith\\nPeter Finch\\n\\n&^%@ 129\\n\\n$12,560\\n\\nabba\\n\\ncat 3452 black\\ndog 234 white\\nfish 3562 silver\\nrat 94 white\\nbird 1957 purple\\nhorse 3 black\\nchameleon  5724 green\\nsnake 6730 red\\n\\n\\n\\n\""
      ]
     },
     "execution_count": 2,
     "metadata": {},
     "output_type": "execute_result"
    }
   ],
   "source": [
    "## call mydoc\n",
    "mydoc"
   ]
  },
  {
   "cell_type": "code",
   "execution_count": 3,
   "metadata": {
    "id": "ErYT4VOT4Jd4"
   },
   "outputs": [
    {
     "name": "stdout",
     "output_type": "stream",
     "text": [
      "12534 127 ab aba abba sandeepj@bloomberg.net abbba, abbbbba, (518) 469-4581 abcde.The dog is a not a hog. ABA ABBA ABBBA.\n",
      "\n",
      "Florence smith\n",
      "John Smith\n",
      "Carol Brown Tel. 212-452-5728\n",
      "\n",
      "\n",
      "Ab_CD123  123456 and 12456\ttor 12531245134562. 123867584789. $40.44 or $3 or $52,583.08 or $610,235.11\n",
      "Tel. (917) 492-8601\n",
      "\n",
      "The cat sat down and called 514-957-3453 while the other caaaaaat purred. This cat is in California while this caaaat is in Iraq, but none are in ct. My dog prefers cat food to dog food but hates fish food.My food tastes yummy!\n",
      "Peter Trapp Jon Smythe Luca Smith John Smythe\n",
      "Maggie Veach Tel. 718 601 7567\n",
      "\n",
      "AB_cd \t<+>-.,!@# $%^&*();\\/|_^@1# (917) 488-5410\n",
      "\n",
      "*!dsar2d1\n",
      "\n",
      "I told him to search Jon Smith\n",
      "Katie Pine\n",
      "John Smth\n",
      "\n",
      "TELEPHONE NUMBERS\n",
      "Tel. 718-392-4793\n",
      "Tel. (646) 469-3211\n",
      "Tel. 917.425.2796\n",
      "\n",
      "NUMBERS\n",
      "1\n",
      "12\n",
      "123\n",
      "123,456\n",
      "123,456,789\n",
      "123,456,789.01\n",
      "\n",
      "EMAILS\n",
      "sandeep.junnarkar@journalism.cuny.edu\n",
      "sandeepj@gmail.com\n",
      "sjunnarkar@bloomberg.net\n",
      "sandeep.junnarkar@news.co.uk\n",
      "\n",
      "\n",
      "POLICE\n",
      "Det. Frank Castille\n",
      "Police Officer Dan D. Dennings\n",
      "Lt. Patrician Grace\n",
      "Detective Susan Treeble\n",
      "Officer Cantwell Brady-Stevens\n",
      "\n",
      "Novel Djokvichthe thesaurus where sandeep.junnarkar@journalism.cuny.edu he'd be able to sjnews@gmail.com find words like them.\n",
      "\n",
      "abcdefgczhijklmnopqrstuvwxyz\tABCDEFGCZHIJKLMNOPQRSTUVWXYZ\n",
      "\n",
      "A h0g is a hog.\n",
      "\n",
      "Dog and dog and DOG. His number is 415.458.9163. John Brown jon Smith\n",
      "Peter Finch\n",
      "\n",
      "&^%@ 129\n",
      "\n",
      "$12,560\n",
      "\n",
      "abba\n",
      "\n",
      "cat 3452 black\n",
      "dog 234 white\n",
      "fish 3562 silver\n",
      "rat 94 white\n",
      "bird 1957 purple\n",
      "horse 3 black\n",
      "chameleon  5724 green\n",
      "snake 6730 red\n",
      "\n",
      "\n",
      "\n",
      "\n"
     ]
    }
   ],
   "source": [
    "## print variable\n",
    "print(mydoc)"
   ]
  },
  {
   "cell_type": "code",
   "execution_count": 4,
   "metadata": {
    "id": "4qF0fu3BRbPo"
   },
   "outputs": [],
   "source": [
    "## import libraries\n",
    "import pandas as pd\n",
    "import re"
   ]
  },
  {
   "cell_type": "code",
   "execution_count": 5,
   "metadata": {
    "id": "DkKDdLyrRbPo"
   },
   "outputs": [],
   "source": [
    "## Run this cell\n",
    "some_text = \"The dog barked at the other dog, cat and kitten.\""
   ]
  },
  {
   "cell_type": "markdown",
   "metadata": {
    "id": "L5bRo99IRbPo"
   },
   "source": [
    "### Simple Python literal search"
   ]
  },
  {
   "cell_type": "code",
   "execution_count": 6,
   "metadata": {
    "id": "bdmtfrK3RbPo"
   },
   "outputs": [
    {
     "data": {
      "text/plain": [
       "True"
      ]
     },
     "execution_count": 6,
     "metadata": {},
     "output_type": "execute_result"
    }
   ],
   "source": [
    "## is dog in my text\n",
    "\"dog\" in some_text"
   ]
  },
  {
   "cell_type": "code",
   "execution_count": 7,
   "metadata": {
    "id": "s0cQ0o__RbPp"
   },
   "outputs": [
    {
     "data": {
      "text/plain": [
       "True"
      ]
     },
     "execution_count": 7,
     "metadata": {},
     "output_type": "execute_result"
    }
   ],
   "source": [
    "## is kitten in my text\n",
    "\"kitten\" in some_text"
   ]
  },
  {
   "cell_type": "code",
   "execution_count": 8,
   "metadata": {
    "id": "Rp7ucuT84lT-"
   },
   "outputs": [
    {
     "data": {
      "text/plain": [
       "False"
      ]
     },
     "execution_count": 8,
     "metadata": {},
     "output_type": "execute_result"
    }
   ],
   "source": [
    "## is bird in my text\n",
    "\"bird\" in some_text"
   ]
  },
  {
   "cell_type": "markdown",
   "metadata": {
    "id": "IW_DuEh5RbPp"
   },
   "source": [
    "## ```search```\n",
    "\n",
    "- returns ONLY the first instance of the search pattern"
   ]
  },
  {
   "cell_type": "markdown",
   "metadata": {
    "id": "qSnmdEoDRbPp"
   },
   "source": [
    "#### Method 1. \n",
    "#### ```some_result = re.search(some_pattern, some_string)```"
   ]
  },
  {
   "cell_type": "code",
   "execution_count": 9,
   "metadata": {
    "id": "DCpbepqA5HzL"
   },
   "outputs": [
    {
     "data": {
      "text/plain": [
       "'The dog barked at the other dog, cat and kitten.'"
      ]
     },
     "execution_count": 9,
     "metadata": {},
     "output_type": "execute_result"
    }
   ],
   "source": [
    "## call some_text\n",
    "some_text"
   ]
  },
  {
   "cell_type": "code",
   "execution_count": 10,
   "metadata": {
    "id": "1JbSurQSRbPp"
   },
   "outputs": [
    {
     "data": {
      "text/plain": [
       "<re.Match object; span=(4, 7), match='dog'>"
      ]
     },
     "execution_count": 10,
     "metadata": {},
     "output_type": "execute_result"
    }
   ],
   "source": [
    "## using a literal\n",
    "re.search(\"dog\", some_text)"
   ]
  },
  {
   "cell_type": "code",
   "execution_count": 11,
   "metadata": {
    "id": "DKNk7jXaRbPq"
   },
   "outputs": [
    {
     "data": {
      "text/plain": [
       "<re.Match object; span=(4, 7), match='dog'>"
      ]
     },
     "execution_count": 11,
     "metadata": {},
     "output_type": "execute_result"
    }
   ],
   "source": [
    "## using regex search\n",
    "re.search(\"do\\w\", some_text)"
   ]
  },
  {
   "cell_type": "markdown",
   "metadata": {
    "id": "ySje3J8wRbPq"
   },
   "source": [
    "#### Method 2.\n",
    "\n",
    "####  ```pattern_variable = re.compile(\"some_pattern\")```\n",
    "\n",
    "#### ```a_result = pattern_variable.search(some_string)```"
   ]
  },
  {
   "cell_type": "code",
   "execution_count": 12,
   "metadata": {
    "id": "U1zWNOHXRbPq"
   },
   "outputs": [],
   "source": [
    "## use method 2\n",
    "dog_pat = re.compile(\"d\\wg\")"
   ]
  },
  {
   "cell_type": "code",
   "execution_count": 14,
   "metadata": {},
   "outputs": [
    {
     "data": {
      "text/plain": [
       "re.Pattern"
      ]
     },
     "execution_count": 14,
     "metadata": {},
     "output_type": "execute_result"
    }
   ],
   "source": []
  },
  {
   "cell_type": "code",
   "execution_count": 13,
   "metadata": {
    "id": "5Mjbidr3UTTy"
   },
   "outputs": [
    {
     "data": {
      "text/plain": [
       "<re.Match object; span=(4, 7), match='dog'>"
      ]
     },
     "execution_count": 13,
     "metadata": {},
     "output_type": "execute_result"
    }
   ],
   "source": [
    "## search for pattern\n",
    "dog_pat.search(some_text)"
   ]
  },
  {
   "cell_type": "markdown",
   "metadata": {
    "id": "bBCTf6t9RbPq"
   },
   "source": [
    "#### The two methods are identical, but method 2 with ```re.compile``` is more efficient since you store the pattern and reuse it.\n"
   ]
  },
  {
   "cell_type": "code",
   "execution_count": 15,
   "metadata": {
    "id": "X33--weBRbPr"
   },
   "outputs": [],
   "source": [
    "## run this\n",
    "other_text = \"The military vet who loves her dog was able to overcome her PTSD with the help of a service dog.\""
   ]
  },
  {
   "cell_type": "code",
   "execution_count": 18,
   "metadata": {
    "id": "QRtIT9c3RbPr"
   },
   "outputs": [
    {
     "data": {
      "text/plain": [
       "<re.Match object; span=(31, 34), match='dog'>"
      ]
     },
     "execution_count": 18,
     "metadata": {},
     "output_type": "execute_result"
    }
   ],
   "source": [
    "## SEARCH\n",
    "vet_dog = dog_pat.search(other_text)\n",
    "vet_dog"
   ]
  },
  {
   "cell_type": "markdown",
   "metadata": {
    "id": "bmKoEItBRbPu"
   },
   "source": [
    "### Returning the match object"
   ]
  },
  {
   "cell_type": "code",
   "execution_count": 17,
   "metadata": {
    "id": "2nM3bHiKkm0S"
   },
   "outputs": [
    {
     "data": {
      "text/plain": [
       "re.Pattern"
      ]
     },
     "execution_count": 17,
     "metadata": {},
     "output_type": "execute_result"
    }
   ],
   "source": [
    "## what type of object is the pattern?\n",
    "type(dog_pat)"
   ]
  },
  {
   "cell_type": "code",
   "execution_count": null,
   "metadata": {
    "id": "_YTDNEi3RbPu"
   },
   "outputs": [],
   "source": [
    "## what type of object did it return it (pet_search)?\n",
    "type(vet_dog)"
   ]
  },
  {
   "cell_type": "code",
   "execution_count": 20,
   "metadata": {
    "id": "9dXiH7zuRbPu"
   },
   "outputs": [
    {
     "data": {
      "text/plain": [
       "(31, 34)"
      ]
     },
     "execution_count": 20,
     "metadata": {},
     "output_type": "execute_result"
    }
   ],
   "source": [
    "## pull out location from the match object\n",
    "vet_dog.span()"
   ]
  },
  {
   "cell_type": "code",
   "execution_count": 21,
   "metadata": {
    "id": "wEhVZlY7_ap1"
   },
   "outputs": [
    {
     "ename": "AttributeError",
     "evalue": "'re.Match' object has no attribute 'match'",
     "output_type": "error",
     "traceback": [
      "\u001b[0;31m---------------------------------------------------------------------------\u001b[0m",
      "\u001b[0;31mAttributeError\u001b[0m                            Traceback (most recent call last)",
      "\u001b[0;32m/var/folders/jg/xjfmqdcj0m1bqs1d7sgv9v480000gp/T/ipykernel_60795/3737568874.py\u001b[0m in \u001b[0;36m<module>\u001b[0;34m\u001b[0m\n\u001b[1;32m      1\u001b[0m \u001b[0;31m## pull out the match object\u001b[0m\u001b[0;34m\u001b[0m\u001b[0;34m\u001b[0m\u001b[0m\n\u001b[1;32m      2\u001b[0m \u001b[0;31m### this will break\u001b[0m\u001b[0;34m\u001b[0m\u001b[0;34m\u001b[0m\u001b[0m\n\u001b[0;32m----> 3\u001b[0;31m \u001b[0mvet_dog\u001b[0m\u001b[0;34m.\u001b[0m\u001b[0mmatch\u001b[0m\u001b[0;34m(\u001b[0m\u001b[0;34m)\u001b[0m\u001b[0;34m\u001b[0m\u001b[0;34m\u001b[0m\u001b[0m\n\u001b[0m",
      "\u001b[0;31mAttributeError\u001b[0m: 're.Match' object has no attribute 'match'"
     ]
    }
   ],
   "source": [
    "## pull out the match object\n",
    "### this will break\n",
    "vet_dog.match()"
   ]
  },
  {
   "cell_type": "markdown",
   "metadata": {
    "id": "Tz_wtOOgRbPv"
   },
   "source": [
    "#### ```.group()``` returns the matched pattern in from the text"
   ]
  },
  {
   "cell_type": "code",
   "execution_count": 22,
   "metadata": {
    "id": "DaalLW2tRbPv"
   },
   "outputs": [
    {
     "data": {
      "text/plain": [
       "'dog'"
      ]
     },
     "execution_count": 22,
     "metadata": {},
     "output_type": "execute_result"
    }
   ],
   "source": [
    "## pull out the matched pattern itself\n",
    "vet_dog.group()"
   ]
  },
  {
   "cell_type": "code",
   "execution_count": 24,
   "metadata": {},
   "outputs": [
    {
     "data": {
      "text/plain": [
       "str"
      ]
     },
     "execution_count": 24,
     "metadata": {},
     "output_type": "execute_result"
    }
   ],
   "source": [
    "type(vet_dog.group())"
   ]
  },
  {
   "cell_type": "code",
   "execution_count": 23,
   "metadata": {
    "id": "_0lwo1DjiyDO"
   },
   "outputs": [
    {
     "data": {
      "text/plain": [
       "'dog'"
      ]
     },
     "execution_count": 23,
     "metadata": {},
     "output_type": "execute_result"
    }
   ],
   "source": [
    "## zeroth object\n",
    "vet_dog.group(0)"
   ]
  },
  {
   "cell_type": "code",
   "execution_count": 25,
   "metadata": {
    "id": "HBi0dyrtAHTh"
   },
   "outputs": [
    {
     "data": {
      "text/plain": [
       "'The dog barked at the other dog, cat and kitten.'"
      ]
     },
     "execution_count": 25,
     "metadata": {},
     "output_type": "execute_result"
    }
   ],
   "source": [
    "## run some text again\n",
    "some_text"
   ]
  },
  {
   "cell_type": "code",
   "execution_count": 39,
   "metadata": {
    "id": "8v4gx0KWRbPv"
   },
   "outputs": [
    {
     "data": {
      "text/plain": [
       "<re.Match object; span=(4, 8), match='bird'>"
      ]
     },
     "execution_count": 39,
     "metadata": {},
     "output_type": "execute_result"
    }
   ],
   "source": [
    "## let's look for something that we know if NOT in the text\n",
    "birdie = re.search(\"bird\", some_text)\n",
    "birdie"
   ]
  },
  {
   "cell_type": "code",
   "execution_count": 29,
   "metadata": {
    "id": "paoHqjqxRbPv"
   },
   "outputs": [
    {
     "data": {
      "text/plain": [
       "NoneType"
      ]
     },
     "execution_count": 29,
     "metadata": {},
     "output_type": "execute_result"
    }
   ],
   "source": [
    "## what type did it return?\n",
    "type(birdie)"
   ]
  },
  {
   "cell_type": "code",
   "execution_count": 30,
   "metadata": {
    "id": "KuhUM09NRbPv"
   },
   "outputs": [
    {
     "name": "stdout",
     "output_type": "stream",
     "text": [
      "None\n"
     ]
    }
   ],
   "source": [
    "## print what it returned \n",
    "print(birdie)"
   ]
  },
  {
   "cell_type": "markdown",
   "metadata": {
    "id": "2xG7VChuRbPv"
   },
   "source": [
    "#### You can build conditional logic based on what is returned -- even if nothing is returned."
   ]
  },
  {
   "cell_type": "code",
   "execution_count": 31,
   "metadata": {
    "id": "RtY6KCiBRbPv"
   },
   "outputs": [
    {
     "name": "stdout",
     "output_type": "stream",
     "text": [
      "Pattern not found. skipping rest of doc and going to next doc.\n"
     ]
    }
   ],
   "source": [
    "## write conditional here\n",
    "if birdie == None:\n",
    "    print(\"Pattern not found. skipping rest of doc and going to next doc.\")\n",
    "elif birdie.group() == \"bird\":\n",
    "    print(\"pattern found. looking for other patterns in this doc.\")"
   ]
  },
  {
   "cell_type": "code",
   "execution_count": 36,
   "metadata": {
    "id": "1i26j0hXRbPv"
   },
   "outputs": [],
   "source": [
    "## run this cell\n",
    "some_text = \"The bird flew over the dog and cat.\"\n"
   ]
  },
  {
   "cell_type": "code",
   "execution_count": 41,
   "metadata": {
    "id": "e7m90-BN94J6"
   },
   "outputs": [
    {
     "data": {
      "text/plain": [
       "<re.Match object; span=(4, 8), match='bird'>"
      ]
     },
     "execution_count": 41,
     "metadata": {},
     "output_type": "execute_result"
    }
   ],
   "source": [
    "## rerun the regex with \"bird\" for the  new text\n",
    "## write conditional here\n",
    "birdie = re.search(\"bird\", some_text)\n",
    "birdie"
   ]
  },
  {
   "cell_type": "code",
   "execution_count": 42,
   "metadata": {
    "id": "Rpt3eyCaRbPw"
   },
   "outputs": [
    {
     "name": "stdout",
     "output_type": "stream",
     "text": [
      "pattern found. looking for other patterns in this doc.\n"
     ]
    }
   ],
   "source": [
    "## rerun the conditional\n",
    "if birdie == None:\n",
    "    print(\"Pattern not found. skipping rest of doc and going to next doc.\")\n",
    "elif birdie.group() == \"bird\":\n",
    "    print(\"pattern found. looking for other patterns in this doc.\")"
   ]
  },
  {
   "cell_type": "markdown",
   "metadata": {
    "id": "MrBX5n0bRbPx"
   },
   "source": [
    "## ```findall```\n",
    "\n",
    "- Returns a list of all found items"
   ]
  },
  {
   "cell_type": "code",
   "execution_count": 43,
   "metadata": {
    "id": "CCuqnatNX5na"
   },
   "outputs": [
    {
     "data": {
      "text/plain": [
       "\"12534 127 ab aba abba sandeepj@bloomberg.net abbba, abbbbba, (518) 469-4581 abcde.The dog is a not a hog. ABA ABBA ABBBA.\\n\\nFlorence smith\\nJohn Smith\\nCarol Brown Tel. 212-452-5728\\n\\n\\nAb_CD123  123456 and 12456\\ttor 12531245134562. 123867584789. $40.44 or $3 or $52,583.08 or $610,235.11\\nTel. (917) 492-8601\\n\\nThe cat sat down and called 514-957-3453 while the other caaaaaat purred. This cat is in California while this caaaat is in Iraq, but none are in ct. My dog prefers cat food to dog food but hates fish food.My food tastes yummy!\\nPeter Trapp Jon Smythe Luca Smith John Smythe\\nMaggie Veach Tel. 718 601 7567\\n\\nAB_cd \\t<+>-.,!@# $%^&*();\\\\/|_^@1# (917) 488-5410\\n\\n*!dsar2d1\\n\\nI told him to search Jon Smith\\nKatie Pine\\nJohn Smth\\n\\nTELEPHONE NUMBERS\\nTel. 718-392-4793\\nTel. (646) 469-3211\\nTel. 917.425.2796\\n\\nNUMBERS\\n1\\n12\\n123\\n123,456\\n123,456,789\\n123,456,789.01\\n\\nEMAILS\\nsandeep.junnarkar@journalism.cuny.edu\\nsandeepj@gmail.com\\nsjunnarkar@bloomberg.net\\nsandeep.junnarkar@news.co.uk\\n\\n\\nPOLICE\\nDet. Frank Castille\\nPolice Officer Dan D. Dennings\\nLt. Patrician Grace\\nDetective Susan Treeble\\nOfficer Cantwell Brady-Stevens\\n\\nNovel Djokvichthe thesaurus where sandeep.junnarkar@journalism.cuny.edu he'd be able to sjnews@gmail.com find words like them.\\n\\nabcdefgczhijklmnopqrstuvwxyz\\tABCDEFGCZHIJKLMNOPQRSTUVWXYZ\\n\\nA h0g is a hog.\\n\\nDog and dog and DOG. His number is 415.458.9163. John Brown jon Smith\\nPeter Finch\\n\\n&^%@ 129\\n\\n$12,560\\n\\nabba\\n\\ncat 3452 black\\ndog 234 white\\nfish 3562 silver\\nrat 94 white\\nbird 1957 purple\\nhorse 3 black\\nchameleon  5724 green\\nsnake 6730 red\\n\\n\\n\\n\""
      ]
     },
     "execution_count": 43,
     "metadata": {},
     "output_type": "execute_result"
    }
   ],
   "source": [
    "## RUN mydoc again\n",
    "mydoc"
   ]
  },
  {
   "cell_type": "code",
   "execution_count": 44,
   "metadata": {},
   "outputs": [
    {
     "name": "stdout",
     "output_type": "stream",
     "text": [
      "12534 127 ab aba abba sandeepj@bloomberg.net abbba, abbbbba, (518) 469-4581 abcde.The dog is a not a hog. ABA ABBA ABBBA.\n",
      "\n",
      "Florence smith\n",
      "John Smith\n",
      "Carol Brown Tel. 212-452-5728\n",
      "\n",
      "\n",
      "Ab_CD123  123456 and 12456\ttor 12531245134562. 123867584789. $40.44 or $3 or $52,583.08 or $610,235.11\n",
      "Tel. (917) 492-8601\n",
      "\n",
      "The cat sat down and called 514-957-3453 while the other caaaaaat purred. This cat is in California while this caaaat is in Iraq, but none are in ct. My dog prefers cat food to dog food but hates fish food.My food tastes yummy!\n",
      "Peter Trapp Jon Smythe Luca Smith John Smythe\n",
      "Maggie Veach Tel. 718 601 7567\n",
      "\n",
      "AB_cd \t<+>-.,!@# $%^&*();\\/|_^@1# (917) 488-5410\n",
      "\n",
      "*!dsar2d1\n",
      "\n",
      "I told him to search Jon Smith\n",
      "Katie Pine\n",
      "John Smth\n",
      "\n",
      "TELEPHONE NUMBERS\n",
      "Tel. 718-392-4793\n",
      "Tel. (646) 469-3211\n",
      "Tel. 917.425.2796\n",
      "\n",
      "NUMBERS\n",
      "1\n",
      "12\n",
      "123\n",
      "123,456\n",
      "123,456,789\n",
      "123,456,789.01\n",
      "\n",
      "EMAILS\n",
      "sandeep.junnarkar@journalism.cuny.edu\n",
      "sandeepj@gmail.com\n",
      "sjunnarkar@bloomberg.net\n",
      "sandeep.junnarkar@news.co.uk\n",
      "\n",
      "\n",
      "POLICE\n",
      "Det. Frank Castille\n",
      "Police Officer Dan D. Dennings\n",
      "Lt. Patrician Grace\n",
      "Detective Susan Treeble\n",
      "Officer Cantwell Brady-Stevens\n",
      "\n",
      "Novel Djokvichthe thesaurus where sandeep.junnarkar@journalism.cuny.edu he'd be able to sjnews@gmail.com find words like them.\n",
      "\n",
      "abcdefgczhijklmnopqrstuvwxyz\tABCDEFGCZHIJKLMNOPQRSTUVWXYZ\n",
      "\n",
      "A h0g is a hog.\n",
      "\n",
      "Dog and dog and DOG. His number is 415.458.9163. John Brown jon Smith\n",
      "Peter Finch\n",
      "\n",
      "&^%@ 129\n",
      "\n",
      "$12,560\n",
      "\n",
      "abba\n",
      "\n",
      "cat 3452 black\n",
      "dog 234 white\n",
      "fish 3562 silver\n",
      "rat 94 white\n",
      "bird 1957 purple\n",
      "horse 3 black\n",
      "chameleon  5724 green\n",
      "snake 6730 red\n",
      "\n",
      "\n",
      "\n",
      "\n"
     ]
    }
   ],
   "source": [
    "print(mydoc)"
   ]
  },
  {
   "cell_type": "code",
   "execution_count": 48,
   "metadata": {
    "id": "s43uPmZdRbPx"
   },
   "outputs": [
    {
     "data": {
      "text/plain": [
       "['12534',\n",
       " '127',\n",
       " 'ab',\n",
       " 'aba',\n",
       " 'abba',\n",
       " 'sandeepj',\n",
       " 'bloomberg',\n",
       " 'net',\n",
       " 'abbba',\n",
       " 'abbbbba',\n",
       " '518',\n",
       " '469',\n",
       " '4581',\n",
       " 'abcde',\n",
       " 'The',\n",
       " 'dog',\n",
       " 'is',\n",
       " 'a',\n",
       " 'not',\n",
       " 'a',\n",
       " 'hog',\n",
       " 'ABA',\n",
       " 'ABBA',\n",
       " 'ABBBA',\n",
       " 'Florence',\n",
       " 'smith',\n",
       " 'John',\n",
       " 'Smith',\n",
       " 'Carol',\n",
       " 'Brown',\n",
       " 'Tel',\n",
       " '212',\n",
       " '452',\n",
       " '5728',\n",
       " 'Ab_CD123',\n",
       " '123456',\n",
       " 'and',\n",
       " '12456',\n",
       " 'tor',\n",
       " '12531245134562',\n",
       " '123867584789',\n",
       " '40',\n",
       " '44',\n",
       " 'or',\n",
       " '3',\n",
       " 'or',\n",
       " '52',\n",
       " '583',\n",
       " '08',\n",
       " 'or',\n",
       " '610',\n",
       " '235',\n",
       " '11',\n",
       " 'Tel',\n",
       " '917',\n",
       " '492',\n",
       " '8601',\n",
       " 'The',\n",
       " 'cat',\n",
       " 'sat',\n",
       " 'down',\n",
       " 'and',\n",
       " 'called',\n",
       " '514',\n",
       " '957',\n",
       " '3453',\n",
       " 'while',\n",
       " 'the',\n",
       " 'other',\n",
       " 'caaaaaat',\n",
       " 'purred',\n",
       " 'This',\n",
       " 'cat',\n",
       " 'is',\n",
       " 'in',\n",
       " 'California',\n",
       " 'while',\n",
       " 'this',\n",
       " 'caaaat',\n",
       " 'is',\n",
       " 'in',\n",
       " 'Iraq',\n",
       " 'but',\n",
       " 'none',\n",
       " 'are',\n",
       " 'in',\n",
       " 'ct',\n",
       " 'My',\n",
       " 'dog',\n",
       " 'prefers',\n",
       " 'cat',\n",
       " 'food',\n",
       " 'to',\n",
       " 'dog',\n",
       " 'food',\n",
       " 'but',\n",
       " 'hates',\n",
       " 'fish',\n",
       " 'food',\n",
       " 'My',\n",
       " 'food',\n",
       " 'tastes',\n",
       " 'yummy',\n",
       " 'Peter',\n",
       " 'Trapp',\n",
       " 'Jon',\n",
       " 'Smythe',\n",
       " 'Luca',\n",
       " 'Smith',\n",
       " 'John',\n",
       " 'Smythe',\n",
       " 'Maggie',\n",
       " 'Veach',\n",
       " 'Tel',\n",
       " '718',\n",
       " '601',\n",
       " '7567',\n",
       " 'AB_cd',\n",
       " '_',\n",
       " '1',\n",
       " '917',\n",
       " '488',\n",
       " '5410',\n",
       " 'dsar2d1',\n",
       " 'I',\n",
       " 'told',\n",
       " 'him',\n",
       " 'to',\n",
       " 'search',\n",
       " 'Jon',\n",
       " 'Smith',\n",
       " 'Katie',\n",
       " 'Pine',\n",
       " 'John',\n",
       " 'Smth',\n",
       " 'TELEPHONE',\n",
       " 'NUMBERS',\n",
       " 'Tel',\n",
       " '718',\n",
       " '392',\n",
       " '4793',\n",
       " 'Tel',\n",
       " '646',\n",
       " '469',\n",
       " '3211',\n",
       " 'Tel',\n",
       " '917',\n",
       " '425',\n",
       " '2796',\n",
       " 'NUMBERS',\n",
       " '1',\n",
       " '12',\n",
       " '123',\n",
       " '123',\n",
       " '456',\n",
       " '123',\n",
       " '456',\n",
       " '789',\n",
       " '123',\n",
       " '456',\n",
       " '789',\n",
       " '01',\n",
       " 'EMAILS',\n",
       " 'sandeep',\n",
       " 'junnarkar',\n",
       " 'journalism',\n",
       " 'cuny',\n",
       " 'edu',\n",
       " 'sandeepj',\n",
       " 'gmail',\n",
       " 'com',\n",
       " 'sjunnarkar',\n",
       " 'bloomberg',\n",
       " 'net',\n",
       " 'sandeep',\n",
       " 'junnarkar',\n",
       " 'news',\n",
       " 'co',\n",
       " 'uk',\n",
       " 'POLICE',\n",
       " 'Det',\n",
       " 'Frank',\n",
       " 'Castille',\n",
       " 'Police',\n",
       " 'Officer',\n",
       " 'Dan',\n",
       " 'D',\n",
       " 'Dennings',\n",
       " 'Lt',\n",
       " 'Patrician',\n",
       " 'Grace',\n",
       " 'Detective',\n",
       " 'Susan',\n",
       " 'Treeble',\n",
       " 'Officer',\n",
       " 'Cantwell',\n",
       " 'Brady',\n",
       " 'Stevens',\n",
       " 'Novel',\n",
       " 'Djokvichthe',\n",
       " 'thesaurus',\n",
       " 'where',\n",
       " 'sandeep',\n",
       " 'junnarkar',\n",
       " 'journalism',\n",
       " 'cuny',\n",
       " 'edu',\n",
       " 'he',\n",
       " 'd',\n",
       " 'be',\n",
       " 'able',\n",
       " 'to',\n",
       " 'sjnews',\n",
       " 'gmail',\n",
       " 'com',\n",
       " 'find',\n",
       " 'words',\n",
       " 'like',\n",
       " 'them',\n",
       " 'abcdefgczhijklmnopqrstuvwxyz',\n",
       " 'ABCDEFGCZHIJKLMNOPQRSTUVWXYZ',\n",
       " 'A',\n",
       " 'h0g',\n",
       " 'is',\n",
       " 'a',\n",
       " 'hog',\n",
       " 'Dog',\n",
       " 'and',\n",
       " 'dog',\n",
       " 'and',\n",
       " 'DOG',\n",
       " 'His',\n",
       " 'number',\n",
       " 'is',\n",
       " '415',\n",
       " '458',\n",
       " '9163',\n",
       " 'John',\n",
       " 'Brown',\n",
       " 'jon',\n",
       " 'Smith',\n",
       " 'Peter',\n",
       " 'Finch',\n",
       " '129',\n",
       " '12',\n",
       " '560',\n",
       " 'abba',\n",
       " 'cat',\n",
       " '3452',\n",
       " 'black',\n",
       " 'dog',\n",
       " '234',\n",
       " 'white',\n",
       " 'fish',\n",
       " '3562',\n",
       " 'silver',\n",
       " 'rat',\n",
       " '94',\n",
       " 'white',\n",
       " 'bird',\n",
       " '1957',\n",
       " 'purple',\n",
       " 'horse',\n",
       " '3',\n",
       " 'black',\n",
       " 'chameleon',\n",
       " '5724',\n",
       " 'green',\n",
       " 'snake',\n",
       " '6730',\n",
       " 'red']"
      ]
     },
     "execution_count": 48,
     "metadata": {},
     "output_type": "execute_result"
    }
   ],
   "source": [
    "## use findall to find all matching patterns\n",
    "pat = re.compile(\"\\w+\")\n",
    "pat.findall(mydoc)"
   ]
  },
  {
   "cell_type": "code",
   "execution_count": 47,
   "metadata": {
    "id": "CLKrsWmcRbPx"
   },
   "outputs": [
    {
     "data": {
      "text/plain": [
       "list"
      ]
     },
     "execution_count": 47,
     "metadata": {},
     "output_type": "execute_result"
    }
   ],
   "source": [
    "## what object is it?\n",
    "type(pat.findall(mydoc))"
   ]
  },
  {
   "cell_type": "code",
   "execution_count": 49,
   "metadata": {
    "id": "d593J-HDRbPx"
   },
   "outputs": [],
   "source": [
    "## find any \"a\" followed by 1 or 2 \"b\"\n",
    "pat1 = re.compile(\"ab{1,2}\")"
   ]
  },
  {
   "cell_type": "code",
   "execution_count": 50,
   "metadata": {
    "id": "2kG2_wkuRbPx"
   },
   "outputs": [
    {
     "data": {
      "text/plain": [
       "['ab', 'ab', 'abb', 'abb', 'abb', 'ab', 'ab', 'ab', 'abb']"
      ]
     },
     "execution_count": 50,
     "metadata": {},
     "output_type": "execute_result"
    }
   ],
   "source": [
    "## FIND pat1\n",
    "pat1.findall(mydoc)"
   ]
  },
  {
   "cell_type": "code",
   "execution_count": 52,
   "metadata": {
    "id": "FA72TKhVRbPx"
   },
   "outputs": [
    {
     "data": {
      "text/plain": [
       "re.compile(r'ab{1,2}', re.UNICODE)"
      ]
     },
     "execution_count": 52,
     "metadata": {},
     "output_type": "execute_result"
    }
   ],
   "source": [
    "## call our pat1 to see someting interesting\n",
    "pat1"
   ]
  },
  {
   "cell_type": "markdown",
   "metadata": {
    "id": "1d7yjMi3RbPy"
   },
   "source": [
    "### Flags\n",
    "\n",
    "- ```re.IGNORECASE``` or ```re.I``` for ignore case\n",
    "- ```re.MULTILINE¶``` or ```re.M``` for multiline\n",
    "- ```re.DOTALL``` or ```re.S``` for period includes new lines\n",
    "- ```re.VERBOSE``` or ```re.X``` for breaking up the regex\n",
    "\n",
    "<a href=\"https://docs.python.org/3/library/re.html#re.ASCII\">More on flags</a>."
   ]
  },
  {
   "cell_type": "code",
   "execution_count": 53,
   "metadata": {
    "id": "PR1muPLjRbPx"
   },
   "outputs": [],
   "source": [
    "## find any \"a\" followed by 1 or 2 \"b\" ignore case\n",
    "pat2 = re.compile(\"ab{1,2}\", re.I)"
   ]
  },
  {
   "cell_type": "code",
   "execution_count": 54,
   "metadata": {
    "id": "OYv9Y3E2xH4W"
   },
   "outputs": [
    {
     "data": {
      "text/plain": [
       "['ab',\n",
       " 'ab',\n",
       " 'abb',\n",
       " 'abb',\n",
       " 'abb',\n",
       " 'ab',\n",
       " 'AB',\n",
       " 'ABB',\n",
       " 'ABB',\n",
       " 'Ab',\n",
       " 'AB',\n",
       " 'ab',\n",
       " 'ab',\n",
       " 'AB',\n",
       " 'abb']"
      ]
     },
     "execution_count": 54,
     "metadata": {},
     "output_type": "execute_result"
    }
   ],
   "source": [
    "## find all matches for pat2\n",
    "pat2.findall(mydoc)"
   ]
  },
  {
   "cell_type": "code",
   "execution_count": 55,
   "metadata": {
    "id": "JHhRd94hRbPy"
   },
   "outputs": [],
   "source": [
    "## find \"dog\" ignore case - full word\n",
    "pat3 = re.compile(\"dog\", re.I)"
   ]
  },
  {
   "cell_type": "code",
   "execution_count": 56,
   "metadata": {
    "id": "3NfdWsUMRbPy"
   },
   "outputs": [
    {
     "data": {
      "text/plain": [
       "['dog', 'dog', 'dog', 'Dog', 'dog', 'DOG', 'dog']"
      ]
     },
     "execution_count": 56,
     "metadata": {},
     "output_type": "execute_result"
    }
   ],
   "source": [
    "## find \"dog\" ignore case - abbreviation\n",
    "pat3.findall(mydoc)"
   ]
  },
  {
   "cell_type": "code",
   "execution_count": 59,
   "metadata": {
    "id": "fuTmcfRqRbPy"
   },
   "outputs": [],
   "source": [
    "## without ignore case\n",
    "pat4 = re.compile(\"dog\")"
   ]
  },
  {
   "cell_type": "code",
   "execution_count": 60,
   "metadata": {
    "id": "3S51i1jKBewX"
   },
   "outputs": [
    {
     "data": {
      "text/plain": [
       "['dog', 'dog', 'dog', 'dog', 'dog']"
      ]
     },
     "execution_count": 60,
     "metadata": {},
     "output_type": "execute_result"
    }
   ],
   "source": [
    "## match pat4a\n",
    "pat4.findall(mydoc)"
   ]
  },
  {
   "cell_type": "code",
   "execution_count": null,
   "metadata": {
    "id": "C7k1BWxdxRZW"
   },
   "outputs": [],
   "source": [
    "\n"
   ]
  },
  {
   "cell_type": "markdown",
   "metadata": {
    "id": "8dw_tIRjRbPr"
   },
   "source": [
    "### Python Interpreter and Regex conflict with ```\\```"
   ]
  },
  {
   "cell_type": "code",
   "execution_count": 61,
   "metadata": {
    "id": "Lsrbc1_7RbPr"
   },
   "outputs": [],
   "source": [
    "## run this\n",
    "pet = \"dog\\ cat\""
   ]
  },
  {
   "cell_type": "code",
   "execution_count": 62,
   "metadata": {
    "id": "zi-kweXE6q8W"
   },
   "outputs": [
    {
     "data": {
      "text/plain": [
       "'dog\\\\ cat'"
      ]
     },
     "execution_count": 62,
     "metadata": {},
     "output_type": "execute_result"
    }
   ],
   "source": [
    "## call pet\n",
    "pet"
   ]
  },
  {
   "cell_type": "code",
   "execution_count": 63,
   "metadata": {
    "id": "S7rfiei_6tpO"
   },
   "outputs": [
    {
     "name": "stdout",
     "output_type": "stream",
     "text": [
      "dog\\ cat\n"
     ]
    }
   ],
   "source": [
    "## print function pet\n",
    "print(pet)"
   ]
  },
  {
   "cell_type": "code",
   "execution_count": 64,
   "metadata": {
    "id": "io4wu8S-RbPs"
   },
   "outputs": [
    {
     "data": {
      "text/plain": [
       "<re.Match object; span=(0, 3), match='dog'>"
      ]
     },
     "execution_count": 64,
     "metadata": {},
     "output_type": "execute_result"
    }
   ],
   "source": [
    "## write regex to find word with 3 characters\n",
    "re.search(\"\\w{3}\", pet)"
   ]
  },
  {
   "cell_type": "code",
   "execution_count": 65,
   "metadata": {
    "id": "3w3obl__RbPs"
   },
   "outputs": [
    {
     "ename": "SyntaxError",
     "evalue": "EOL while scanning string literal (1164481042.py, line 3)",
     "output_type": "error",
     "traceback": [
      "\u001b[0;36m  File \u001b[0;32m\"/var/folders/jg/xjfmqdcj0m1bqs1d7sgv9v480000gp/T/ipykernel_60795/1164481042.py\"\u001b[0;36m, line \u001b[0;32m3\u001b[0m\n\u001b[0;31m    re.search(\"\\w{3}\\\", pet)\u001b[0m\n\u001b[0m                            ^\u001b[0m\n\u001b[0;31mSyntaxError\u001b[0m\u001b[0;31m:\u001b[0m EOL while scanning string literal\n"
     ]
    }
   ],
   "source": [
    "### write regex to find word with 3 characters followed by a slash\n",
    "## this will break\n",
    "re.search(\"\\w{3}\\\", pet)"
   ]
  },
  {
   "cell_type": "code",
   "execution_count": 66,
   "metadata": {
    "id": "Ot4JB_kxRbPs"
   },
   "outputs": [
    {
     "ename": "error",
     "evalue": "bad escape (end of pattern) at position 5",
     "output_type": "error",
     "traceback": [
      "\u001b[0;31m---------------------------------------------------------------------------\u001b[0m",
      "\u001b[0;31merror\u001b[0m                                     Traceback (most recent call last)",
      "\u001b[0;32m/var/folders/jg/xjfmqdcj0m1bqs1d7sgv9v480000gp/T/ipykernel_60795/2461241598.py\u001b[0m in \u001b[0;36m<module>\u001b[0;34m\u001b[0m\n\u001b[1;32m      2\u001b[0m \u001b[0;31m### this also breaks because the python interpreter takes away one slash as an escape,\u001b[0m\u001b[0;34m\u001b[0m\u001b[0;34m\u001b[0m\u001b[0m\n\u001b[1;32m      3\u001b[0m \u001b[0;31m### and then regex is fed an escape for {\u001b[0m\u001b[0;34m\u001b[0m\u001b[0;34m\u001b[0m\u001b[0m\n\u001b[0;32m----> 4\u001b[0;31m \u001b[0mre\u001b[0m\u001b[0;34m.\u001b[0m\u001b[0msearch\u001b[0m\u001b[0;34m(\u001b[0m\u001b[0;34m\"\\w{3}\\\\\"\u001b[0m\u001b[0;34m,\u001b[0m \u001b[0mpet\u001b[0m\u001b[0;34m)\u001b[0m\u001b[0;34m\u001b[0m\u001b[0;34m\u001b[0m\u001b[0m\n\u001b[0m",
      "\u001b[0;32m~/opt/anaconda3/lib/python3.9/re.py\u001b[0m in \u001b[0;36msearch\u001b[0;34m(pattern, string, flags)\u001b[0m\n\u001b[1;32m    199\u001b[0m     \"\"\"Scan through string looking for a match to the pattern, returning\n\u001b[1;32m    200\u001b[0m     a Match object, or None if no match was found.\"\"\"\n\u001b[0;32m--> 201\u001b[0;31m     \u001b[0;32mreturn\u001b[0m \u001b[0m_compile\u001b[0m\u001b[0;34m(\u001b[0m\u001b[0mpattern\u001b[0m\u001b[0;34m,\u001b[0m \u001b[0mflags\u001b[0m\u001b[0;34m)\u001b[0m\u001b[0;34m.\u001b[0m\u001b[0msearch\u001b[0m\u001b[0;34m(\u001b[0m\u001b[0mstring\u001b[0m\u001b[0;34m)\u001b[0m\u001b[0;34m\u001b[0m\u001b[0;34m\u001b[0m\u001b[0m\n\u001b[0m\u001b[1;32m    202\u001b[0m \u001b[0;34m\u001b[0m\u001b[0m\n\u001b[1;32m    203\u001b[0m \u001b[0;32mdef\u001b[0m \u001b[0msub\u001b[0m\u001b[0;34m(\u001b[0m\u001b[0mpattern\u001b[0m\u001b[0;34m,\u001b[0m \u001b[0mrepl\u001b[0m\u001b[0;34m,\u001b[0m \u001b[0mstring\u001b[0m\u001b[0;34m,\u001b[0m \u001b[0mcount\u001b[0m\u001b[0;34m=\u001b[0m\u001b[0;36m0\u001b[0m\u001b[0;34m,\u001b[0m \u001b[0mflags\u001b[0m\u001b[0;34m=\u001b[0m\u001b[0;36m0\u001b[0m\u001b[0;34m)\u001b[0m\u001b[0;34m:\u001b[0m\u001b[0;34m\u001b[0m\u001b[0;34m\u001b[0m\u001b[0m\n",
      "\u001b[0;32m~/opt/anaconda3/lib/python3.9/re.py\u001b[0m in \u001b[0;36m_compile\u001b[0;34m(pattern, flags)\u001b[0m\n\u001b[1;32m    302\u001b[0m     \u001b[0;32mif\u001b[0m \u001b[0;32mnot\u001b[0m \u001b[0msre_compile\u001b[0m\u001b[0;34m.\u001b[0m\u001b[0misstring\u001b[0m\u001b[0;34m(\u001b[0m\u001b[0mpattern\u001b[0m\u001b[0;34m)\u001b[0m\u001b[0;34m:\u001b[0m\u001b[0;34m\u001b[0m\u001b[0;34m\u001b[0m\u001b[0m\n\u001b[1;32m    303\u001b[0m         \u001b[0;32mraise\u001b[0m \u001b[0mTypeError\u001b[0m\u001b[0;34m(\u001b[0m\u001b[0;34m\"first argument must be string or compiled pattern\"\u001b[0m\u001b[0;34m)\u001b[0m\u001b[0;34m\u001b[0m\u001b[0;34m\u001b[0m\u001b[0m\n\u001b[0;32m--> 304\u001b[0;31m     \u001b[0mp\u001b[0m \u001b[0;34m=\u001b[0m \u001b[0msre_compile\u001b[0m\u001b[0;34m.\u001b[0m\u001b[0mcompile\u001b[0m\u001b[0;34m(\u001b[0m\u001b[0mpattern\u001b[0m\u001b[0;34m,\u001b[0m \u001b[0mflags\u001b[0m\u001b[0;34m)\u001b[0m\u001b[0;34m\u001b[0m\u001b[0;34m\u001b[0m\u001b[0m\n\u001b[0m\u001b[1;32m    305\u001b[0m     \u001b[0;32mif\u001b[0m \u001b[0;32mnot\u001b[0m \u001b[0;34m(\u001b[0m\u001b[0mflags\u001b[0m \u001b[0;34m&\u001b[0m \u001b[0mDEBUG\u001b[0m\u001b[0;34m)\u001b[0m\u001b[0;34m:\u001b[0m\u001b[0;34m\u001b[0m\u001b[0;34m\u001b[0m\u001b[0m\n\u001b[1;32m    306\u001b[0m         \u001b[0;32mif\u001b[0m \u001b[0mlen\u001b[0m\u001b[0;34m(\u001b[0m\u001b[0m_cache\u001b[0m\u001b[0;34m)\u001b[0m \u001b[0;34m>=\u001b[0m \u001b[0m_MAXCACHE\u001b[0m\u001b[0;34m:\u001b[0m\u001b[0;34m\u001b[0m\u001b[0;34m\u001b[0m\u001b[0m\n",
      "\u001b[0;32m~/opt/anaconda3/lib/python3.9/sre_compile.py\u001b[0m in \u001b[0;36mcompile\u001b[0;34m(p, flags)\u001b[0m\n\u001b[1;32m    762\u001b[0m     \u001b[0;32mif\u001b[0m \u001b[0misstring\u001b[0m\u001b[0;34m(\u001b[0m\u001b[0mp\u001b[0m\u001b[0;34m)\u001b[0m\u001b[0;34m:\u001b[0m\u001b[0;34m\u001b[0m\u001b[0;34m\u001b[0m\u001b[0m\n\u001b[1;32m    763\u001b[0m         \u001b[0mpattern\u001b[0m \u001b[0;34m=\u001b[0m \u001b[0mp\u001b[0m\u001b[0;34m\u001b[0m\u001b[0;34m\u001b[0m\u001b[0m\n\u001b[0;32m--> 764\u001b[0;31m         \u001b[0mp\u001b[0m \u001b[0;34m=\u001b[0m \u001b[0msre_parse\u001b[0m\u001b[0;34m.\u001b[0m\u001b[0mparse\u001b[0m\u001b[0;34m(\u001b[0m\u001b[0mp\u001b[0m\u001b[0;34m,\u001b[0m \u001b[0mflags\u001b[0m\u001b[0;34m)\u001b[0m\u001b[0;34m\u001b[0m\u001b[0;34m\u001b[0m\u001b[0m\n\u001b[0m\u001b[1;32m    765\u001b[0m     \u001b[0;32melse\u001b[0m\u001b[0;34m:\u001b[0m\u001b[0;34m\u001b[0m\u001b[0;34m\u001b[0m\u001b[0m\n\u001b[1;32m    766\u001b[0m         \u001b[0mpattern\u001b[0m \u001b[0;34m=\u001b[0m \u001b[0;32mNone\u001b[0m\u001b[0;34m\u001b[0m\u001b[0;34m\u001b[0m\u001b[0m\n",
      "\u001b[0;32m~/opt/anaconda3/lib/python3.9/sre_parse.py\u001b[0m in \u001b[0;36mparse\u001b[0;34m(str, flags, state)\u001b[0m\n\u001b[1;32m    946\u001b[0m \u001b[0;34m\u001b[0m\u001b[0m\n\u001b[1;32m    947\u001b[0m     \u001b[0;32mtry\u001b[0m\u001b[0;34m:\u001b[0m\u001b[0;34m\u001b[0m\u001b[0;34m\u001b[0m\u001b[0m\n\u001b[0;32m--> 948\u001b[0;31m         \u001b[0mp\u001b[0m \u001b[0;34m=\u001b[0m \u001b[0m_parse_sub\u001b[0m\u001b[0;34m(\u001b[0m\u001b[0msource\u001b[0m\u001b[0;34m,\u001b[0m \u001b[0mstate\u001b[0m\u001b[0;34m,\u001b[0m \u001b[0mflags\u001b[0m \u001b[0;34m&\u001b[0m \u001b[0mSRE_FLAG_VERBOSE\u001b[0m\u001b[0;34m,\u001b[0m \u001b[0;36m0\u001b[0m\u001b[0;34m)\u001b[0m\u001b[0;34m\u001b[0m\u001b[0;34m\u001b[0m\u001b[0m\n\u001b[0m\u001b[1;32m    949\u001b[0m     \u001b[0;32mexcept\u001b[0m \u001b[0mVerbose\u001b[0m\u001b[0;34m:\u001b[0m\u001b[0;34m\u001b[0m\u001b[0;34m\u001b[0m\u001b[0m\n\u001b[1;32m    950\u001b[0m         \u001b[0;31m# the VERBOSE flag was switched on inside the pattern.  to be\u001b[0m\u001b[0;34m\u001b[0m\u001b[0;34m\u001b[0m\u001b[0m\n",
      "\u001b[0;32m~/opt/anaconda3/lib/python3.9/sre_parse.py\u001b[0m in \u001b[0;36m_parse_sub\u001b[0;34m(source, state, verbose, nested)\u001b[0m\n\u001b[1;32m    441\u001b[0m     \u001b[0mstart\u001b[0m \u001b[0;34m=\u001b[0m \u001b[0msource\u001b[0m\u001b[0;34m.\u001b[0m\u001b[0mtell\u001b[0m\u001b[0;34m(\u001b[0m\u001b[0;34m)\u001b[0m\u001b[0;34m\u001b[0m\u001b[0;34m\u001b[0m\u001b[0m\n\u001b[1;32m    442\u001b[0m     \u001b[0;32mwhile\u001b[0m \u001b[0;32mTrue\u001b[0m\u001b[0;34m:\u001b[0m\u001b[0;34m\u001b[0m\u001b[0;34m\u001b[0m\u001b[0m\n\u001b[0;32m--> 443\u001b[0;31m         itemsappend(_parse(source, state, verbose, nested + 1,\n\u001b[0m\u001b[1;32m    444\u001b[0m                            not nested and not items))\n\u001b[1;32m    445\u001b[0m         \u001b[0;32mif\u001b[0m \u001b[0;32mnot\u001b[0m \u001b[0msourcematch\u001b[0m\u001b[0;34m(\u001b[0m\u001b[0;34m\"|\"\u001b[0m\u001b[0;34m)\u001b[0m\u001b[0;34m:\u001b[0m\u001b[0;34m\u001b[0m\u001b[0;34m\u001b[0m\u001b[0m\n",
      "\u001b[0;32m~/opt/anaconda3/lib/python3.9/sre_parse.py\u001b[0m in \u001b[0;36m_parse\u001b[0;34m(source, state, verbose, nested, first)\u001b[0m\n\u001b[1;32m    642\u001b[0m                 \u001b[0;32melse\u001b[0m\u001b[0;34m:\u001b[0m\u001b[0;34m\u001b[0m\u001b[0;34m\u001b[0m\u001b[0m\n\u001b[1;32m    643\u001b[0m                     \u001b[0mhi\u001b[0m \u001b[0;34m=\u001b[0m \u001b[0mlo\u001b[0m\u001b[0;34m\u001b[0m\u001b[0;34m\u001b[0m\u001b[0m\n\u001b[0;32m--> 644\u001b[0;31m                 \u001b[0;32mif\u001b[0m \u001b[0;32mnot\u001b[0m \u001b[0msourcematch\u001b[0m\u001b[0;34m(\u001b[0m\u001b[0;34m\"}\"\u001b[0m\u001b[0;34m)\u001b[0m\u001b[0;34m:\u001b[0m\u001b[0;34m\u001b[0m\u001b[0;34m\u001b[0m\u001b[0m\n\u001b[0m\u001b[1;32m    645\u001b[0m                     \u001b[0msubpatternappend\u001b[0m\u001b[0;34m(\u001b[0m\u001b[0;34m(\u001b[0m\u001b[0mLITERAL\u001b[0m\u001b[0;34m,\u001b[0m \u001b[0m_ord\u001b[0m\u001b[0;34m(\u001b[0m\u001b[0mthis\u001b[0m\u001b[0;34m)\u001b[0m\u001b[0;34m)\u001b[0m\u001b[0;34m)\u001b[0m\u001b[0;34m\u001b[0m\u001b[0;34m\u001b[0m\u001b[0m\n\u001b[1;32m    646\u001b[0m                     \u001b[0msource\u001b[0m\u001b[0;34m.\u001b[0m\u001b[0mseek\u001b[0m\u001b[0;34m(\u001b[0m\u001b[0mhere\u001b[0m\u001b[0;34m)\u001b[0m\u001b[0;34m\u001b[0m\u001b[0;34m\u001b[0m\u001b[0m\n",
      "\u001b[0;32m~/opt/anaconda3/lib/python3.9/sre_parse.py\u001b[0m in \u001b[0;36mmatch\u001b[0;34m(self, char)\u001b[0m\n\u001b[1;32m    249\u001b[0m     \u001b[0;32mdef\u001b[0m \u001b[0mmatch\u001b[0m\u001b[0;34m(\u001b[0m\u001b[0mself\u001b[0m\u001b[0;34m,\u001b[0m \u001b[0mchar\u001b[0m\u001b[0;34m)\u001b[0m\u001b[0;34m:\u001b[0m\u001b[0;34m\u001b[0m\u001b[0;34m\u001b[0m\u001b[0m\n\u001b[1;32m    250\u001b[0m         \u001b[0;32mif\u001b[0m \u001b[0mchar\u001b[0m \u001b[0;34m==\u001b[0m \u001b[0mself\u001b[0m\u001b[0;34m.\u001b[0m\u001b[0mnext\u001b[0m\u001b[0;34m:\u001b[0m\u001b[0;34m\u001b[0m\u001b[0;34m\u001b[0m\u001b[0m\n\u001b[0;32m--> 251\u001b[0;31m             \u001b[0mself\u001b[0m\u001b[0;34m.\u001b[0m\u001b[0m__next\u001b[0m\u001b[0;34m(\u001b[0m\u001b[0;34m)\u001b[0m\u001b[0;34m\u001b[0m\u001b[0;34m\u001b[0m\u001b[0m\n\u001b[0m\u001b[1;32m    252\u001b[0m             \u001b[0;32mreturn\u001b[0m \u001b[0;32mTrue\u001b[0m\u001b[0;34m\u001b[0m\u001b[0;34m\u001b[0m\u001b[0m\n\u001b[1;32m    253\u001b[0m         \u001b[0;32mreturn\u001b[0m \u001b[0;32mFalse\u001b[0m\u001b[0;34m\u001b[0m\u001b[0;34m\u001b[0m\u001b[0m\n",
      "\u001b[0;32m~/opt/anaconda3/lib/python3.9/sre_parse.py\u001b[0m in \u001b[0;36m__next\u001b[0;34m(self)\u001b[0m\n\u001b[1;32m    243\u001b[0m                 \u001b[0mchar\u001b[0m \u001b[0;34m+=\u001b[0m \u001b[0mself\u001b[0m\u001b[0;34m.\u001b[0m\u001b[0mdecoded_string\u001b[0m\u001b[0;34m[\u001b[0m\u001b[0mindex\u001b[0m\u001b[0;34m]\u001b[0m\u001b[0;34m\u001b[0m\u001b[0;34m\u001b[0m\u001b[0m\n\u001b[1;32m    244\u001b[0m             \u001b[0;32mexcept\u001b[0m \u001b[0mIndexError\u001b[0m\u001b[0;34m:\u001b[0m\u001b[0;34m\u001b[0m\u001b[0;34m\u001b[0m\u001b[0m\n\u001b[0;32m--> 245\u001b[0;31m                 raise error(\"bad escape (end of pattern)\",\n\u001b[0m\u001b[1;32m    246\u001b[0m                             self.string, len(self.string) - 1) from None\n\u001b[1;32m    247\u001b[0m         \u001b[0mself\u001b[0m\u001b[0;34m.\u001b[0m\u001b[0mindex\u001b[0m \u001b[0;34m=\u001b[0m \u001b[0mindex\u001b[0m \u001b[0;34m+\u001b[0m \u001b[0;36m1\u001b[0m\u001b[0;34m\u001b[0m\u001b[0;34m\u001b[0m\u001b[0m\n",
      "\u001b[0;31merror\u001b[0m: bad escape (end of pattern) at position 5"
     ]
    }
   ],
   "source": [
    "## Let's try escaping the slash\n",
    "### this also breaks because the python interpreter takes away one slash as an escape,\n",
    "### and then regex is fed an escape for {\n",
    "re.search(\"\\w{3}\\\\\", pet)\n"
   ]
  },
  {
   "cell_type": "markdown",
   "metadata": {
    "id": "ioUW1YbeRbPs"
   },
   "source": [
    "### This is confusing but here's just happened:\n",
    "\n",
    "```re.search(\"\\w{3}\\\\\", pet)```\n",
    "\n",
    "1. The Python interpreter sees the slash after the } and takes it as an escape character and removes it.\n",
    "2. The code is then passed on to the Regex, which then sees a single slash which stands for an escape character instead of the slash in the string.\n",
    "3. Everthing breaks.\n",
    "\n",
    "### One option is to double the number of slashes in the search pattern\n",
    "\n",
    "```re.search(\"\\w{3}\\\\\\\\\", pet)```\n",
    "\n",
    "1. The Python interpreter thinks of each extra slash as escape characters, and removes move.\n",
    "2. But we still have two slashes.\n",
    "3. Now the Regex sees one slash as an escape character and leaves one behind to search for a slash."
   ]
  },
  {
   "cell_type": "code",
   "execution_count": 67,
   "metadata": {
    "id": "xmEFUK-sRbPs"
   },
   "outputs": [
    {
     "data": {
      "text/plain": [
       "<re.Match object; span=(0, 4), match='dog\\\\'>"
      ]
     },
     "execution_count": 67,
     "metadata": {},
     "output_type": "execute_result"
    }
   ],
   "source": [
    "## double the slashes\n",
    "### This is confusing but here's just happened:\n",
    "### This is confusing but here's just happened:\n",
    "re.search(\"\\w{3}\\\\\\\\\", pet)"
   ]
  },
  {
   "cell_type": "markdown",
   "metadata": {
    "id": "hkBCemXGRbPt"
   },
   "source": [
    "### Raw String option\n",
    "\n",
    "Add an ```r``` before your Regex string to convert it to a raw string.\n",
    "\n",
    "```re.search(r\"\\w{3}\\\\\", pet)```"
   ]
  },
  {
   "cell_type": "code",
   "execution_count": 68,
   "metadata": {
    "id": "bwfuff5GRbPt"
   },
   "outputs": [
    {
     "data": {
      "text/plain": [
       "<re.Match object; span=(0, 4), match='dog\\\\'>"
      ]
     },
     "execution_count": 68,
     "metadata": {},
     "output_type": "execute_result"
    }
   ],
   "source": [
    "## raw string works.\n",
    "re.search(r\"\\w{3}\\\\\", pet)"
   ]
  },
  {
   "cell_type": "code",
   "execution_count": null,
   "metadata": {
    "id": "jI3qc2PTRbPt"
   },
   "outputs": [],
   "source": [
    "## print the target group \n"
   ]
  },
  {
   "cell_type": "markdown",
   "metadata": {
    "id": "vsR3f8a9RbPt"
   },
   "source": [
    "### When to use raw string ```r```\n",
    "\n",
    "#### Two cases\n",
    "1. When you need to escape the ```\\``` to actually find a slash.\n",
    "2. When you need to use ```\\b``` word boundary."
   ]
  },
  {
   "cell_type": "markdown",
   "metadata": {
    "id": "WIg_ZFU8bbZw"
   },
   "source": [
    "# Put Regex to work"
   ]
  },
  {
   "cell_type": "code",
   "execution_count": 69,
   "metadata": {
    "id": "8sd19AwRbfFs"
   },
   "outputs": [],
   "source": [
    "## find telephone numbers\n",
    "tel_pat = re.compile(r\"\\(?\\d{3}\\)?\\D\\d{3}\\D\\d{4}\")"
   ]
  },
  {
   "cell_type": "code",
   "execution_count": 70,
   "metadata": {
    "id": "P3knN5ZZdAXj"
   },
   "outputs": [
    {
     "data": {
      "text/plain": [
       "['(518) 469-4581',\n",
       " '212-452-5728',\n",
       " '(917) 492-8601',\n",
       " '514-957-3453',\n",
       " '718 601 7567',\n",
       " '(917) 488-5410',\n",
       " '718-392-4793',\n",
       " '(646) 469-3211',\n",
       " '917.425.2796',\n",
       " '415.458.9163']"
      ]
     },
     "execution_count": 70,
     "metadata": {},
     "output_type": "execute_result"
    }
   ],
   "source": [
    "## run pattern on text\n",
    "tel_numbers = tel_pat.findall(mydoc)\n",
    "tel_numbers"
   ]
  },
  {
   "cell_type": "markdown",
   "metadata": {
    "id": "sYVAkphlEP2X"
   },
   "source": [
    "# Find all animals, quantity and colors"
   ]
  },
  {
   "cell_type": "code",
   "execution_count": 71,
   "metadata": {
    "id": "ESQ471R_hIs7"
   },
   "outputs": [
    {
     "name": "stdout",
     "output_type": "stream",
     "text": [
      "12534 127 ab aba abba sandeepj@bloomberg.net abbba, abbbbba, (518) 469-4581 abcde.The dog is a not a hog. ABA ABBA ABBBA.\n",
      "\n",
      "Florence smith\n",
      "John Smith\n",
      "Carol Brown Tel. 212-452-5728\n",
      "\n",
      "\n",
      "Ab_CD123  123456 and 12456\ttor 12531245134562. 123867584789. $40.44 or $3 or $52,583.08 or $610,235.11\n",
      "Tel. (917) 492-8601\n",
      "\n",
      "The cat sat down and called 514-957-3453 while the other caaaaaat purred. This cat is in California while this caaaat is in Iraq, but none are in ct. My dog prefers cat food to dog food but hates fish food.My food tastes yummy!\n",
      "Peter Trapp Jon Smythe Luca Smith John Smythe\n",
      "Maggie Veach Tel. 718 601 7567\n",
      "\n",
      "AB_cd \t<+>-.,!@# $%^&*();\\/|_^@1# (917) 488-5410\n",
      "\n",
      "*!dsar2d1\n",
      "\n",
      "I told him to search Jon Smith\n",
      "Katie Pine\n",
      "John Smth\n",
      "\n",
      "TELEPHONE NUMBERS\n",
      "Tel. 718-392-4793\n",
      "Tel. (646) 469-3211\n",
      "Tel. 917.425.2796\n",
      "\n",
      "NUMBERS\n",
      "1\n",
      "12\n",
      "123\n",
      "123,456\n",
      "123,456,789\n",
      "123,456,789.01\n",
      "\n",
      "EMAILS\n",
      "sandeep.junnarkar@journalism.cuny.edu\n",
      "sandeepj@gmail.com\n",
      "sjunnarkar@bloomberg.net\n",
      "sandeep.junnarkar@news.co.uk\n",
      "\n",
      "\n",
      "POLICE\n",
      "Det. Frank Castille\n",
      "Police Officer Dan D. Dennings\n",
      "Lt. Patrician Grace\n",
      "Detective Susan Treeble\n",
      "Officer Cantwell Brady-Stevens\n",
      "\n",
      "Novel Djokvichthe thesaurus where sandeep.junnarkar@journalism.cuny.edu he'd be able to sjnews@gmail.com find words like them.\n",
      "\n",
      "abcdefgczhijklmnopqrstuvwxyz\tABCDEFGCZHIJKLMNOPQRSTUVWXYZ\n",
      "\n",
      "A h0g is a hog.\n",
      "\n",
      "Dog and dog and DOG. His number is 415.458.9163. John Brown jon Smith\n",
      "Peter Finch\n",
      "\n",
      "&^%@ 129\n",
      "\n",
      "$12,560\n",
      "\n",
      "abba\n",
      "\n",
      "cat 3452 black\n",
      "dog 234 white\n",
      "fish 3562 silver\n",
      "rat 94 white\n",
      "bird 1957 purple\n",
      "horse 3 black\n",
      "chameleon  5724 green\n",
      "snake 6730 red\n",
      "\n",
      "\n",
      "\n",
      "\n"
     ]
    }
   ],
   "source": [
    "## print mydoc again\n",
    "print(mydoc)"
   ]
  },
  {
   "cell_type": "code",
   "execution_count": 74,
   "metadata": {
    "id": "_ADL64t3EPA4"
   },
   "outputs": [],
   "source": [
    "## pattern\n",
    "animal_pat = re.compile(r\"^[a-z]+\\s+\\d{1,5}\\s+[a-z]+$\", re.M)"
   ]
  },
  {
   "cell_type": "code",
   "execution_count": 75,
   "metadata": {
    "id": "EHAdN3XcEiFu"
   },
   "outputs": [
    {
     "data": {
      "text/plain": [
       "['cat 3452 black',\n",
       " 'dog 234 white',\n",
       " 'fish 3562 silver',\n",
       " 'rat 94 white',\n",
       " 'bird 1957 purple',\n",
       " 'horse 3 black',\n",
       " 'chameleon  5724 green',\n",
       " 'snake 6730 red']"
      ]
     },
     "execution_count": 75,
     "metadata": {},
     "output_type": "execute_result"
    }
   ],
   "source": [
    "## find targets\n",
    "animals = animal_pat.findall(mydoc)\n",
    "animals"
   ]
  },
  {
   "cell_type": "code",
   "execution_count": 76,
   "metadata": {
    "id": "xe6Bg0alhcao"
   },
   "outputs": [
    {
     "data": {
      "text/html": [
       "<div>\n",
       "<style scoped>\n",
       "    .dataframe tbody tr th:only-of-type {\n",
       "        vertical-align: middle;\n",
       "    }\n",
       "\n",
       "    .dataframe tbody tr th {\n",
       "        vertical-align: top;\n",
       "    }\n",
       "\n",
       "    .dataframe thead th {\n",
       "        text-align: right;\n",
       "    }\n",
       "</style>\n",
       "<table border=\"1\" class=\"dataframe\">\n",
       "  <thead>\n",
       "    <tr style=\"text-align: right;\">\n",
       "      <th></th>\n",
       "      <th>0</th>\n",
       "    </tr>\n",
       "  </thead>\n",
       "  <tbody>\n",
       "    <tr>\n",
       "      <th>0</th>\n",
       "      <td>cat 3452 black</td>\n",
       "    </tr>\n",
       "    <tr>\n",
       "      <th>1</th>\n",
       "      <td>dog 234 white</td>\n",
       "    </tr>\n",
       "    <tr>\n",
       "      <th>2</th>\n",
       "      <td>fish 3562 silver</td>\n",
       "    </tr>\n",
       "    <tr>\n",
       "      <th>3</th>\n",
       "      <td>rat 94 white</td>\n",
       "    </tr>\n",
       "    <tr>\n",
       "      <th>4</th>\n",
       "      <td>bird 1957 purple</td>\n",
       "    </tr>\n",
       "    <tr>\n",
       "      <th>5</th>\n",
       "      <td>horse 3 black</td>\n",
       "    </tr>\n",
       "    <tr>\n",
       "      <th>6</th>\n",
       "      <td>chameleon  5724 green</td>\n",
       "    </tr>\n",
       "    <tr>\n",
       "      <th>7</th>\n",
       "      <td>snake 6730 red</td>\n",
       "    </tr>\n",
       "  </tbody>\n",
       "</table>\n",
       "</div>"
      ],
      "text/plain": [
       "                       0\n",
       "0         cat 3452 black\n",
       "1          dog 234 white\n",
       "2       fish 3562 silver\n",
       "3           rat 94 white\n",
       "4       bird 1957 purple\n",
       "5          horse 3 black\n",
       "6  chameleon  5724 green\n",
       "7         snake 6730 red"
      ]
     },
     "execution_count": 76,
     "metadata": {},
     "output_type": "execute_result"
    }
   ],
   "source": [
    "## turn into df\n",
    "df = pd.DataFrame(animals)\n",
    "df"
   ]
  },
  {
   "cell_type": "markdown",
   "metadata": {
    "id": "f3niV9QR39YW"
   },
   "source": [
    "## Capture groups Detour to Regex101\n"
   ]
  },
  {
   "cell_type": "code",
   "execution_count": 77,
   "metadata": {
    "id": "dBlsbgcaclSs"
   },
   "outputs": [],
   "source": [
    "## pattern to capture animal, quantity and color\n",
    "animal_pat2 = re.compile(r\"^([a-z]+)\\s+(\\d{1,5})\\s+([a-z]+)$\", re.M)"
   ]
  },
  {
   "cell_type": "code",
   "execution_count": 78,
   "metadata": {
    "id": "HDpQYaRTc2av"
   },
   "outputs": [
    {
     "data": {
      "text/plain": [
       "[('cat', '3452', 'black'),\n",
       " ('dog', '234', 'white'),\n",
       " ('fish', '3562', 'silver'),\n",
       " ('rat', '94', 'white'),\n",
       " ('bird', '1957', 'purple'),\n",
       " ('horse', '3', 'black'),\n",
       " ('chameleon', '5724', 'green'),\n",
       " ('snake', '6730', 'red')]"
      ]
     },
     "execution_count": 78,
     "metadata": {},
     "output_type": "execute_result"
    }
   ],
   "source": [
    "## capture all data\n",
    "data = animal_pat2.findall(mydoc)\n",
    "data"
   ]
  },
  {
   "cell_type": "code",
   "execution_count": 79,
   "metadata": {
    "id": "RdEwmamMfPbZ"
   },
   "outputs": [
    {
     "data": {
      "text/plain": [
       "list"
      ]
     },
     "execution_count": 79,
     "metadata": {},
     "output_type": "execute_result"
    }
   ],
   "source": [
    "## what type of object\n",
    "type(data)"
   ]
  },
  {
   "cell_type": "code",
   "execution_count": 80,
   "metadata": {
    "id": "rqfVx9WTjZLn"
   },
   "outputs": [
    {
     "data": {
      "text/plain": [
       "tuple"
      ]
     },
     "execution_count": 80,
     "metadata": {},
     "output_type": "execute_result"
    }
   ],
   "source": [
    "## what type of ojbects does it hold?\n",
    "type(data[0])"
   ]
  },
  {
   "cell_type": "code",
   "execution_count": 81,
   "metadata": {
    "id": "lJblQdGp6BUz"
   },
   "outputs": [
    {
     "data": {
      "text/html": [
       "<div>\n",
       "<style scoped>\n",
       "    .dataframe tbody tr th:only-of-type {\n",
       "        vertical-align: middle;\n",
       "    }\n",
       "\n",
       "    .dataframe tbody tr th {\n",
       "        vertical-align: top;\n",
       "    }\n",
       "\n",
       "    .dataframe thead th {\n",
       "        text-align: right;\n",
       "    }\n",
       "</style>\n",
       "<table border=\"1\" class=\"dataframe\">\n",
       "  <thead>\n",
       "    <tr style=\"text-align: right;\">\n",
       "      <th></th>\n",
       "      <th>animal</th>\n",
       "      <th>quantity</th>\n",
       "      <th>color</th>\n",
       "    </tr>\n",
       "  </thead>\n",
       "  <tbody>\n",
       "    <tr>\n",
       "      <th>0</th>\n",
       "      <td>cat</td>\n",
       "      <td>3452</td>\n",
       "      <td>black</td>\n",
       "    </tr>\n",
       "    <tr>\n",
       "      <th>1</th>\n",
       "      <td>dog</td>\n",
       "      <td>234</td>\n",
       "      <td>white</td>\n",
       "    </tr>\n",
       "    <tr>\n",
       "      <th>2</th>\n",
       "      <td>fish</td>\n",
       "      <td>3562</td>\n",
       "      <td>silver</td>\n",
       "    </tr>\n",
       "    <tr>\n",
       "      <th>3</th>\n",
       "      <td>rat</td>\n",
       "      <td>94</td>\n",
       "      <td>white</td>\n",
       "    </tr>\n",
       "    <tr>\n",
       "      <th>4</th>\n",
       "      <td>bird</td>\n",
       "      <td>1957</td>\n",
       "      <td>purple</td>\n",
       "    </tr>\n",
       "    <tr>\n",
       "      <th>5</th>\n",
       "      <td>horse</td>\n",
       "      <td>3</td>\n",
       "      <td>black</td>\n",
       "    </tr>\n",
       "    <tr>\n",
       "      <th>6</th>\n",
       "      <td>chameleon</td>\n",
       "      <td>5724</td>\n",
       "      <td>green</td>\n",
       "    </tr>\n",
       "    <tr>\n",
       "      <th>7</th>\n",
       "      <td>snake</td>\n",
       "      <td>6730</td>\n",
       "      <td>red</td>\n",
       "    </tr>\n",
       "  </tbody>\n",
       "</table>\n",
       "</div>"
      ],
      "text/plain": [
       "      animal quantity   color\n",
       "0        cat     3452   black\n",
       "1        dog      234   white\n",
       "2       fish     3562  silver\n",
       "3        rat       94   white\n",
       "4       bird     1957  purple\n",
       "5      horse        3   black\n",
       "6  chameleon     5724   green\n",
       "7      snake     6730     red"
      ]
     },
     "execution_count": 81,
     "metadata": {},
     "output_type": "execute_result"
    }
   ],
   "source": [
    "## export to df\n",
    "df = pd.DataFrame(data)\n",
    "df.columns = [\"animal\", \"quantity\", \"color\"]\n",
    "df"
   ]
  },
  {
   "cell_type": "code",
   "execution_count": 82,
   "metadata": {
    "id": "lgWR5NCfLDlU"
   },
   "outputs": [
    {
     "name": "stdout",
     "output_type": "stream",
     "text": [
      "12534 127 ab aba abba sandeepj@bloomberg.net abbba, abbbbba, (518) 469-4581 abcde.The dog is a not a hog. ABA ABBA ABBBA.\n",
      "\n",
      "Florence smith\n",
      "John Smith\n",
      "Carol Brown Tel. 212-452-5728\n",
      "\n",
      "\n",
      "Ab_CD123  123456 and 12456\ttor 12531245134562. 123867584789. $40.44 or $3 or $52,583.08 or $610,235.11\n",
      "Tel. (917) 492-8601\n",
      "\n",
      "The cat sat down and called 514-957-3453 while the other caaaaaat purred. This cat is in California while this caaaat is in Iraq, but none are in ct. My dog prefers cat food to dog food but hates fish food.My food tastes yummy!\n",
      "Peter Trapp Jon Smythe Luca Smith John Smythe\n",
      "Maggie Veach Tel. 718 601 7567\n",
      "\n",
      "AB_cd \t<+>-.,!@# $%^&*();\\/|_^@1# (917) 488-5410\n",
      "\n",
      "*!dsar2d1\n",
      "\n",
      "I told him to search Jon Smith\n",
      "Katie Pine\n",
      "John Smth\n",
      "\n",
      "TELEPHONE NUMBERS\n",
      "Tel. 718-392-4793\n",
      "Tel. (646) 469-3211\n",
      "Tel. 917.425.2796\n",
      "\n",
      "NUMBERS\n",
      "1\n",
      "12\n",
      "123\n",
      "123,456\n",
      "123,456,789\n",
      "123,456,789.01\n",
      "\n",
      "EMAILS\n",
      "sandeep.junnarkar@journalism.cuny.edu\n",
      "sandeepj@gmail.com\n",
      "sjunnarkar@bloomberg.net\n",
      "sandeep.junnarkar@news.co.uk\n",
      "\n",
      "\n",
      "POLICE\n",
      "Det. Frank Castille\n",
      "Police Officer Dan D. Dennings\n",
      "Lt. Patrician Grace\n",
      "Detective Susan Treeble\n",
      "Officer Cantwell Brady-Stevens\n",
      "\n",
      "Novel Djokvichthe thesaurus where sandeep.junnarkar@journalism.cuny.edu he'd be able to sjnews@gmail.com find words like them.\n",
      "\n",
      "abcdefgczhijklmnopqrstuvwxyz\tABCDEFGCZHIJKLMNOPQRSTUVWXYZ\n",
      "\n",
      "A h0g is a hog.\n",
      "\n",
      "Dog and dog and DOG. His number is 415.458.9163. John Brown jon Smith\n",
      "Peter Finch\n",
      "\n",
      "&^%@ 129\n",
      "\n",
      "$12,560\n",
      "\n",
      "abba\n",
      "\n",
      "cat 3452 black\n",
      "dog 234 white\n",
      "fish 3562 silver\n",
      "rat 94 white\n",
      "bird 1957 purple\n",
      "horse 3 black\n",
      "chameleon  5724 green\n",
      "snake 6730 red\n",
      "\n",
      "\n",
      "\n",
      "\n"
     ]
    }
   ],
   "source": [
    "print(mydoc)"
   ]
  },
  {
   "cell_type": "markdown",
   "metadata": {
    "id": "ogLUROqeKInA"
   },
   "source": [
    "## Non-Capture Group Captures"
   ]
  },
  {
   "cell_type": "code",
   "execution_count": 83,
   "metadata": {
    "id": "rTiwaCqbHPT1"
   },
   "outputs": [],
   "source": [
    "## find all Jon Smiths and their variations\n",
    "name_pat = re.compile(r\"j\\wh?n\\ssm\\w+\", re.I)"
   ]
  },
  {
   "cell_type": "code",
   "execution_count": 85,
   "metadata": {
    "id": "dXyyA04jHm6Z"
   },
   "outputs": [
    {
     "data": {
      "text/plain": [
       "['John Smith',\n",
       " 'Jon Smythe',\n",
       " 'John Smythe',\n",
       " 'Jon Smith',\n",
       " 'John Smth',\n",
       " 'jon Smith']"
      ]
     },
     "execution_count": 85,
     "metadata": {},
     "output_type": "execute_result"
    }
   ],
   "source": [
    "## run pattern on text\n",
    "name_pat.findall(mydoc)"
   ]
  },
  {
   "cell_type": "markdown",
   "metadata": {
    "id": "1e-o1VeBKZ0S"
   },
   "source": [
    "## What if we want to capture as first name and last name separately?"
   ]
  },
  {
   "cell_type": "code",
   "execution_count": 97,
   "metadata": {
    "id": "dJ-bxQVzKeDt"
   },
   "outputs": [],
   "source": [
    "## create with capture pattern\n",
    "name_pat2 = re.compile(r\"(?P<full_name>(?P<first_name>j\\wh?n)\\s(?P<last_name>sm\\w+))\", re.I)"
   ]
  },
  {
   "cell_type": "code",
   "execution_count": 98,
   "metadata": {
    "id": "sAxgBfMAKqDn"
   },
   "outputs": [
    {
     "data": {
      "text/plain": [
       "[('John Smith', 'John', 'Smith'),\n",
       " ('Jon Smythe', 'Jon', 'Smythe'),\n",
       " ('John Smythe', 'John', 'Smythe'),\n",
       " ('Jon Smith', 'Jon', 'Smith'),\n",
       " ('John Smth', 'John', 'Smth'),\n",
       " ('jon Smith', 'jon', 'Smith')]"
      ]
     },
     "execution_count": 98,
     "metadata": {},
     "output_type": "execute_result"
    }
   ],
   "source": [
    "## run pattern on text\n",
    "names = name_pat2.findall(mydoc)\n",
    "names"
   ]
  },
  {
   "cell_type": "code",
   "execution_count": 96,
   "metadata": {
    "id": "U00moT4RLPMN"
   },
   "outputs": [
    {
     "data": {
      "text/html": [
       "<div>\n",
       "<style scoped>\n",
       "    .dataframe tbody tr th:only-of-type {\n",
       "        vertical-align: middle;\n",
       "    }\n",
       "\n",
       "    .dataframe tbody tr th {\n",
       "        vertical-align: top;\n",
       "    }\n",
       "\n",
       "    .dataframe thead th {\n",
       "        text-align: right;\n",
       "    }\n",
       "</style>\n",
       "<table border=\"1\" class=\"dataframe\">\n",
       "  <thead>\n",
       "    <tr style=\"text-align: right;\">\n",
       "      <th></th>\n",
       "      <th>full_name</th>\n",
       "      <th>first_name</th>\n",
       "      <th>last_name</th>\n",
       "    </tr>\n",
       "  </thead>\n",
       "  <tbody>\n",
       "    <tr>\n",
       "      <th>0</th>\n",
       "      <td>John Smith</td>\n",
       "      <td>John</td>\n",
       "      <td>Smith</td>\n",
       "    </tr>\n",
       "    <tr>\n",
       "      <th>1</th>\n",
       "      <td>Jon Smythe</td>\n",
       "      <td>Jon</td>\n",
       "      <td>Smythe</td>\n",
       "    </tr>\n",
       "    <tr>\n",
       "      <th>2</th>\n",
       "      <td>John Smythe</td>\n",
       "      <td>John</td>\n",
       "      <td>Smythe</td>\n",
       "    </tr>\n",
       "    <tr>\n",
       "      <th>3</th>\n",
       "      <td>Jon Smith</td>\n",
       "      <td>Jon</td>\n",
       "      <td>Smith</td>\n",
       "    </tr>\n",
       "    <tr>\n",
       "      <th>4</th>\n",
       "      <td>John Smth</td>\n",
       "      <td>John</td>\n",
       "      <td>Smth</td>\n",
       "    </tr>\n",
       "    <tr>\n",
       "      <th>5</th>\n",
       "      <td>jon Smith</td>\n",
       "      <td>jon</td>\n",
       "      <td>Smith</td>\n",
       "    </tr>\n",
       "  </tbody>\n",
       "</table>\n",
       "</div>"
      ],
      "text/plain": [
       "     full_name first_name last_name\n",
       "0   John Smith       John     Smith\n",
       "1   Jon Smythe        Jon    Smythe\n",
       "2  John Smythe       John    Smythe\n",
       "3    Jon Smith        Jon     Smith\n",
       "4    John Smth       John      Smth\n",
       "5    jon Smith        jon     Smith"
      ]
     },
     "execution_count": 96,
     "metadata": {},
     "output_type": "execute_result"
    }
   ],
   "source": [
    "## export to df\n",
    "df = pd.DataFrame(names)\n",
    "df.columns = [\"full_name\", \"first_name\", \"last_name\"]\n",
    "df"
   ]
  },
  {
   "cell_type": "code",
   "execution_count": null,
   "metadata": {
    "id": "svIulMmUqdb5"
   },
   "outputs": [],
   "source": [
    "weapons_text = '''Weapon Type/Force Used 2000 2001 2002 2003 2004 totals\n",
    "Personal Weapons 12,945 17,830 20,636 21,933 25,050 98,394\n",
    "None 2,702 3,114 2,974 3,294 4,176 16,260\n",
    "Other 1,775 2,311 2,332 2,420 2,842 11,680\n",
    "Knife/Cutting Instrument 1,511 2,082 2,080 2,445 2,852 10,970\n",
    "Handgun 307 376 398 430 497 2,008\n",
    "Blunt Object 283 404 394 455 469 2,005\n",
    "Firearm (type not stated) 94 131 103 135 146 609\n",
    "Other Firearm 74 107 92 155 154 582\n",
    "Explosives 145 139 93 89 95 561\n",
    "Motor Vehicle 43 52 46 59 71 271\n",
    "Fire/Incendiary Device 36 34 42 36 88 236\n",
    "Rifle 23 33 33 24 37 150\n",
    "Shotgun 15 24 30 19 24 112\n",
    "Drugs/Narcotics/Sleeping Pills 9 4 8 14 6 41\n",
    "Poison 1 8 4 11 16 40\n",
    "Asphyxiation 2 1 3 6 2 14\n",
    "Unknown 593 1,128 1,163 1,069 1,098 5,051\n",
    "\n",
    "'''"
   ]
  },
  {
   "cell_type": "code",
   "execution_count": null,
   "metadata": {
    "id": "AolU6e2WvT--"
   },
   "outputs": [],
   "source": [
    "## pattern\n"
   ]
  },
  {
   "cell_type": "code",
   "execution_count": null,
   "metadata": {
    "id": "EgXOsKNYveyW"
   },
   "outputs": [],
   "source": [
    "## find all \n"
   ]
  },
  {
   "cell_type": "code",
   "execution_count": null,
   "metadata": {
    "id": "yLs4SYpBvoVh"
   },
   "outputs": [],
   "source": [
    "## turn into df\n"
   ]
  },
  {
   "cell_type": "code",
   "execution_count": null,
   "metadata": {
    "id": "_f5pNUYOv2QC"
   },
   "outputs": [],
   "source": [
    "## designate column headers\n"
   ]
  },
  {
   "cell_type": "code",
   "execution_count": null,
   "metadata": {
    "id": "2qRJH9PWwipn"
   },
   "outputs": [],
   "source": [
    "## new df with column headers\n"
   ]
  },
  {
   "cell_type": "code",
   "execution_count": null,
   "metadata": {
    "id": "R3iOFfaxwv4i"
   },
   "outputs": [],
   "source": [
    "## call df"
   ]
  },
  {
   "cell_type": "code",
   "execution_count": null,
   "metadata": {
    "id": "rDuume7WwwmP"
   },
   "outputs": [],
   "source": []
  }
 ],
 "metadata": {
  "colab": {
   "collapsed_sections": [],
   "name": "week-12-regex-PART-2-BLANK.ipynb",
   "provenance": [
    {
     "file_id": "1TMcL3BcuSUaCIncNMG41Eu8SQg4qiagR",
     "timestamp": 1652178808556
    },
    {
     "file_id": "1Wi51877EoKw_JYKYqremuzAQMDxW7C1_",
     "timestamp": 1649805702413
    },
    {
     "file_id": "10-nHRo87wIgBlGOPKV3aGGxc4DxdMQpv",
     "timestamp": 1649804511882
    },
    {
     "file_id": "1FmBcIznHdKcWmMKVU6P5hCKd9N5pFCsU",
     "timestamp": 1643206950105
    },
    {
     "file_id": "1Nr8rBq4XH5WNNHHpgXpR7HXa6v9Zuv9j",
     "timestamp": 1623244598367
    },
    {
     "file_id": "11buOv8gA5M5U6Y7kjuFL3YrnMmqz5Jxz",
     "timestamp": 1623242240284
    }
   ]
  },
  "kernelspec": {
   "display_name": "Python 3 (ipykernel)",
   "language": "python",
   "name": "python3"
  },
  "language_info": {
   "codemirror_mode": {
    "name": "ipython",
    "version": 3
   },
   "file_extension": ".py",
   "mimetype": "text/x-python",
   "name": "python",
   "nbconvert_exporter": "python",
   "pygments_lexer": "ipython3",
   "version": "3.9.7"
  }
 },
 "nbformat": 4,
 "nbformat_minor": 1
}
