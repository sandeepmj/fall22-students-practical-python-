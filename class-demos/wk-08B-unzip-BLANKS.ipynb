{
 "cells": [
  {
   "cell_type": "markdown",
   "metadata": {
    "id": "XBTj3QNSHJZ8"
   },
   "source": [
    "# Zipped Folders\n",
    "\n",
    "We might encounter a zipped/compressed folders or folders that contain the files we need. Instead of manually unzipping them, we can deploy Python.\n",
    "\n",
    "Download these <a href=\"https://docs.google.com/spreadsheets/d/1J7CVJgrYWh6xQMe4LzBxn2_ZNrSedo4S6vIN8Ct2EtE/edit?usp=sharing\">this zipped file</a> for practice files.\n",
    "\n",
    "\n"
   ]
  },
  {
   "cell_type": "code",
   "execution_count": null,
   "metadata": {
    "id": "eQ_GuWHqMVOC"
   },
   "outputs": [],
   "source": [
    "## package needed\n",
    "from zipfile import ZipFile"
   ]
  },
  {
   "cell_type": "code",
   "execution_count": null,
   "metadata": {
    "id": "HbheZ5DrMVOJ"
   },
   "outputs": [],
   "source": [
    "## ZipFile is from the package we imported\n",
    "## my_folder_object is what i am calling the resulting object\n"
   ]
  },
  {
   "cell_type": "code",
   "execution_count": null,
   "metadata": {
    "id": "B2QxZeCFjklb"
   },
   "outputs": [],
   "source": [
    "## code to unzip the folder in the same director\n"
   ]
  },
  {
   "cell_type": "code",
   "execution_count": null,
   "metadata": {
    "id": "FSKGW1T4MVOL"
   },
   "outputs": [],
   "source": [
    "## extract into a separate directory called \"unzipped_files\"\n"
   ]
  },
  {
   "cell_type": "code",
   "execution_count": null,
   "metadata": {
    "id": "aU2Yl-GuMVOO"
   },
   "outputs": [],
   "source": [
    "## extract only a type of file within my zipped folder\n",
    "## extract only the .csv file(s)\n"
   ]
  },
  {
   "cell_type": "code",
   "execution_count": null,
   "metadata": {
    "id": "xEQbGZLQ1e6X"
   },
   "outputs": [],
   "source": [
    "## unzip and gather only the IMAGE files call images_only\n",
    "\n",
    "\n"
   ]
  },
  {
   "cell_type": "code",
   "execution_count": null,
   "metadata": {
    "id": "oaSGEA0Ojklc"
   },
   "outputs": [],
   "source": []
  }
 ],
 "metadata": {
  "colab": {
   "collapsed_sections": [],
   "name": "week-9-unzip_BLANKS.ipynb",
   "provenance": [
    {
     "file_id": "1MCH_ndGVhYiWhAdbDfU53XTQnUKtlSL7",
     "timestamp": 1629243111312
    },
    {
     "file_id": "1vrDAO3CtJipOk6J64meuCXfzi_UIzyZ5",
     "timestamp": 1621423593707
    }
   ]
  },
  "kernelspec": {
   "display_name": "Python 3 (ipykernel)",
   "language": "python",
   "name": "python3"
  },
  "language_info": {
   "codemirror_mode": {
    "name": "ipython",
    "version": 3
   },
   "file_extension": ".py",
   "mimetype": "text/x-python",
   "name": "python",
   "nbconvert_exporter": "python",
   "pygments_lexer": "ipython3",
   "version": "3.9.7"
  }
 },
 "nbformat": 4,
 "nbformat_minor": 1
}
