{
 "cells": [
  {
   "cell_type": "markdown",
   "id": "f6c4233d",
   "metadata": {},
   "source": [
    "# 1. Demo downloading files from websites \n",
    "\n",
    "There are ```txt``` and ```pdf``` files on:\n",
    "\n",
    "```https://sandeepmj.github.io/scrape-example-page/pages.html```\n",
    "\n",
    "Do the following:\n",
    "\n",
    "1. Download all ```pdf``` files.\n",
    "2. Download all files at one time."
   ]
  },
  {
   "cell_type": "code",
   "execution_count": null,
   "id": "cf4f97e9",
   "metadata": {},
   "outputs": [],
   "source": [
    "## create new cells as necessary"
   ]
  },
  {
   "cell_type": "markdown",
   "id": "c5de875e",
   "metadata": {},
   "source": [
    "# 2. Universal conversion function\n",
    "Rewrite your function from last week so it can do both:\n",
    "\n",
    "- take individual string values like ```$12.24267```, ```10,201``` and ```$12,501``` and convert them into floating point numbers like 12.24, 10201.0 and 12501.0\n",
    "\n",
    "- take string values in lists and convert them to floating point numbers. (reminder: you use a zip function).\n",
    "\n",
    "Test it on the numbers above and in this list:"
   ]
  },
  {
   "cell_type": "code",
   "execution_count": 1,
   "id": "e6abb2f6",
   "metadata": {},
   "outputs": [],
   "source": [
    "## list of string numbers\n",
    "string_numbers = [\"$12.24267\", \"10,201\", \"$12,501\", \"42,901\", \"$902,091\"]"
   ]
  },
  {
   "cell_type": "code",
   "execution_count": null,
   "id": "c46ef8a2",
   "metadata": {},
   "outputs": [],
   "source": []
  }
 ],
 "metadata": {
  "kernelspec": {
   "display_name": "Python 3 (ipykernel)",
   "language": "python",
   "name": "python3"
  },
  "language_info": {
   "codemirror_mode": {
    "name": "ipython",
    "version": 3
   },
   "file_extension": ".py",
   "mimetype": "text/x-python",
   "name": "python",
   "nbconvert_exporter": "python",
   "pygments_lexer": "ipython3",
   "version": "3.9.7"
  }
 },
 "nbformat": 4,
 "nbformat_minor": 5
}
