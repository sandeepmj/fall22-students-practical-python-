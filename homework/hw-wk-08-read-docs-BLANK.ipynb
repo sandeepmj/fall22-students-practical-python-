{
 "cells": [
  {
   "cell_type": "markdown",
   "id": "3e2fc52d",
   "metadata": {},
   "source": [
    "# Unstructured ----> Structured \n",
    "\n",
    "The zipped documents file for this week contains a mix of document types. For **only** the documents that hold the name of journalists and key data points associated with them, do the following:\n",
    "\n",
    "1. Write a script that reads each relevant document and gathers:\n",
    "- The Name of the journalist\n",
    "- Article headline\n",
    "- Publication\n",
    "- Dateline\n",
    "\n",
    "2. Export these data points to a ```.csv``` file\n"
   ]
  },
  {
   "cell_type": "code",
   "execution_count": 1,
   "id": "de5b3214",
   "metadata": {},
   "outputs": [],
   "source": [
    "## create more cells as needed."
   ]
  },
  {
   "cell_type": "code",
   "execution_count": null,
   "id": "77e2494c",
   "metadata": {},
   "outputs": [],
   "source": []
  }
 ],
 "metadata": {
  "kernelspec": {
   "display_name": "Python 3 (ipykernel)",
   "language": "python",
   "name": "python3"
  },
  "language_info": {
   "codemirror_mode": {
    "name": "ipython",
    "version": 3
   },
   "file_extension": ".py",
   "mimetype": "text/x-python",
   "name": "python",
   "nbconvert_exporter": "python",
   "pygments_lexer": "ipython3",
   "version": "3.9.7"
  }
 },
 "nbformat": 4,
 "nbformat_minor": 5
}
