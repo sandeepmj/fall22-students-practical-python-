{
 "cells": [
  {
   "cell_type": "markdown",
   "id": "952a2d56",
   "metadata": {},
   "source": [
    "# Unstructured ----> Structured \n",
    "\n",
    "The zipped documents folder for this week contains a mix of document types. For **only** the documents that hold the name of journalists and key data points associated with them, do the following:\n",
    "\n",
    "1. Write a script that reads each relevant document and gathers:\n",
    "- The Name of the journalist\n",
    "- Article headline\n",
    "- Name of publication\n",
    "- Dateline\n",
    "\n",
    "2. Export these data points to a ```.csv``` file\n",
    "\n",
    "\n",
    "Note: I do not want the text associated with these jouralists.\n"
   ]
  },
  {
   "cell_type": "code",
   "execution_count": 1,
   "id": "3d739e42",
   "metadata": {},
   "outputs": [],
   "source": [
    "## create more cells as needed."
   ]
  },
  {
   "cell_type": "code",
   "execution_count": null,
   "id": "38c818ec",
   "metadata": {},
   "outputs": [],
   "source": []
  }
 ],
 "metadata": {
  "kernelspec": {
   "display_name": "Python 3 (ipykernel)",
   "language": "python",
   "name": "python3"
  },
  "language_info": {
   "codemirror_mode": {
    "name": "ipython",
    "version": 3
   },
   "file_extension": ".py",
   "mimetype": "text/x-python",
   "name": "python",
   "nbconvert_exporter": "python",
   "pygments_lexer": "ipython3",
   "version": "3.9.7"
  }
 },
 "nbformat": 4,
 "nbformat_minor": 5
}
