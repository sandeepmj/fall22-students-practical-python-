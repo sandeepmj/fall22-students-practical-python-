{
 "cells": [
  {
   "cell_type": "markdown",
   "id": "f6c4233d",
   "metadata": {},
   "source": [
    "# 1. Demo downloading files from websites \n",
    "\n",
    "There are ```txt``` and ```pdf``` files on:\n",
    "\n",
    "```https://sandeepmj.github.io/scrape-example-page/pages.html```\n",
    "\n",
    "Do the following:\n",
    "\n",
    "1. Download all ```pdf``` files.\n",
    "2. Download all files at one time."
   ]
  },
  {
   "cell_type": "code",
   "execution_count": 12,
   "id": "ff5c5080",
   "metadata": {},
   "outputs": [],
   "source": [
    "# import libraries\n",
    "from bs4 import BeautifulSoup  ## scrape info from web pages\n",
    "import requests ## get web pages from server\n",
    "import time # time is required. we will use its sleep function\n",
    "from random import randrange # generate random numbers"
   ]
  },
  {
   "cell_type": "code",
   "execution_count": 13,
   "id": "2a2b3daf",
   "metadata": {},
   "outputs": [
    {
     "data": {
      "text/plain": [
       "200"
      ]
     },
     "execution_count": 13,
     "metadata": {},
     "output_type": "execute_result"
    }
   ],
   "source": [
    "# url to scrape\n",
    "url = \"https://sandeepmj.github.io/scrape-example-page/pages.html\"\n",
    "\n",
    "response = requests.get(url)\n",
    "response.status_code"
   ]
  },
  {
   "cell_type": "code",
   "execution_count": 14,
   "id": "2dd1fd3d",
   "metadata": {},
   "outputs": [],
   "source": [
    "## make soup\n",
    "soup = BeautifulSoup(response.text, \"html.parser\")"
   ]
  },
  {
   "cell_type": "code",
   "execution_count": 15,
   "id": "852123c2",
   "metadata": {},
   "outputs": [
    {
     "data": {
      "text/plain": [
       "[<ul class=\"txts downloadable\">\n",
       " <p class=\"pages\">Download this list of text documents</p>\n",
       " <li>Text Document <a href=\"files/text_doc_01.txt\">1</a> </li>\n",
       " <li>Text Document <a href=\"files/text_doc_02.txt\">2</a></li>\n",
       " <li>Text Document <a href=\"files/text_doc_03.txt\">3</a></li>\n",
       " <li>Text Document <a href=\"files/text_doc_04.txt\">4</a></li>\n",
       " <li>Text Document <a href=\"files/text_doc_05.txt\">5</a></li>\n",
       " <li>Text Document <a href=\"files/text_doc_06.txt\">6</a></li>\n",
       " <li>Text Document <a href=\"files/text_doc_07.txt\">7</a></li>\n",
       " <li>Text Document <a href=\"files/text_doc_08.txt\">8</a></li>\n",
       " <li>Text Document <a href=\"files/text_doc_09.txt\">9</a></li>\n",
       " <li>Text Document <a href=\"files/text_doc_10.txt\">10</a></li>\n",
       " </ul>,\n",
       " <ul class=\"pdfs downloadable\">\n",
       " <p class=\"pages\">Download this list of PDFs</p>\n",
       " <li>PDF Document <a href=\"files/pdf_1.pdf\">1</a> </li>\n",
       " <li>PDF Document <a href=\"files/pdf_2.pdf\">2</a></li>\n",
       " <li>PDF Document <a href=\"files/pdf_3.pdf\">3</a></li>\n",
       " <li>PDF Document <a href=\"files/pdf_4.pdf\">4</a></li>\n",
       " <li>PDF Document <a href=\"files/pdf_5.pdf\">5</a></li>\n",
       " <li>PDF Document <a href=\"files/pdf_6.pdf\">6</a></li>\n",
       " <li>PDF Document <a href=\"files/pdf_7.pdf\">7</a></li>\n",
       " <li>PDF Document <a href=\"files/pdf_8.pdf\">8</a></li>\n",
       " <li>PDF Document <a href=\"files/pdf_9.pdf\">9</a></li>\n",
       " <li>PDF Document <a href=\"files/pdf_10.pdf\">10</a></li>\n",
       " </ul>]"
      ]
     },
     "execution_count": 15,
     "metadata": {},
     "output_type": "execute_result"
    }
   ],
   "source": [
    "## find all links to files in our soup\n",
    "all_files = soup.find_all(\"ul\", class_=\"downloadable\")\n",
    "all_files"
   ]
  },
  {
   "cell_type": "code",
   "execution_count": 16,
   "id": "27e86682",
   "metadata": {},
   "outputs": [
    {
     "data": {
      "text/plain": [
       "[[<a href=\"files/text_doc_01.txt\">1</a>,\n",
       "  <a href=\"files/text_doc_02.txt\">2</a>,\n",
       "  <a href=\"files/text_doc_03.txt\">3</a>,\n",
       "  <a href=\"files/text_doc_04.txt\">4</a>,\n",
       "  <a href=\"files/text_doc_05.txt\">5</a>,\n",
       "  <a href=\"files/text_doc_06.txt\">6</a>,\n",
       "  <a href=\"files/text_doc_07.txt\">7</a>,\n",
       "  <a href=\"files/text_doc_08.txt\">8</a>,\n",
       "  <a href=\"files/text_doc_09.txt\">9</a>,\n",
       "  <a href=\"files/text_doc_10.txt\">10</a>],\n",
       " [<a href=\"files/pdf_1.pdf\">1</a>,\n",
       "  <a href=\"files/pdf_2.pdf\">2</a>,\n",
       "  <a href=\"files/pdf_3.pdf\">3</a>,\n",
       "  <a href=\"files/pdf_4.pdf\">4</a>,\n",
       "  <a href=\"files/pdf_5.pdf\">5</a>,\n",
       "  <a href=\"files/pdf_6.pdf\">6</a>,\n",
       "  <a href=\"files/pdf_7.pdf\">7</a>,\n",
       "  <a href=\"files/pdf_8.pdf\">8</a>,\n",
       "  <a href=\"files/pdf_9.pdf\">9</a>,\n",
       "  <a href=\"files/pdf_10.pdf\">10</a>]]"
      ]
     },
     "execution_count": 16,
     "metadata": {},
     "output_type": "execute_result"
    }
   ],
   "source": [
    "## iterate through our list\n",
    "## to find just the a tags \n",
    "all_a_tags = [file.find_all(\"a\") for file in all_files]\n",
    "all_a_tags"
   ]
  },
  {
   "cell_type": "markdown",
   "id": "2d612e47",
   "metadata": {},
   "source": [
    "### Notice that we have two lists within a list.\n",
    "\n",
    "#### These are lists nested inside a list. "
   ]
  },
  {
   "cell_type": "code",
   "execution_count": 17,
   "id": "744f9bff",
   "metadata": {},
   "outputs": [
    {
     "data": {
      "text/plain": [
       "[<a href=\"files/text_doc_01.txt\">1</a>,\n",
       " <a href=\"files/text_doc_02.txt\">2</a>,\n",
       " <a href=\"files/text_doc_03.txt\">3</a>,\n",
       " <a href=\"files/text_doc_04.txt\">4</a>,\n",
       " <a href=\"files/text_doc_05.txt\">5</a>,\n",
       " <a href=\"files/text_doc_06.txt\">6</a>,\n",
       " <a href=\"files/text_doc_07.txt\">7</a>,\n",
       " <a href=\"files/text_doc_08.txt\">8</a>,\n",
       " <a href=\"files/text_doc_09.txt\">9</a>,\n",
       " <a href=\"files/text_doc_10.txt\">10</a>]"
      ]
     },
     "execution_count": 17,
     "metadata": {},
     "output_type": "execute_result"
    }
   ],
   "source": [
    "## pull out the first item from our list\n",
    "## just to see how an individual item looks\n",
    "all_a_tags[0]\n"
   ]
  },
  {
   "cell_type": "markdown",
   "id": "e7b41c97",
   "metadata": {},
   "source": [
    "## The following will break!\n",
    "We try to pull out the href from all_a_tags"
   ]
  },
  {
   "cell_type": "code",
   "execution_count": 18,
   "id": "ca08a560",
   "metadata": {},
   "outputs": [
    {
     "ename": "AttributeError",
     "evalue": "ResultSet object has no attribute 'get'. You're probably treating a list of elements like a single element. Did you call find_all() when you meant to call find()?",
     "output_type": "error",
     "traceback": [
      "\u001b[0;31m---------------------------------------------------------------------------\u001b[0m",
      "\u001b[0;31mAttributeError\u001b[0m                            Traceback (most recent call last)",
      "\u001b[0;32m/var/folders/jg/xjfmqdcj0m1bqs1d7sgv9v480000gp/T/ipykernel_63016/2542583958.py\u001b[0m in \u001b[0;36m<module>\u001b[0;34m\u001b[0m\n\u001b[0;32m----> 1\u001b[0;31m \u001b[0mhref_list\u001b[0m \u001b[0;34m=\u001b[0m \u001b[0;34m[\u001b[0m\u001b[0mhref\u001b[0m\u001b[0;34m.\u001b[0m\u001b[0mget\u001b[0m\u001b[0;34m(\u001b[0m\u001b[0;34m\"href\"\u001b[0m\u001b[0;34m)\u001b[0m \u001b[0;32mfor\u001b[0m \u001b[0mhref\u001b[0m \u001b[0;32min\u001b[0m \u001b[0mall_a_tags\u001b[0m\u001b[0;34m]\u001b[0m\u001b[0;34m\u001b[0m\u001b[0;34m\u001b[0m\u001b[0m\n\u001b[0m\u001b[1;32m      2\u001b[0m \u001b[0mhref_list\u001b[0m\u001b[0;34m\u001b[0m\u001b[0;34m\u001b[0m\u001b[0m\n",
      "\u001b[0;32m/var/folders/jg/xjfmqdcj0m1bqs1d7sgv9v480000gp/T/ipykernel_63016/2542583958.py\u001b[0m in \u001b[0;36m<listcomp>\u001b[0;34m(.0)\u001b[0m\n\u001b[0;32m----> 1\u001b[0;31m \u001b[0mhref_list\u001b[0m \u001b[0;34m=\u001b[0m \u001b[0;34m[\u001b[0m\u001b[0mhref\u001b[0m\u001b[0;34m.\u001b[0m\u001b[0mget\u001b[0m\u001b[0;34m(\u001b[0m\u001b[0;34m\"href\"\u001b[0m\u001b[0;34m)\u001b[0m \u001b[0;32mfor\u001b[0m \u001b[0mhref\u001b[0m \u001b[0;32min\u001b[0m \u001b[0mall_a_tags\u001b[0m\u001b[0;34m]\u001b[0m\u001b[0;34m\u001b[0m\u001b[0;34m\u001b[0m\u001b[0m\n\u001b[0m\u001b[1;32m      2\u001b[0m \u001b[0mhref_list\u001b[0m\u001b[0;34m\u001b[0m\u001b[0;34m\u001b[0m\u001b[0m\n",
      "\u001b[0;32m~/opt/anaconda3/lib/python3.9/site-packages/bs4/element.py\u001b[0m in \u001b[0;36m__getattr__\u001b[0;34m(self, key)\u001b[0m\n\u001b[1;32m   2251\u001b[0m     \u001b[0;32mdef\u001b[0m \u001b[0m__getattr__\u001b[0m\u001b[0;34m(\u001b[0m\u001b[0mself\u001b[0m\u001b[0;34m,\u001b[0m \u001b[0mkey\u001b[0m\u001b[0;34m)\u001b[0m\u001b[0;34m:\u001b[0m\u001b[0;34m\u001b[0m\u001b[0;34m\u001b[0m\u001b[0m\n\u001b[1;32m   2252\u001b[0m         \u001b[0;34m\"\"\"Raise a helpful exception to explain a common code fix.\"\"\"\u001b[0m\u001b[0;34m\u001b[0m\u001b[0;34m\u001b[0m\u001b[0m\n\u001b[0;32m-> 2253\u001b[0;31m         raise AttributeError(\n\u001b[0m\u001b[1;32m   2254\u001b[0m             \u001b[0;34m\"ResultSet object has no attribute '%s'. You're probably treating a list of elements like a single element. Did you call find_all() when you meant to call find()?\"\u001b[0m \u001b[0;34m%\u001b[0m \u001b[0mkey\u001b[0m\u001b[0;34m\u001b[0m\u001b[0;34m\u001b[0m\u001b[0m\n\u001b[1;32m   2255\u001b[0m         )\n",
      "\u001b[0;31mAttributeError\u001b[0m: ResultSet object has no attribute 'get'. You're probably treating a list of elements like a single element. Did you call find_all() when you meant to call find()?"
     ]
    }
   ],
   "source": [
    "href_list = [href.get(\"href\") for href in all_a_tags]\n",
    "href_list"
   ]
  },
  {
   "cell_type": "markdown",
   "id": "d5dfbfe2",
   "metadata": {},
   "source": [
    "## Why did that break?\n",
    "\n",
    "It broke because we are trying to do an operation that works only on a single item but we are doing it on a list within a list.\n",
    "\n",
    "This for loop clearly reveals you that you are pulling out a list or ```<class 'bs4.element.ResultSet'>``` from the big list:"
   ]
  },
  {
   "cell_type": "code",
   "execution_count": 20,
   "id": "2c68e853",
   "metadata": {},
   "outputs": [
    {
     "name": "stdout",
     "output_type": "stream",
     "text": [
      "<class 'bs4.element.ResultSet'>\n",
      "<class 'bs4.element.ResultSet'>\n"
     ]
    }
   ],
   "source": [
    "for href in all_a_tags:\n",
    "  print(type(href))"
   ]
  },
  {
   "cell_type": "markdown",
   "id": "284a468e",
   "metadata": {},
   "source": [
    "### We need to flatten all_files so it contains indivudal items rather than multiple lists.\n",
    "\n",
    "We'll use ```itertools``` to accomplish that"
   ]
  },
  {
   "cell_type": "code",
   "execution_count": 21,
   "id": "c17fc329",
   "metadata": {},
   "outputs": [],
   "source": [
    "## import itertools\n",
    "import itertools"
   ]
  },
  {
   "cell_type": "code",
   "execution_count": 22,
   "id": "c7448bc4",
   "metadata": {},
   "outputs": [
    {
     "data": {
      "text/plain": [
       "[<a href=\"files/text_doc_01.txt\">1</a>,\n",
       " <a href=\"files/text_doc_02.txt\">2</a>,\n",
       " <a href=\"files/text_doc_03.txt\">3</a>,\n",
       " <a href=\"files/text_doc_04.txt\">4</a>,\n",
       " <a href=\"files/text_doc_05.txt\">5</a>,\n",
       " <a href=\"files/text_doc_06.txt\">6</a>,\n",
       " <a href=\"files/text_doc_07.txt\">7</a>,\n",
       " <a href=\"files/text_doc_08.txt\">8</a>,\n",
       " <a href=\"files/text_doc_09.txt\">9</a>,\n",
       " <a href=\"files/text_doc_10.txt\">10</a>,\n",
       " <a href=\"files/pdf_1.pdf\">1</a>,\n",
       " <a href=\"files/pdf_2.pdf\">2</a>,\n",
       " <a href=\"files/pdf_3.pdf\">3</a>,\n",
       " <a href=\"files/pdf_4.pdf\">4</a>,\n",
       " <a href=\"files/pdf_5.pdf\">5</a>,\n",
       " <a href=\"files/pdf_6.pdf\">6</a>,\n",
       " <a href=\"files/pdf_7.pdf\">7</a>,\n",
       " <a href=\"files/pdf_8.pdf\">8</a>,\n",
       " <a href=\"files/pdf_9.pdf\">9</a>,\n",
       " <a href=\"files/pdf_10.pdf\">10</a>]"
      ]
     },
     "execution_count": 22,
     "metadata": {},
     "output_type": "execute_result"
    }
   ],
   "source": [
    "## use itertools to flatten the list\n",
    "\n",
    "flat_list = list(itertools.chain(*all_a_tags))\n",
    "flat_list"
   ]
  },
  {
   "cell_type": "code",
   "execution_count": 23,
   "id": "1b87448f",
   "metadata": {},
   "outputs": [
    {
     "data": {
      "text/plain": [
       "['files/text_doc_01.txt',\n",
       " 'files/text_doc_02.txt',\n",
       " 'files/text_doc_03.txt',\n",
       " 'files/text_doc_04.txt',\n",
       " 'files/text_doc_05.txt',\n",
       " 'files/text_doc_06.txt',\n",
       " 'files/text_doc_07.txt',\n",
       " 'files/text_doc_08.txt',\n",
       " 'files/text_doc_09.txt',\n",
       " 'files/text_doc_10.txt',\n",
       " 'files/pdf_1.pdf',\n",
       " 'files/pdf_2.pdf',\n",
       " 'files/pdf_3.pdf',\n",
       " 'files/pdf_4.pdf',\n",
       " 'files/pdf_5.pdf',\n",
       " 'files/pdf_6.pdf',\n",
       " 'files/pdf_7.pdf',\n",
       " 'files/pdf_8.pdf',\n",
       " 'files/pdf_9.pdf',\n",
       " 'files/pdf_10.pdf']"
      ]
     },
     "execution_count": 23,
     "metadata": {},
     "output_type": "execute_result"
    }
   ],
   "source": [
    "## now we can target the a tags\n",
    "\n",
    "href_list = [a_tag.get(\"href\") for a_tag in flat_list]\n",
    "href_list"
   ]
  },
  {
   "cell_type": "code",
   "execution_count": 24,
   "id": "c7f98239",
   "metadata": {},
   "outputs": [],
   "source": [
    "## base url\n",
    "base_url = \"https://sandeepmj.github.io/scrape-example-page/\""
   ]
  },
  {
   "cell_type": "code",
   "execution_count": 25,
   "id": "7df1ebd8",
   "metadata": {},
   "outputs": [
    {
     "data": {
      "text/plain": [
       "['https://sandeepmj.github.io/scrape-example-page/files/text_doc_01.txt',\n",
       " 'https://sandeepmj.github.io/scrape-example-page/files/text_doc_02.txt',\n",
       " 'https://sandeepmj.github.io/scrape-example-page/files/text_doc_03.txt',\n",
       " 'https://sandeepmj.github.io/scrape-example-page/files/text_doc_04.txt',\n",
       " 'https://sandeepmj.github.io/scrape-example-page/files/text_doc_05.txt',\n",
       " 'https://sandeepmj.github.io/scrape-example-page/files/text_doc_06.txt',\n",
       " 'https://sandeepmj.github.io/scrape-example-page/files/text_doc_07.txt',\n",
       " 'https://sandeepmj.github.io/scrape-example-page/files/text_doc_08.txt',\n",
       " 'https://sandeepmj.github.io/scrape-example-page/files/text_doc_09.txt',\n",
       " 'https://sandeepmj.github.io/scrape-example-page/files/text_doc_10.txt',\n",
       " 'https://sandeepmj.github.io/scrape-example-page/files/pdf_1.pdf',\n",
       " 'https://sandeepmj.github.io/scrape-example-page/files/pdf_2.pdf',\n",
       " 'https://sandeepmj.github.io/scrape-example-page/files/pdf_3.pdf',\n",
       " 'https://sandeepmj.github.io/scrape-example-page/files/pdf_4.pdf',\n",
       " 'https://sandeepmj.github.io/scrape-example-page/files/pdf_5.pdf',\n",
       " 'https://sandeepmj.github.io/scrape-example-page/files/pdf_6.pdf',\n",
       " 'https://sandeepmj.github.io/scrape-example-page/files/pdf_7.pdf',\n",
       " 'https://sandeepmj.github.io/scrape-example-page/files/pdf_8.pdf',\n",
       " 'https://sandeepmj.github.io/scrape-example-page/files/pdf_9.pdf',\n",
       " 'https://sandeepmj.github.io/scrape-example-page/files/pdf_10.pdf']"
      ]
     },
     "execution_count": 25,
     "metadata": {},
     "output_type": "execute_result"
    }
   ],
   "source": [
    "## iterate and join the base url to the relative url\n",
    "full_link_list = [base_url + href for href in href_list]\n",
    "full_link_list"
   ]
  },
  {
   "cell_type": "markdown",
   "id": "ff577e37",
   "metadata": {},
   "source": [
    "# Downloading the documents\n",
    "We need the ```wget``` package. Let's pip install it:"
   ]
  },
  {
   "cell_type": "code",
   "execution_count": 26,
   "id": "26412632",
   "metadata": {},
   "outputs": [
    {
     "name": "stdout",
     "output_type": "stream",
     "text": [
      "Requirement already satisfied: wget in /Users/sandeepjunnarkar/opt/anaconda3/lib/python3.9/site-packages (3.2)\n",
      "Note: you may need to restart the kernel to use updated packages.\n"
     ]
    }
   ],
   "source": [
    "pip install wget"
   ]
  },
  {
   "cell_type": "code",
   "execution_count": 27,
   "id": "4b3082e9",
   "metadata": {},
   "outputs": [],
   "source": [
    "## import that package\n",
    "import wget"
   ]
  },
  {
   "cell_type": "code",
   "execution_count": 29,
   "id": "fbb1c598",
   "metadata": {},
   "outputs": [
    {
     "name": "stdout",
     "output_type": "stream",
     "text": [
      "Downloading link 1 of 20\n",
      "100% [................................................................] 76 / 76Snoozing for 5 seconds from next link\n",
      "Downloading link 2 of 20\n",
      "100% [................................................................] 66 / 66Snoozing for 3 seconds from next link\n",
      "Downloading link 3 of 20\n",
      "100% [................................................................] 70 / 70Snoozing for 3 seconds from next link\n",
      "Downloading link 4 of 20\n",
      "100% [................................................................] 63 / 63Snoozing for 4 seconds from next link\n",
      "Downloading link 5 of 20\n",
      "100% [................................................................] 66 / 66Snoozing for 5 seconds from next link\n",
      "Downloading link 6 of 20\n",
      "100% [................................................................] 66 / 66Snoozing for 3 seconds from next link\n",
      "Downloading link 7 of 20\n",
      "100% [................................................................] 69 / 69Snoozing for 5 seconds from next link\n",
      "Downloading link 8 of 20\n",
      "100% [................................................................] 65 / 65Snoozing for 4 seconds from next link\n",
      "Downloading link 9 of 20\n",
      "100% [................................................................] 66 / 66Snoozing for 4 seconds from next link\n",
      "Downloading link 10 of 20\n",
      "100% [................................................................] 60 / 60Snoozing for 4 seconds from next link\n",
      "Downloading link 11 of 20\n",
      "100% [..........................................................] 12812 / 12812Snoozing for 5 seconds from next link\n",
      "Downloading link 12 of 20\n",
      "100% [..........................................................] 12897 / 12897Snoozing for 5 seconds from next link\n",
      "Downloading link 13 of 20\n",
      "100% [..........................................................] 12908 / 12908Snoozing for 4 seconds from next link\n",
      "Downloading link 14 of 20\n",
      "100% [..........................................................] 12843 / 12843Snoozing for 3 seconds from next link\n",
      "Downloading link 15 of 20\n",
      "100% [..........................................................] 12881 / 12881Snoozing for 4 seconds from next link\n",
      "Downloading link 16 of 20\n",
      "100% [..........................................................] 12906 / 12906Snoozing for 5 seconds from next link\n",
      "Downloading link 17 of 20\n",
      "100% [..........................................................] 12816 / 12816Snoozing for 3 seconds from next link\n",
      "Downloading link 18 of 20\n",
      "100% [..........................................................] 12921 / 12921Snoozing for 5 seconds from next link\n",
      "Downloading link 19 of 20\n",
      "100% [..........................................................] 12901 / 12901Snoozing for 4 seconds from next link\n",
      "Downloading link 20 of 20\n",
      "100% [..........................................................] 13049 / 13049Snoozing for 3 seconds from next link\n"
     ]
    }
   ],
   "source": [
    "## full scrape of the documents\n",
    "\n",
    "links_number = len(full_link_list)\n",
    "link_count = 1\n",
    "for link in full_link_list:\n",
    "  print(f\"Downloading link {link_count} of {links_number}\")\n",
    "  link_count += 1\n",
    "  wget.download(link)## wget function\n",
    "  snooze = randrange(3, 6)\n",
    "  print(f\"Snoozing for {snooze} seconds from next link\")\n",
    "  time.sleep(snooze)"
   ]
  },
  {
   "cell_type": "markdown",
   "id": "c5de875e",
   "metadata": {},
   "source": [
    "# 2. Universal conversion function\n",
    "Rewrite your function from last week so it can do both:\n",
    "\n",
    "- take individual string values like ```$12.24267```, ```10,201``` and ```$12,501``` and convert them into floating point numbers like 12.24, 10201.0 and 12501.0\n",
    "\n",
    "- take string values in lists and convert them to floating point numbers. (reminder: you use a map function).\n",
    "\n",
    "Test it on the numbers above and in this list:"
   ]
  },
  {
   "cell_type": "code",
   "execution_count": 6,
   "id": "e6abb2f6",
   "metadata": {},
   "outputs": [],
   "source": [
    "## list of string numbers\n",
    "string_numbers = [\"$12.24267\", \"10,201\", \"$12,501\", \"42,901\", \"$902,091\"]"
   ]
  },
  {
   "cell_type": "code",
   "execution_count": 7,
   "id": "c46ef8a2",
   "metadata": {},
   "outputs": [],
   "source": [
    "## FUNCTION\n",
    "def string2float(a_string):\n",
    "    '''\n",
    "    Function to remove commas and $ and return a floating number\n",
    "    para1: string\n",
    "    '''\n",
    "    a_string = a_string.replace(\"$\", \"\").replace(\",\", \"\") \n",
    "    return round(float(a_string), 2)"
   ]
  },
  {
   "cell_type": "code",
   "execution_count": 8,
   "id": "38210807",
   "metadata": {},
   "outputs": [
    {
     "data": {
      "text/plain": [
       "42901.0"
      ]
     },
     "execution_count": 8,
     "metadata": {},
     "output_type": "execute_result"
    }
   ],
   "source": [
    "## still works on individual string number?\n",
    "string2float(\"$42,901\")"
   ]
  },
  {
   "cell_type": "code",
   "execution_count": 9,
   "id": "ebaf830e",
   "metadata": {},
   "outputs": [
    {
     "data": {
      "text/plain": [
       "[12.24, 10201.0, 12501.0, 42901.0, 902091.0]"
      ]
     },
     "execution_count": 9,
     "metadata": {},
     "output_type": "execute_result"
    }
   ],
   "source": [
    "list(map(string2float, string_numbers))"
   ]
  },
  {
   "cell_type": "code",
   "execution_count": null,
   "id": "85915412",
   "metadata": {},
   "outputs": [],
   "source": []
  }
 ],
 "metadata": {
  "kernelspec": {
   "display_name": "Python 3 (ipykernel)",
   "language": "python",
   "name": "python3"
  },
  "language_info": {
   "codemirror_mode": {
    "name": "ipython",
    "version": 3
   },
   "file_extension": ".py",
   "mimetype": "text/x-python",
   "name": "python",
   "nbconvert_exporter": "python",
   "pygments_lexer": "ipython3",
   "version": "3.9.7"
  }
 },
 "nbformat": 4,
 "nbformat_minor": 5
}
