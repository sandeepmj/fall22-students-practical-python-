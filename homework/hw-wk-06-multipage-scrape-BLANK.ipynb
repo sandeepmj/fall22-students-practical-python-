{
 "cells": [
  {
   "cell_type": "markdown",
   "metadata": {
    "id": "mBfDX-GhmJg3"
   },
   "source": [
    "## 1. Multipage Tabular Scrape\n",
    "\n",
    "- <a href=\"https://apps.health.ny.gov/pubdoh/professionals/doctors/conduct/factions/AllRecordsAction.action\">On this site</a>, scrape all doctors whose last names begin with \"Z\".\n",
    "- Export the content into a CSV file called ```md_Z.csv```.\n"
   ]
  },
  {
   "cell_type": "code",
   "execution_count": null,
   "metadata": {
    "id": "wq2tpZ1zmJg9"
   },
   "outputs": [],
   "source": [
    "### add more cells as needed"
   ]
  },
  {
   "cell_type": "markdown",
   "metadata": {},
   "source": [
    "## 2. Convertion function\n",
    "\n",
    "\n",
    "Write a function that takes string values like ```$12.24267```, ```10,201``` and ```$12,501``` and converts them into floating point numbers like ```12.24```, ```10201.0``` and ```12501.0```\n",
    "\n",
    "Test it out on those 3 string values.\n",
    "\n",
    "\n"
   ]
  },
  {
   "cell_type": "code",
   "execution_count": 8,
   "metadata": {},
   "outputs": [],
   "source": [
    "### add more cells as needed"
   ]
  }
 ],
 "metadata": {
  "colab": {
   "collapsed_sections": [],
   "name": "hw-for-wk-07-multipage-scrape_BLANK.ipynb",
   "provenance": [
    {
     "file_id": "1rWfxGrjG6s4Mcgj8w5zSWGGE50dBFdJq",
     "timestamp": 1649162503458
    },
    {
     "file_id": "1DbZcgsBT6pdgBS2flQvUzVncxiQAa6eT",
     "timestamp": 1638378958457
    },
    {
     "file_id": "133arYwjAcfDcgyKFyY3rRjMOy7jZCr6n",
     "timestamp": 1627439497801
    }
   ]
  },
  "kernelspec": {
   "display_name": "Python 3 (ipykernel)",
   "language": "python",
   "name": "python3"
  },
  "language_info": {
   "codemirror_mode": {
    "name": "ipython",
    "version": 3
   },
   "file_extension": ".py",
   "mimetype": "text/x-python",
   "name": "python",
   "nbconvert_exporter": "python",
   "pygments_lexer": "ipython3",
   "version": "3.9.7"
  }
 },
 "nbformat": 4,
 "nbformat_minor": 1
}
