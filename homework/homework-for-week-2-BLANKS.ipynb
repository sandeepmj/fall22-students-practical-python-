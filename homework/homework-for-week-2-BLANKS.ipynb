{
 "cells": [
  {
   "cell_type": "markdown",
   "metadata": {
    "id": "R6SmhOOxaFTn"
   },
   "source": [
    "# Homework for Week 2\n"
   ]
  },
  {
   "cell_type": "markdown",
   "metadata": {
    "id": "FtBGyPEuaFTo"
   },
   "source": [
    "## Working with Numbers"
   ]
  },
  {
   "cell_type": "code",
   "execution_count": 1,
   "metadata": {
    "executionInfo": {
     "elapsed": 4,
     "status": "ok",
     "timestamp": 1624167860087,
     "user": {
      "displayName": "Simon Flint",
      "photoUrl": "",
      "userId": "02646992036611334266"
     },
     "user_tz": -480
    },
    "id": "RPtXtDhEaFTp"
   },
   "outputs": [],
   "source": [
    "## create a variable called sales equal to 45.3 million\n",
    "## print it as \"Sales totalled $45,300,000 in 2019\" using f-string literal (0 decimal places)\n",
    "## use thousands separator/digit group separator to make it easier to read\n"
   ]
  },
  {
   "cell_type": "code",
   "execution_count": null,
   "metadata": {
    "id": "ECSh04wFaFTt"
   },
   "outputs": [],
   "source": [
    "## create a variable called apple_cap equal to $1.41 trillion in scientific notation\n",
    "## Print it like you did above but to no decimal places.\n"
   ]
  },
  {
   "cell_type": "markdown",
   "metadata": {
    "id": "qUiBkO2LaFTw"
   },
   "source": [
    "## Working with Lists"
   ]
  },
  {
   "cell_type": "code",
   "execution_count": null,
   "metadata": {
    "id": "XvSKlFugaFTx"
   },
   "outputs": [],
   "source": [
    "## Combine the two lists into a single list called combined_list\n",
    "terms_1 = [\"Bankruptcy\", \"Mergers\", \"Acquisitions\"]\n",
    "terms_2 = [\"Short selling\", \"Liquidations\", \"Equity\"]\n"
   ]
  },
  {
   "cell_type": "markdown",
   "metadata": {
    "id": "9D2piamnaFT0"
   },
   "source": [
    "## Working with List of Dictionaries\n",
    "\n",
    "#### Create a list of dictionaries called \"donations\" using the content from the image below:\n",
    "\n",
    "![alt text](https://raw.githubusercontent.com/sandeepmj/practical_python_exercises/master/support_files/donors.png)\n",
    "\n",
    "\n",
    "\n",
    "## If you want to copy and paste the content, click <a href=\"https://github.com/sandeepmj/practical_python_exercises/blob/master/support_files/giving.xlsx?raw=true\" target=\"blank\">here</a> to download the Excel file.\n",
    "More instructions in the next cell:"
   ]
  },
  {
   "cell_type": "code",
   "execution_count": null,
   "metadata": {
    "id": "_y4IeSSMaFT1"
   },
   "outputs": [],
   "source": [
    "\n",
    "## You may copy the contents of each cell in the XLSX file, but...\n",
    "## ...type out all the code.\n",
    "##print or call the list of dictionaries\n"
   ]
  },
  {
   "cell_type": "code",
   "execution_count": null,
   "metadata": {
    "id": "CyZqlARYaFT4"
   },
   "outputs": [],
   "source": [
    "## How many items are in this list?\n",
    "## Don't just manually count them.\n",
    "## There will come a time when you will have thousands of items!\n"
   ]
  },
  {
   "cell_type": "code",
   "execution_count": null,
   "metadata": {
    "id": "DPBk1u92aFT8"
   },
   "outputs": [],
   "source": [
    "## How many key/value pairs are there in the last dictionary\n"
   ]
  },
  {
   "cell_type": "code",
   "execution_count": null,
   "metadata": {
    "id": "lwWbCgqTaFT_"
   },
   "outputs": [],
   "source": [
    "## Add one more key/value pair to the first dictionary in the list\n",
    "## Add: \"category\": \"youth\"\n"
   ]
  },
  {
   "cell_type": "code",
   "execution_count": null,
   "metadata": {
    "id": "yz3szN8PaFUC"
   },
   "outputs": [],
   "source": [
    "## Show the 3rd item in the list (including keys and values)\n"
   ]
  },
  {
   "cell_type": "code",
   "execution_count": null,
   "metadata": {
    "id": "l7nVl-yKaFUF"
   },
   "outputs": [],
   "source": [
    "##show the 2nd through last:\n"
   ]
  },
  {
   "cell_type": "code",
   "execution_count": null,
   "metadata": {
    "id": "L3rz8Y3_aFUI"
   },
   "outputs": [],
   "source": [
    "## Go full circle and create a list that holds just the column headers.\n",
    "## Call that list \"csv_columns\"\n",
    "## print the list\n"
   ]
  },
  {
   "cell_type": "markdown",
   "metadata": {
    "id": "v5c9PH1aaFUL"
   },
   "source": [
    "### Removing items from a dictionary\n",
    "We realize the first item in the list of dictionaries is the only one with \"category\" key. "
   ]
  },
  {
   "cell_type": "code",
   "execution_count": null,
   "metadata": {
    "id": "NgmwK6x6aFUL"
   },
   "outputs": [],
   "source": [
    "## Remove that single key/value pair prior to the next task.\n"
   ]
  },
  {
   "cell_type": "code",
   "execution_count": null,
   "metadata": {
    "id": "Bcr0BCclaFUO"
   },
   "outputs": [],
   "source": [
    "## Create the column headers again\n",
    "## Call that list \"csv_columns\"\n",
    "## print the list\n"
   ]
  },
  {
   "cell_type": "markdown",
   "metadata": {
    "id": "p_kTKQuVaFUR"
   },
   "source": [
    "### What are relevant journalistic uses for the various methods above?\n",
    "\n",
    "#### 1. Making numbers more readable (using f-string literal formatting)\n",
    "#### 2. Organizing data points after acquiring them through scraping (creating lists, dictionaries and lists of dictionaries)\n",
    "#### 3. Confirming that we have unique values (or removing duplicates in a data set)\n",
    "#### 4. Creating column headers to prepare data for export to a CSV file"
   ]
  }
 ],
 "metadata": {
  "colab": {
   "name": "homework-for-week-2-BLANKS.ipynb",
   "provenance": []
  },
  "kernelspec": {
   "display_name": "Python 3 (ipykernel)",
   "language": "python",
   "name": "python3"
  },
  "language_info": {
   "codemirror_mode": {
    "name": "ipython",
    "version": 3
   },
   "file_extension": ".py",
   "mimetype": "text/x-python",
   "name": "python",
   "nbconvert_exporter": "python",
   "pygments_lexer": "ipython3",
   "version": "3.9.7"
  }
 },
 "nbformat": 4,
 "nbformat_minor": 1
}
