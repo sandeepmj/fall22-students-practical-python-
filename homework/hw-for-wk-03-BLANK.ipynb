{
 "cells": [
  {
   "cell_type": "markdown",
   "metadata": {
    "id": "Dz4lidEcC-wu"
   },
   "source": [
    "# Homework for Week 3\n",
    "\n",
    "The goal for this homework is to see the relevant journalistic uses for what we learned in class in week 4.\n",
    "\n",
    "1. Using the power of automation for iterate through tedious, but important tasks.\n",
    "2. Tapping Python to iterate through calculations. In a few weeks, you'll be doing this on millions of rows.\n",
    "3. Allowing us to slow down how fast our code runs to avoid detection or being blocked when we start scraping websites!\n",
    "4. Facilitating how we take a larger dataset and to subset it to useful targetted values."
   ]
  },
  {
   "cell_type": "markdown",
   "metadata": {},
   "source": [
    "## 1. Counter\n",
    "* Build a counter that counts from 2 to 10, but only even numbers.\n",
    "* Print the counter numbers in statement that reads: \"The even number is [whatever the even number is]\".\n",
    "* Once it reaches 10, it should print \"Done counting from 2 to 10 even numbers!\""
   ]
  },
  {
   "cell_type": "code",
   "execution_count": null,
   "metadata": {},
   "outputs": [],
   "source": [
    "## build here:\n"
   ]
  },
  {
   "cell_type": "markdown",
   "metadata": {},
   "source": [
    "## 2. Build a counter with a timer\n",
    "* Add a timer to the previous code so it runs every 3 to 15 seconds"
   ]
  },
  {
   "cell_type": "code",
   "execution_count": null,
   "metadata": {},
   "outputs": [],
   "source": [
    "## build here:\n"
   ]
  },
  {
   "cell_type": "markdown",
   "metadata": {
    "id": "EEXSVGi2C-w4"
   },
   "source": [
    "## 3.  Combine different data points together \n",
    "\n",
    "#### You scrape some URLs and place them in a list called myURLS (provided below):\n"
   ]
  },
  {
   "cell_type": "code",
   "execution_count": null,
   "metadata": {
    "id": "mQwOrDIWC-w4"
   },
   "outputs": [],
   "source": [
    "## run this cell to activate the list\n",
    "myURLS = [\n",
    "    'great-unique-data-1.html',\n",
    "    'great-unique-data-2.html',\n",
    "    'great-unique-data-3.html',\n",
    "    'great-unique-data-4.html',\n",
    "    'great-unique-data-5.html',\n",
    "    'great-unique-data-6.html',\n",
    "    'great-unique-data-7.html',\n",
    "    'great-unique-data-8.html',\n",
    "    'great-unique-data-9.html',\n",
    "    'great-unique-data-10.html',\n",
    "    'great-unique-data-11.html',\n",
    "    'great-unique-data-12.html',\n",
    "    'great-unique-data-13.html',\n",
    "    'great-unique-data-14.html',\n",
    "    'great-unique-data-15.html'\n",
    "]\n"
   ]
  },
  {
   "cell_type": "code",
   "execution_count": null,
   "metadata": {
    "colab": {
     "base_uri": "https://localhost:8080/"
    },
    "id": "XGrsmmioC-w4",
    "outputId": "daf42c56-696e-45c5-daec-967ea4801db2"
   },
   "outputs": [],
   "source": [
    "## CALL myURLS to check it out\n"
   ]
  },
  {
   "cell_type": "markdown",
   "metadata": {
    "id": "_W4WZ9-_C-w5"
   },
   "source": [
    "### * You realize that these URLs are missing the base of \"http://www.importantsite.com/\"\n",
    "### * Use a ```for loop``` to join the base URL to every partial URL in your list.\n",
    "### * Print each FULL URL\n",
    "It should look like: ```\"http://www.importantsite.com/great-unique-data-14.html``` but with unique numbers"
   ]
  },
  {
   "cell_type": "code",
   "execution_count": null,
   "metadata": {
    "colab": {
     "base_uri": "https://localhost:8080/"
    },
    "id": "hFqX3JypC-w5",
    "outputId": "7322e6a3-c720-455b-e9fe-965e185f51bf"
   },
   "outputs": [],
   "source": [
    "## build here:\n",
    "\n",
    "    "
   ]
  },
  {
   "cell_type": "code",
   "execution_count": null,
   "metadata": {
    "colab": {
     "base_uri": "https://localhost:8080/"
    },
    "id": "g-DNZj4OC-w5",
    "outputId": "d6a7b497-56fb-47bd-aed1-4f9cd19ae2a2"
   },
   "outputs": [],
   "source": [
    "## call myURLS.\n",
    "## do they have the full url?\n"
   ]
  },
  {
   "cell_type": "markdown",
   "metadata": {
    "id": "fM6-d1hXC-w5"
   },
   "source": [
    "## 4. Update myURLS and store full URLS in a new list\n",
    "\n",
    "#### * Instead of just printing the joined URLs, create a new list called ```full_URLS`` that holds the full URLs."
   ]
  },
  {
   "cell_type": "code",
   "execution_count": null,
   "metadata": {
    "colab": {
     "base_uri": "https://localhost:8080/"
    },
    "id": "vggh0aYAC-w5",
    "outputId": "7e1f46d1-0b1c-4784-c838-798bea161370"
   },
   "outputs": [],
   "source": [
    "## build here:\n"
   ]
  },
  {
   "cell_type": "markdown",
   "metadata": {},
   "source": [
    "## 5. You have a long list of toxins. Run the next cell to pull the list into memory"
   ]
  },
  {
   "cell_type": "code",
   "execution_count": null,
   "metadata": {},
   "outputs": [],
   "source": [
    "toxins = [\n",
    "        \"Recombinant Bovine Growth Hormone\", \n",
    "        \"Butylated Hydroxyanisole\", \n",
    "        \"Sodium Aluminum Sulphate\",\n",
    "        \"Potassium Aluminum Sulphate\",\n",
    "        \"Sodium Nitrite\",\n",
    "        \"Polycyclic Aromatic Hydrocarbons\",\n",
    "        \"Dioxins\",\n",
    "        \"Heterocyclic Amines\",\n",
    "        \"Butylated Hydroxytoluene\",\n",
    "        \"Polyvinyl Chloride\",\n",
    "        \"PVC\",\n",
    "        \"Perfluorooctanoic Acid\",\n",
    "        \"PFOA\",\n",
    "        \"Triclosan\",\n",
    "        \"Bisphenol-A\",\n",
    "        \"BPA\",\n",
    "        \"Formaldehyde\",\n",
    "        \"Naphthalene\",\n",
    "        \"Asbestos\"\n",
    "         ]"
   ]
  },
  {
   "cell_type": "markdown",
   "metadata": {},
   "source": [
    "You realize that the toxins from \"Polyvinyl Chloride\" to the end of the list are hormone disruptors.\n",
    "\n",
    "Programmatically create a new list using List Comprehension called ```hormone_inhibitors``` that includes all the chemicals from \"Polyvinyl Chloride\" to \"Asbestos\".\n",
    "\n",
    "- Do NOT manually count to figure out the index position of \"Polyvinyl Chloride\".\n",
    "- Do NOT manually type out a new list."
   ]
  },
  {
   "cell_type": "code",
   "execution_count": null,
   "metadata": {},
   "outputs": [],
   "source": [
    "### answer here (create more cells if necessary)\n",
    "## we can figure out the position for \"Polyvinyl Chloride\"\n"
   ]
  },
  {
   "cell_type": "code",
   "execution_count": null,
   "metadata": {},
   "outputs": [],
   "source": [
    "## in one line we can call the index position all the way to the end.\n"
   ]
  },
  {
   "cell_type": "markdown",
   "metadata": {},
   "source": [
    "## 4. Using a ```for loop``` create a list called ```sodium_fl``` that captures only the toxins that have the word ```sodium``` in them."
   ]
  },
  {
   "cell_type": "code",
   "execution_count": null,
   "metadata": {},
   "outputs": [],
   "source": [
    "## build it here\n",
    "\n"
   ]
  },
  {
   "cell_type": "markdown",
   "metadata": {},
   "source": [
    "## 5. Using a ```list comprehension``` create a list called ```sodium_lc``` that captures only the toxins that have the word ```sodium``` in them."
   ]
  },
  {
   "cell_type": "code",
   "execution_count": null,
   "metadata": {
    "colab": {
     "base_uri": "https://localhost:8080/"
    },
    "id": "1_IubbqlC-w4",
    "outputId": "b680eae8-4ed3-4e0f-bf4b-f96ca0a17f46"
   },
   "outputs": [],
   "source": [
    "## build here: \n",
    "\n"
   ]
  },
  {
   "cell_type": "markdown",
   "metadata": {},
   "source": [
    "## 6. ```for loop``` Calculations\n",
    "\n",
    "Run the following list:"
   ]
  },
  {
   "cell_type": "code",
   "execution_count": null,
   "metadata": {},
   "outputs": [],
   "source": [
    "## run this cell\n",
    "monthly_rent_2022 = [3500, 2700, 1200, 5000, 3500, 2000, 4300, 3400, 3900 ]"
   ]
  },
  {
   "cell_type": "markdown",
   "metadata": {},
   "source": [
    "### In this fast gentrifying neighborhood, the monthly rent will increase by 27.8 percent for 2023.  Using a ```for loop``` create a new list called ```monthly_rent_2023_fl``` that shows the increased rent rounded to ZERO decimal places. \n",
    "\n",
    "Do the calculation programmatically."
   ]
  },
  {
   "cell_type": "code",
   "execution_count": null,
   "metadata": {},
   "outputs": [],
   "source": [
    "### answer here (create more cells if necessary)\n"
   ]
  },
  {
   "cell_type": "markdown",
   "metadata": {},
   "source": [
    "## 7. ```list comprehension``` Calculation\n",
    "\n",
    "The same scenario as above but now create a list called ```monthly_rent_2023_lc``` using ```list comprehension```."
   ]
  },
  {
   "cell_type": "code",
   "execution_count": null,
   "metadata": {},
   "outputs": [],
   "source": [
    "### answer here (create more cells if necessary)\n",
    "\n"
   ]
  },
  {
   "cell_type": "markdown",
   "metadata": {},
   "source": [
    "## Congratulations!\n",
    "\n",
    "You just harnessed the power of Python to accomplish the following tasks that are critical foundational skills to become an advanced data journalist:\n",
    "\n",
    "1. Using the power of automation for iterate through tedious, but important tasks.\n",
    "2. Tapping Python to iterate through calculations. In a few weeks, you'll be doing this on millions of rows.\n",
    "3. Allowing us to slow down how fast our code runs to avoid detection or being blocked when we start scraping websites!\n",
    "4. Facilitating how we take a larger dataset and to subset it to useful targetted values."
   ]
  },
  {
   "cell_type": "code",
   "execution_count": null,
   "metadata": {},
   "outputs": [],
   "source": []
  }
 ],
 "metadata": {
  "colab": {
   "collapsed_sections": [],
   "name": "homework-for-week-3-SOLUTIONS.ipynb",
   "provenance": []
  },
  "kernelspec": {
   "display_name": "Python 3 (ipykernel)",
   "language": "python",
   "name": "python3"
  },
  "language_info": {
   "codemirror_mode": {
    "name": "ipython",
    "version": 3
   },
   "file_extension": ".py",
   "mimetype": "text/x-python",
   "name": "python",
   "nbconvert_exporter": "python",
   "pygments_lexer": "ipython3",
   "version": "3.9.7"
  }
 },
 "nbformat": 4,
 "nbformat_minor": 1
}
