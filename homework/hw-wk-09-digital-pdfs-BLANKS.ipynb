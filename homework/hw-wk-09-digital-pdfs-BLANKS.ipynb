{
 "cells": [
  {
   "cell_type": "markdown",
   "metadata": {
    "id": "Bwcv3o39z82D"
   },
   "source": [
    "# Multi-State FUDS \n",
    "\n",
    "- Access <a href=\"https://drive.google.com/file/d/14K4jDu7Uj07x2kWKAPrGyxLhSK0juQry/view?usp=share_link\">homework_fuds.zip</a>.\n",
    "\n",
    "- Manually unzip this file.\n",
    "\n",
    "- Write a script that finds only the pdf files and parses all the tables...\n",
    "\n",
    "- The final product should be a single csv file that contains the FUDS data for all states. (As we noted in class, West Virginian folder includes Wyoming rows).\n",
    "\n",
    "- You do NOT need to clean the data. Simply get it into a single CSV."
   ]
  },
  {
   "cell_type": "markdown",
   "metadata": {
    "id": "5Qa2xGCTanDn"
   },
   "source": [
    "## create more cells as needed"
   ]
  },
  {
   "cell_type": "code",
   "execution_count": null,
   "metadata": {},
   "outputs": [],
   "source": []
  }
 ],
 "metadata": {
  "colab": {
   "collapsed_sections": [],
   "name": "hw-for-wk-10_PDF_tables_BLANKS.ipynb",
   "provenance": [
    {
     "file_id": "1wg0YVtXmNCitc4w6uc5JPkgU-ClcvGMS",
     "timestamp": 1650994330586
    },
    {
     "file_id": "1MrdlZuCQoMZlOzSH_9PPnS7wKLyKd9Uu",
     "timestamp": 1648598050371
    },
    {
     "file_id": "196JJpHRuv93U2Gbk42KuRmdgcGxD5CZi",
     "timestamp": 1642004668363
    },
    {
     "file_id": "1QL028jjf1V-PUTI9nD7yhW30LzkHXoBW",
     "timestamp": 1629247713779
    },
    {
     "file_id": "1brhRlLl140JrcbstAHiRC_GWE68faqDg",
     "timestamp": 1622048738498
    }
   ]
  },
  "kernelspec": {
   "display_name": "Python 3 (ipykernel)",
   "language": "python",
   "name": "python3"
  },
  "language_info": {
   "codemirror_mode": {
    "name": "ipython",
    "version": 3
   },
   "file_extension": ".py",
   "mimetype": "text/x-python",
   "name": "python",
   "nbconvert_exporter": "python",
   "pygments_lexer": "ipython3",
   "version": "3.9.7"
  }
 },
 "nbformat": 4,
 "nbformat_minor": 1
}
