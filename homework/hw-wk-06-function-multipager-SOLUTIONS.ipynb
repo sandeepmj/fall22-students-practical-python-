{
 "cells": [
  {
   "cell_type": "markdown",
   "metadata": {
    "id": "-IEvCI2wk7DC"
   },
   "source": [
    "## Multipage Tabular Scrape\n",
    "\n",
    "- <a href=\"https://apps.health.ny.gov/pubdoh/professionals/doctors/conduct/factions/AllRecordsAction.action\">On this site</a>, scrape all doctors whose last name begins with \"Z\".\n",
    "- Export the content into a CSV file called ```md_Z.csv```.\n"
   ]
  },
  {
   "cell_type": "markdown",
   "metadata": {},
   "source": [
    "### Our strategic approach:\n",
    "\n",
    "There are at least two approaches.\n",
    "\n",
    "#### Approach 1. \n",
    "\n",
    "Scrape ALL the pages with ALL the names and then use pandas to filter for names that begin with Z. This works but forces us to hit the site harder and for longer.\n",
    "\n",
    "#### Approach 2. \n",
    "\n",
    "We notice that we can scrape also filter the results by specific letter. When we click on Z and examine the url:\n",
    "\n",
    "```https://apps.health.ny.gov/pubdoh/professionals/doctors/conduct/factions/AlphabetSearchAction.action?alpbhabetSearch=Z```\n",
    "\n",
    "We click on 2 in the pagination for this result and we get:\n",
    "\n",
    "```https://apps.health.ny.gov/pubdoh/professionals/doctors/conduct/factions/AlphabetSearchAction.action?alpbhabetSearch=Z&d-49653-p=2```\n",
    "\n",
    "\n",
    "Note that very last few characters. We ask, can we replace the 2 with a 1?\n",
    "\n",
    "```https://apps.health.ny.gov/pubdoh/professionals/doctors/conduct/factions/AlphabetSearchAction.action?alpbhabetSearch=Z&d-49653-p=1```\n",
    "\n",
    "And indeed it works.\n",
    "\n",
    "#### We realize we just have to scrape this link but we replace the page number with a placeholder!\n"
   ]
  },
  {
   "cell_type": "code",
   "execution_count": null,
   "metadata": {
    "id": "w5nL7cSuk7DC"
   },
   "outputs": [],
   "source": [
    "## IMPORT LIBRARIES\n",
    "\n",
    "import requests\n",
    "from bs4 import BeautifulSoup \n",
    "import pandas as pd\n",
    "from random import randrange\n",
    "import time"
   ]
  },
  {
   "cell_type": "code",
   "execution_count": null,
   "metadata": {
    "id": "0GpbzXJ7TCXf"
   },
   "outputs": [],
   "source": [
    "## test out a single \n",
    "url = \"https://apps.health.ny.gov/pubdoh/professionals/doctors/conduct/factions/AlphabetSearchAction.action?alpbhabetSearch=Z&d-49653-p=1\"\n",
    "\n"
   ]
  },
  {
   "cell_type": "code",
   "execution_count": null,
   "metadata": {
    "colab": {
     "base_uri": "https://localhost:8080/"
    },
    "id": "xTerbGODTIE2",
    "outputId": "c0139d6f-a263-4b3a-a6b5-4a1031c34db5"
   },
   "outputs": [],
   "source": [
    "## request url and store in page\n",
    "## check status code\n",
    "response = requests.get(url)\n",
    "response.status_code"
   ]
  },
  {
   "cell_type": "code",
   "execution_count": null,
   "metadata": {
    "colab": {
     "base_uri": "https://localhost:8080/"
    },
    "id": "P2GCGrKYTU8-",
    "outputId": "aade4b44-0d1b-46bd-b315-f157b4eef5d1"
   },
   "outputs": [],
   "source": [
    "## scrape table from page using Pandas\n",
    "df_list = pd.read_html(response.text)\n",
    "df_list"
   ]
  },
  {
   "cell_type": "code",
   "execution_count": null,
   "metadata": {
    "colab": {
     "base_uri": "https://localhost:8080/"
    },
    "id": "mCWdn3sFv2YA",
    "outputId": "aa6bb0fd-52ac-44d3-c696-7fcb323c66f6"
   },
   "outputs": [],
   "source": [
    "len(df_list)"
   ]
  },
  {
   "cell_type": "code",
   "execution_count": null,
   "metadata": {
    "colab": {
     "base_uri": "https://localhost:8080/",
     "height": 904
    },
    "id": "uhkPAiKOTxmF",
    "outputId": "78f57619-c418-497d-d6da-3bdeb43ce85b"
   },
   "outputs": [],
   "source": [
    "## df_list[0] is close but notice index 20 and 21 have some non-essential info\n",
    "df_list[0]"
   ]
  },
  {
   "cell_type": "code",
   "execution_count": null,
   "metadata": {
    "colab": {
     "base_uri": "https://localhost:8080/",
     "height": 755
    },
    "id": "q8oP5pH9Tljf",
    "outputId": "fea67f36-5dd6-454b-960c-891e2afec4ad"
   },
   "outputs": [],
   "source": [
    "## we need to target df_list[1] which does not contain that info\n",
    "df_list[1]"
   ]
  },
  {
   "cell_type": "markdown",
   "metadata": {
    "id": "cEHel8V0UGLb"
   },
   "source": [
    "## Now gets scrape to iterate through all pages"
   ]
  },
  {
   "cell_type": "code",
   "execution_count": null,
   "metadata": {
    "id": "B5oyblgUk7DC"
   },
   "outputs": [],
   "source": [
    "## URL with placeholder \n",
    "url = \"https://apps.health.ny.gov/pubdoh/professionals/doctors/conduct/factions/AlphabetSearchAction.action?alpbhabetSearch=Z&d-49653-p={}\""
   ]
  },
  {
   "cell_type": "code",
   "execution_count": null,
   "metadata": {
    "colab": {
     "base_uri": "https://localhost:8080/"
    },
    "id": "YrWZvRHmk7DD",
    "outputId": "87685788-ee3b-4db1-8065-5bdbad8bac22"
   },
   "outputs": [],
   "source": [
    "## Combined url timed nav with table scrape\n",
    "\n",
    "total_pages = 6 ## number of pages we want to scrape\n",
    "df_all = [] ## list that will hold all the dataframes that are produced\n",
    "for url_number in range(1,total_pages):\n",
    "    link = url.format(url_number)\n",
    "    page = requests.get(link)\n",
    "    if response.status_code == 200:\n",
    "        print(f\"got it...scraping page...{link}\")\n",
    "        df_list = pd.read_html(response.text) ## turn html table into a df using pandas\n",
    "        df_all.append(df_list[1]) ## append table in index position 1 to a list\n",
    "        ## let's not forget to snooze\n",
    "        snooze = randrange(5,7)\n",
    "        print(f\"snoozing for {snooze} seconds before scraping next link.\")\n",
    "        time.sleep(snooze)\n",
    "\n",
    "    else:\n",
    "        print(f\"oh no! {link} returned:\", page.status_code)\n",
    "        \n",
    "df_all ## what does our list look like"
   ]
  },
  {
   "cell_type": "code",
   "execution_count": null,
   "metadata": {
    "colab": {
     "base_uri": "https://localhost:8080/",
     "height": 738
    },
    "id": "Wxsd8jfQk7DD",
    "outputId": "a09ecfd2-4037-4ad8-9b18-6f48d61fface"
   },
   "outputs": [],
   "source": [
    "## What does each dataframe hold in our list of dataframes\n",
    "df_all[1]"
   ]
  },
  {
   "cell_type": "markdown",
   "metadata": {},
   "source": [
    "## Combine dataframes and export\n",
    "##### OPTION 1 - via a function\n",
    "\n",
    "We use the function we wrote last week that takes a list of dataframes, concats them and exports to a single csv:"
   ]
  },
  {
   "cell_type": "code",
   "execution_count": null,
   "metadata": {
    "id": "1q5hjcRSk7DE"
   },
   "outputs": [],
   "source": [
    "## FUNCTION to download individual dataframes in a list as a single csv\n",
    "def process_lists(list_name, filename):\n",
    "    df = pd.concat(list_name, ignore_index = True)\n",
    "    df.to_csv(filename, encoding = \"UTF-8\", index = False)\n",
    "    print(f\"{filename} is in your current folder\")\n",
    "    return df"
   ]
  },
  {
   "cell_type": "code",
   "execution_count": null,
   "metadata": {
    "colab": {
     "base_uri": "https://localhost:8080/"
    },
    "id": "2gECcgYtk7DE",
    "outputId": "a52228e5-7359-4673-f4a4-638e1c0d0e7d"
   },
   "outputs": [],
   "source": [
    "## call our function\n",
    "process_lists(df_all, \"md_Z.csv\")"
   ]
  },
  {
   "cell_type": "markdown",
   "metadata": {},
   "source": [
    "#### OPTION 2 - manual combining and export"
   ]
  },
  {
   "cell_type": "code",
   "execution_count": null,
   "metadata": {},
   "outputs": [],
   "source": [
    "df = pd.concat(df_all, ignore_index = True)\n",
    "df.to_csv(\"md_Z_2.csv\", encoding = \"UTF-8\", index = False)"
   ]
  },
  {
   "cell_type": "markdown",
   "metadata": {},
   "source": [
    "## 2. Conversion function\n",
    "\n",
    "\n",
    "Write a function that takes string values like ```$12.24267```, ```10,201``` and ```$12,501``` and converts them into floating point numbers like ```12.24```, ```10201.0``` and ```12501.0```\n",
    "\n",
    "Test it out on those 3 string values.\n"
   ]
  },
  {
   "cell_type": "code",
   "execution_count": null,
   "metadata": {},
   "outputs": [],
   "source": [
    "## write function\n",
    "\n",
    "def string2float(a_string):\n",
    "    ## remove $ sign and comma\n",
    "    a_string = a_string.replace(\"$\", \"\").replace(\",\", \"\") \n",
    "    ## return what is converted to float and rounded\n",
    "    return round(float(a_string), 2)"
   ]
  },
  {
   "cell_type": "code",
   "execution_count": null,
   "metadata": {},
   "outputs": [],
   "source": [
    "## test it out on the numbers provided\n",
    "\n",
    "string2float(\"$12.24267\")"
   ]
  },
  {
   "cell_type": "code",
   "execution_count": null,
   "metadata": {},
   "outputs": [],
   "source": [
    "string2float(\"10,201\")"
   ]
  },
  {
   "cell_type": "code",
   "execution_count": null,
   "metadata": {},
   "outputs": [],
   "source": [
    "string2float(\"$12,501\")"
   ]
  },
  {
   "cell_type": "code",
   "execution_count": null,
   "metadata": {},
   "outputs": [],
   "source": []
  }
 ],
 "metadata": {
  "colab": {
   "collapsed_sections": [],
   "provenance": []
  },
  "kernelspec": {
   "display_name": "Python 3 (ipykernel)",
   "language": "python",
   "name": "python3"
  },
  "language_info": {
   "codemirror_mode": {
    "name": "ipython",
    "version": 3
   },
   "file_extension": ".py",
   "mimetype": "text/x-python",
   "name": "python",
   "nbconvert_exporter": "python",
   "pygments_lexer": "ipython3",
   "version": "3.9.7"
  }
 },
 "nbformat": 4,
 "nbformat_minor": 1
}
