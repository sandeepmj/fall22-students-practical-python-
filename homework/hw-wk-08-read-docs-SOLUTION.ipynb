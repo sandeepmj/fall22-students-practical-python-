{
 "cells": [
  {
   "cell_type": "markdown",
   "id": "952a2d56",
   "metadata": {},
   "source": [
    "# Unstructured ----> Structured \n",
    "\n",
    "The zipped documents folder for this week contains a mix of document types. For **only** the documents that hold the name of journalists and key data points associated with them, do the following:\n",
    "\n",
    "1. Write a script that reads each relevant document and gathers:\n",
    "- The Name of the journalist\n",
    "- Article headline\n",
    "- Name of publication\n",
    "- Dateline\n",
    "\n",
    "2. Export these data points to a ```.csv``` file\n",
    "\n",
    "\n",
    "Note: I do not want the text associated with these jouralists.\n"
   ]
  },
  {
   "cell_type": "code",
   "execution_count": 1,
   "id": "3d739e42",
   "metadata": {},
   "outputs": [],
   "source": [
    "## create more cells as needed.\n",
    "\n",
    "import pandas as pd\n",
    "import glob"
   ]
  },
  {
   "cell_type": "code",
   "execution_count": 8,
   "id": "38c818ec",
   "metadata": {},
   "outputs": [
    {
     "data": {
      "text/plain": [
       "['hw-wk-08-docs/some-docs-01.txt',\n",
       " 'hw-wk-08-docs/some-docs-02.txt',\n",
       " 'hw-wk-08-docs/some-docs-03.txt',\n",
       " 'hw-wk-08-docs/some-docs-04.txt',\n",
       " 'hw-wk-08-docs/some-docs-05.txt',\n",
       " 'hw-wk-08-docs/some-docs-06.txt',\n",
       " 'hw-wk-08-docs/some-docs-07.txt',\n",
       " 'hw-wk-08-docs/some-docs-08.txt',\n",
       " 'hw-wk-08-docs/some-docs-09.txt',\n",
       " 'hw-wk-08-docs/some-docs-10.txt']"
      ]
     },
     "execution_count": 8,
     "metadata": {},
     "output_type": "execute_result"
    }
   ],
   "source": [
    "## glob all my target files together\n",
    "## probably different ways to target the files you want.\n",
    "## here's how i did it:\n",
    "myfiles = sorted(glob.glob(\"hw-wk-08-docs/*docs-*.txt\"))\n",
    "myfiles"
   ]
  },
  {
   "cell_type": "code",
   "execution_count": 18,
   "id": "6624028e",
   "metadata": {},
   "outputs": [],
   "source": [
    "## iterate through files, read text into list, retrieve target data\n",
    "## store into temp dictionary wh\n",
    "publications = []\n",
    "for file in myfiles:\n",
    "    with open(file, \"r\") as mytext:\n",
    "        text_list = mytext.readlines()\n",
    "        name = text_list[0].replace(\"Name: \", \"\").replace(\"\\n\", \"\")\n",
    "        article = text_list[2].replace(\"Article: \", \"\").replace(\"\\n\", \"\")\n",
    "        outlet = text_list[4].replace(\"Outlet: \", \"\").replace(\"\\n\", \"\")\n",
    "        date = text_list[6].replace(\"Date: \", \"\").replace(\"\\n\", \"\")\n",
    "        \n",
    "        temp_dict = {\"name\": name,\n",
    "                    \"article\": article,\n",
    "                    \"outlet\": outlet,\n",
    "                    \"date\": date}\n",
    "        publications.append(temp_dict)\n",
    "        "
   ]
  },
  {
   "cell_type": "code",
   "execution_count": 19,
   "id": "a1168530",
   "metadata": {},
   "outputs": [],
   "source": [
    "df = pd.DataFrame(publications)"
   ]
  },
  {
   "cell_type": "code",
   "execution_count": 20,
   "id": "e9d6e32c",
   "metadata": {},
   "outputs": [
    {
     "data": {
      "text/html": [
       "<div>\n",
       "<style scoped>\n",
       "    .dataframe tbody tr th:only-of-type {\n",
       "        vertical-align: middle;\n",
       "    }\n",
       "\n",
       "    .dataframe tbody tr th {\n",
       "        vertical-align: top;\n",
       "    }\n",
       "\n",
       "    .dataframe thead th {\n",
       "        text-align: right;\n",
       "    }\n",
       "</style>\n",
       "<table border=\"1\" class=\"dataframe\">\n",
       "  <thead>\n",
       "    <tr style=\"text-align: right;\">\n",
       "      <th></th>\n",
       "      <th>name</th>\n",
       "      <th>article</th>\n",
       "      <th>outlet</th>\n",
       "      <th>date</th>\n",
       "    </tr>\n",
       "  </thead>\n",
       "  <tbody>\n",
       "    <tr>\n",
       "      <th>0</th>\n",
       "      <td>Peter Schjeldahl</td>\n",
       "      <td>The Mysteries of Mondrian</td>\n",
       "      <td>The New Yorker</td>\n",
       "      <td>September 26, 2022</td>\n",
       "    </tr>\n",
       "    <tr>\n",
       "      <th>1</th>\n",
       "      <td>Somini Sengupta</td>\n",
       "      <td>Inside the Global Effort to Keep Perfectly Goo...</td>\n",
       "      <td>The New York Times</td>\n",
       "      <td>Oct. 13, 2022</td>\n",
       "    </tr>\n",
       "    <tr>\n",
       "      <th>2</th>\n",
       "      <td>Jason L. Riley</td>\n",
       "      <td>The GOP’s 2022 Midterm Slate Is More Diverse T...</td>\n",
       "      <td>The Wall Street Journal</td>\n",
       "      <td>Oct. 26, 2022</td>\n",
       "    </tr>\n",
       "    <tr>\n",
       "      <th>3</th>\n",
       "      <td>Nikole Hannah-Jones</td>\n",
       "      <td>What is owed</td>\n",
       "      <td>The New York Times</td>\n",
       "      <td>June 30, 2020</td>\n",
       "    </tr>\n",
       "    <tr>\n",
       "      <th>4</th>\n",
       "      <td>Donald James</td>\n",
       "      <td>Is City Council Ready to Vote “Yes” on Restaur...</td>\n",
       "      <td>Michigan Chronicle</td>\n",
       "      <td>Oct. 20, 2022</td>\n",
       "    </tr>\n",
       "    <tr>\n",
       "      <th>5</th>\n",
       "      <td>Lisa Armstrong</td>\n",
       "      <td>A mother watches helplessly as her teenage boy...</td>\n",
       "      <td>Texas Tribune</td>\n",
       "      <td>Aug. 3, 2022</td>\n",
       "    </tr>\n",
       "    <tr>\n",
       "      <th>6</th>\n",
       "      <td>Maria Mendez</td>\n",
       "      <td>Early voting has started in Texas. Here are yo...</td>\n",
       "      <td>Texas Tribune</td>\n",
       "      <td>Oct. 24, 2022</td>\n",
       "    </tr>\n",
       "    <tr>\n",
       "      <th>7</th>\n",
       "      <td>Candace Pedraza</td>\n",
       "      <td>Disabled New Yorkers Face Off With MTA Over Dr...</td>\n",
       "      <td>The City</td>\n",
       "      <td>Sept. 22, 2022</td>\n",
       "    </tr>\n",
       "    <tr>\n",
       "      <th>8</th>\n",
       "      <td>André Beganski</td>\n",
       "      <td>Indictment Against Former OpenSea Employee Mov...</td>\n",
       "      <td>Decrypt</td>\n",
       "      <td>Oct. 23, 2022</td>\n",
       "    </tr>\n",
       "    <tr>\n",
       "      <th>9</th>\n",
       "      <td>Karen Juanita Carrillo</td>\n",
       "      <td>Plaque unveiled for African American suffragis...</td>\n",
       "      <td>Amsterdam News</td>\n",
       "      <td>Oct. 20, 2022</td>\n",
       "    </tr>\n",
       "  </tbody>\n",
       "</table>\n",
       "</div>"
      ],
      "text/plain": [
       "                     name                                            article  \\\n",
       "0        Peter Schjeldahl                          The Mysteries of Mondrian   \n",
       "1         Somini Sengupta  Inside the Global Effort to Keep Perfectly Goo...   \n",
       "2          Jason L. Riley  The GOP’s 2022 Midterm Slate Is More Diverse T...   \n",
       "3     Nikole Hannah-Jones                                       What is owed   \n",
       "4            Donald James  Is City Council Ready to Vote “Yes” on Restaur...   \n",
       "5          Lisa Armstrong  A mother watches helplessly as her teenage boy...   \n",
       "6            Maria Mendez  Early voting has started in Texas. Here are yo...   \n",
       "7         Candace Pedraza  Disabled New Yorkers Face Off With MTA Over Dr...   \n",
       "8          André Beganski  Indictment Against Former OpenSea Employee Mov...   \n",
       "9  Karen Juanita Carrillo  Plaque unveiled for African American suffragis...   \n",
       "\n",
       "                    outlet                date  \n",
       "0           The New Yorker  September 26, 2022  \n",
       "1       The New York Times       Oct. 13, 2022  \n",
       "2  The Wall Street Journal       Oct. 26, 2022  \n",
       "3       The New York Times       June 30, 2020  \n",
       "4       Michigan Chronicle       Oct. 20, 2022  \n",
       "5            Texas Tribune        Aug. 3, 2022  \n",
       "6            Texas Tribune       Oct. 24, 2022  \n",
       "7                 The City      Sept. 22, 2022  \n",
       "8                  Decrypt       Oct. 23, 2022  \n",
       "9           Amsterdam News       Oct. 20, 2022  "
      ]
     },
     "execution_count": 20,
     "metadata": {},
     "output_type": "execute_result"
    }
   ],
   "source": [
    "df"
   ]
  },
  {
   "cell_type": "code",
   "execution_count": 21,
   "id": "917511ba",
   "metadata": {},
   "outputs": [],
   "source": [
    "df.to_csv(\"publications.csv\", encoding = \"UTF-8\", index = False)"
   ]
  },
  {
   "cell_type": "code",
   "execution_count": null,
   "id": "bc7d1b2d",
   "metadata": {},
   "outputs": [],
   "source": []
  }
 ],
 "metadata": {
  "kernelspec": {
   "display_name": "Python 3 (ipykernel)",
   "language": "python",
   "name": "python3"
  },
  "language_info": {
   "codemirror_mode": {
    "name": "ipython",
    "version": 3
   },
   "file_extension": ".py",
   "mimetype": "text/x-python",
   "name": "python",
   "nbconvert_exporter": "python",
   "pygments_lexer": "ipython3",
   "version": "3.9.7"
  }
 },
 "nbformat": 4,
 "nbformat_minor": 5
}
