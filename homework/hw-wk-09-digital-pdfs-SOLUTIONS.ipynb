{
 "cells": [
  {
   "cell_type": "markdown",
   "metadata": {
    "id": "7xAOVdlw0Cwm"
   },
   "source": [
    "# Multi-State FUDS \n",
    "\n",
    "- Access <a href=\"https://drive.google.com/file/d/14K4jDu7Uj07x2kWKAPrGyxLhSK0juQry/view?usp=share_link\">homework_fuds.zip</a>.\n",
    "\n",
    "- Manually unzip this file.\n",
    "\n",
    "- Write a script that finds only the pdf files and parses all the tables...\n",
    "\n",
    "- The final product should be a single csv file that contains the FUDS data for all states. (As we noted in class, West Virginian folder includes Wyoming rows).\n",
    "\n",
    "- You do NOT need to clean the data. Simply get it into a single CSV."
   ]
  },
  {
   "cell_type": "code",
   "execution_count": 2,
   "metadata": {
    "colab": {
     "base_uri": "https://localhost:8080/"
    },
    "id": "Fc4pVBob9XEH",
    "outputId": "299250a4-aaba-4595-8213-8abc31ec6968"
   },
   "outputs": [
    {
     "name": "stdout",
     "output_type": "stream",
     "text": [
      "Note: you may need to restart the kernel to use updated packages.\n"
     ]
    }
   ],
   "source": [
    "pip install -q tabula-py"
   ]
  },
  {
   "cell_type": "code",
   "execution_count": 1,
   "metadata": {
    "id": "OpvDjaU2L2pC"
   },
   "outputs": [],
   "source": [
    "## import unzipper\n",
    "\n",
    "import glob\n",
    "import os  ## allows you to navigate, create, delete folders\n",
    "import tabula\n",
    "import pandas as pd"
   ]
  },
  {
   "cell_type": "code",
   "execution_count": 3,
   "metadata": {
    "colab": {
     "base_uri": "https://localhost:8080/"
    },
    "id": "ShcNmZpiL2pG",
    "outputId": "da755ad8-d93f-4ede-c64e-9ac1577b36a9"
   },
   "outputs": [
    {
     "data": {
      "text/plain": [
       "['all_homework_fuds/FUDS_Inventory_WestVirginia.pdf',\n",
       " 'all_homework_fuds/FUDS_NY.pdf',\n",
       " 'all_homework_fuds/USACE 2018_FUDS_Inventory_Alaska.pdf']"
      ]
     },
     "execution_count": 3,
     "metadata": {},
     "output_type": "execute_result"
    }
   ],
   "source": [
    "## gather all pdfs in a list\n",
    "myfiles = sorted(glob.glob('all_homework_fuds/*FUDS*.pdf'))\n",
    "myfiles"
   ]
  },
  {
   "cell_type": "code",
   "execution_count": 9,
   "metadata": {
    "id": "ctdzul6cL2pG"
   },
   "outputs": [],
   "source": [
    "\n",
    "## write function to combine tabula tables into a single csv\n",
    "def combine_tables(list_name,filename):\n",
    "    \n",
    "    '''\n",
    "    Takes tables produced by tabula and combines into a single CSV\n",
    "    CSV extension needed!\n",
    "    Arguments: name of list produced by tabula and the CSV name you want (in quotes as a string)\n",
    "    '''\n",
    "    # dataframes = [pd.DataFrame(a_table) for a_table in list_name] ## list comprehension to turn each tabula table into a dataframe\n",
    "    df = pd.concat(list_name) ## join/concat all the dataframes into one dataframe\n",
    "    df.reset_index(inplace = True, drop = True) ## reset index, drop what was there before\n",
    "    df.to_csv(filename, encoding='utf-8', index=False) ## convert that single dataframe into a csv\n",
    "    print(f\"{filename} is in your downloads folder!\")\n",
    "    return df"
   ]
  },
  {
   "cell_type": "code",
   "execution_count": 5,
   "metadata": {
    "colab": {
     "base_uri": "https://localhost:8080/"
    },
    "id": "Dx9ZCD23L2pG",
    "outputId": "f57062d9-2e78-4dfd-f2ec-dd3687294740"
   },
   "outputs": [
    {
     "name": "stdout",
     "output_type": "stream",
     "text": [
      "all_homework_fuds/FUDS_Inventory_WestVirginia.pdf\n"
     ]
    },
    {
     "name": "stderr",
     "output_type": "stream",
     "text": [
      "Got stderr: Nov 05, 2022 3:52:20 PM org.apache.pdfbox.pdmodel.font.FileSystemFontProvider loadDiskCache\n",
      "WARNING: New fonts found, font cache will be re-built\n",
      "Nov 05, 2022 3:52:20 PM org.apache.pdfbox.pdmodel.font.FileSystemFontProvider <init>\n",
      "WARNING: Building on-disk font cache, this may take a while\n",
      "Nov 05, 2022 3:52:21 PM org.apache.pdfbox.pdmodel.font.FileSystemFontProvider <init>\n",
      "WARNING: Finished building on-disk font cache, found 785 fonts\n",
      "\n"
     ]
    },
    {
     "name": "stdout",
     "output_type": "stream",
     "text": [
      "<class 'list'>\n",
      "table_1.csv is in your downloads folder!\n",
      "all_homework_fuds/FUDS_NY.pdf\n",
      "<class 'list'>\n",
      "table_2.csv is in your downloads folder!\n",
      "all_homework_fuds/USACE 2018_FUDS_Inventory_Alaska.pdf\n",
      "<class 'list'>\n",
      "table_3.csv is in your downloads folder!\n"
     ]
    }
   ],
   "source": [
    "### export each pdf as a table\n",
    "counter = 1\n",
    "for file in myfiles:\n",
    "    print(file)\n",
    "    ## get all the pages\n",
    "    contribs_tables = tabula.read_pdf(file, pages = \"all\")\n",
    "    print(type(contribs_tables))\n",
    "    combine_tables(contribs_tables, f\"table_{counter}.csv\")  ## using function\n",
    "    counter+=1\n",
    "    "
   ]
  },
  {
   "cell_type": "code",
   "execution_count": 15,
   "metadata": {},
   "outputs": [
    {
     "data": {
      "text/plain": [
       "['table_2.csv', 'table_3.csv', 'table_1.csv']"
      ]
     },
     "execution_count": 15,
     "metadata": {},
     "output_type": "execute_result"
    }
   ],
   "source": [
    "### gather all generated csv files as a list\n",
    "all_files = glob.glob(\"*table_*.csv\")\n",
    "all_files"
   ]
  },
  {
   "cell_type": "code",
   "execution_count": 16,
   "metadata": {
    "id": "Cu6wSNaEL2pH"
   },
   "outputs": [],
   "source": [
    "#combine all files in the list\n",
    "combined_df = pd.concat([pd.read_csv(a_csv_file) for a_csv_file in all_filenames ])\n",
    "combined_df.reset_index(inplace = True, drop = True)\n",
    "#export to csv\n",
    "combined_df.to_csv( \"combined_tables.csv\", index=False, encoding='utf-8') "
   ]
  },
  {
   "cell_type": "code",
   "execution_count": 18,
   "metadata": {
    "colab": {
     "base_uri": "https://localhost:8080/",
     "height": 693
    },
    "id": "sVX4ENUBL2pH",
    "outputId": "47a2679a-d21d-4529-f538-6482cf14eae2"
   },
   "outputs": [
    {
     "data": {
      "text/html": [
       "<div>\n",
       "<style scoped>\n",
       "    .dataframe tbody tr th:only-of-type {\n",
       "        vertical-align: middle;\n",
       "    }\n",
       "\n",
       "    .dataframe tbody tr th {\n",
       "        vertical-align: top;\n",
       "    }\n",
       "\n",
       "    .dataframe thead th {\n",
       "        text-align: right;\n",
       "    }\n",
       "</style>\n",
       "<table border=\"1\" class=\"dataframe\">\n",
       "  <thead>\n",
       "    <tr style=\"text-align: right;\">\n",
       "      <th></th>\n",
       "      <th>State County</th>\n",
       "      <th>City</th>\n",
       "      <th>Property Name</th>\n",
       "      <th>Property Numbe Site Number Category</th>\n",
       "      <th>Division District</th>\n",
       "      <th>Property Name Property Numbe Site Number</th>\n",
       "      <th>Unnamed: 0</th>\n",
       "      <th>Category</th>\n",
       "      <th>Property Numbe Site Number</th>\n",
       "    </tr>\n",
       "  </thead>\n",
       "  <tbody>\n",
       "    <tr>\n",
       "      <th>0</th>\n",
       "      <td>167 Sites in New York</td>\n",
       "      <td>NaN</td>\n",
       "      <td>NaN</td>\n",
       "      <td>NaN</td>\n",
       "      <td>NaN</td>\n",
       "      <td>NaN</td>\n",
       "      <td>NaN</td>\n",
       "      <td>NaN</td>\n",
       "      <td>NaN</td>\n",
       "    </tr>\n",
       "    <tr>\n",
       "      <th>1</th>\n",
       "      <td>NY Albany County</td>\n",
       "      <td>ALTAMONT</td>\n",
       "      <td>NORTHEASTERN INDUSTRIAL PARK</td>\n",
       "      <td>C02NY0002 01 HTRW</td>\n",
       "      <td>NAD NAE</td>\n",
       "      <td>NaN</td>\n",
       "      <td>NaN</td>\n",
       "      <td>NaN</td>\n",
       "      <td>NaN</td>\n",
       "    </tr>\n",
       "    <tr>\n",
       "      <th>2</th>\n",
       "      <td>NY Albany County</td>\n",
       "      <td>ALTAMONT</td>\n",
       "      <td>NORTHEASTERN INDUSTRIAL PARK</td>\n",
       "      <td>C02NY0002 03 HTRW</td>\n",
       "      <td>NAD NAE</td>\n",
       "      <td>NaN</td>\n",
       "      <td>NaN</td>\n",
       "      <td>NaN</td>\n",
       "      <td>NaN</td>\n",
       "    </tr>\n",
       "    <tr>\n",
       "      <th>3</th>\n",
       "      <td>NY Albany County</td>\n",
       "      <td>ALTAMONT</td>\n",
       "      <td>NORTHEASTERN INDUSTRIAL PARK</td>\n",
       "      <td>C02NY0002 04 HTRW</td>\n",
       "      <td>NAD NAE</td>\n",
       "      <td>NaN</td>\n",
       "      <td>NaN</td>\n",
       "      <td>NaN</td>\n",
       "      <td>NaN</td>\n",
       "    </tr>\n",
       "    <tr>\n",
       "      <th>4</th>\n",
       "      <td>NY Albany County</td>\n",
       "      <td>ALTAMONT</td>\n",
       "      <td>NORTHEASTERN INDUSTRIAL PARK</td>\n",
       "      <td>C02NY0002 05 HTRW</td>\n",
       "      <td>NAD NAE</td>\n",
       "      <td>NaN</td>\n",
       "      <td>NaN</td>\n",
       "      <td>NaN</td>\n",
       "      <td>NaN</td>\n",
       "    </tr>\n",
       "    <tr>\n",
       "      <th>...</th>\n",
       "      <td>...</td>\n",
       "      <td>...</td>\n",
       "      <td>...</td>\n",
       "      <td>...</td>\n",
       "      <td>...</td>\n",
       "      <td>...</td>\n",
       "      <td>...</td>\n",
       "      <td>...</td>\n",
       "      <td>...</td>\n",
       "    </tr>\n",
       "    <tr>\n",
       "      <th>760</th>\n",
       "      <td>WY Laramie County</td>\n",
       "      <td>CHEYENNE</td>\n",
       "      <td>FE WARREN AFB FAC SITE 1</td>\n",
       "      <td>B08WY0464 01 CON/HTRW</td>\n",
       "      <td>NWD NWO</td>\n",
       "      <td>NaN</td>\n",
       "      <td>NaN</td>\n",
       "      <td>NaN</td>\n",
       "      <td>NaN</td>\n",
       "    </tr>\n",
       "    <tr>\n",
       "      <th>761</th>\n",
       "      <td>WY Laramie County</td>\n",
       "      <td>CHEYENNE</td>\n",
       "      <td>FE WARREN AFB FAC SITE 1</td>\n",
       "      <td>B08WY0464 02 HTRW</td>\n",
       "      <td>NWD NWO</td>\n",
       "      <td>NaN</td>\n",
       "      <td>NaN</td>\n",
       "      <td>NaN</td>\n",
       "      <td>NaN</td>\n",
       "    </tr>\n",
       "    <tr>\n",
       "      <th>762</th>\n",
       "      <td>WY Laramie County</td>\n",
       "      <td>CHEYENNE</td>\n",
       "      <td>FE WARREN AFB FAC SITE 2</td>\n",
       "      <td>B08WY0465 01 CON/HTRW</td>\n",
       "      <td>NWD NWO</td>\n",
       "      <td>NaN</td>\n",
       "      <td>NaN</td>\n",
       "      <td>NaN</td>\n",
       "      <td>NaN</td>\n",
       "    </tr>\n",
       "    <tr>\n",
       "      <th>763</th>\n",
       "      <td>WY Laramie County</td>\n",
       "      <td>CHEYENNE</td>\n",
       "      <td>FE WARREN AFB FAC SITE 2</td>\n",
       "      <td>B08WY0465 02 HTRW</td>\n",
       "      <td>NWD NWO</td>\n",
       "      <td>NaN</td>\n",
       "      <td>NaN</td>\n",
       "      <td>NaN</td>\n",
       "      <td>NaN</td>\n",
       "    </tr>\n",
       "    <tr>\n",
       "      <th>764</th>\n",
       "      <td>WY Laramie County</td>\n",
       "      <td>CHEYENNE</td>\n",
       "      <td>FE WARREN AFB FAC SITE 3</td>\n",
       "      <td>B08WY0466 01 CON/HTRW</td>\n",
       "      <td>NWD NWO</td>\n",
       "      <td>NaN</td>\n",
       "      <td>NaN</td>\n",
       "      <td>NaN</td>\n",
       "      <td>NaN</td>\n",
       "    </tr>\n",
       "  </tbody>\n",
       "</table>\n",
       "<p>765 rows × 9 columns</p>\n",
       "</div>"
      ],
      "text/plain": [
       "              State County      City                 Property Name  \\\n",
       "0    167 Sites in New York       NaN                           NaN   \n",
       "1         NY Albany County  ALTAMONT  NORTHEASTERN INDUSTRIAL PARK   \n",
       "2         NY Albany County  ALTAMONT  NORTHEASTERN INDUSTRIAL PARK   \n",
       "3         NY Albany County  ALTAMONT  NORTHEASTERN INDUSTRIAL PARK   \n",
       "4         NY Albany County  ALTAMONT  NORTHEASTERN INDUSTRIAL PARK   \n",
       "..                     ...       ...                           ...   \n",
       "760      WY Laramie County  CHEYENNE      FE WARREN AFB FAC SITE 1   \n",
       "761      WY Laramie County  CHEYENNE      FE WARREN AFB FAC SITE 1   \n",
       "762      WY Laramie County  CHEYENNE      FE WARREN AFB FAC SITE 2   \n",
       "763      WY Laramie County  CHEYENNE      FE WARREN AFB FAC SITE 2   \n",
       "764      WY Laramie County  CHEYENNE      FE WARREN AFB FAC SITE 3   \n",
       "\n",
       "    Property Numbe Site Number Category Division District  \\\n",
       "0                                   NaN               NaN   \n",
       "1                     C02NY0002 01 HTRW           NAD NAE   \n",
       "2                     C02NY0002 03 HTRW           NAD NAE   \n",
       "3                     C02NY0002 04 HTRW           NAD NAE   \n",
       "4                     C02NY0002 05 HTRW           NAD NAE   \n",
       "..                                  ...               ...   \n",
       "760               B08WY0464 01 CON/HTRW           NWD NWO   \n",
       "761                   B08WY0464 02 HTRW           NWD NWO   \n",
       "762               B08WY0465 01 CON/HTRW           NWD NWO   \n",
       "763                   B08WY0465 02 HTRW           NWD NWO   \n",
       "764               B08WY0466 01 CON/HTRW           NWD NWO   \n",
       "\n",
       "    Property Name Property Numbe Site Number  Unnamed: 0 Category  \\\n",
       "0                                        NaN         NaN      NaN   \n",
       "1                                        NaN         NaN      NaN   \n",
       "2                                        NaN         NaN      NaN   \n",
       "3                                        NaN         NaN      NaN   \n",
       "4                                        NaN         NaN      NaN   \n",
       "..                                       ...         ...      ...   \n",
       "760                                      NaN         NaN      NaN   \n",
       "761                                      NaN         NaN      NaN   \n",
       "762                                      NaN         NaN      NaN   \n",
       "763                                      NaN         NaN      NaN   \n",
       "764                                      NaN         NaN      NaN   \n",
       "\n",
       "    Property Numbe Site Number  \n",
       "0                          NaN  \n",
       "1                          NaN  \n",
       "2                          NaN  \n",
       "3                          NaN  \n",
       "4                          NaN  \n",
       "..                         ...  \n",
       "760                        NaN  \n",
       "761                        NaN  \n",
       "762                        NaN  \n",
       "763                        NaN  \n",
       "764                        NaN  \n",
       "\n",
       "[765 rows x 9 columns]"
      ]
     },
     "execution_count": 18,
     "metadata": {},
     "output_type": "execute_result"
    }
   ],
   "source": [
    "## show combined df \n",
    "combined_df"
   ]
  },
  {
   "cell_type": "code",
   "execution_count": null,
   "metadata": {
    "id": "XOyZMga9V7s7"
   },
   "outputs": [],
   "source": []
  }
 ],
 "metadata": {
  "colab": {
   "collapsed_sections": [],
   "provenance": []
  },
  "kernelspec": {
   "display_name": "Python 3 (ipykernel)",
   "language": "python",
   "name": "python3"
  },
  "language_info": {
   "codemirror_mode": {
    "name": "ipython",
    "version": 3
   },
   "file_extension": ".py",
   "mimetype": "text/x-python",
   "name": "python",
   "nbconvert_exporter": "python",
   "pygments_lexer": "ipython3",
   "version": "3.9.7"
  }
 },
 "nbformat": 4,
 "nbformat_minor": 1
}
